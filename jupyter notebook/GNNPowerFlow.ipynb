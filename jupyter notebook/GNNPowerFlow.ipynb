{
  "nbformat": 4,
  "nbformat_minor": 0,
  "metadata": {
    "colab": {
      "provenance": [],
      "collapsed_sections": [
        "Dm_QSMHnh5qa",
        "jkFs_7lLiDgc",
        "4sIrVikD1cFX",
        "FlVgf3zs8X7G"
      ]
    },
    "kernelspec": {
      "name": "python3",
      "display_name": "Python 3"
    },
    "language_info": {
      "name": "python"
    }
  },
  "cells": [
    {
      "cell_type": "code",
      "execution_count": 115,
      "metadata": {
        "colab": {
          "base_uri": "https://localhost:8080/"
        },
        "id": "IEZO9Oc5ifIT",
        "outputId": "30af16d7-e1bb-4261-d504-9b2de2c5662d"
      },
      "outputs": [
        {
          "output_type": "stream",
          "name": "stdout",
          "text": [
            "Drive already mounted at /content/drive; to attempt to forcibly remount, call drive.mount(\"/content/drive\", force_remount=True).\n",
            "fatal: destination path 'GNN-OptimalPowerFlow' already exists and is not an empty directory.\n",
            "/content/GNN-OptimalPowerFlow/GNN-OptimalPowerFlow/GNN-OptimalPowerFlow\n",
            " Datasets   document  'jupyter notebook'   README.md\n"
          ]
        }
      ],
      "source": [
        "# Mount Google Drive\n",
        "from google.colab import drive\n",
        "drive.mount('/content/drive')\n",
        "\n",
        "# Clone GitHub repository\n",
        "!git clone https://github.com/Amirtalebi83/GNN-OptimalPowerFlow.git\n",
        "%cd GNN-OptimalPowerFlow\n",
        "\n",
        "# Check the contents of the cloned repo\n",
        "!ls\n"
      ]
    },
    {
      "cell_type": "code",
      "source": [
        "# Install PyTorch and PyTorch Geometric\n",
        "!pip install torch\n",
        "!pip install torch-geometric\n",
        "!pip install pandas openpyxl  # For data handling\n"
      ],
      "metadata": {
        "colab": {
          "base_uri": "https://localhost:8080/"
        },
        "id": "tFKnT4mUkcMj",
        "outputId": "b61a2d26-755a-4802-aed8-f4f8c898be3d"
      },
      "execution_count": 109,
      "outputs": [
        {
          "output_type": "stream",
          "name": "stdout",
          "text": [
            "Requirement already satisfied: torch in /usr/local/lib/python3.10/dist-packages (2.5.0+cu121)\n",
            "Requirement already satisfied: filelock in /usr/local/lib/python3.10/dist-packages (from torch) (3.16.1)\n",
            "Requirement already satisfied: typing-extensions>=4.8.0 in /usr/local/lib/python3.10/dist-packages (from torch) (4.12.2)\n",
            "Requirement already satisfied: networkx in /usr/local/lib/python3.10/dist-packages (from torch) (3.4.2)\n",
            "Requirement already satisfied: jinja2 in /usr/local/lib/python3.10/dist-packages (from torch) (3.1.4)\n",
            "Requirement already satisfied: fsspec in /usr/local/lib/python3.10/dist-packages (from torch) (2024.10.0)\n",
            "Requirement already satisfied: sympy==1.13.1 in /usr/local/lib/python3.10/dist-packages (from torch) (1.13.1)\n",
            "Requirement already satisfied: mpmath<1.4,>=1.1.0 in /usr/local/lib/python3.10/dist-packages (from sympy==1.13.1->torch) (1.3.0)\n",
            "Requirement already satisfied: MarkupSafe>=2.0 in /usr/local/lib/python3.10/dist-packages (from jinja2->torch) (3.0.2)\n",
            "Requirement already satisfied: torch-geometric in /usr/local/lib/python3.10/dist-packages (2.6.1)\n",
            "Requirement already satisfied: aiohttp in /usr/local/lib/python3.10/dist-packages (from torch-geometric) (3.10.10)\n",
            "Requirement already satisfied: fsspec in /usr/local/lib/python3.10/dist-packages (from torch-geometric) (2024.10.0)\n",
            "Requirement already satisfied: jinja2 in /usr/local/lib/python3.10/dist-packages (from torch-geometric) (3.1.4)\n",
            "Requirement already satisfied: numpy in /usr/local/lib/python3.10/dist-packages (from torch-geometric) (1.26.4)\n",
            "Requirement already satisfied: psutil>=5.8.0 in /usr/local/lib/python3.10/dist-packages (from torch-geometric) (5.9.5)\n",
            "Requirement already satisfied: pyparsing in /usr/local/lib/python3.10/dist-packages (from torch-geometric) (3.2.0)\n",
            "Requirement already satisfied: requests in /usr/local/lib/python3.10/dist-packages (from torch-geometric) (2.32.3)\n",
            "Requirement already satisfied: tqdm in /usr/local/lib/python3.10/dist-packages (from torch-geometric) (4.66.6)\n",
            "Requirement already satisfied: aiohappyeyeballs>=2.3.0 in /usr/local/lib/python3.10/dist-packages (from aiohttp->torch-geometric) (2.4.3)\n",
            "Requirement already satisfied: aiosignal>=1.1.2 in /usr/local/lib/python3.10/dist-packages (from aiohttp->torch-geometric) (1.3.1)\n",
            "Requirement already satisfied: attrs>=17.3.0 in /usr/local/lib/python3.10/dist-packages (from aiohttp->torch-geometric) (24.2.0)\n",
            "Requirement already satisfied: frozenlist>=1.1.1 in /usr/local/lib/python3.10/dist-packages (from aiohttp->torch-geometric) (1.5.0)\n",
            "Requirement already satisfied: multidict<7.0,>=4.5 in /usr/local/lib/python3.10/dist-packages (from aiohttp->torch-geometric) (6.1.0)\n",
            "Requirement already satisfied: yarl<2.0,>=1.12.0 in /usr/local/lib/python3.10/dist-packages (from aiohttp->torch-geometric) (1.17.1)\n",
            "Requirement already satisfied: async-timeout<5.0,>=4.0 in /usr/local/lib/python3.10/dist-packages (from aiohttp->torch-geometric) (4.0.3)\n",
            "Requirement already satisfied: MarkupSafe>=2.0 in /usr/local/lib/python3.10/dist-packages (from jinja2->torch-geometric) (3.0.2)\n",
            "Requirement already satisfied: charset-normalizer<4,>=2 in /usr/local/lib/python3.10/dist-packages (from requests->torch-geometric) (3.4.0)\n",
            "Requirement already satisfied: idna<4,>=2.5 in /usr/local/lib/python3.10/dist-packages (from requests->torch-geometric) (3.10)\n",
            "Requirement already satisfied: urllib3<3,>=1.21.1 in /usr/local/lib/python3.10/dist-packages (from requests->torch-geometric) (2.2.3)\n",
            "Requirement already satisfied: certifi>=2017.4.17 in /usr/local/lib/python3.10/dist-packages (from requests->torch-geometric) (2024.8.30)\n",
            "Requirement already satisfied: typing-extensions>=4.1.0 in /usr/local/lib/python3.10/dist-packages (from multidict<7.0,>=4.5->aiohttp->torch-geometric) (4.12.2)\n",
            "Requirement already satisfied: propcache>=0.2.0 in /usr/local/lib/python3.10/dist-packages (from yarl<2.0,>=1.12.0->aiohttp->torch-geometric) (0.2.0)\n",
            "Requirement already satisfied: pandas in /usr/local/lib/python3.10/dist-packages (2.2.2)\n",
            "Requirement already satisfied: openpyxl in /usr/local/lib/python3.10/dist-packages (3.1.5)\n",
            "Requirement already satisfied: numpy>=1.22.4 in /usr/local/lib/python3.10/dist-packages (from pandas) (1.26.4)\n",
            "Requirement already satisfied: python-dateutil>=2.8.2 in /usr/local/lib/python3.10/dist-packages (from pandas) (2.8.2)\n",
            "Requirement already satisfied: pytz>=2020.1 in /usr/local/lib/python3.10/dist-packages (from pandas) (2024.2)\n",
            "Requirement already satisfied: tzdata>=2022.7 in /usr/local/lib/python3.10/dist-packages (from pandas) (2024.2)\n",
            "Requirement already satisfied: et-xmlfile in /usr/local/lib/python3.10/dist-packages (from openpyxl) (2.0.0)\n",
            "Requirement already satisfied: six>=1.5 in /usr/local/lib/python3.10/dist-packages (from python-dateutil>=2.8.2->pandas) (1.16.0)\n"
          ]
        }
      ]
    },
    {
      "cell_type": "code",
      "source": [
        "!git reset --hard HEAD #Reset Any Local Changes:\n",
        "!git pull origin main #Pull the Latest Changes from GitHub:"
      ],
      "metadata": {
        "colab": {
          "base_uri": "https://localhost:8080/"
        },
        "id": "MC2cAxHHyg27",
        "outputId": "c5ab2155-209a-4fe0-9531-ba794dee9d0d"
      },
      "execution_count": 124,
      "outputs": [
        {
          "output_type": "stream",
          "name": "stdout",
          "text": [
            "HEAD is now at 977e02c FS\n",
            "From https://github.com/Amirtalebi83/GNN-OptimalPowerFlow\n",
            " * branch            main       -> FETCH_HEAD\n",
            "Already up to date.\n"
          ]
        }
      ]
    },
    {
      "cell_type": "code",
      "source": [
        "%cd /content #Remove the local folder and cloning the repository again:\n",
        "!rm -rf GNN-OptimalPowerFlow"
      ],
      "metadata": {
        "colab": {
          "base_uri": "https://localhost:8080/"
        },
        "id": "eQropCnvyrhy",
        "outputId": "0b6ab068-69a9-49b7-d689-5d652be6d10c"
      },
      "execution_count": 130,
      "outputs": [
        {
          "output_type": "stream",
          "name": "stdout",
          "text": [
            "[Errno 2] No such file or directory: '/content #Remove the local folder and cloning the repository again:'\n",
            "/content\n",
            "Cloning into 'GNN-OptimalPowerFlow'...\n",
            "remote: Enumerating objects: 245, done.\u001b[K\n",
            "remote: Counting objects: 100% (77/77), done.\u001b[K\n",
            "remote: Compressing objects: 100% (57/57), done.\u001b[K\n",
            "remote: Total 245 (delta 23), reused 68 (delta 17), pack-reused 168 (from 1)\u001b[K\n",
            "Receiving objects: 100% (245/245), 149.75 MiB | 38.58 MiB/s, done.\n",
            "Resolving deltas: 100% (32/32), done.\n"
          ]
        }
      ]
    },
    {
      "cell_type": "code",
      "source": [
        "!git clone https://github.com/Amirtalebi83/GNN-OptimalPowerFlow.git\n",
        "!ls -la GNN-OptimalPowerFlow"
      ],
      "metadata": {
        "colab": {
          "base_uri": "https://localhost:8080/"
        },
        "id": "L92XdvEc0BQx",
        "outputId": "18b1fcd4-b78d-4898-df79-4844c5df9234"
      },
      "execution_count": 125,
      "outputs": [
        {
          "output_type": "stream",
          "name": "stdout",
          "text": [
            "total 36\n",
            "drwxr-xr-x 6 root root  4096 Nov 14 03:55  .\n",
            "drwxr-xr-x 7 root root  4096 Nov 14 03:55  ..\n",
            "drwxr-xr-x 5 root root  4096 Nov 14 03:55  Datasets\n",
            "drwxr-xr-x 2 root root  4096 Nov 14 03:55  document\n",
            "drwxr-xr-x 8 root root  4096 Nov 14 03:55  .git\n",
            "drwxr-xr-x 2 root root  4096 Nov 14 03:55 'jupyter notebook'\n",
            "-rw-r--r-- 1 root root 10321 Nov 14 03:55  README.md\n"
          ]
        }
      ]
    },
    {
      "cell_type": "markdown",
      "source": [],
      "metadata": {
        "id": "z9b3fjl7z_Vj"
      }
    },
    {
      "cell_type": "markdown",
      "source": [
        "# **Import Libraries**\n",
        "\n",
        "\n",
        "\n"
      ],
      "metadata": {
        "id": "PAXH3kw-lhBp"
      }
    },
    {
      "cell_type": "code",
      "source": [
        "import torch\n",
        "import torch.nn as nn\n",
        "import torch.nn.functional as F\n",
        "from torch.nn import Linear\n",
        "import torch_geometric.nn as pyg_nn\n",
        "from torch_geometric.nn import GCNConv, GraphConv, SAGEConv, GATConv, ChebConv\n",
        "from torch_geometric.data import Data, DataLoader\n",
        "\n",
        "import numpy as np\n",
        "import pandas as pd\n",
        "import matplotlib.pyplot as plt\n",
        "\n",
        "# Set print options for better readability\n",
        "np.set_printoptions(precision=5, suppress=True)\n",
        "torch.set_printoptions(precision=5, sci_mode=False)\n"
      ],
      "metadata": {
        "id": "baBqQiLOjL_U"
      },
      "execution_count": 4,
      "outputs": []
    },
    {
      "cell_type": "code",
      "source": [
        "!pip install pandapower"
      ],
      "metadata": {
        "colab": {
          "base_uri": "https://localhost:8080/"
        },
        "id": "_d_kPAYJLXfp",
        "outputId": "03c16fcc-94dd-4204-992d-7e24d2289630"
      },
      "execution_count": 8,
      "outputs": [
        {
          "output_type": "stream",
          "name": "stdout",
          "text": [
            "Collecting pandapower\n",
            "  Downloading pandapower-2.14.11.zip (13.2 MB)\n",
            "\u001b[2K     \u001b[90m━━━━━━━━━━━━━━━━━━━━━━━━━━━━━━━━━━━━━━━━\u001b[0m \u001b[32m13.2/13.2 MB\u001b[0m \u001b[31m55.2 MB/s\u001b[0m eta \u001b[36m0:00:00\u001b[0m\n",
            "\u001b[?25h  Preparing metadata (setup.py) ... \u001b[?25l\u001b[?25hdone\n",
            "Requirement already satisfied: pandas>=1.0 in /usr/local/lib/python3.10/dist-packages (from pandapower) (2.2.2)\n",
            "Requirement already satisfied: networkx>=2.5 in /usr/local/lib/python3.10/dist-packages (from pandapower) (3.4.2)\n",
            "Requirement already satisfied: scipy<1.14 in /usr/local/lib/python3.10/dist-packages (from pandapower) (1.13.1)\n",
            "Requirement already satisfied: numpy<2.0 in /usr/local/lib/python3.10/dist-packages (from pandapower) (1.26.4)\n",
            "Requirement already satisfied: packaging in /usr/local/lib/python3.10/dist-packages (from pandapower) (24.2)\n",
            "Requirement already satisfied: tqdm in /usr/local/lib/python3.10/dist-packages (from pandapower) (4.66.6)\n",
            "Collecting deepdiff (from pandapower)\n",
            "  Downloading deepdiff-8.0.1-py3-none-any.whl.metadata (8.5 kB)\n",
            "Requirement already satisfied: python-dateutil>=2.8.2 in /usr/local/lib/python3.10/dist-packages (from pandas>=1.0->pandapower) (2.8.2)\n",
            "Requirement already satisfied: pytz>=2020.1 in /usr/local/lib/python3.10/dist-packages (from pandas>=1.0->pandapower) (2024.2)\n",
            "Requirement already satisfied: tzdata>=2022.7 in /usr/local/lib/python3.10/dist-packages (from pandas>=1.0->pandapower) (2024.2)\n",
            "Collecting orderly-set==5.2.2 (from deepdiff->pandapower)\n",
            "  Downloading orderly_set-5.2.2-py3-none-any.whl.metadata (6.3 kB)\n",
            "Requirement already satisfied: six>=1.5 in /usr/local/lib/python3.10/dist-packages (from python-dateutil>=2.8.2->pandas>=1.0->pandapower) (1.16.0)\n",
            "Downloading deepdiff-8.0.1-py3-none-any.whl (82 kB)\n",
            "\u001b[2K   \u001b[90m━━━━━━━━━━━━━━━━━━━━━━━━━━━━━━━━━━━━━━━━\u001b[0m \u001b[32m82.7/82.7 kB\u001b[0m \u001b[31m5.3 MB/s\u001b[0m eta \u001b[36m0:00:00\u001b[0m\n",
            "\u001b[?25hDownloading orderly_set-5.2.2-py3-none-any.whl (11 kB)\n",
            "Building wheels for collected packages: pandapower\n",
            "  Building wheel for pandapower (setup.py) ... \u001b[?25l\u001b[?25hdone\n",
            "  Created wheel for pandapower: filename=pandapower-2.14.11-py3-none-any.whl size=13131028 sha256=b0ec6f7d186e622ddc601d70000c7ef6de5f29dc0fbd60bb201ca63f319ee2cf\n",
            "  Stored in directory: /root/.cache/pip/wheels/7f/de/5a/7b00f385eb06d1fb1f7c1cd06f9bb901709c038d3899548cf1\n",
            "Successfully built pandapower\n",
            "Installing collected packages: orderly-set, deepdiff, pandapower\n",
            "Successfully installed deepdiff-8.0.1 orderly-set-5.2.2 pandapower-2.14.11\n"
          ]
        }
      ]
    },
    {
      "cell_type": "markdown",
      "source": [
        "# **Dataset Preparation**"
      ],
      "metadata": {
        "id": "NBWjoAqRoHaU"
      }
    },
    {
      "cell_type": "code",
      "source": [
        "import pandapower as pp\n",
        "import pandapower.networks as nw\n",
        "import torch\n",
        "import pandas as pd\n",
        "from torch_geometric.data import Data, DataLoader"
      ],
      "metadata": {
        "id": "xKA8rxaeLOzQ"
      },
      "execution_count": 9,
      "outputs": []
    },
    {
      "cell_type": "code",
      "source": [
        "from operator import is_\n",
        "def slice_dataset(dataset, percentage):\n",
        "    data_size = len(dataset)\n",
        "    return dataset[:int(data_size * percentage / 100)]\n",
        "\n",
        "def make_dataset(dataset, n_bus):\n",
        "    x_raw, y_raw = [], []\n",
        "\n",
        "    for i in range(len(dataset)):\n",
        "        x_sample, y_sample = [], []\n",
        "        for n in range(n_bus):\n",
        "            # Define bus type: Slack (1), PQ (2), PV (3)\n",
        "            is_pv = 0\n",
        "            is_pq = 0\n",
        "            is_slack = 0\n",
        "            if n == 0:  # Slack bus is always bus 0\n",
        "                is_slack = 1\n",
        "            elif dataset[i, 4 * n + 2] == 0:  # Q = 0 indicates PV bus\n",
        "                is_pv = 1\n",
        "            else:\n",
        "                is_pq = 1  # PQ bus\n",
        "\n",
        "            # Include P, Q, V, delta, and bus type as features\n",
        "            x_sample.append([\n",
        "                dataset[i, 4 * n + 1],  # P\n",
        "                dataset[i, 4 * n + 2],  # Q\n",
        "                dataset[i, 4 * n + 3],  # V\n",
        "                dataset[i, 4 * n + 4],  # delta\n",
        "                is_pv,                # Bus type\n",
        "                is_pq,\n",
        "                is_slack\n",
        "            ])\n",
        "\n",
        "            # Use P and Q as targets\n",
        "            y_sample.append([\n",
        "                dataset[i, 4 * n + 1],  # P (target)\n",
        "                dataset[i, 4 * n + 2],   # Q (target)\n",
        "                # dataset[i, 4 * n + 3],   # V (target)\n",
        "                # dataset[i, 4 * n + 4]   # D (target)\n",
        "            ])\n",
        "\n",
        "        x_raw.append(x_sample)\n",
        "        y_raw.append(y_sample)\n",
        "\n",
        "    # Convert to PyTorch tensors\n",
        "    x_raw = torch.tensor(x_raw, dtype=torch.float)\n",
        "    y_raw = torch.tensor(y_raw, dtype=torch.float)\n",
        "    return x_raw, y_raw\n"
      ],
      "metadata": {
        "id": "xqY7cbqkngcS"
      },
      "execution_count": 68,
      "outputs": []
    },
    {
      "cell_type": "code",
      "source": [
        "def normalize_dataset(x, y):\n",
        "    # Compute mean and standard deviation for features and targets\n",
        "    x_mean, x_std = torch.mean(x, 0), torch.std(x, 0)\n",
        "    y_mean, y_std = torch.mean(y, 0), torch.std(y, 0)\n",
        "\n",
        "    # Handle zero standard deviation to avoid division by zero\n",
        "    x_std[x_std == 0] = 1\n",
        "    y_std[y_std == 0] = 1\n",
        "\n",
        "    # Normalize the input features except for the bus type\n",
        "    # Bus type (5th feature) should not be normalized as it is categorical (1, 2, or 3)\n",
        "    x_norm = (x - x_mean) / x_std\n",
        "    x_norm[:, :, 4] = x[:, :, 4]  # Preserve bus type without normalization\n",
        "\n",
        "    # Normalize the targets\n",
        "    y_norm = (y - y_mean) / y_std\n",
        "\n",
        "    return x_norm, y_norm, x_mean, y_mean, x_std, y_std\n",
        "\n",
        "def denormalize_output(y_norm, y_mean, y_std):\n",
        "    return y_norm * y_std + y_mean\n",
        "\n",
        "def MSE(yhat, y):\n",
        "    return torch.mean((yhat - y) ** 2)\n"
      ],
      "metadata": {
        "id": "IHHpynA4oRtO"
      },
      "execution_count": 69,
      "outputs": []
    },
    {
      "cell_type": "markdown",
      "source": [
        "# Backup"
      ],
      "metadata": {
        "id": "Ng5F0c6T1AeU"
      }
    },
    {
      "cell_type": "code",
      "source": [
        "\"\"\"\n",
        "def slice_dataset(dataset, percentage):\n",
        "    data_size = len(dataset)\n",
        "    return dataset[:int(data_size * percentage / 100)]\n",
        "\n",
        "def make_dataset(dataset, n_bus):\n",
        "    x_raw, y_raw, mask = [], [], []\n",
        "\n",
        "    for i in range(len(dataset)):\n",
        "        x_sample, y_sample, mask_sample = [], [], []\n",
        "        for n in range(n_bus):\n",
        "            # Use P, Q, V, and delta as input features\n",
        "            P = dataset[i, 4 * n + 1]\n",
        "            Q = dataset[i, 4 * n + 2]\n",
        "            V = dataset[i, 4 * n + 3]\n",
        "            delta = dataset[i, 4 * n + 4]\n",
        "\n",
        "            # Append input features\n",
        "            x_sample.append([P, Q, V, delta])\n",
        "\n",
        "            # Use P and Q as targets\n",
        "            y_sample.extend([P, Q])\n",
        "\n",
        "            # Create mask (0 if feature is constant, 1 otherwise)\n",
        "            mask_sample.append([1 if P != 0 else 0,\n",
        "                                1 if Q != 0 else 0,\n",
        "                                1 if V != 0 else 0,\n",
        "                                1 if delta != 0 else 0])\n",
        "\n",
        "            #x_sample.append([\n",
        "            #    dataset[i, 4 * n + 1],  # P\n",
        "            #    dataset[i, 4 * n + 2],  # Q\n",
        "            #    dataset[i, 4 * n + 3],  # V\n",
        "            #    dataset[i, 4 * n + 4]   # delta\n",
        "            #])\n",
        "\n",
        "            ## Use P and Q as targets\n",
        "            #y_sample.extend([\n",
        "            #    dataset[i, 4 * n + 1],  # P (target)\n",
        "            #    dataset[i, 4 * n + 2]   # Q (target)\n",
        "            #])\n",
        "\n",
        "        x_raw.append(x_sample)\n",
        "        y_raw.append(y_sample)\n",
        "        mask.append(mask_sample)\n",
        "\n",
        "    # Convert to PyTorch tensors\n",
        "    x_raw = torch.tensor(x_raw, dtype=torch.float)\n",
        "    y_raw = torch.tensor(y_raw, dtype=torch.float)\n",
        "    mask = torch.tensor(mask, dtype=torch.float)\n",
        "\n",
        "    return x_raw, y_raw, mask\n",
        "\n",
        "def normalize_dataset(x, y):\n",
        "    x_mean, x_std = torch.mean(x, 0), torch.std(x, 0)\n",
        "    y_mean, y_std = torch.mean(y, 0), torch.std(y, 0)\n",
        "\n",
        "    # Handle zero standard deviation\n",
        "    x_std[x_std == 0] = 1  # Avoid division by zero\n",
        "    y_std[y_std == 0] = 1  # Avoid division by zero\n",
        "\n",
        "    x_norm = (x - x_mean) / x_std\n",
        "    y_norm = (y - y_mean) / y_std\n",
        "    return x_norm, y_norm, x_mean, y_mean, x_std, y_std\n",
        "\n",
        "def denormalize_output(y_norm, y_mean, y_std):\n",
        "    return y_norm * y_std + y_mean\n",
        "\n",
        "def MSE(yhat, y):\n",
        "    return torch.mean((yhat - y) ** 2)\n",
        "\"\"\""
      ],
      "metadata": {
        "colab": {
          "base_uri": "https://localhost:8080/",
          "height": 106
        },
        "id": "CRoUAOdUji6k",
        "outputId": "a9ab4a06-9048-4a4b-a8ef-d3765b6e8785"
      },
      "execution_count": 41,
      "outputs": [
        {
          "output_type": "error",
          "ename": "SyntaxError",
          "evalue": "incomplete input (<ipython-input-41-fc4ebabb7b91>, line 1)",
          "traceback": [
            "\u001b[0;36m  File \u001b[0;32m\"<ipython-input-41-fc4ebabb7b91>\"\u001b[0;36m, line \u001b[0;32m1\u001b[0m\n\u001b[0;31m    \"\"\"\u001b[0m\n\u001b[0m    ^\u001b[0m\n\u001b[0;31mSyntaxError\u001b[0m\u001b[0;31m:\u001b[0m incomplete input\n"
          ]
        }
      ]
    },
    {
      "cell_type": "markdown",
      "source": [
        "# **Load Dataset**"
      ],
      "metadata": {
        "id": "5ESaGHxvmHAO"
      }
    },
    {
      "cell_type": "markdown",
      "source": [
        "# **14 Bus Only**"
      ],
      "metadata": {
        "id": "Dm_QSMHnh5qa"
      }
    },
    {
      "cell_type": "code",
      "source": [
        "import pandapower as pp\n",
        "import pandapower.networks as nw\n",
        "import torch\n",
        "\n",
        "# Load dataset from Excel files\n",
        "dataset1 = pd.read_excel('/content/GNN-OptimalPowerFlow/Datasets/14Bus/PF_Dataset_1.xlsx').values\n",
        "dataset2 = pd.read_excel('/content/GNN-OptimalPowerFlow/Datasets/14Bus/PF_Dataset_2.xlsx').values\n",
        "\n",
        "# Split the dataset\n",
        "train_percentage = 80\n",
        "val_percentage = 20\n",
        "\n",
        "train_dataset = slice_dataset(dataset1, train_percentage)\n",
        "val_dataset = slice_dataset(dataset2, val_percentage)\n",
        "\n",
        "n_bus = 14\n",
        "\n",
        "# Prepare training and validation data\n",
        "x_raw_train, y_raw_train = make_dataset(train_dataset, n_bus)\n",
        "x_raw_val, y_raw_val = make_dataset(val_dataset, n_bus)\n",
        "\n",
        "# Normalize the data\n",
        "x_norm_train, y_norm_train, _, _, _, _ = normalize_dataset(x_raw_train, y_raw_train)\n",
        "x_norm_val, y_norm_val, x_val_mean, y_val_mean, x_val_std, y_val_std = normalize_dataset(x_raw_val, y_raw_val)\n",
        "\n",
        "# Prepare DataLoader for PyTorch Geometric\n",
        "# Load the IEEE 14-bus test case\n",
        "net = nw.case14()\n",
        "nw.case14()\n",
        "\n",
        "# Get the 'from_bus' and 'to_bus' for each line in the network\n",
        "from_buses = net.line['from_bus'].values\n",
        "to_buses = net.line['to_bus'].values\n",
        "\n",
        "# Construct the edge index (bidirectional edges)\n",
        "edge_index = torch.tensor([list(from_buses) + list(to_buses), list(to_buses) + list(from_buses)], dtype=torch.long)\n",
        "\n",
        "print(\"Edge Index for IEEE 14-bus System:\")\n",
        "print(edge_index)\n",
        "\n",
        "# edge_index = torch.tensor([[0, 1, 1, 2, 1, 3, 2, 4, 3, 5, 4, 6, 4, 7, 5, 8, 5, 9, 1, 10, 10, 11, 11, 12, 11, 13],\n",
        "#                           [1, 0, 2, 1, 3, 1, 4, 2, 5, 3, 6, 4, 7, 4, 8, 5, 9, 5, 10, 1, 11, 10, 12, 11, 13, 11]], dtype=torch.long)\n",
        "\n",
        "# Create Data objects for PyTorch Geometric\n",
        "train_data_list = [Data(x=x, y=y, edge_index=edge_index) for x, y in zip(x_norm_train, y_norm_train)]\n",
        "val_data_list = [Data(x=x, y=y, edge_index=edge_index) for x, y in zip(x_norm_val, y_norm_val)]\n",
        "\n",
        "train_loader = DataLoader(train_data_list, batch_size=1)\n",
        "val_loader = DataLoader(val_data_list, batch_size=1)\n"
      ],
      "metadata": {
        "colab": {
          "base_uri": "https://localhost:8080/"
        },
        "id": "Oxr4mBoojyA-",
        "outputId": "979a6c06-2d94-4c44-b0c8-9d730d7f81d2"
      },
      "execution_count": 28,
      "outputs": [
        {
          "output_type": "stream",
          "name": "stdout",
          "text": [
            "Edge Index for IEEE 14-bus System:\n",
            "tensor([[ 0,  0,  1,  1,  1,  2,  3,  5,  5,  5,  8,  8,  9, 11, 12,  1,  4,  2,\n",
            "          3,  4,  3,  4, 10, 11, 12,  9, 13, 10, 12, 13],\n",
            "        [ 1,  4,  2,  3,  4,  3,  4, 10, 11, 12,  9, 13, 10, 12, 13,  0,  0,  1,\n",
            "          1,  1,  2,  3,  5,  5,  5,  8,  8,  9, 11, 12]])\n"
          ]
        },
        {
          "output_type": "stream",
          "name": "stderr",
          "text": [
            "/usr/local/lib/python3.10/dist-packages/torch_geometric/deprecation.py:26: UserWarning: 'data.DataLoader' is deprecated, use 'loader.DataLoader' instead\n",
            "  warnings.warn(out)\n"
          ]
        }
      ]
    },
    {
      "cell_type": "markdown",
      "source": [
        "# **30 Bus Only**\n",
        "\n",
        "1. **Data Preparation:** Load and filter the dataset\n",
        "\n",
        "2. **Normalization:**\n",
        "Normalize the data (normalize_dataset)\n",
        "\n",
        "3. **Filter Constant Features:** Identify and remove constant features"
      ],
      "metadata": {
        "id": "duxl-KR0h-yT"
      }
    },
    {
      "cell_type": "code",
      "source": [
        "print(y_raw_train.shape)\n",
        "print(y_norm_train.shape)\n",
        "\n",
        "print(x_raw_train.shape)\n",
        "print(x_norm_train.shape)"
      ],
      "metadata": {
        "colab": {
          "base_uri": "https://localhost:8080/"
        },
        "id": "UtCPIW4MyITc",
        "outputId": "b7c11861-f449-4afe-ba0b-3f3d6f57d055"
      },
      "execution_count": 71,
      "outputs": [
        {
          "output_type": "stream",
          "name": "stdout",
          "text": [
            "torch.Size([1600, 30, 2])\n",
            "torch.Size([1600, 30, 2])\n",
            "torch.Size([1600, 30, 7])\n",
            "torch.Size([1600, 30, 7])\n"
          ]
        }
      ]
    },
    {
      "cell_type": "code",
      "source": [
        "import pandapower as pp\n",
        "import pandapower.networks as nw\n",
        "import torch\n",
        "import pandas as pd\n",
        "from torch_geometric.data import Data, DataLoader\n",
        "\n",
        "# Load dataset from Excel files\n",
        "dataset1 = pd.read_excel('/content/GNN-OptimalPowerFlow/Datasets/30Bus/PF_Dataset_1.xlsx').values\n",
        "dataset2 = pd.read_excel('/content/GNN-OptimalPowerFlow/Datasets/30Bus/PF_Dataset_2.xlsx').values\n",
        "\n",
        "# Split the dataset\n",
        "train_percentage = 80\n",
        "val_percentage = 20\n",
        "\n",
        "train_dataset = slice_dataset(dataset1, train_percentage)\n",
        "val_dataset = slice_dataset(dataset2, val_percentage)\n",
        "\n",
        "n_bus = 30\n",
        "\n",
        "# # Prepare training and validation data\n",
        "x_raw_train, y_raw_train = make_dataset(train_dataset, n_bus)\n",
        "x_raw_val, y_raw_val = make_dataset(val_dataset, n_bus)\n",
        "\n",
        "# Normalize the raw data\n",
        "x_norm_train, y_norm_train, x_train_mean, y_train_mean, x_train_std, y_train_std = normalize_dataset(x_raw_train, y_raw_train)\n",
        "x_norm_val, y_norm_val, x_val_mean, y_val_mean, x_val_std, y_val_std = normalize_dataset(x_raw_val, y_raw_val)\n",
        "\n",
        "# Prepare DataLoader for PyTorch Geometric\n",
        "# Load the IEEE 30-bus test case using pandapower\n",
        "net = nw.case30()\n",
        "\n",
        "# Get the 'from_bus' and 'to_bus' for each line in the network\n",
        "from_buses = net.line['from_bus'].values\n",
        "to_buses = net.line['to_bus'].values\n",
        "\n",
        "# Construct the edge index (bidirectional edges)\n",
        "edge_index = torch.tensor([list(from_buses) + list(to_buses), list(to_buses) + list(from_buses)], dtype=torch.long)\n",
        "\n",
        "print(\"Edge Index for IEEE 30-bus System:\")\n",
        "print(edge_index)\n",
        "\n",
        "# Create Data objects for PyTorch Geometric without mask\n",
        "train_data_list = [Data(x=x, y=y, edge_index=edge_index) for x, y in zip(x_norm_train, y_norm_train)]\n",
        "val_data_list = [Data(x=x, y=y, edge_index=edge_index) for x, y in zip(x_norm_val, y_norm_val)]\n",
        "\n",
        "# Prepare DataLoaders\n",
        "train_loader = DataLoader(train_data_list, batch_size=1)\n",
        "val_loader = DataLoader(val_data_list, batch_size=1)\n",
        "\n",
        "print(\"Data preparation completed successfully.\")\n"
      ],
      "metadata": {
        "colab": {
          "base_uri": "https://localhost:8080/"
        },
        "id": "LaQbb0UuLiUa",
        "outputId": "62741143-d868-4356-f62d-95151fd0bb26"
      },
      "execution_count": 70,
      "outputs": [
        {
          "output_type": "stream",
          "name": "stdout",
          "text": [
            "Edge Index for IEEE 30-bus System:\n",
            "tensor([[ 0,  0,  1,  2,  1,  1,  3,  4,  5,  5,  5,  5,  8,  8,  3, 11, 11, 11,\n",
            "         11, 13, 15, 14, 17, 18,  9,  9,  9,  9, 20, 14, 21, 22, 23, 24, 24, 27,\n",
            "         26, 26, 28,  7,  5,  1,  2,  3,  3,  4,  5,  5,  6,  6,  7,  8,  9, 10,\n",
            "          9, 11, 12, 13, 14, 15, 14, 16, 17, 18, 19, 19, 16, 20, 21, 21, 22, 23,\n",
            "         23, 24, 25, 26, 26, 28, 29, 29, 27, 27],\n",
            "        [ 1,  2,  3,  3,  4,  5,  5,  6,  6,  7,  8,  9, 10,  9, 11, 12, 13, 14,\n",
            "         15, 14, 16, 17, 18, 19, 19, 16, 20, 21, 21, 22, 23, 23, 24, 25, 26, 26,\n",
            "         28, 29, 29, 27, 27,  0,  0,  1,  2,  1,  1,  3,  4,  5,  5,  5,  5,  8,\n",
            "          8,  3, 11, 11, 11, 11, 13, 15, 14, 17, 18,  9,  9,  9,  9, 20, 14, 21,\n",
            "         22, 23, 24, 24, 27, 26, 26, 28,  7,  5]])\n",
            "Data preparation completed successfully.\n"
          ]
        },
        {
          "output_type": "stream",
          "name": "stderr",
          "text": [
            "/usr/local/lib/python3.10/dist-packages/torch_geometric/deprecation.py:26: UserWarning: 'data.DataLoader' is deprecated, use 'loader.DataLoader' instead\n",
            "  warnings.warn(out)\n"
          ]
        }
      ]
    },
    {
      "cell_type": "markdown",
      "source": [
        "# Backup"
      ],
      "metadata": {
        "id": "RP6v7qQi0qnq"
      }
    },
    {
      "cell_type": "code",
      "source": [
        "\"\"\"\n",
        "import pandapower as pp\n",
        "import pandapower.networks as nw\n",
        "import torch\n",
        "import pandas as pd\n",
        "from torch_geometric.data import Data, DataLoader\n",
        "\n",
        "# Load dataset from Excel files\n",
        "dataset1 = pd.read_excel('/content/GNN-OptimalPowerFlow/Datasets/30Bus/PF_Dataset_1.xlsx').values\n",
        "dataset2 = pd.read_excel('/content/GNN-OptimalPowerFlow/Datasets/30Bus/PF_Dataset_2.xlsx').values\n",
        "\n",
        "# Split the dataset\n",
        "train_percentage = 80\n",
        "val_percentage = 20\n",
        "\n",
        "train_dataset = slice_dataset(dataset1, train_percentage)\n",
        "val_dataset = slice_dataset(dataset2, val_percentage)\n",
        "\n",
        "n_bus = 30\n",
        "\n",
        "# Prepare training and validation data using updated make_dataset function\n",
        "x_raw_train, y_raw_train, mask_train = make_dataset(train_dataset, n_bus)\n",
        "x_raw_val, y_raw_val, mask_val = make_dataset(val_dataset, n_bus)\n",
        "\n",
        "# Function to normalize the dataset with handling of zero standard deviation\n",
        "def normalize_dataset(x, y):\n",
        "    x_mean = torch.mean(x, dim=0)\n",
        "    x_std = torch.std(x, dim=0)\n",
        "    x_std[x_std == 0] = 1  # Replace zero std with 1 to prevent division by zero\n",
        "    x_norm = (x - x_mean) / x_std\n",
        "\n",
        "    y_mean = torch.mean(y, dim=0)\n",
        "    y_std = torch.std(y, dim=0)\n",
        "    y_std[y_std == 0] = 1  # Replace zero std with 1 to prevent division by zero\n",
        "    y_norm = (y - y_mean) / y_std\n",
        "\n",
        "    return x_norm, y_norm, x_mean, y_mean, x_std, y_std\n",
        "\n",
        "# Normalize the raw data\n",
        "x_norm_train, y_norm_train, x_train_mean, y_train_mean, x_train_std, y_train_std = normalize_dataset(x_raw_train, y_raw_train)\n",
        "x_norm_val, y_norm_val, x_val_mean, y_val_mean, x_val_std, y_val_std = normalize_dataset(x_raw_val, y_raw_val)\n",
        "\n",
        "# Prepare DataLoader for PyTorch Geometric\n",
        "# Load the IEEE 30-bus test case using pandapower\n",
        "net = nw.case30()\n",
        "\n",
        "# Get the 'from_bus' and 'to_bus' for each line in the network\n",
        "from_buses = net.line['from_bus'].values\n",
        "to_buses = net.line['to_bus'].values\n",
        "\n",
        "# Construct the edge index (bidirectional edges)\n",
        "edge_index = torch.tensor([list(from_buses) + list(to_buses), list(to_buses) + list(from_buses)], dtype=torch.long)\n",
        "\n",
        "print(\"Edge Index for IEEE 30-bus System:\")\n",
        "print(edge_index)\n",
        "\n",
        "# Create Data objects for PyTorch Geometric with the mask\n",
        "train_data_list = [Data(x=x, y=y, edge_index=edge_index, mask=mask) for x, y, mask in zip(x_norm_train, y_norm_train, mask_train)]\n",
        "val_data_list = [Data(x=x, y=y, edge_index=edge_index, mask=mask) for x, y, mask in zip(x_norm_val, y_norm_val, mask_val)]\n",
        "\n",
        "# Prepare DataLoaders\n",
        "train_loader = DataLoader(train_data_list, batch_size=1)\n",
        "val_loader = DataLoader(val_data_list, batch_size=1)\n",
        "\n",
        "print(\"Data preparation completed successfully.\")\n",
        "\"\"\"\n"
      ],
      "metadata": {
        "colab": {
          "base_uri": "https://localhost:8080/"
        },
        "id": "HBY8GpwLPiOL",
        "outputId": "62208927-0316-4322-bf6c-210b1dbcbc86"
      },
      "execution_count": 34,
      "outputs": [
        {
          "output_type": "stream",
          "name": "stdout",
          "text": [
            "Edge Index for IEEE 30-bus System:\n",
            "tensor([[ 0,  0,  1,  2,  1,  1,  3,  4,  5,  5,  5,  5,  8,  8,  3, 11, 11, 11,\n",
            "         11, 13, 15, 14, 17, 18,  9,  9,  9,  9, 20, 14, 21, 22, 23, 24, 24, 27,\n",
            "         26, 26, 28,  7,  5,  1,  2,  3,  3,  4,  5,  5,  6,  6,  7,  8,  9, 10,\n",
            "          9, 11, 12, 13, 14, 15, 14, 16, 17, 18, 19, 19, 16, 20, 21, 21, 22, 23,\n",
            "         23, 24, 25, 26, 26, 28, 29, 29, 27, 27],\n",
            "        [ 1,  2,  3,  3,  4,  5,  5,  6,  6,  7,  8,  9, 10,  9, 11, 12, 13, 14,\n",
            "         15, 14, 16, 17, 18, 19, 19, 16, 20, 21, 21, 22, 23, 23, 24, 25, 26, 26,\n",
            "         28, 29, 29, 27, 27,  0,  0,  1,  2,  1,  1,  3,  4,  5,  5,  5,  5,  8,\n",
            "          8,  3, 11, 11, 11, 11, 13, 15, 14, 17, 18,  9,  9,  9,  9, 20, 14, 21,\n",
            "         22, 23, 24, 24, 27, 26, 26, 28,  7,  5]])\n",
            "Data preparation completed successfully.\n"
          ]
        },
        {
          "output_type": "stream",
          "name": "stderr",
          "text": [
            "/usr/local/lib/python3.10/dist-packages/torch_geometric/deprecation.py:26: UserWarning: 'data.DataLoader' is deprecated, use 'loader.DataLoader' instead\n",
            "  warnings.warn(out)\n"
          ]
        }
      ]
    },
    {
      "cell_type": "code",
      "source": [
        "#print(\"x_std_raw:\", x_std_raw)\n",
        "#print(\"y_std_raw:\", y_std_raw)\n",
        "\n",
        "# print(\"Number of NaNs in x_norm_train:\", torch.isnan(x_norm_train).sum().item())\n",
        "# print(\"Number of NaNs in y_norm_train:\", torch.isnan(y_norm_train).sum().item())\n",
        "print(x_raw_train)\n",
        "# print(\"Standard deviation of features:\", x_val_std)\n",
        "# print(\"y_val_mean:\", y_val_mean)\n",
        "# print(\"y_val_std:\", y_val_std)\n",
        "\n",
        "#print(f\"Number of non-constant input features: {num_filtered_features}\")\n",
        "#print(f\"Number of non-constant target features: {num_filtered_targets}\")"
      ],
      "metadata": {
        "colab": {
          "base_uri": "https://localhost:8080/"
        },
        "id": "6ubhNQHZ003L",
        "outputId": "eb4ae54a-94ec-4c4a-98cf-d67a3401cfcb"
      },
      "execution_count": 131,
      "outputs": [
        {
          "output_type": "stream",
          "name": "stdout",
          "text": [
            "tensor([[[ 0.00000,  0.00000,  1.00000,  ...,  0.00000,  0.00000,  1.00000],\n",
            "         [14.40134, 13.22018,  1.00000,  ...,  0.00000,  1.00000,  0.00000],\n",
            "         [ 2.99126,  1.21511,  0.98492,  ...,  0.00000,  1.00000,  0.00000],\n",
            "         ...,\n",
            "         [ 0.00000,  0.00000,  0.97893,  ...,  1.00000,  0.00000,  0.00000],\n",
            "         [ 2.91809,  0.84565,  0.97803,  ...,  0.00000,  1.00000,  0.00000],\n",
            "         [12.16662,  1.42966,  0.96580,  ...,  0.00000,  1.00000,  0.00000]],\n",
            "\n",
            "        [[ 0.00000,  0.00000,  1.00000,  ...,  0.00000,  0.00000,  1.00000],\n",
            "         [13.52838,  9.30579,  1.00000,  ...,  0.00000,  1.00000,  0.00000],\n",
            "         [ 1.90479,  0.94073,  0.98512,  ...,  0.00000,  1.00000,  0.00000],\n",
            "         ...,\n",
            "         [ 0.00000,  0.00000,  0.97815,  ...,  1.00000,  0.00000,  0.00000],\n",
            "         [ 1.76046,  0.89814,  0.98310,  ...,  0.00000,  1.00000,  0.00000],\n",
            "         [ 9.43754,  1.22884,  0.97348,  ...,  0.00000,  1.00000,  0.00000]],\n",
            "\n",
            "        [[ 0.00000,  0.00000,  1.00000,  ...,  0.00000,  0.00000,  1.00000],\n",
            "         [13.81231, 12.01729,  1.00000,  ...,  0.00000,  1.00000,  0.00000],\n",
            "         [ 2.23502,  1.32606,  0.97863,  ...,  0.00000,  1.00000,  0.00000],\n",
            "         ...,\n",
            "         [ 0.00000,  0.00000,  0.96654,  ...,  1.00000,  0.00000,  0.00000],\n",
            "         [ 2.21770,  0.68536,  0.98190,  ...,  0.00000,  1.00000,  0.00000],\n",
            "         [ 9.79359,  1.63231,  0.97117,  ...,  0.00000,  1.00000,  0.00000]],\n",
            "\n",
            "        ...,\n",
            "\n",
            "        [[ 0.00000,  0.00000,  1.00000,  ...,  0.00000,  0.00000,  1.00000],\n",
            "         [20.66368, 14.85904,  1.00000,  ...,  0.00000,  1.00000,  0.00000],\n",
            "         [ 2.15676,  1.25817,  0.98560,  ...,  0.00000,  1.00000,  0.00000],\n",
            "         ...,\n",
            "         [ 0.00000,  0.00000,  0.97962,  ...,  1.00000,  0.00000,  0.00000],\n",
            "         [ 1.51396,  1.01141,  0.98318,  ...,  0.00000,  1.00000,  0.00000],\n",
            "         [ 7.97616,  2.07334,  0.97348,  ...,  0.00000,  1.00000,  0.00000]],\n",
            "\n",
            "        [[ 0.00000,  0.00000,  1.00000,  ...,  0.00000,  0.00000,  1.00000],\n",
            "         [17.38465, 11.98350,  1.00000,  ...,  0.00000,  1.00000,  0.00000],\n",
            "         [ 3.13643,  0.73614,  0.97972,  ...,  0.00000,  1.00000,  0.00000],\n",
            "         ...,\n",
            "         [ 0.00000,  0.00000,  0.96866,  ...,  1.00000,  0.00000,  0.00000],\n",
            "         [ 2.23619,  1.00753,  0.97945,  ...,  0.00000,  1.00000,  0.00000],\n",
            "         [ 9.43333,  2.64651,  0.96758,  ...,  0.00000,  1.00000,  0.00000]],\n",
            "\n",
            "        [[ 0.00000,  0.00000,  1.00000,  ...,  0.00000,  0.00000,  1.00000],\n",
            "         [15.96255, 14.98837,  1.00000,  ...,  0.00000,  1.00000,  0.00000],\n",
            "         [ 1.56813,  0.96419,  0.98209,  ...,  0.00000,  1.00000,  0.00000],\n",
            "         ...,\n",
            "         [ 0.00000,  0.00000,  0.97111,  ...,  1.00000,  0.00000,  0.00000],\n",
            "         [ 2.90847,  1.07888,  0.97534,  ...,  0.00000,  1.00000,  0.00000],\n",
            "         [12.82191,  2.13076,  0.96133,  ...,  0.00000,  1.00000,  0.00000]]])\n"
          ]
        }
      ]
    },
    {
      "cell_type": "markdown",
      "source": [
        "# **57 Bus Only**"
      ],
      "metadata": {
        "id": "jkFs_7lLiDgc"
      }
    },
    {
      "cell_type": "code",
      "source": [
        "import pandapower as pp\n",
        "import pandapower.networks as nw\n",
        "import torch\n",
        "import pandas as pd\n",
        "from torch_geometric.data import Data, DataLoader\n",
        "\n",
        "# Load dataset from Excel files\n",
        "dataset1 = pd.read_excel('/content/GNN-OptimalPowerFlow/Datasets/57Bus/PF_Dataset_1.xlsx').values\n",
        "dataset2 = pd.read_excel('/content/GNN-OptimalPowerFlow/Datasets/57Bus/PF_Dataset_2.xlsx').values\n",
        "\n",
        "# Split the dataset\n",
        "train_percentage = 80\n",
        "val_percentage = 20\n",
        "\n",
        "train_dataset = slice_dataset(dataset1, train_percentage)\n",
        "val_dataset = slice_dataset(dataset2, val_percentage)\n",
        "\n",
        "n_bus = 57\n",
        "\n",
        "# # Prepare training and validation data\n",
        "x_raw_train, y_raw_train = make_dataset(train_dataset, n_bus)\n",
        "x_raw_val, y_raw_val = make_dataset(val_dataset, n_bus)\n",
        "\n",
        "# Normalize the raw data\n",
        "x_norm_train, y_norm_train, x_train_mean, y_train_mean, x_train_std, y_train_std = normalize_dataset(x_raw_train, y_raw_train)\n",
        "x_norm_val, y_norm_val, x_val_mean, y_val_mean, x_val_std, y_val_std = normalize_dataset(x_raw_val, y_raw_val)\n",
        "\n",
        "# Prepare DataLoader for PyTorch Geometric\n",
        "# Load the IEEE 57-bus test case using pandapower\n",
        "net = nw.case57()\n",
        "\n",
        "# Get the 'from_bus' and 'to_bus' for each line in the network\n",
        "from_buses = net.line['from_bus'].values\n",
        "to_buses = net.line['to_bus'].values\n",
        "\n",
        "# Construct the edge index (bidirectional edges)\n",
        "edge_index = torch.tensor([list(from_buses) + list(to_buses), list(to_buses) + list(from_buses)], dtype=torch.long)\n",
        "\n",
        "print(\"Edge Index for IEEE 57-bus System:\")\n",
        "print(edge_index)\n",
        "\n",
        "# Create Data objects for PyTorch Geometric without mask\n",
        "train_data_list = [Data(x=x, y=y, edge_index=edge_index) for x, y in zip(x_norm_train, y_norm_train)]\n",
        "val_data_list = [Data(x=x, y=y, edge_index=edge_index) for x, y in zip(x_norm_val, y_norm_val)]\n",
        "\n",
        "# Prepare DataLoaders\n",
        "train_loader = DataLoader(train_data_list, batch_size=1)\n",
        "val_loader = DataLoader(val_data_list, batch_size=1)\n",
        "\n",
        "print(\"Data preparation completed successfully.\")\n"
      ],
      "metadata": {
        "colab": {
          "base_uri": "https://localhost:8080/"
        },
        "id": "7W8Sef5XiCt-",
        "outputId": "38cb502e-284b-4b27-c692-9562d48fb26f"
      },
      "execution_count": 169,
      "outputs": [
        {
          "output_type": "stream",
          "name": "stdout",
          "text": [
            "Edge Index for IEEE 57-bus System:\n",
            "tensor([[ 0,  1,  2,  3,  3,  5,  5,  7,  8,  8,  8,  8, 12, 12,  0,  0,  0,  2,\n",
            "          4,  6,  9, 10, 11, 11, 11, 13, 17, 18, 20, 21, 22, 25, 26, 27, 24, 29,\n",
            "         30, 31, 33, 34, 35, 36, 36, 35, 21, 40, 40, 37, 45, 46, 47, 48, 49, 28,\n",
            "         51, 52, 53, 43, 55, 55, 56, 37, 37,  1,  2,  3,  4,  5,  6,  7,  8,  9,\n",
            "         10, 11, 12, 13, 14, 14, 15, 16, 14,  5,  7, 11, 12, 12, 15, 16, 14, 18,\n",
            "         19, 21, 22, 23, 26, 27, 28, 29, 30, 31, 32, 34, 35, 36, 37, 38, 39, 37,\n",
            "         41, 42, 43, 46, 47, 48, 49, 50, 51, 52, 53, 54, 44, 40, 41, 55, 48, 47],\n",
            "        [ 1,  2,  3,  4,  5,  6,  7,  8,  9, 10, 11, 12, 13, 14, 14, 15, 16, 14,\n",
            "          5,  7, 11, 12, 12, 15, 16, 14, 18, 19, 21, 22, 23, 26, 27, 28, 29, 30,\n",
            "         31, 32, 34, 35, 36, 37, 38, 39, 37, 41, 42, 43, 46, 47, 48, 49, 50, 51,\n",
            "         52, 53, 54, 44, 40, 41, 55, 48, 47,  0,  1,  2,  3,  3,  5,  5,  7,  8,\n",
            "          8,  8,  8, 12, 12,  0,  0,  0,  2,  4,  6,  9, 10, 11, 11, 11, 13, 17,\n",
            "         18, 20, 21, 22, 25, 26, 27, 24, 29, 30, 31, 33, 34, 35, 36, 36, 35, 21,\n",
            "         40, 40, 37, 45, 46, 47, 48, 49, 28, 51, 52, 53, 43, 55, 55, 56, 37, 37]])\n",
            "Data preparation completed successfully.\n"
          ]
        },
        {
          "output_type": "stream",
          "name": "stderr",
          "text": [
            "/usr/local/lib/python3.10/dist-packages/torch_geometric/deprecation.py:26: UserWarning: 'data.DataLoader' is deprecated, use 'loader.DataLoader' instead\n",
            "  warnings.warn(out)\n"
          ]
        }
      ]
    },
    {
      "cell_type": "code",
      "source": [
        "edge_index"
      ],
      "metadata": {
        "colab": {
          "base_uri": "https://localhost:8080/"
        },
        "id": "p5dDK5_qgRaT",
        "outputId": "eb108bd7-4c5e-4c7e-ea54-6e24cdeb9ece"
      },
      "execution_count": 17,
      "outputs": [
        {
          "output_type": "execute_result",
          "data": {
            "text/plain": [
              "tensor([[ 0,  0,  1,  2,  1,  1,  3,  4,  5,  5,  5,  5,  8,  8,  3, 11, 11, 11,\n",
              "         11, 13, 15, 14, 17, 18,  9,  9,  9,  9, 20, 14, 21, 22, 23, 24, 24, 27,\n",
              "         26, 26, 28,  7,  5,  1,  2,  3,  3,  4,  5,  5,  6,  6,  7,  8,  9, 10,\n",
              "          9, 11, 12, 13, 14, 15, 14, 16, 17, 18, 19, 19, 16, 20, 21, 21, 22, 23,\n",
              "         23, 24, 25, 26, 26, 28, 29, 29, 27, 27],\n",
              "        [ 1,  2,  3,  3,  4,  5,  5,  6,  6,  7,  8,  9, 10,  9, 11, 12, 13, 14,\n",
              "         15, 14, 16, 17, 18, 19, 19, 16, 20, 21, 21, 22, 23, 23, 24, 25, 26, 26,\n",
              "         28, 29, 29, 27, 27,  0,  0,  1,  2,  1,  1,  3,  4,  5,  5,  5,  5,  8,\n",
              "          8,  3, 11, 11, 11, 11, 13, 15, 14, 17, 18,  9,  9,  9,  9, 20, 14, 21,\n",
              "         22, 23, 24, 24, 27, 26, 26, 28,  7,  5]])"
            ]
          },
          "metadata": {},
          "execution_count": 17
        }
      ]
    },
    {
      "cell_type": "markdown",
      "source": [
        "# **Define GNN Model**\n",
        "\n",
        "We will use a simple GCN as the first model and later extend it to include other GNN topologies:"
      ],
      "metadata": {
        "id": "IwMNOyWDpPIQ"
      }
    },
    {
      "cell_type": "code",
      "source": [
        "import torch\n",
        "import torch.nn as nn\n",
        "import torch.nn.functional as F\n",
        "from torch_geometric.nn import GCNConv\n",
        "\n",
        "class My_GNN_Model(nn.Module):\n",
        "    def __init__(self, in_channels=7, hidden_channels=8, out_channels=2):\n",
        "        super(My_GNN_Model, self).__init__()\n",
        "        # Define the GNN layers\n",
        "        self.conv1 = GCNConv(in_channels, hidden_channels)\n",
        "        self.conv2 = GCNConv(hidden_channels, hidden_channels)\n",
        "\n",
        "        # Define the output GNN layer for direct prediction\n",
        "        self.conv_out = GCNConv(hidden_channels, out_channels)\n",
        "\n",
        "        if out_channels is None:\n",
        "            out_channels = 2\n",
        "\n",
        "        self.lin = Linear(hidden_channels * n_bus, out_channels * n_bus)\n",
        "\n",
        "\n",
        "    def forward(self, data):\n",
        "        '''\n",
        "        x, edge_index = data.x, data.edge_index\n",
        "        x = F.relu(self.conv1(x, edge_index))\n",
        "        x = F.relu(self.conv2(x, edge_index))\n",
        "\n",
        "        x = x.view(-1)\n",
        "        x = self.lin(x)\n",
        "        return x.view(-1, num_filtered_targets)\n",
        "        ;'''\n",
        "\n",
        "        x, edge_index = data.x, data.edge_index\n",
        "\n",
        "        # Apply GCN layers with ReLU activation\n",
        "        x = F.relu(self.conv1(x, edge_index))\n",
        "        x = F.relu(self.conv2(x, edge_index))\n",
        "\n",
        "        # Apply the output GCN layer\n",
        "        x = self.lin(x.view(-1))\n",
        "\n",
        "        return x.view(-1, 2)\n",
        "\n",
        "# Initialize the model with the correct input and output sizes\n",
        "model = My_GNN_Model(in_channels=7, out_channels=2)\n"
      ],
      "metadata": {
        "id": "WvkgOj-sQHys"
      },
      "execution_count": 170,
      "outputs": []
    },
    {
      "cell_type": "markdown",
      "source": [
        "# Backup"
      ],
      "metadata": {
        "id": "_KGnM5dw1F2t"
      }
    },
    {
      "cell_type": "code",
      "source": [
        "\"\"\"\n",
        "class My_GNN_Model(nn.Module):\n",
        "    def __init__(self, in_channels, hidden_channels=8, out_channels=None, n_nodes=None):\n",
        "        super(My_GNN_Model, self).__init__()\n",
        "        self.conv1 = GCNConv(in_channels, hidden_channels)\n",
        "        self.conv2 = GCNConv(hidden_channels, hidden_channels)\n",
        "\n",
        "        # Use the filtered number of nodes (buses) instead of the original n_bus\n",
        "        if n_nodes is None:\n",
        "            n_nodes = x_filtered_train.shape[0]  # Use the number of filtered nodes\n",
        "\n",
        "        # Dynamically set the output size based on the filtered target size\n",
        "        if out_channels is None:\n",
        "            out_channels = num_filtered_targets\n",
        "\n",
        "        self.lin = Linear(hidden_channels * n_nodes, out_channels * n_nodes)\n",
        "\n",
        "    def forward(self, data):\n",
        "        x, edge_index = data.x, data.edge_index\n",
        "        x = F.relu(self.conv1(x, edge_index))\n",
        "        x = F.relu(self.conv2(x, edge_index))\n",
        "\n",
        "        x = x.view(-1)\n",
        "        x = self.lin(x)\n",
        "        return x.view(-1, num_filtered_targets)\n",
        "\n",
        "# Initialize the model with the correct input and output sizes\n",
        "model = My_GNN_Model(in_channels=num_filtered_features, out_channels=num_filtered_targets)\n",
        "\"\"\"\n"
      ],
      "metadata": {
        "colab": {
          "base_uri": "https://localhost:8080/",
          "height": 106
        },
        "id": "Tid42BkhcQOx",
        "outputId": "660b7c22-d555-4579-8353-84e18a97a9f1"
      },
      "execution_count": 10,
      "outputs": [
        {
          "output_type": "error",
          "ename": "SyntaxError",
          "evalue": "incomplete input (<ipython-input-10-833c09dfadc8>, line 1)",
          "traceback": [
            "\u001b[0;36m  File \u001b[0;32m\"<ipython-input-10-833c09dfadc8>\"\u001b[0;36m, line \u001b[0;32m1\u001b[0m\n\u001b[0;31m    \"\"\"\u001b[0m\n\u001b[0m    ^\u001b[0m\n\u001b[0;31mSyntaxError\u001b[0m\u001b[0;31m:\u001b[0m incomplete input\n"
          ]
        }
      ]
    },
    {
      "cell_type": "code",
      "source": [
        "#**Update Edge Index**\n",
        "\n",
        "\"\"\"\n",
        "import numpy as np\n",
        "\n",
        "# Get the list of non-constant nodes\n",
        "filtered_nodes = np.where(non_constant_x.numpy())[0]\n",
        "print(f\"Filtered Nodes: {filtered_nodes}\")\n",
        "\n",
        "# Create a mapping from old node indices to new filtered indices\n",
        "node_mapping = {old_idx: new_idx for new_idx, old_idx in enumerate(filtered_nodes)}\n",
        "\n",
        "# Update the edge index using the filtered node indices\n",
        "new_from_buses = []\n",
        "new_to_buses = []\n",
        "\n",
        "for from_bus, to_bus in zip(from_buses, to_buses):\n",
        "    # Check if both 'from_bus' and 'to_bus' are in the filtered nodes\n",
        "    if from_bus in node_mapping and to_bus in node_mapping:\n",
        "        new_from_buses.append(node_mapping[from_bus])\n",
        "        new_to_buses.append(node_mapping[to_bus])\n",
        "\n",
        "# Construct the new edge index with updated indices\n",
        "edge_index = torch.tensor([new_from_buses + new_to_buses, new_to_buses + new_from_buses], dtype=torch.long)\n",
        "\n",
        "print(\"Updated Edge Index:\")\n",
        "print(edge_index)\n",
        "\"\"\"\n"
      ],
      "metadata": {
        "colab": {
          "base_uri": "https://localhost:8080/",
          "height": 106
        },
        "id": "-HBtSfds1OCB",
        "outputId": "5523e2d4-c708-4f39-964b-eb3316b1edff"
      },
      "execution_count": 75,
      "outputs": [
        {
          "output_type": "error",
          "ename": "SyntaxError",
          "evalue": "invalid syntax (<ipython-input-75-370784a66dcd>, line 1)",
          "traceback": [
            "\u001b[0;36m  File \u001b[0;32m\"<ipython-input-75-370784a66dcd>\"\u001b[0;36m, line \u001b[0;32m1\u001b[0m\n\u001b[0;31m    **Update Edge Index**\"\"\"\u001b[0m\n\u001b[0m    ^\u001b[0m\n\u001b[0;31mSyntaxError\u001b[0m\u001b[0;31m:\u001b[0m invalid syntax\n"
          ]
        }
      ]
    },
    {
      "cell_type": "code",
      "source": [
        "#train_data_list = [Data(x=x, y=y, edge_index=edge_index) for x, y in zip(x_filtered_train, y_filtered_train)]\n",
        "#val_data_list = [Data(x=x, y=y, edge_index=edge_index) for x, y in zip(x_filtered_val, y_filtered_val)]\n",
        "\n",
        "#train_loader = DataLoader(train_data_list, batch_size=1)\n",
        "#val_loader = DataLoader(val_data_list, batch_size=1)\n",
        "\n",
        "#print(\"Data preparation completed successfully.\")"
      ],
      "metadata": {
        "id": "HVneaZ5m1mn5"
      },
      "execution_count": null,
      "outputs": []
    },
    {
      "cell_type": "code",
      "source": [
        "print(y_pred.shape)\n",
        "print(y_val_mean.shape)\n",
        "print(y_val_std.shape)"
      ],
      "metadata": {
        "colab": {
          "base_uri": "https://localhost:8080/"
        },
        "id": "ofHG-SUh1wNu",
        "outputId": "e98488ff-e0a3-4b6d-92cb-c53095386192"
      },
      "execution_count": 90,
      "outputs": [
        {
          "output_type": "stream",
          "name": "stdout",
          "text": [
            "torch.Size([60])\n",
            "torch.Size([30, 2])\n",
            "torch.Size([30, 2])\n"
          ]
        }
      ]
    },
    {
      "cell_type": "markdown",
      "source": [
        "# **Training Loop**"
      ],
      "metadata": {
        "id": "B0345-HgpZa8"
      }
    },
    {
      "cell_type": "code",
      "source": [
        "# optimizer with L2 regularization (weight decay)\n",
        "lambda_l2 = 1e-3  # L2 regularization strength\n",
        "\n",
        "optimizer = torch.optim.Adam(model.parameters(), lr=0.001, weight_decay=lambda_l2)\n",
        "#optimizer = torch.optim.Adam(model.parameters(), lr=0.0001)\n",
        "epochs = 100\n",
        "\n",
        "for epoch in range(epochs):\n",
        "    model.train()\n",
        "    total_loss = 0.0  # Track the total loss for the epoch\n",
        "\n",
        "    for batch in train_loader:\n",
        "        optimizer.zero_grad()\n",
        "\n",
        "        # Forward pass\n",
        "        y_pred = model(batch)\n",
        "        target = batch.y # Use only the filtered target features\n",
        "\n",
        "        ## Get the mask for non-constant target features (P and Q)\n",
        "        #target = (y_val_std[:2] != 0).to(batch.y.device)\n",
        "\n",
        "        ## Apply the mask to the predictions and targets\n",
        "        #y_pred_masked = y_pred * target_mask\n",
        "        #target_masked = batch.y * target_mask\n",
        "\n",
        "        ## Compute loss using the masked predictions and targets\n",
        "        #loss = MSE(\n",
        "        #    denormalize_output(y_pred_masked, y_val_mean[:2], y_val_std[:2]),\n",
        "        #    denormalize_output(target_masked, y_val_mean[:2], y_val_std[:2])\n",
        "        #)\n",
        "\n",
        "\n",
        "        # Reshape y_pred to have the shape [n_bus, 4]\n",
        "        y_pred = y_pred.view(n_bus, 2)\n",
        "\n",
        "        # Compute loss using the masked predictions and targets\n",
        "        loss = MSE(\n",
        "            denormalize_output(y_pred, y_val_mean, y_val_std),\n",
        "            denormalize_output(target, y_val_mean, y_val_std)\n",
        "        )\n",
        "\n",
        "        # Backpropagation\n",
        "        loss.backward()\n",
        "        optimizer.step()\n",
        "\n",
        "        # Accumulate the loss for reporting\n",
        "        total_loss += loss.item()\n",
        "\n",
        "    # Print the average loss for each epoch\n",
        "    avg_loss = total_loss / len(train_loader)\n",
        "    print(f\"Epoch {epoch + 1}, Average Loss: {avg_loss:.6f}\")"
      ],
      "metadata": {
        "colab": {
          "base_uri": "https://localhost:8080/"
        },
        "id": "ue-47I31Q-RW",
        "outputId": "1ece8323-efdc-43e4-b7cf-6d4560e01e57"
      },
      "execution_count": 172,
      "outputs": [
        {
          "output_type": "stream",
          "name": "stdout",
          "text": [
            "Epoch 1, Average Loss: 28.573385\n",
            "Epoch 2, Average Loss: 21.358171\n",
            "Epoch 3, Average Loss: 18.430391\n",
            "Epoch 4, Average Loss: 16.451854\n",
            "Epoch 5, Average Loss: 14.902440\n",
            "Epoch 6, Average Loss: 13.648475\n",
            "Epoch 7, Average Loss: 12.607355\n",
            "Epoch 8, Average Loss: 11.738885\n",
            "Epoch 9, Average Loss: 10.986672\n",
            "Epoch 10, Average Loss: 10.332103\n",
            "Epoch 11, Average Loss: 9.753467\n",
            "Epoch 12, Average Loss: 9.258669\n",
            "Epoch 13, Average Loss: 8.812268\n",
            "Epoch 14, Average Loss: 8.401218\n",
            "Epoch 15, Average Loss: 8.046548\n",
            "Epoch 16, Average Loss: 7.698450\n",
            "Epoch 17, Average Loss: 7.393844\n",
            "Epoch 18, Average Loss: 7.102926\n",
            "Epoch 19, Average Loss: 6.838992\n",
            "Epoch 20, Average Loss: 6.605532\n",
            "Epoch 21, Average Loss: 6.365446\n",
            "Epoch 22, Average Loss: 6.149999\n",
            "Epoch 23, Average Loss: 5.949882\n",
            "Epoch 24, Average Loss: 5.751297\n",
            "Epoch 25, Average Loss: 5.575956\n",
            "Epoch 26, Average Loss: 5.399973\n",
            "Epoch 27, Average Loss: 5.249211\n",
            "Epoch 28, Average Loss: 5.103893\n",
            "Epoch 29, Average Loss: 4.955111\n",
            "Epoch 30, Average Loss: 4.800827\n",
            "Epoch 31, Average Loss: 4.695440\n",
            "Epoch 32, Average Loss: 4.566101\n",
            "Epoch 33, Average Loss: 4.444342\n",
            "Epoch 34, Average Loss: 4.341703\n",
            "Epoch 35, Average Loss: 4.256858\n",
            "Epoch 36, Average Loss: 4.156176\n",
            "Epoch 37, Average Loss: 4.065779\n",
            "Epoch 38, Average Loss: 3.970697\n",
            "Epoch 39, Average Loss: 3.889630\n",
            "Epoch 40, Average Loss: 3.805519\n",
            "Epoch 41, Average Loss: 3.735908\n",
            "Epoch 42, Average Loss: 3.706082\n",
            "Epoch 43, Average Loss: 3.627724\n",
            "Epoch 44, Average Loss: 3.562728\n",
            "Epoch 45, Average Loss: 3.514702\n",
            "Epoch 46, Average Loss: 3.460781\n",
            "Epoch 47, Average Loss: 3.392097\n",
            "Epoch 48, Average Loss: 3.329383\n",
            "Epoch 49, Average Loss: 3.287147\n",
            "Epoch 50, Average Loss: 3.268485\n",
            "Epoch 51, Average Loss: 3.217114\n",
            "Epoch 52, Average Loss: 3.200688\n",
            "Epoch 53, Average Loss: 3.152257\n",
            "Epoch 54, Average Loss: 3.078298\n",
            "Epoch 55, Average Loss: 3.070381\n",
            "Epoch 56, Average Loss: 3.029529\n",
            "Epoch 57, Average Loss: 2.970021\n",
            "Epoch 58, Average Loss: 2.975078\n",
            "Epoch 59, Average Loss: 2.921491\n",
            "Epoch 60, Average Loss: 2.871446\n",
            "Epoch 61, Average Loss: 2.849298\n",
            "Epoch 62, Average Loss: 2.831673\n",
            "Epoch 63, Average Loss: 2.788358\n",
            "Epoch 64, Average Loss: 2.751620\n",
            "Epoch 65, Average Loss: 2.787410\n",
            "Epoch 66, Average Loss: 2.711886\n",
            "Epoch 67, Average Loss: 2.672783\n",
            "Epoch 68, Average Loss: 2.693000\n",
            "Epoch 69, Average Loss: 2.720631\n",
            "Epoch 70, Average Loss: 2.662879\n",
            "Epoch 71, Average Loss: 2.556250\n",
            "Epoch 72, Average Loss: 2.639781\n",
            "Epoch 74, Average Loss: 2.570312\n",
            "Epoch 75, Average Loss: 2.586403\n",
            "Epoch 76, Average Loss: 2.546065\n",
            "Epoch 77, Average Loss: 2.475582\n",
            "Epoch 78, Average Loss: 2.484884\n",
            "Epoch 79, Average Loss: 2.406971\n",
            "Epoch 80, Average Loss: 2.390860\n",
            "Epoch 81, Average Loss: 2.426994\n",
            "Epoch 82, Average Loss: 2.266495\n",
            "Epoch 83, Average Loss: 2.337854\n",
            "Epoch 84, Average Loss: 2.289492\n",
            "Epoch 85, Average Loss: 2.309129\n",
            "Epoch 86, Average Loss: 2.257000\n",
            "Epoch 87, Average Loss: 2.258767\n",
            "Epoch 88, Average Loss: 2.256309\n",
            "Epoch 89, Average Loss: 2.241555\n",
            "Epoch 90, Average Loss: 2.283218\n",
            "Epoch 91, Average Loss: 2.194567\n",
            "Epoch 92, Average Loss: 2.113560\n",
            "Epoch 93, Average Loss: 2.183136\n",
            "Epoch 94, Average Loss: 2.126266\n",
            "Epoch 95, Average Loss: 2.049438\n",
            "Epoch 96, Average Loss: 2.128373\n",
            "Epoch 97, Average Loss: 2.102931\n",
            "Epoch 98, Average Loss: 2.090108\n",
            "Epoch 99, Average Loss: 2.133611\n",
            "Epoch 100, Average Loss: 1.999235\n"
          ]
        }
      ]
    },
    {
      "cell_type": "markdown",
      "source": [
        "# Backup"
      ],
      "metadata": {
        "id": "4sIrVikD1cFX"
      }
    },
    {
      "cell_type": "code",
      "source": [
        "\"\"\"\n",
        "optimizer = torch.optim.Adam(model.parameters(), lr=0.0001)\n",
        "epochs = 100\n",
        "\n",
        "for epoch in range(epochs):\n",
        "    model.train()\n",
        "    for batch in train_loader:\n",
        "        optimizer.zero_grad()\n",
        "\n",
        "        # Forward pass\n",
        "        y_pred = model(batch)\n",
        "\n",
        "        # Flatten the prediction and match the filtered target size\n",
        "        y_pred = y_pred.view(-1)[:num_filtered_targets] # Ensure it matches the filtered target size\n",
        "        target = batch.y[:num_filtered_targets] # Use only the filtered target features\n",
        "\n",
        "        # Debugging prints for shapes\n",
        "        print(f\"Shape of input (batch.x): {batch.x.shape}\")\n",
        "        print(f\"Shape of prediction (y_pred): {y_pred.shape}\")\n",
        "        print(f\"Shape of target (batch.y): {batch.y.shape}\")\n",
        "\n",
        "\n",
        "        # Compute loss using the filtered targets\n",
        "        loss = MSE(denormalize_output(y_pred, y_val_mean[:num_filtered_targets], y_val_std[:num_filtered_targets]),\n",
        "                   denormalize_output(target, y_val_mean[:num_filtered_targets], y_val_std[:num_filtered_targets]))\n",
        "\n",
        "\n",
        "        # Backpropagation\n",
        "        loss.backward()\n",
        "        optimizer.step()\n",
        "\n",
        "    # Print the loss for each epoch\n",
        "    print(f\"Epoch {epoch + 1}, Loss: {loss.item():.6f}\")\n",
        "\"\"\""
      ],
      "metadata": {
        "colab": {
          "base_uri": "https://localhost:8080/",
          "height": 0
        },
        "id": "2NNzVG1YN2Bb",
        "outputId": "57c35fcc-0cac-4cb2-f8a4-3b24a4553936"
      },
      "execution_count": 210,
      "outputs": [
        {
          "output_type": "error",
          "ename": "RuntimeError",
          "evalue": "mat1 and mat2 shapes cannot be multiplied (18x4 and 18x8)",
          "traceback": [
            "\u001b[0;31m---------------------------------------------------------------------------\u001b[0m",
            "\u001b[0;31mRuntimeError\u001b[0m                              Traceback (most recent call last)",
            "\u001b[0;32m<ipython-input-210-aa452a8c8e0a>\u001b[0m in \u001b[0;36m<cell line: 4>\u001b[0;34m()\u001b[0m\n\u001b[1;32m      8\u001b[0m \u001b[0;34m\u001b[0m\u001b[0m\n\u001b[1;32m      9\u001b[0m         \u001b[0;31m# Forward pass\u001b[0m\u001b[0;34m\u001b[0m\u001b[0;34m\u001b[0m\u001b[0m\n\u001b[0;32m---> 10\u001b[0;31m         \u001b[0my_pred\u001b[0m \u001b[0;34m=\u001b[0m \u001b[0mmodel\u001b[0m\u001b[0;34m(\u001b[0m\u001b[0mbatch\u001b[0m\u001b[0;34m)\u001b[0m\u001b[0;34m\u001b[0m\u001b[0;34m\u001b[0m\u001b[0m\n\u001b[0m\u001b[1;32m     11\u001b[0m \u001b[0;34m\u001b[0m\u001b[0m\n\u001b[1;32m     12\u001b[0m         \u001b[0;31m# Flatten the prediction and match the filtered target size\u001b[0m\u001b[0;34m\u001b[0m\u001b[0;34m\u001b[0m\u001b[0m\n",
            "\u001b[0;32m/usr/local/lib/python3.10/dist-packages/torch/nn/modules/module.py\u001b[0m in \u001b[0;36m_wrapped_call_impl\u001b[0;34m(self, *args, **kwargs)\u001b[0m\n\u001b[1;32m   1734\u001b[0m             \u001b[0;32mreturn\u001b[0m \u001b[0mself\u001b[0m\u001b[0;34m.\u001b[0m\u001b[0m_compiled_call_impl\u001b[0m\u001b[0;34m(\u001b[0m\u001b[0;34m*\u001b[0m\u001b[0margs\u001b[0m\u001b[0;34m,\u001b[0m \u001b[0;34m**\u001b[0m\u001b[0mkwargs\u001b[0m\u001b[0;34m)\u001b[0m  \u001b[0;31m# type: ignore[misc]\u001b[0m\u001b[0;34m\u001b[0m\u001b[0;34m\u001b[0m\u001b[0m\n\u001b[1;32m   1735\u001b[0m         \u001b[0;32melse\u001b[0m\u001b[0;34m:\u001b[0m\u001b[0;34m\u001b[0m\u001b[0;34m\u001b[0m\u001b[0m\n\u001b[0;32m-> 1736\u001b[0;31m             \u001b[0;32mreturn\u001b[0m \u001b[0mself\u001b[0m\u001b[0;34m.\u001b[0m\u001b[0m_call_impl\u001b[0m\u001b[0;34m(\u001b[0m\u001b[0;34m*\u001b[0m\u001b[0margs\u001b[0m\u001b[0;34m,\u001b[0m \u001b[0;34m**\u001b[0m\u001b[0mkwargs\u001b[0m\u001b[0;34m)\u001b[0m\u001b[0;34m\u001b[0m\u001b[0;34m\u001b[0m\u001b[0m\n\u001b[0m\u001b[1;32m   1737\u001b[0m \u001b[0;34m\u001b[0m\u001b[0m\n\u001b[1;32m   1738\u001b[0m     \u001b[0;31m# torchrec tests the code consistency with the following code\u001b[0m\u001b[0;34m\u001b[0m\u001b[0;34m\u001b[0m\u001b[0m\n",
            "\u001b[0;32m/usr/local/lib/python3.10/dist-packages/torch/nn/modules/module.py\u001b[0m in \u001b[0;36m_call_impl\u001b[0;34m(self, *args, **kwargs)\u001b[0m\n\u001b[1;32m   1745\u001b[0m                 \u001b[0;32mor\u001b[0m \u001b[0m_global_backward_pre_hooks\u001b[0m \u001b[0;32mor\u001b[0m \u001b[0m_global_backward_hooks\u001b[0m\u001b[0;34m\u001b[0m\u001b[0;34m\u001b[0m\u001b[0m\n\u001b[1;32m   1746\u001b[0m                 or _global_forward_hooks or _global_forward_pre_hooks):\n\u001b[0;32m-> 1747\u001b[0;31m             \u001b[0;32mreturn\u001b[0m \u001b[0mforward_call\u001b[0m\u001b[0;34m(\u001b[0m\u001b[0;34m*\u001b[0m\u001b[0margs\u001b[0m\u001b[0;34m,\u001b[0m \u001b[0;34m**\u001b[0m\u001b[0mkwargs\u001b[0m\u001b[0;34m)\u001b[0m\u001b[0;34m\u001b[0m\u001b[0;34m\u001b[0m\u001b[0m\n\u001b[0m\u001b[1;32m   1748\u001b[0m \u001b[0;34m\u001b[0m\u001b[0m\n\u001b[1;32m   1749\u001b[0m         \u001b[0mresult\u001b[0m \u001b[0;34m=\u001b[0m \u001b[0;32mNone\u001b[0m\u001b[0;34m\u001b[0m\u001b[0;34m\u001b[0m\u001b[0m\n",
            "\u001b[0;32m<ipython-input-207-278b28dbb96a>\u001b[0m in \u001b[0;36mforward\u001b[0;34m(self, data)\u001b[0m\n\u001b[1;32m     17\u001b[0m     \u001b[0;32mdef\u001b[0m \u001b[0mforward\u001b[0m\u001b[0;34m(\u001b[0m\u001b[0mself\u001b[0m\u001b[0;34m,\u001b[0m \u001b[0mdata\u001b[0m\u001b[0;34m)\u001b[0m\u001b[0;34m:\u001b[0m\u001b[0;34m\u001b[0m\u001b[0;34m\u001b[0m\u001b[0m\n\u001b[1;32m     18\u001b[0m         \u001b[0mx\u001b[0m\u001b[0;34m,\u001b[0m \u001b[0medge_index\u001b[0m \u001b[0;34m=\u001b[0m \u001b[0mdata\u001b[0m\u001b[0;34m.\u001b[0m\u001b[0mx\u001b[0m\u001b[0;34m,\u001b[0m \u001b[0mdata\u001b[0m\u001b[0;34m.\u001b[0m\u001b[0medge_index\u001b[0m\u001b[0;34m\u001b[0m\u001b[0;34m\u001b[0m\u001b[0m\n\u001b[0;32m---> 19\u001b[0;31m         \u001b[0mx\u001b[0m \u001b[0;34m=\u001b[0m \u001b[0mF\u001b[0m\u001b[0;34m.\u001b[0m\u001b[0mrelu\u001b[0m\u001b[0;34m(\u001b[0m\u001b[0mself\u001b[0m\u001b[0;34m.\u001b[0m\u001b[0mconv1\u001b[0m\u001b[0;34m(\u001b[0m\u001b[0mx\u001b[0m\u001b[0;34m,\u001b[0m \u001b[0medge_index\u001b[0m\u001b[0;34m)\u001b[0m\u001b[0;34m)\u001b[0m\u001b[0;34m\u001b[0m\u001b[0;34m\u001b[0m\u001b[0m\n\u001b[0m\u001b[1;32m     20\u001b[0m         \u001b[0mx\u001b[0m \u001b[0;34m=\u001b[0m \u001b[0mF\u001b[0m\u001b[0;34m.\u001b[0m\u001b[0mrelu\u001b[0m\u001b[0;34m(\u001b[0m\u001b[0mself\u001b[0m\u001b[0;34m.\u001b[0m\u001b[0mconv2\u001b[0m\u001b[0;34m(\u001b[0m\u001b[0mx\u001b[0m\u001b[0;34m,\u001b[0m \u001b[0medge_index\u001b[0m\u001b[0;34m)\u001b[0m\u001b[0;34m)\u001b[0m\u001b[0;34m\u001b[0m\u001b[0;34m\u001b[0m\u001b[0m\n\u001b[1;32m     21\u001b[0m         \u001b[0mx\u001b[0m \u001b[0;34m=\u001b[0m \u001b[0mx\u001b[0m\u001b[0;34m.\u001b[0m\u001b[0mview\u001b[0m\u001b[0;34m(\u001b[0m\u001b[0;34m-\u001b[0m\u001b[0;36m1\u001b[0m\u001b[0;34m)\u001b[0m\u001b[0;34m\u001b[0m\u001b[0;34m\u001b[0m\u001b[0m\n",
            "\u001b[0;32m/usr/local/lib/python3.10/dist-packages/torch/nn/modules/module.py\u001b[0m in \u001b[0;36m_wrapped_call_impl\u001b[0;34m(self, *args, **kwargs)\u001b[0m\n\u001b[1;32m   1734\u001b[0m             \u001b[0;32mreturn\u001b[0m \u001b[0mself\u001b[0m\u001b[0;34m.\u001b[0m\u001b[0m_compiled_call_impl\u001b[0m\u001b[0;34m(\u001b[0m\u001b[0;34m*\u001b[0m\u001b[0margs\u001b[0m\u001b[0;34m,\u001b[0m \u001b[0;34m**\u001b[0m\u001b[0mkwargs\u001b[0m\u001b[0;34m)\u001b[0m  \u001b[0;31m# type: ignore[misc]\u001b[0m\u001b[0;34m\u001b[0m\u001b[0;34m\u001b[0m\u001b[0m\n\u001b[1;32m   1735\u001b[0m         \u001b[0;32melse\u001b[0m\u001b[0;34m:\u001b[0m\u001b[0;34m\u001b[0m\u001b[0;34m\u001b[0m\u001b[0m\n\u001b[0;32m-> 1736\u001b[0;31m             \u001b[0;32mreturn\u001b[0m \u001b[0mself\u001b[0m\u001b[0;34m.\u001b[0m\u001b[0m_call_impl\u001b[0m\u001b[0;34m(\u001b[0m\u001b[0;34m*\u001b[0m\u001b[0margs\u001b[0m\u001b[0;34m,\u001b[0m \u001b[0;34m**\u001b[0m\u001b[0mkwargs\u001b[0m\u001b[0;34m)\u001b[0m\u001b[0;34m\u001b[0m\u001b[0;34m\u001b[0m\u001b[0m\n\u001b[0m\u001b[1;32m   1737\u001b[0m \u001b[0;34m\u001b[0m\u001b[0m\n\u001b[1;32m   1738\u001b[0m     \u001b[0;31m# torchrec tests the code consistency with the following code\u001b[0m\u001b[0;34m\u001b[0m\u001b[0;34m\u001b[0m\u001b[0m\n",
            "\u001b[0;32m/usr/local/lib/python3.10/dist-packages/torch/nn/modules/module.py\u001b[0m in \u001b[0;36m_call_impl\u001b[0;34m(self, *args, **kwargs)\u001b[0m\n\u001b[1;32m   1745\u001b[0m                 \u001b[0;32mor\u001b[0m \u001b[0m_global_backward_pre_hooks\u001b[0m \u001b[0;32mor\u001b[0m \u001b[0m_global_backward_hooks\u001b[0m\u001b[0;34m\u001b[0m\u001b[0;34m\u001b[0m\u001b[0m\n\u001b[1;32m   1746\u001b[0m                 or _global_forward_hooks or _global_forward_pre_hooks):\n\u001b[0;32m-> 1747\u001b[0;31m             \u001b[0;32mreturn\u001b[0m \u001b[0mforward_call\u001b[0m\u001b[0;34m(\u001b[0m\u001b[0;34m*\u001b[0m\u001b[0margs\u001b[0m\u001b[0;34m,\u001b[0m \u001b[0;34m**\u001b[0m\u001b[0mkwargs\u001b[0m\u001b[0;34m)\u001b[0m\u001b[0;34m\u001b[0m\u001b[0;34m\u001b[0m\u001b[0m\n\u001b[0m\u001b[1;32m   1748\u001b[0m \u001b[0;34m\u001b[0m\u001b[0m\n\u001b[1;32m   1749\u001b[0m         \u001b[0mresult\u001b[0m \u001b[0;34m=\u001b[0m \u001b[0;32mNone\u001b[0m\u001b[0;34m\u001b[0m\u001b[0;34m\u001b[0m\u001b[0m\n",
            "\u001b[0;32m/usr/local/lib/python3.10/dist-packages/torch_geometric/nn/conv/gcn_conv.py\u001b[0m in \u001b[0;36mforward\u001b[0;34m(self, x, edge_index, edge_weight)\u001b[0m\n\u001b[1;32m    258\u001b[0m                     \u001b[0medge_index\u001b[0m \u001b[0;34m=\u001b[0m \u001b[0mcache\u001b[0m\u001b[0;34m\u001b[0m\u001b[0;34m\u001b[0m\u001b[0m\n\u001b[1;32m    259\u001b[0m \u001b[0;34m\u001b[0m\u001b[0m\n\u001b[0;32m--> 260\u001b[0;31m         \u001b[0mx\u001b[0m \u001b[0;34m=\u001b[0m \u001b[0mself\u001b[0m\u001b[0;34m.\u001b[0m\u001b[0mlin\u001b[0m\u001b[0;34m(\u001b[0m\u001b[0mx\u001b[0m\u001b[0;34m)\u001b[0m\u001b[0;34m\u001b[0m\u001b[0;34m\u001b[0m\u001b[0m\n\u001b[0m\u001b[1;32m    261\u001b[0m \u001b[0;34m\u001b[0m\u001b[0m\n\u001b[1;32m    262\u001b[0m         \u001b[0;31m# propagate_type: (x: Tensor, edge_weight: OptTensor)\u001b[0m\u001b[0;34m\u001b[0m\u001b[0;34m\u001b[0m\u001b[0m\n",
            "\u001b[0;32m/usr/local/lib/python3.10/dist-packages/torch/nn/modules/module.py\u001b[0m in \u001b[0;36m_wrapped_call_impl\u001b[0;34m(self, *args, **kwargs)\u001b[0m\n\u001b[1;32m   1734\u001b[0m             \u001b[0;32mreturn\u001b[0m \u001b[0mself\u001b[0m\u001b[0;34m.\u001b[0m\u001b[0m_compiled_call_impl\u001b[0m\u001b[0;34m(\u001b[0m\u001b[0;34m*\u001b[0m\u001b[0margs\u001b[0m\u001b[0;34m,\u001b[0m \u001b[0;34m**\u001b[0m\u001b[0mkwargs\u001b[0m\u001b[0;34m)\u001b[0m  \u001b[0;31m# type: ignore[misc]\u001b[0m\u001b[0;34m\u001b[0m\u001b[0;34m\u001b[0m\u001b[0m\n\u001b[1;32m   1735\u001b[0m         \u001b[0;32melse\u001b[0m\u001b[0;34m:\u001b[0m\u001b[0;34m\u001b[0m\u001b[0;34m\u001b[0m\u001b[0m\n\u001b[0;32m-> 1736\u001b[0;31m             \u001b[0;32mreturn\u001b[0m \u001b[0mself\u001b[0m\u001b[0;34m.\u001b[0m\u001b[0m_call_impl\u001b[0m\u001b[0;34m(\u001b[0m\u001b[0;34m*\u001b[0m\u001b[0margs\u001b[0m\u001b[0;34m,\u001b[0m \u001b[0;34m**\u001b[0m\u001b[0mkwargs\u001b[0m\u001b[0;34m)\u001b[0m\u001b[0;34m\u001b[0m\u001b[0;34m\u001b[0m\u001b[0m\n\u001b[0m\u001b[1;32m   1737\u001b[0m \u001b[0;34m\u001b[0m\u001b[0m\n\u001b[1;32m   1738\u001b[0m     \u001b[0;31m# torchrec tests the code consistency with the following code\u001b[0m\u001b[0;34m\u001b[0m\u001b[0;34m\u001b[0m\u001b[0m\n",
            "\u001b[0;32m/usr/local/lib/python3.10/dist-packages/torch/nn/modules/module.py\u001b[0m in \u001b[0;36m_call_impl\u001b[0;34m(self, *args, **kwargs)\u001b[0m\n\u001b[1;32m   1745\u001b[0m                 \u001b[0;32mor\u001b[0m \u001b[0m_global_backward_pre_hooks\u001b[0m \u001b[0;32mor\u001b[0m \u001b[0m_global_backward_hooks\u001b[0m\u001b[0;34m\u001b[0m\u001b[0;34m\u001b[0m\u001b[0m\n\u001b[1;32m   1746\u001b[0m                 or _global_forward_hooks or _global_forward_pre_hooks):\n\u001b[0;32m-> 1747\u001b[0;31m             \u001b[0;32mreturn\u001b[0m \u001b[0mforward_call\u001b[0m\u001b[0;34m(\u001b[0m\u001b[0;34m*\u001b[0m\u001b[0margs\u001b[0m\u001b[0;34m,\u001b[0m \u001b[0;34m**\u001b[0m\u001b[0mkwargs\u001b[0m\u001b[0;34m)\u001b[0m\u001b[0;34m\u001b[0m\u001b[0;34m\u001b[0m\u001b[0m\n\u001b[0m\u001b[1;32m   1748\u001b[0m \u001b[0;34m\u001b[0m\u001b[0m\n\u001b[1;32m   1749\u001b[0m         \u001b[0mresult\u001b[0m \u001b[0;34m=\u001b[0m \u001b[0;32mNone\u001b[0m\u001b[0;34m\u001b[0m\u001b[0;34m\u001b[0m\u001b[0m\n",
            "\u001b[0;32m/usr/local/lib/python3.10/dist-packages/torch_geometric/nn/dense/linear.py\u001b[0m in \u001b[0;36mforward\u001b[0;34m(self, x)\u001b[0m\n\u001b[1;32m    145\u001b[0m             \u001b[0mx\u001b[0m \u001b[0;34m(\u001b[0m\u001b[0mtorch\u001b[0m\u001b[0;34m.\u001b[0m\u001b[0mTensor\u001b[0m\u001b[0;34m)\u001b[0m\u001b[0;34m:\u001b[0m \u001b[0mThe\u001b[0m \u001b[0minput\u001b[0m \u001b[0mfeatures\u001b[0m\u001b[0;34m.\u001b[0m\u001b[0;34m\u001b[0m\u001b[0;34m\u001b[0m\u001b[0m\n\u001b[1;32m    146\u001b[0m         \"\"\"\n\u001b[0;32m--> 147\u001b[0;31m         \u001b[0;32mreturn\u001b[0m \u001b[0mF\u001b[0m\u001b[0;34m.\u001b[0m\u001b[0mlinear\u001b[0m\u001b[0;34m(\u001b[0m\u001b[0mx\u001b[0m\u001b[0;34m,\u001b[0m \u001b[0mself\u001b[0m\u001b[0;34m.\u001b[0m\u001b[0mweight\u001b[0m\u001b[0;34m,\u001b[0m \u001b[0mself\u001b[0m\u001b[0;34m.\u001b[0m\u001b[0mbias\u001b[0m\u001b[0;34m)\u001b[0m\u001b[0;34m\u001b[0m\u001b[0;34m\u001b[0m\u001b[0m\n\u001b[0m\u001b[1;32m    148\u001b[0m \u001b[0;34m\u001b[0m\u001b[0m\n\u001b[1;32m    149\u001b[0m     \u001b[0;34m@\u001b[0m\u001b[0mtorch\u001b[0m\u001b[0;34m.\u001b[0m\u001b[0mno_grad\u001b[0m\u001b[0;34m(\u001b[0m\u001b[0;34m)\u001b[0m\u001b[0;34m\u001b[0m\u001b[0;34m\u001b[0m\u001b[0m\n",
            "\u001b[0;31mRuntimeError\u001b[0m: mat1 and mat2 shapes cannot be multiplied (18x4 and 18x8)"
          ]
        }
      ]
    },
    {
      "cell_type": "code",
      "source": [
        "print(f\"Shape of y_pred: {y_pred.shape}\")\n",
        "print(f\"Shape of y_pred_filtered: {y_pred_filtered.shape}\")\n",
        "print(f\"Shape of target_filtered: {target_filtered.shape}\")\n"
      ],
      "metadata": {
        "colab": {
          "base_uri": "https://localhost:8080/",
          "height": 0
        },
        "id": "QFdqP9ZJSp6Y",
        "outputId": "be142000-2586-4cd4-c465-5486df8a325f"
      },
      "execution_count": 202,
      "outputs": [
        {
          "output_type": "error",
          "ename": "NameError",
          "evalue": "name 'y_pred_filtered' is not defined",
          "traceback": [
            "\u001b[0;31m---------------------------------------------------------------------------\u001b[0m",
            "\u001b[0;31mNameError\u001b[0m                                 Traceback (most recent call last)",
            "\u001b[0;32m<ipython-input-202-9e63b2ee23cb>\u001b[0m in \u001b[0;36m<cell line: 2>\u001b[0;34m()\u001b[0m\n\u001b[1;32m      1\u001b[0m \u001b[0mprint\u001b[0m\u001b[0;34m(\u001b[0m\u001b[0;34mf\"Shape of y_pred: {y_pred.shape}\"\u001b[0m\u001b[0;34m)\u001b[0m\u001b[0;34m\u001b[0m\u001b[0;34m\u001b[0m\u001b[0m\n\u001b[0;32m----> 2\u001b[0;31m \u001b[0mprint\u001b[0m\u001b[0;34m(\u001b[0m\u001b[0;34mf\"Shape of y_pred_filtered: {y_pred_filtered.shape}\"\u001b[0m\u001b[0;34m)\u001b[0m\u001b[0;34m\u001b[0m\u001b[0;34m\u001b[0m\u001b[0m\n\u001b[0m\u001b[1;32m      3\u001b[0m \u001b[0mprint\u001b[0m\u001b[0;34m(\u001b[0m\u001b[0;34mf\"Shape of target_filtered: {target_filtered.shape}\"\u001b[0m\u001b[0;34m)\u001b[0m\u001b[0;34m\u001b[0m\u001b[0;34m\u001b[0m\u001b[0m\n",
            "\u001b[0;31mNameError\u001b[0m: name 'y_pred_filtered' is not defined"
          ]
        }
      ]
    },
    {
      "cell_type": "code",
      "source": [
        "if torch.isnan(y_pred_filtered).any() or torch.isnan(target_filtered).any():\n",
        "    print(\"NaNs detected in predictions or targets!\")\n",
        "    break\n"
      ],
      "metadata": {
        "colab": {
          "base_uri": "https://localhost:8080/",
          "height": 0
        },
        "id": "g98p8RIRZ41b",
        "outputId": "ae31570d-ff9d-4fda-e0d4-c64970840f77"
      },
      "execution_count": 201,
      "outputs": [
        {
          "output_type": "error",
          "ename": "SyntaxError",
          "evalue": "'break' outside loop (<ipython-input-201-175092088542>, line 3)",
          "traceback": [
            "\u001b[0;36m  File \u001b[0;32m\"<ipython-input-201-175092088542>\"\u001b[0;36m, line \u001b[0;32m3\u001b[0m\n\u001b[0;31m    break\u001b[0m\n\u001b[0m    ^\u001b[0m\n\u001b[0;31mSyntaxError\u001b[0m\u001b[0;31m:\u001b[0m 'break' outside loop\n"
          ]
        }
      ]
    },
    {
      "cell_type": "code",
      "source": [
        "print(f\"Shape after conv1: {x.shape}\")\n",
        "print(f\"Shape after conv2: {x.shape}\")\n",
        "print(f\"Shape before Linear layer: {x.shape}\")\n"
      ],
      "metadata": {
        "colab": {
          "base_uri": "https://localhost:8080/",
          "height": 0
        },
        "id": "F120MKswWMeo",
        "outputId": "8ec2836f-d5c1-49cb-fc3b-6903b4e57a61"
      },
      "execution_count": 198,
      "outputs": [
        {
          "output_type": "error",
          "ename": "NameError",
          "evalue": "name 'x' is not defined",
          "traceback": [
            "\u001b[0;31m---------------------------------------------------------------------------\u001b[0m",
            "\u001b[0;31mNameError\u001b[0m                                 Traceback (most recent call last)",
            "\u001b[0;32m<ipython-input-198-9cf19e096ece>\u001b[0m in \u001b[0;36m<cell line: 1>\u001b[0;34m()\u001b[0m\n\u001b[0;32m----> 1\u001b[0;31m \u001b[0mprint\u001b[0m\u001b[0;34m(\u001b[0m\u001b[0;34mf\"Shape after conv1: {x.shape}\"\u001b[0m\u001b[0;34m)\u001b[0m\u001b[0;34m\u001b[0m\u001b[0;34m\u001b[0m\u001b[0m\n\u001b[0m\u001b[1;32m      2\u001b[0m \u001b[0mprint\u001b[0m\u001b[0;34m(\u001b[0m\u001b[0;34mf\"Shape after conv2: {x.shape}\"\u001b[0m\u001b[0;34m)\u001b[0m\u001b[0;34m\u001b[0m\u001b[0;34m\u001b[0m\u001b[0m\n\u001b[1;32m      3\u001b[0m \u001b[0mprint\u001b[0m\u001b[0;34m(\u001b[0m\u001b[0;34mf\"Shape before Linear layer: {x.shape}\"\u001b[0m\u001b[0;34m)\u001b[0m\u001b[0;34m\u001b[0m\u001b[0;34m\u001b[0m\u001b[0m\n",
            "\u001b[0;31mNameError\u001b[0m: name 'x' is not defined"
          ]
        }
      ]
    },
    {
      "cell_type": "markdown",
      "source": [
        "# **Topologies to Test:**\n",
        "The following topologies will be tested to compare the effectiveness of different GNN architecture.\n",
        "\n",
        "Each topology offers different strengths, such as handling local versus long-range relationships, incorporating attention mechanisms, and scaling to larger grid sizes.\n",
        "\n",
        "1. **Graph Convolutional Networks (GCN):**\n",
        "\n",
        " GCN is a basic form of GNN where each node aggregates features from its immediate neighbors. It’s simplicity makes it a good first model. It is widely used for node classification and regression tasks. GCN will serves as a baseline model that can handle local relationships effectively but may struggle with long-range dependencies.\n",
        "\n",
        "2. **Graph Attention Networks (GAT):**\n",
        "'GATConv'\n",
        "\n",
        "GAT assigns different attention weights to each neighboring node during aggregation and help the network focus on the most important nodes. It allows dynamic weighting of neighbors, which is useful when certain nodes (like generator buses) have more influence\n",
        "in OPF.\n",
        "\n",
        "3. **Chebyshev Networks (ChebNet):**\n",
        "'ChebConv'\n",
        "\n",
        "ChebNet approximates graph convolutions using Chebyshev polynomials and can capture information from nodes multiple hops away without needing many layers. ChebNet can effectively model multi-hop relationships while reducing the need for deep GCNs, which is important for capturing system-wide behavior in the grid.\n",
        "\n",
        "4. **GraphSAGE (SAmple and aggreGatE):**\n",
        "'SAGEConv'\n",
        "\n",
        "GraphSAGE is designed for inductive learning and allows us to sample a fixed-size neighborhood of nodes which will make it scalable to large graphs.\n",
        "GraphSAGE could be useful for OPF tasks in large power grids, as it can efficiently scale to larger\n",
        "networks.\n",
        "\n",
        "5. **GraphConv (GraphConv):**\n",
        "\n",
        "GraphConv is designed to enhance feature learning by incorporating self-loops (each node aggregates its own feature along with its neighbors).\n",
        "It performs a weighted sum of neighbor features, including the node’s own feature. This helps in capturing more node-specific information.\n",
        "It is useful when self-loops or enhanced node feature aggregation can improve model performance. It might perform better on grids where local node information (like generator buses) is crucial.\n",
        "\n",
        "6. **Multi-Head Graph Attention Networks (MH-GAT):**\n",
        "\n",
        "Multi-head attention computes multiple\n",
        "attention distributions in parallel, capturing various aspects of node relationships. This topology\n",
        "could be valuable for learning different aspects of node and edge interactions, especially when OPF\n",
        "solutions are influenced by both local and distant nodes"
      ],
      "metadata": {
        "id": "edjbvxFqU8dK"
      }
    },
    {
      "cell_type": "markdown",
      "source": [
        "# **Experiment Order:** (and an Idea for the comparison paper?)"
      ],
      "metadata": {
        "id": "BTFYOHpKWwj3"
      }
    },
    {
      "cell_type": "markdown",
      "source": [
        "**Baseline:** GCN (to set a benchmark).\n",
        "\n",
        "**Attention-Based:** GATConv (to see if attention helps in OPF tasks).\n",
        "\n",
        "**Multi-Hop Relationship:** ChebConv (to model long-range dependencies).\n",
        "\n",
        "**Scalability Test:** SAGEConv (to see how well it scales to larger bus systems).\n",
        "\n",
        "**Enhanced Node Feature Learning:** GraphConv (to check if self-loops improve performance)."
      ],
      "metadata": {
        "id": "Dp6u3VjWWLxq"
      }
    },
    {
      "cell_type": "code",
      "source": [
        "class My_GNN_GNN_NN(nn.Module):\n",
        "    def __init__(self, node_size, feat_in, feat_size1, feat_size2, hidden_size1, output_size, gnn_type='GATConv', dropout=0.3, use_batch_norm=False):\n",
        "        super(My_GNN_GNN_NN, self).__init__()\n",
        "\n",
        "        self.use_batch_norm = use_batch_norm\n",
        "\n",
        "        # GNN Layer Selection\n",
        "        if gnn_type == 'GCN':\n",
        "            self.conv1 = GCNConv(feat_in, feat_size1)\n",
        "            self.conv2 = GCNConv(feat_size1, feat_size2)\n",
        "        elif gnn_type == 'GraphConv':\n",
        "            self.conv1 = GraphConv(feat_in, feat_size1)\n",
        "            self.conv2 = GraphConv(feat_size1, feat_size2)\n",
        "        elif gnn_type == 'SAGEConv':\n",
        "            self.conv1 = SAGEConv(feat_in, feat_size1)\n",
        "            self.conv2 = SAGEConv(feat_size1, feat_size2)\n",
        "        elif gnn_type == 'GATConv':\n",
        "            self.conv1 = GATConv(feat_in, feat_size1)\n",
        "            self.conv2 = GATConv(feat_size1, feat_size2)\n",
        "        elif gnn_type == 'ChebConv':\n",
        "            self.conv1 = ChebConv(feat_in, feat_size1, K=2)\n",
        "            self.conv2 = ChebConv(feat_size1, feat_size2, K=2)\n",
        "        else:\n",
        "            raise ValueError(\"Invalid GNN type. Choose from 'GCN', 'GraphConv', 'SAGEConv', 'GATConv', 'ChebConv'.\")\n",
        "\n",
        "        # Batch Normalization Layers (Optional)\n",
        "        if use_batch_norm:\n",
        "            self.bn1 = nn.BatchNorm1d(feat_size1)\n",
        "            self.bn2 = nn.BatchNorm1d(feat_size2)\n",
        "\n",
        "        # Fully Connected Layers\n",
        "        self.lin1 = Linear(node_size * feat_size2, hidden_size1)\n",
        "        self.lin2 = Linear(hidden_size1, output_size)\n",
        "\n",
        "        # Dropout Layer\n",
        "        self.dropout = nn.Dropout(dropout)\n",
        "\n",
        "    def forward(self, data):\n",
        "        x, edge_index = data.x, data.edge_index\n",
        "\n",
        "        # GNN Layer 1\n",
        "        x = self.conv1(x, edge_index)\n",
        "        if self.use_batch_norm:\n",
        "            x = self.bn1(x)\n",
        "        x = F.relu(x)\n",
        "        x = self.dropout(x)\n",
        "\n",
        "        # GNN Layer 2\n",
        "        x = self.conv2(x, edge_index)\n",
        "        if self.use_batch_norm:\n",
        "            x = self.bn2(x)\n",
        "        x = F.relu(x)\n",
        "        x = self.dropout(x)\n",
        "\n",
        "        # Flatten the node features for fully connected layers\n",
        "        x = x.flatten(start_dim=0)\n",
        "\n",
        "        # Fully Connected Layers\n",
        "        x = F.relu(self.lin1(x))\n",
        "        x = self.lin2(x)\n",
        "\n",
        "        return x\n",
        "\n",
        "    def save_weights(self, filename):\n",
        "        torch.save(self.state_dict(), filename)\n",
        "\n",
        "    def load_weights(self, filename):\n",
        "        self.load_state_dict(torch.load(filename))\n",
        "        self.eval()\n"
      ],
      "metadata": {
        "id": "Q6CBvBJIjDjX"
      },
      "execution_count": 82,
      "outputs": []
    },
    {
      "cell_type": "markdown",
      "source": [
        "# **Model Initialization**"
      ],
      "metadata": {
        "id": "lM4NMS22ggeT"
      }
    },
    {
      "cell_type": "code",
      "source": [
        "# Define hyperparameters\n",
        "feat_in = 7  # Number of input features per node (P, Q, V, delta, bus type, etc.)\n",
        "feat_size1 = 16  # Size of the first GNN layer\n",
        "feat_size2 = 8   # Size of the second GNN layer\n",
        "hidden_size1 = 64  # Size of the first fully connected layer\n",
        "output_size = n_bus * 2  # Output size (P and Q for each bus)\n",
        "gnn_type = 'GATConv'  # Choose from 'GCN', 'GraphConv', 'SAGEConv', 'GATConv', 'ChebConv'\n",
        "dropout = 0.3  # Dropout rate for regularization\n",
        "use_batch_norm = True  # Use Batch Normalization\n",
        "\n",
        "# Initialize the model with specified hyperparameters\n",
        "model = My_GNN_GNN_NN(\n",
        "    node_size=n_bus,\n",
        "    feat_in=feat_in,\n",
        "    feat_size1=feat_size1,\n",
        "    feat_size2=feat_size2,\n",
        "    hidden_size1=hidden_size1,\n",
        "    output_size=output_size,\n",
        "    gnn_type=gnn_type,\n",
        "    dropout=dropout,\n",
        "    use_batch_norm=use_batch_norm\n",
        ")\n",
        "\n",
        "# Print model details for verification\n",
        "print(\"Initialized Model:\")\n",
        "print(model)\n",
        "\n",
        "# Define the optimizer and learning rate scheduler\n",
        "learning_rate = 0.001 #0.0001 for 30 bus 0.001 for 57 bus\n",
        "lambda_l2 = 1e-3  # L2 regularization strength\n",
        "\n",
        "optimizer = torch.optim.Adam(model.parameters(), lr=learning_rate, weight_decay=lambda_l2)\n",
        "scheduler = torch.optim.lr_scheduler.ReduceLROnPlateau(\n",
        "    optimizer, mode='min', factor=0.5, patience=40, verbose=True\n",
        ")\n",
        "\n",
        "# Print model parameter details for debugging\n",
        "print(\"\\nModel Parameters:\")\n",
        "for name, param in model.named_parameters():\n",
        "    if param.requires_grad:\n",
        "        print(f\"{name}: {param.size()}\")\n",
        "\n",
        "# Calculate the total number of trainable parameters\n",
        "total_params = sum(p.numel() for p in model.parameters() if p.requires_grad)\n",
        "print(f\"\\nTotal number of trainable parameters: {total_params:,}\")\n",
        "\n",
        "# Example usage of the scheduler during training:\n",
        "# scheduler.step(loss)  # Call this after each epoch if using ReduceLROnPlateau\n"
      ],
      "metadata": {
        "colab": {
          "base_uri": "https://localhost:8080/"
        },
        "id": "cFdksTBy3xJk",
        "outputId": "0e47ef92-502f-4c21-a572-494d5714b7ab"
      },
      "execution_count": 84,
      "outputs": [
        {
          "output_type": "stream",
          "name": "stdout",
          "text": [
            "Initialized Model:\n",
            "My_GNN_GNN_NN(\n",
            "  (conv1): GATConv(7, 16, heads=1)\n",
            "  (conv2): GATConv(16, 8, heads=1)\n",
            "  (bn1): BatchNorm1d(16, eps=1e-05, momentum=0.1, affine=True, track_running_stats=True)\n",
            "  (bn2): BatchNorm1d(8, eps=1e-05, momentum=0.1, affine=True, track_running_stats=True)\n",
            "  (lin1): Linear(in_features=240, out_features=64, bias=True)\n",
            "  (lin2): Linear(in_features=64, out_features=60, bias=True)\n",
            "  (dropout): Dropout(p=0.3, inplace=False)\n",
            ")\n",
            "\n",
            "Model Parameters:\n",
            "conv1.att_src: torch.Size([1, 1, 16])\n",
            "conv1.att_dst: torch.Size([1, 1, 16])\n",
            "conv1.bias: torch.Size([16])\n",
            "conv1.lin.weight: torch.Size([16, 7])\n",
            "conv2.att_src: torch.Size([1, 1, 8])\n",
            "conv2.att_dst: torch.Size([1, 1, 8])\n",
            "conv2.bias: torch.Size([8])\n",
            "conv2.lin.weight: torch.Size([8, 16])\n",
            "bn1.weight: torch.Size([16])\n",
            "bn1.bias: torch.Size([16])\n",
            "bn2.weight: torch.Size([8])\n",
            "bn2.bias: torch.Size([8])\n",
            "lin1.weight: torch.Size([64, 240])\n",
            "lin1.bias: torch.Size([64])\n",
            "lin2.weight: torch.Size([60, 64])\n",
            "lin2.bias: torch.Size([60])\n",
            "\n",
            "Total number of trainable parameters: 19,684\n"
          ]
        },
        {
          "output_type": "stream",
          "name": "stderr",
          "text": [
            "/usr/local/lib/python3.10/dist-packages/torch/optim/lr_scheduler.py:62: UserWarning: The verbose parameter is deprecated. Please use get_last_lr() to access the learning rate.\n",
            "  warnings.warn(\n"
          ]
        }
      ]
    },
    {
      "cell_type": "markdown",
      "source": [
        "# **Enhanced Training Loop**"
      ],
      "metadata": {
        "id": "9IniYKPphG0I"
      }
    },
    {
      "cell_type": "code",
      "source": [
        "# Initialize lists to store loss values\n",
        "train_loss_list, val_loss_list = [], []\n",
        "\n",
        "# Early stopping parameters\n",
        "patience = 60\n",
        "count = 0\n",
        "best_epoch = 0\n",
        "lossMin = float('inf')\n",
        "\n",
        "# Flatten y_val_mean and y_val_std to match the predictions\n",
        "y_val_mean_flattened = y_val_mean.view(-1)  # Shape: [60] for 30-bus system\n",
        "y_val_std_flattened = y_val_std.view(-1)    # Shape: [60] for 30-bus system\n",
        "\n",
        "# Training loop\n",
        "for epoch in range(400):  # Changed from 2001\n",
        "    model.train()\n",
        "    train_loss = 0.0\n",
        "\n",
        "    # Training phase\n",
        "    for batch in train_loader:\n",
        "        optimizer.zero_grad()\n",
        "\n",
        "        # Forward pass\n",
        "        y_pred = model(batch)\n",
        "        y_pred = y_pred.view(-1)  # Flatten predictions to match target shape\n",
        "\n",
        "        # Compute loss using the flattened mean and std\n",
        "        loss = MSE(\n",
        "            denormalize_output(y_pred, y_val_mean_flattened, y_val_std_flattened),\n",
        "            denormalize_output(batch.y.view(-1), y_val_mean_flattened, y_val_std_flattened)\n",
        "        )\n",
        "\n",
        "        # Backpropagation\n",
        "        loss.backward()\n",
        "        optimizer.step()\n",
        "\n",
        "        # Accumulate loss\n",
        "        train_loss += loss.item() * batch.num_graphs\n",
        "\n",
        "    # Compute average training loss\n",
        "    train_loss /= len(train_loader.dataset)\n",
        "    train_loss_list.append(train_loss)\n",
        "\n",
        "    # Validation phase\n",
        "    model.eval()\n",
        "    val_loss = 0.0\n",
        "    with torch.no_grad():\n",
        "        for batch in val_loader:\n",
        "            # Forward pass for validation\n",
        "            y_val_pred = model(batch)\n",
        "            y_val_pred = y_val_pred.view(-1)\n",
        "\n",
        "            # Compute validation loss\n",
        "            loss = MSE(\n",
        "                denormalize_output(y_val_pred, y_val_mean_flattened, y_val_std_flattened),\n",
        "                denormalize_output(batch.y.view(-1), y_val_mean_flattened, y_val_std_flattened)\n",
        "            )\n",
        "            val_loss += loss.item() * batch.num_graphs\n",
        "\n",
        "    # Compute average validation loss\n",
        "    val_loss /= len(val_loader.dataset)\n",
        "    val_loss_list.append(val_loss)\n",
        "\n",
        "    # Learning rate adjustment based on validation loss\n",
        "    scheduler.step(val_loss)\n",
        "\n",
        "    # Early stopping mechanism\n",
        "    if val_loss < lossMin:\n",
        "        lossMin = val_loss\n",
        "        count = 0\n",
        "        best_epoch = epoch\n",
        "        best_train_loss = train_loss\n",
        "        best_val_loss = val_loss\n",
        "\n",
        "        # Save the best model weights\n",
        "        #model.save_weights(\"[30 bus] Best_GNN_GNN_NN_model.pt\")\n",
        "        model.save_weights(\"[57 bus] Best_GNN_GNN_NN_model.pt\")\n",
        "\n",
        "    else:\n",
        "        count += 1\n",
        "        if count > patience:\n",
        "            print(f\"Early stopping at epoch {epoch} | Best epoch: {best_epoch}\")\n",
        "            print(f\"Best train loss: {best_train_loss:.7f} | Best val loss: {best_val_loss:.7f}\")\n",
        "            break\n",
        "\n",
        "    # Log progress every 10 epochs\n",
        "    if epoch % 10 == 0:\n",
        "        print(f\"Epoch {epoch} | Train loss: {train_loss:.7f} | Val loss: {val_loss:.7f}\")\n",
        "\n",
        "print(\"Training complete.\")\n",
        "print(f\"Best Epoch: {best_epoch} | Best Train Loss: {best_train_loss:.7f} | Best Val Loss: {best_val_loss:.7f}\")\n"
      ],
      "metadata": {
        "colab": {
          "base_uri": "https://localhost:8080/"
        },
        "id": "eyGTAYTt5duJ",
        "outputId": "dc4000b9-6375-4052-a394-b68824863d55"
      },
      "execution_count": 92,
      "outputs": [
        {
          "output_type": "stream",
          "name": "stdout",
          "text": [
            "Epoch 0 | Train loss: 2.6216982 | Val loss: 2.5997449\n",
            "Epoch 10 | Train loss: 1.4106592 | Val loss: 1.7519384\n",
            "Epoch 20 | Train loss: 1.2226789 | Val loss: 1.7576041\n",
            "Epoch 30 | Train loss: 1.1592023 | Val loss: 1.6226435\n",
            "Epoch 40 | Train loss: 1.1014722 | Val loss: 1.6940861\n",
            "Epoch 50 | Train loss: 1.0688306 | Val loss: 1.4017618\n",
            "Epoch 60 | Train loss: 1.0199030 | Val loss: 1.6009744\n",
            "Epoch 70 | Train loss: 1.0144008 | Val loss: 1.4537815\n",
            "Epoch 80 | Train loss: 1.0056522 | Val loss: 1.6437261\n",
            "Epoch 90 | Train loss: 0.9703034 | Val loss: 1.5673971\n",
            "Epoch 100 | Train loss: 0.9469797 | Val loss: 1.5780115\n",
            "Epoch 110 | Train loss: 0.9754456 | Val loss: 1.6546613\n",
            "Early stopping at epoch 115 | Best epoch: 64\n",
            "Best train loss: 1.0209342 | Best val loss: 1.2923939\n",
            "Training complete.\n",
            "Best Epoch: 64 | Best Train Loss: 1.0209342 | Best Val Loss: 1.2923939\n"
          ]
        }
      ]
    },
    {
      "cell_type": "markdown",
      "source": [
        "# Backup"
      ],
      "metadata": {
        "id": "FlVgf3zs8X7G"
      }
    },
    {
      "cell_type": "code",
      "source": [
        "\"\"\"\n",
        "train_loss_list, val_loss_list = [], []\n",
        "patience = 50\n",
        "count = 0\n",
        "lossMin = float('inf')\n",
        "\n",
        "for epoch in range(600): #Changed from 2001\n",
        "    model.train()\n",
        "    train_loss = 0\n",
        "    for batch in train_loader:\n",
        "        optimizer.zero_grad()\n",
        "        y_pred = model(batch)\n",
        "        y_pred = y_pred.view(-1)  # Flatten predictions\n",
        "        loss = MSE(denormalize_output(y_pred, y_val_mean, y_val_std), denormalize_output(batch.y, y_val_mean, y_val_std))\n",
        "        loss.backward()\n",
        "        optimizer.step()\n",
        "        train_loss += loss.item() * batch.num_graphs\n",
        "\n",
        "    train_loss /= len(train_loader.dataset)\n",
        "    train_loss_list.append(train_loss)\n",
        "\n",
        "    # Validation\n",
        "    model.eval()\n",
        "    val_loss = 0\n",
        "    with torch.no_grad():\n",
        "        for batch in val_loader:\n",
        "            y_val_pred = model(batch)\n",
        "            y_val_pred = y_val_pred.view(-1)\n",
        "            loss = MSE(denormalize_output(y_val_pred, y_val_mean, y_val_std), denormalize_output(batch.y, y_val_mean, y_val_std))\n",
        "            val_loss += loss.item() * batch.num_graphs\n",
        "\n",
        "    val_loss /= len(val_loader.dataset)\n",
        "    val_loss_list.append(val_loss)\n",
        "\n",
        "    # Learning rate adjustment\n",
        "    scheduler.step(val_loss)\n",
        "\n",
        "    # Early stopping\n",
        "    if val_loss < lossMin:\n",
        "        lossMin = val_loss\n",
        "        count = 0\n",
        "        best_epoch = epoch\n",
        "        best_train_loss = train_loss\n",
        "        best_val_loss = val_loss\n",
        "        model.save_weights(model, \"[14 bus] Best_GNN_GNN_NN_model.pt\")\n",
        "        #model.save_weights(model, \"[30 bus] Best_GNN_GNN_NN_model.pt\")\n",
        "        #model.save_weights(model, \"[57 bus] Best_GNN_GNN_NN_model.pt\")\n",
        "    else:\n",
        "        count += 1\n",
        "        if count > patience:\n",
        "            print(f\"Early stopping at epoch {epoch} | Best epoch: {best_epoch}\")\n",
        "            print(f\"Best train loss: {best_train_loss:.7f} | Best val loss: {best_val_loss:.7f}\")\n",
        "            break\n",
        "\n",
        "    # Log progress every 10 epochs\n",
        "    if epoch % 10 == 0:\n",
        "        print(f\"Epoch {epoch} | Train loss: {train_loss:.7f} | Val loss: {val_loss:.7f}\")\n",
        "\n",
        "print(\"Training complete.\")\n",
        "\"\"\""
      ],
      "metadata": {
        "colab": {
          "base_uri": "https://localhost:8080/",
          "height": 349
        },
        "id": "WAZmEwSpj9Sq",
        "outputId": "edb4c754-5cbe-4b7a-d875-798dcda314f2"
      },
      "execution_count": 86,
      "outputs": [
        {
          "output_type": "error",
          "ename": "RuntimeError",
          "evalue": "The size of tensor a (60) must match the size of tensor b (2) at non-singleton dimension 1",
          "traceback": [
            "\u001b[0;31m---------------------------------------------------------------------------\u001b[0m",
            "\u001b[0;31mRuntimeError\u001b[0m                              Traceback (most recent call last)",
            "\u001b[0;32m<ipython-input-86-1905f43eb45c>\u001b[0m in \u001b[0;36m<cell line: 11>\u001b[0;34m()\u001b[0m\n\u001b[1;32m     23\u001b[0m         \u001b[0;31m# Compute loss\u001b[0m\u001b[0;34m\u001b[0m\u001b[0;34m\u001b[0m\u001b[0m\n\u001b[1;32m     24\u001b[0m         loss = MSE(\n\u001b[0;32m---> 25\u001b[0;31m             \u001b[0mdenormalize_output\u001b[0m\u001b[0;34m(\u001b[0m\u001b[0my_pred\u001b[0m\u001b[0;34m,\u001b[0m \u001b[0my_val_mean\u001b[0m\u001b[0;34m,\u001b[0m \u001b[0my_val_std\u001b[0m\u001b[0;34m)\u001b[0m\u001b[0;34m,\u001b[0m\u001b[0;34m\u001b[0m\u001b[0;34m\u001b[0m\u001b[0m\n\u001b[0m\u001b[1;32m     26\u001b[0m             \u001b[0mdenormalize_output\u001b[0m\u001b[0;34m(\u001b[0m\u001b[0mbatch\u001b[0m\u001b[0;34m.\u001b[0m\u001b[0my\u001b[0m\u001b[0;34m,\u001b[0m \u001b[0my_val_mean\u001b[0m\u001b[0;34m,\u001b[0m \u001b[0my_val_std\u001b[0m\u001b[0;34m)\u001b[0m\u001b[0;34m\u001b[0m\u001b[0;34m\u001b[0m\u001b[0m\n\u001b[1;32m     27\u001b[0m         )\n",
            "\u001b[0;32m<ipython-input-69-2cc95821ce5c>\u001b[0m in \u001b[0;36mdenormalize_output\u001b[0;34m(y_norm, y_mean, y_std)\u001b[0m\n\u001b[1;32m     19\u001b[0m \u001b[0;34m\u001b[0m\u001b[0m\n\u001b[1;32m     20\u001b[0m \u001b[0;32mdef\u001b[0m \u001b[0mdenormalize_output\u001b[0m\u001b[0;34m(\u001b[0m\u001b[0my_norm\u001b[0m\u001b[0;34m,\u001b[0m \u001b[0my_mean\u001b[0m\u001b[0;34m,\u001b[0m \u001b[0my_std\u001b[0m\u001b[0;34m)\u001b[0m\u001b[0;34m:\u001b[0m\u001b[0;34m\u001b[0m\u001b[0;34m\u001b[0m\u001b[0m\n\u001b[0;32m---> 21\u001b[0;31m     \u001b[0;32mreturn\u001b[0m \u001b[0my_norm\u001b[0m \u001b[0;34m*\u001b[0m \u001b[0my_std\u001b[0m \u001b[0;34m+\u001b[0m \u001b[0my_mean\u001b[0m\u001b[0;34m\u001b[0m\u001b[0;34m\u001b[0m\u001b[0m\n\u001b[0m\u001b[1;32m     22\u001b[0m \u001b[0;34m\u001b[0m\u001b[0m\n\u001b[1;32m     23\u001b[0m \u001b[0;32mdef\u001b[0m \u001b[0mMSE\u001b[0m\u001b[0;34m(\u001b[0m\u001b[0myhat\u001b[0m\u001b[0;34m,\u001b[0m \u001b[0my\u001b[0m\u001b[0;34m)\u001b[0m\u001b[0;34m:\u001b[0m\u001b[0;34m\u001b[0m\u001b[0;34m\u001b[0m\u001b[0m\n",
            "\u001b[0;31mRuntimeError\u001b[0m: The size of tensor a (60) must match the size of tensor b (2) at non-singleton dimension 1"
          ]
        }
      ]
    },
    {
      "cell_type": "markdown",
      "source": [
        "# **Plotting Loss Curves**"
      ],
      "metadata": {
        "id": "HkhKmVL-hLQR"
      }
    },
    {
      "cell_type": "code",
      "source": [
        "import matplotlib.pyplot as plt\n",
        "\n",
        "# Plot the training and validation loss\n",
        "plt.figure(figsize=(10, 6))\n",
        "\n",
        "#plt.title('Training and Validation Loss Curve for GNN-Based OPF on IEEE 14-Bus System', fontsize=14)\n",
        "#plt.title('Training and Validation Loss Curve for GNN-Based OPF on IEEE 30-Bus System', fontsize=14)\n",
        "plt.title('Training and Validation Loss Curve for GNN-Based OPF on IEEE 57-Bus System', fontsize=14)\n",
        "\n",
        "plt.plot(train_loss_list, label=\"Train Loss\", color='blue', linewidth=2)\n",
        "plt.plot(val_loss_list, label=\"Validation Loss\", color='orange', linewidth=2)\n",
        "plt.yscale('log')  # Use logarithmic scale for better visualization\n",
        "plt.xlabel(\"Epoch\", fontsize=12)\n",
        "plt.ylabel(\"Loss (Log Scale)\", fontsize=12)\n",
        "plt.grid(True, which='both', linestyle='--', linewidth=0.5)\n",
        "plt.legend(loc='best', fontsize=12)\n",
        "plt.tight_layout()\n",
        "plt.show()\n",
        "\n",
        "# Print final and best losses\n",
        "print(f\"Last epoch: {epoch + 1}, Train loss: {train_loss:.7f}, Val loss: {val_loss:.7f}\")\n",
        "print(f\"Best epoch: {best_epoch + 1}, Best Train loss: {best_train_loss:.7f}, Best Val loss: {best_val_loss:.7f}\")"
      ],
      "metadata": {
        "colab": {
          "base_uri": "https://localhost:8080/",
          "height": 642
        },
        "id": "YWYYyI3cj-22",
        "outputId": "80fca77d-7c21-46fd-9ef9-6a2ccef554a0"
      },
      "execution_count": 94,
      "outputs": [
        {
          "output_type": "display_data",
          "data": {
            "text/plain": [
              "<Figure size 1000x600 with 1 Axes>"
            ],
            "image/png": "[encoded data removed]"
          },
          "metadata": {}
        },
        {
          "output_type": "stream",
          "name": "stdout",
          "text": [
            "Last epoch: 116, Train loss: 0.9315722, Val loss: 1.6013086\n",
            "Best epoch: 65, Best Train loss: 1.0209342, Best Val loss: 1.2923939\n"
          ]
        }
      ]
    },
    {
      "cell_type": "markdown",
      "source": [
        "# **Model Evaluation**"
      ],
      "metadata": {
        "id": "MhfPkA3bhVX4"
      }
    },
    {
      "cell_type": "code",
      "source": [
        "print(y_val_targets.shape)\n",
        "print(y_val_predictions[0].shape)"
      ],
      "metadata": {
        "colab": {
          "base_uri": "https://localhost:8080/"
        },
        "id": "O9RFvWquIKR2",
        "outputId": "4c337b09-b9ab-4ed9-bac0-abbd8f08bf51"
      },
      "execution_count": 137,
      "outputs": [
        {
          "output_type": "stream",
          "name": "stdout",
          "text": [
            "torch.Size([400, 30, 2])\n",
            "torch.Size([30, 2])\n"
          ]
        }
      ]
    },
    {
      "cell_type": "code",
      "source": [
        "import torch\n",
        "from sklearn.metrics import mean_squared_error, mean_absolute_error, r2_score\n",
        "import numpy as np\n",
        "import pandas as pd\n",
        "\n",
        "# Function to calculate regression metrics\n",
        "def evaluate_regression_metrics(y_true, y_pred):\n",
        "    # Denormalize the outputs\n",
        "    y_true = denormalize_output(y_true, y_val_mean, y_val_std)\n",
        "    y_pred = denormalize_output(y_pred, y_val_mean, y_val_std)\n",
        "\n",
        "    # Convert to numpy arrays\n",
        "    y_true = y_true.detach().cpu().numpy()\n",
        "    y_pred = y_pred.detach().cpu().numpy()\n",
        "\n",
        "    # Calculate metrics\n",
        "    mse = mean_squared_error(y_true.reshape(-1, 2), y_pred.reshape(-1, 2))\n",
        "    rmse = np.sqrt(mse)\n",
        "    nrmse = rmse / np.std(y_true)\n",
        "    mae = mean_absolute_error(y_true.reshape(-1, 2), y_pred.reshape(-1, 2))\n",
        "    r2 = r2_score(y_true.reshape(-1, 2), y_pred.reshape(-1, 2))\n",
        "\n",
        "    # Print metrics\n",
        "    print(f\"Mean Squared Error (MSE): {mse:.6f}\")\n",
        "    print(f\"Root Mean Squared Error (RMSE): {rmse:.6f}\")\n",
        "    print(f\"Normalized RMSE (NRMSE): {nrmse:.6f}\")\n",
        "    print(f\"Mean Absolute Error (MAE): {mae:.6f}\")\n",
        "    print(f\"R^2 Score: {r2:.6f}\")\n",
        "\n",
        "    return mse, rmse, nrmse, mae, r2\n",
        "\n",
        "# Evaluation after training\n",
        "model.eval()\n",
        "y_val_predictions = []\n",
        "\n",
        "# Collect all predictions and ground truth for the validation set\n",
        "with torch.no_grad():\n",
        "    for batch in val_loader:\n",
        "        # Forward pass for validation\n",
        "        y_val_pred = model(batch)\n",
        "\n",
        "        # Reshape predictions to [n_bus, 2] to match the targets' structure\n",
        "        y_val_pred = y_val_pred.view(n_bus, 2)\n",
        "        y_val_predictions.append(y_val_pred)\n",
        "\n",
        "# Stack predictions and targets with the shape [n_samples, n_bus, 2]\n",
        "y_val_predictions = torch.stack(y_val_predictions, dim=0)\n",
        "y_val_targets = torch.stack([batch.y.view(n_bus, 2) for batch in val_loader], dim=0)\n",
        "\n",
        "# Calculate and print regression metrics\n",
        "mse, rmse, nrmse, mae, r2 = evaluate_regression_metrics(y_val_targets, y_val_predictions)\n",
        "\n",
        "# Save the metrics to a dictionary for later comparison\n",
        "metrics = {\n",
        "    'MSE': mse,\n",
        "    'RMSE': rmse,\n",
        "    'NRMSE': nrmse,\n",
        "    'MAE': mae,\n",
        "    'R2': r2\n",
        "}\n",
        "\n",
        "# Optionally save the metrics to a CSV file\n",
        "metrics_df = pd.DataFrame([metrics])\n",
        "\n",
        "# Save the metrics to the CSV file\n",
        "#metrics_df.to_csv(\"14_bus_validation_metrics.csv\", index=False)\n",
        "#print(\"\\nMetrics saved to '14_bus_validation_metrics.csv'.\")\n",
        "\n",
        "#metrics_df.to_csv(\"30_bus_validation_metrics.csv\", index=False)\n",
        "#print(\"\\nMetrics saved to '30_bus_validation_metrics.csv'.\")\n",
        "\n",
        "metrics_df.to_csv(\"57_bus_validation_metrics.csv\", index=False)\n",
        "print(\"\\nMetrics saved to '57_bus_validation_metrics.csv'.\")\n"
      ],
      "metadata": {
        "colab": {
          "base_uri": "https://localhost:8080/"
        },
        "id": "jMI26hcw4NVL",
        "outputId": "003c6eb4-5c1d-480b-e4c1-bb50bb7661d4"
      },
      "execution_count": 138,
      "outputs": [
        {
          "output_type": "stream",
          "name": "stdout",
          "text": [
            "Mean Squared Error (MSE): 1.601307\n",
            "Root Mean Squared Error (RMSE): 1.265427\n",
            "Normalized RMSE (NRMSE): 0.173280\n",
            "Mean Absolute Error (MAE): 0.595381\n",
            "R^2 Score: 0.968978\n",
            "\n",
            "Metrics saved to '30_bus_validation_metrics.csv'.\n"
          ]
        }
      ]
    },
    {
      "cell_type": "markdown",
      "source": [
        "# **Single datapoint evaluation**"
      ],
      "metadata": {
        "id": "EDe5Wxil6opK"
      }
    },
    {
      "cell_type": "code",
      "source": [
        "# Set model to evaluation mode\n",
        "model.eval()\n",
        "\n",
        "# Device configuration (ensure compatibility)\n",
        "device = next(model.parameters()).device\n",
        "\n",
        "# Function for single datapoint evaluation\n",
        "def evaluate_single_datapoint(data, y_mean, y_std, y_raw):\n",
        "    # Move the data to the correct device\n",
        "    data = data.to(device)\n",
        "\n",
        "    # Forward pass\n",
        "    y_pred = model(data)\n",
        "\n",
        "    # Reshape predictions to match the target structure [n_bus, 2]\n",
        "    y_pred = y_pred.view(n_bus, 2)\n",
        "    data_y = data.y.view(n_bus, 2)\n",
        "\n",
        "    # Denormalize the prediction and the ground truth\n",
        "    y_pred_denorm = denormalize_output(y_pred, y_mean, y_std)\n",
        "    y_target_denorm = denormalize_output(data_y, y_mean, y_std)\n",
        "\n",
        "    # Compute loss\n",
        "    loss = MSE(y_pred_denorm, y_target_denorm)\n",
        "\n",
        "    # Print ground truth and prediction\n",
        "    print(\"Ground-truth:\", y_raw.detach().cpu().numpy())\n",
        "    print(\"Prediction:\", y_pred_denorm.detach().cpu().numpy())\n",
        "    print(f\"Loss (MSE): {loss:.7f}\")\n",
        "\n",
        "    return loss\n",
        "\n",
        "# Evaluate on a single training datapoint\n",
        "print(\"\\nEvaluation on a single training datapoint:\")\n",
        "train_loss_1 = evaluate_single_datapoint(\n",
        "    train_loader.dataset[0], y_val_mean, y_val_std, y_raw_train[0]\n",
        ")\n",
        "\n",
        "# Evaluate on a single validation datapoint\n",
        "print(\"\\nEvaluation on a single validation datapoint:\")\n",
        "val_loss_1 = evaluate_single_datapoint(\n",
        "    val_loader.dataset[0], y_val_mean, y_val_std, y_raw_val[0]\n",
        ")\n"
      ],
      "metadata": {
        "colab": {
          "base_uri": "https://localhost:8080/"
        },
        "id": "VafI4QFlAGRe",
        "outputId": "8c9160dc-54dd-49cf-a8f6-2f8f0abd1049"
      },
      "execution_count": 140,
      "outputs": [
        {
          "output_type": "stream",
          "name": "stdout",
          "text": [
            "\n",
            "Evaluation on a single training datapoint:\n",
            "Ground-truth: [[ 0.       0.     ]\n",
            " [14.40134 13.22018]\n",
            " [ 2.99126  1.21511]\n",
            " [ 6.92581  2.21079]\n",
            " [ 0.       0.     ]\n",
            " [ 0.       0.     ]\n",
            " [15.86692 13.9925 ]\n",
            " [23.75827 19.8484 ]\n",
            " [ 0.       0.     ]\n",
            " [ 7.46975  2.51386]\n",
            " [ 0.       0.     ]\n",
            " [14.24347  8.09227]\n",
            " [ 0.       0.     ]\n",
            " [ 5.19604  1.98946]\n",
            " [ 8.39846  3.13083]\n",
            " [ 3.95501  1.30192]\n",
            " [ 6.31731  7.41053]\n",
            " [ 4.2316   1.24807]\n",
            " [10.36428  3.84165]\n",
            " [ 2.98069  0.45465]\n",
            " [21.10863 13.66907]\n",
            " [ 0.       0.     ]\n",
            " [ 3.72223  1.43751]\n",
            " [ 6.03425  8.3942 ]\n",
            " [ 0.       0.     ]\n",
            " [ 2.47779  2.2616 ]\n",
            " [ 0.       0.     ]\n",
            " [ 0.       0.     ]\n",
            " [ 2.91809  0.84565]\n",
            " [12.16662  1.42966]]\n",
            "Prediction: [[ 0.00015 -0.00003]\n",
            " [15.22614 12.48808]\n",
            " [ 2.53103  1.17675]\n",
            " [ 7.73088  1.53132]\n",
            " [-0.0011   0.00188]\n",
            " [-0.00019 -0.00061]\n",
            " [14.01692 13.56758]\n",
            " [22.05197 24.59631]\n",
            " [-0.00128  0.00202]\n",
            " [ 7.08322  2.24986]\n",
            " [ 0.00008  0.00045]\n",
            " [12.55663  7.52172]\n",
            " [-0.00049  0.00017]\n",
            " [ 6.23372  1.67437]\n",
            " [ 8.40166  2.8925 ]\n",
            " [ 2.95755  1.77186]\n",
            " [ 9.047    6.42654]\n",
            " [ 4.021    0.98798]\n",
            " [11.10416  3.5837 ]\n",
            " [ 2.4617   0.73139]\n",
            " [19.80107 13.10075]\n",
            " [-0.00155  0.00041]\n",
            " [ 3.39747  1.74116]\n",
            " [ 7.06763  7.57847]\n",
            " [ 0.0015  -0.00011]\n",
            " [ 2.17815  2.1841 ]\n",
            " [ 0.00098  0.00088]\n",
            " [-0.00127 -0.00029]\n",
            " [ 2.65723  0.80212]\n",
            " [13.00121  1.48842]]\n",
            "Loss (MSE): 0.8235725\n",
            "\n",
            "Evaluation on a single validation datapoint:\n",
            "Ground-truth: [[ 0.       0.     ]\n",
            " [21.77992 16.27756]\n",
            " [ 2.61392  1.09328]\n",
            " [ 8.66518  1.38933]\n",
            " [ 0.       0.     ]\n",
            " [ 0.       0.     ]\n",
            " [16.24091 14.30709]\n",
            " [32.60472 23.55684]\n",
            " [ 0.       0.     ]\n",
            " [ 4.53463  1.21784]\n",
            " [ 0.       0.     ]\n",
            " [13.99406  7.27761]\n",
            " [ 0.       0.     ]\n",
            " [ 7.48298  1.80067]\n",
            " [ 8.23748  2.97107]\n",
            " [ 4.35331  1.35519]\n",
            " [ 8.28205  4.96784]\n",
            " [ 2.91661  0.57248]\n",
            " [10.14928  3.6665 ]\n",
            " [ 2.68847  0.57743]\n",
            " [18.24032  7.77604]\n",
            " [ 0.       0.     ]\n",
            " [ 2.04826  0.9852 ]\n",
            " [10.65625  9.28347]\n",
            " [ 0.       0.     ]\n",
            " [ 3.31512  2.02198]\n",
            " [ 0.       0.     ]\n",
            " [ 0.       0.     ]\n",
            " [ 2.97651  0.77062]\n",
            " [12.07064  2.12551]]\n",
            "Prediction: [[ 0.00006 -0.00014]\n",
            " [21.8125  15.9172 ]\n",
            " [ 2.81366  1.23666]\n",
            " [ 8.03823  1.54286]\n",
            " [-0.00087  0.0016 ]\n",
            " [-0.00014 -0.00034]\n",
            " [19.38161 13.21155]\n",
            " [33.21606 25.01344]\n",
            " [-0.00111  0.00157]\n",
            " [ 4.88336  1.45559]\n",
            " [ 0.00019  0.00055]\n",
            " [14.26756  7.73116]\n",
            " [-0.00038  0.00006]\n",
            " [ 6.88083  1.72513]\n",
            " [ 8.69199  2.73776]\n",
            " [ 3.899    1.62291]\n",
            " [ 8.48357  4.74667]\n",
            " [ 2.91132  0.92288]\n",
            " [10.2836   3.49071]\n",
            " [ 2.23038  0.65264]\n",
            " [16.41428  9.32579]\n",
            " [-0.00113  0.00052]\n",
            " [ 2.86016  1.76473]\n",
            " [ 8.78376  7.56516]\n",
            " [ 0.00132 -0.00005]\n",
            " [ 3.77373  2.39185]\n",
            " [ 0.00045  0.00094]\n",
            " [-0.00131 -0.00025]\n",
            " [ 2.80046  0.89134]\n",
            " [11.85303  1.99319]]\n",
            "Loss (MSE): 0.4988298\n"
          ]
        }
      ]
    },
    {
      "cell_type": "markdown",
      "source": [
        "# **Testing on Multiple Datasets**\n",
        "\n",
        "Loading the Best Model"
      ],
      "metadata": {
        "id": "7SXapJIxhdqG"
      }
    },
    {
      "cell_type": "code",
      "source": [
        "best_model = My_GNN_GNN_NN(n_bus, feat_in, feat_size1, feat_size2, hidden_size1, output_size)\n",
        "\n",
        "# Load the saved state dictionary\n",
        "#state_dict = torch.load(\"[14 bus] Best_GNN_GNN_NN_model.pt\")\n",
        "#state_dict = torch.load(\"[30 bus] Best_GNN_GNN_NN_model.pt\")\n",
        "state_dict = torch.load(\"[57 bus] Best_GNN_GNN_NN_model.pt\")\n",
        "\n",
        "best_model.load_state_dict(state_dict, strict=False)\n",
        "\n",
        "# Set the model to evaluation mode\n",
        "best_model.eval()"
      ],
      "metadata": {
        "colab": {
          "base_uri": "https://localhost:8080/"
        },
        "id": "FwIyhE7I7Dkf",
        "outputId": "b22094b2-9f45-47b8-f4d2-c26c54c1672d"
      },
      "execution_count": 145,
      "outputs": [
        {
          "output_type": "stream",
          "name": "stderr",
          "text": [
            "<ipython-input-145-02b386e07922>:5: FutureWarning: You are using `torch.load` with `weights_only=False` (the current default value), which uses the default pickle module implicitly. It is possible to construct malicious pickle data which will execute arbitrary code during unpickling (See https://github.com/pytorch/pytorch/blob/main/SECURITY.md#untrusted-models for more details). In a future release, the default value for `weights_only` will be flipped to `True`. This limits the functions that could be executed during unpickling. Arbitrary objects will no longer be allowed to be loaded via this mode unless they are explicitly allowlisted by the user via `torch.serialization.add_safe_globals`. We recommend you start setting `weights_only=True` for any use case where you don't have full control of the loaded file. Please open an issue on GitHub for any issues related to this experimental feature.\n",
            "  state_dict = torch.load(\"[30 bus] Best_GNN_GNN_NN_model.pt\")\n"
          ]
        },
        {
          "output_type": "execute_result",
          "data": {
            "text/plain": [
              "My_GNN_GNN_NN(\n",
              "  (conv1): GCNConv(7, 16)\n",
              "  (conv2): GCNConv(16, 8)\n",
              "  (lin1): Linear(in_features=240, out_features=64, bias=True)\n",
              "  (lin2): Linear(in_features=64, out_features=60, bias=True)\n",
              "  (dropout): Dropout(p=0.2, inplace=False)\n",
              ")"
            ]
          },
          "metadata": {},
          "execution_count": 145
        }
      ]
    },
    {
      "cell_type": "markdown",
      "source": [
        "# **NRMSE Function**"
      ],
      "metadata": {
        "id": "MF6bivy1Eyhi"
      }
    },
    {
      "cell_type": "code",
      "source": [
        "def NRMSE(yhat, y):\n",
        "    rmse = torch.sqrt(torch.mean((yhat - y) ** 2))\n",
        "    nrmse = rmse / torch.std(y)\n",
        "    return nrmse"
      ],
      "metadata": {
        "id": "v1vG8VRM7y7u"
      },
      "execution_count": 148,
      "outputs": []
    },
    {
      "cell_type": "markdown",
      "source": [
        "# **Test Dataset Evaluation Loop**"
      ],
      "metadata": {
        "id": "KUMCfL-kE3Wf"
      }
    },
    {
      "cell_type": "code",
      "source": [
        "test_loss_list = []\n",
        "\n",
        "for i in range(10):\n",
        "    # Load the test dataset\n",
        "    #dataset = pd.read_excel(f'/content/GNN-OptimalPowerFlow/Datasets/14Bus/PF_Dataset_{i + 1}.xlsx').values\n",
        "    #dataset = pd.read_excel(f'/content/GNN-OptimalPowerFlow/Datasets/30Bus/PF_Dataset_{i + 1}.xlsx').values\n",
        "    dataset = pd.read_excel(f'/content/GNN-OptimalPowerFlow/Datasets/57Bus/PF_Dataset_{i + 1}.xlsx').values\n",
        "\n",
        "    test_dataset = slice_dataset(dataset, 20)  # Use 20% of the test dataset\n",
        "    x_raw_test, y_raw_test = make_dataset(test_dataset, n_bus)\n",
        "    x_norm_test, y_norm_test, y_test_mean, y_test_std, _, _ = normalize_dataset(x_raw_test, y_raw_test)\n",
        "\n",
        "    # Extract only the target statistics (P and Q) from mean and std\n",
        "    y_test_mean_targets = y_test_mean[:, :2]  # Shape: [30, 2]\n",
        "    y_test_std_targets = y_test_std[:, :2]    # Shape: [30, 2]\n",
        "\n",
        "    # Prepare test data loader\n",
        "    data_test_list = [Data(x=x, y=y, edge_index=edge_index) for x, y in zip(x_norm_test, y_norm_test)]\n",
        "    test_loader = DataLoader(data_test_list, batch_size=1)\n",
        "\n",
        "    # Initialize predictions\n",
        "    yhat = torch.empty(0, n_bus, 2)  # Shape: [n_samples, n_bus, 2]\n",
        "\n",
        "    # Collect predictions\n",
        "    for batch in test_loader:\n",
        "        y_pred = best_model(batch)\n",
        "        y_pred = y_pred.view(n_bus, 2)  # Reshape to [n_bus, 2]\n",
        "        yhat = torch.cat((yhat, y_pred.unsqueeze(0)))  # Add batch dimension\n",
        "\n",
        "    # Denormalize using only target statistics (P and Q)\n",
        "    yhat = denormalize_output(yhat, y_test_mean_targets, y_test_std_targets)\n",
        "    y_raw_test_denorm = denormalize_output(y_norm_test[:, :, :2], y_test_mean_targets, y_test_std_targets)\n",
        "\n",
        "    # Calculate NRMSE for the test dataset\n",
        "    test_loss_NRMSE = NRMSE(yhat, y_raw_test_denorm)\n",
        "\n",
        "    print(f\"Dataset {i + 1} | Test loss (NRMSE): {test_loss_NRMSE:.7f}\")\n",
        "    test_loss_list.append(test_loss_NRMSE)\n",
        "\n",
        "# Print summary of test losses\n",
        "print(\"Test Losses for All Datasets:\", test_loss_list)\n"
      ],
      "metadata": {
        "colab": {
          "base_uri": "https://localhost:8080/"
        },
        "id": "UoIbS0G4kDGM",
        "outputId": "fd33eda0-4af6-44cc-fd7b-8271e7c08302"
      },
      "execution_count": 167,
      "outputs": [
        {
          "output_type": "stream",
          "name": "stderr",
          "text": [
            "/usr/local/lib/python3.10/dist-packages/torch_geometric/deprecation.py:26: UserWarning: 'data.DataLoader' is deprecated, use 'loader.DataLoader' instead\n",
            "  warnings.warn(out)\n"
          ]
        },
        {
          "output_type": "stream",
          "name": "stdout",
          "text": [
            "Dataset 1 | Test loss (NRMSE): 0.6313335\n"
          ]
        },
        {
          "output_type": "stream",
          "name": "stderr",
          "text": [
            "/usr/local/lib/python3.10/dist-packages/torch_geometric/deprecation.py:26: UserWarning: 'data.DataLoader' is deprecated, use 'loader.DataLoader' instead\n",
            "  warnings.warn(out)\n"
          ]
        },
        {
          "output_type": "stream",
          "name": "stdout",
          "text": [
            "Dataset 2 | Test loss (NRMSE): 0.6338344\n"
          ]
        },
        {
          "output_type": "stream",
          "name": "stderr",
          "text": [
            "/usr/local/lib/python3.10/dist-packages/torch_geometric/deprecation.py:26: UserWarning: 'data.DataLoader' is deprecated, use 'loader.DataLoader' instead\n",
            "  warnings.warn(out)\n"
          ]
        },
        {
          "output_type": "stream",
          "name": "stdout",
          "text": [
            "Dataset 3 | Test loss (NRMSE): 0.6350325\n"
          ]
        },
        {
          "output_type": "stream",
          "name": "stderr",
          "text": [
            "/usr/local/lib/python3.10/dist-packages/torch_geometric/deprecation.py:26: UserWarning: 'data.DataLoader' is deprecated, use 'loader.DataLoader' instead\n",
            "  warnings.warn(out)\n"
          ]
        },
        {
          "output_type": "stream",
          "name": "stdout",
          "text": [
            "Dataset 4 | Test loss (NRMSE): 0.6327797\n"
          ]
        },
        {
          "output_type": "stream",
          "name": "stderr",
          "text": [
            "/usr/local/lib/python3.10/dist-packages/torch_geometric/deprecation.py:26: UserWarning: 'data.DataLoader' is deprecated, use 'loader.DataLoader' instead\n",
            "  warnings.warn(out)\n"
          ]
        },
        {
          "output_type": "stream",
          "name": "stdout",
          "text": [
            "Dataset 5 | Test loss (NRMSE): 0.6354052\n"
          ]
        },
        {
          "output_type": "stream",
          "name": "stderr",
          "text": [
            "/usr/local/lib/python3.10/dist-packages/torch_geometric/deprecation.py:26: UserWarning: 'data.DataLoader' is deprecated, use 'loader.DataLoader' instead\n",
            "  warnings.warn(out)\n"
          ]
        },
        {
          "output_type": "stream",
          "name": "stdout",
          "text": [
            "Dataset 6 | Test loss (NRMSE): 0.6348307\n"
          ]
        },
        {
          "output_type": "stream",
          "name": "stderr",
          "text": [
            "/usr/local/lib/python3.10/dist-packages/torch_geometric/deprecation.py:26: UserWarning: 'data.DataLoader' is deprecated, use 'loader.DataLoader' instead\n",
            "  warnings.warn(out)\n"
          ]
        },
        {
          "output_type": "stream",
          "name": "stdout",
          "text": [
            "Dataset 7 | Test loss (NRMSE): 0.6327806\n"
          ]
        },
        {
          "output_type": "stream",
          "name": "stderr",
          "text": [
            "/usr/local/lib/python3.10/dist-packages/torch_geometric/deprecation.py:26: UserWarning: 'data.DataLoader' is deprecated, use 'loader.DataLoader' instead\n",
            "  warnings.warn(out)\n"
          ]
        },
        {
          "output_type": "stream",
          "name": "stdout",
          "text": [
            "Dataset 8 | Test loss (NRMSE): 0.6342018\n"
          ]
        },
        {
          "output_type": "stream",
          "name": "stderr",
          "text": [
            "/usr/local/lib/python3.10/dist-packages/torch_geometric/deprecation.py:26: UserWarning: 'data.DataLoader' is deprecated, use 'loader.DataLoader' instead\n",
            "  warnings.warn(out)\n"
          ]
        },
        {
          "output_type": "stream",
          "name": "stdout",
          "text": [
            "Dataset 9 | Test loss (NRMSE): 0.6367190\n"
          ]
        },
        {
          "output_type": "stream",
          "name": "stderr",
          "text": [
            "/usr/local/lib/python3.10/dist-packages/torch_geometric/deprecation.py:26: UserWarning: 'data.DataLoader' is deprecated, use 'loader.DataLoader' instead\n",
            "  warnings.warn(out)\n"
          ]
        },
        {
          "output_type": "stream",
          "name": "stdout",
          "text": [
            "Dataset 10 | Test loss (NRMSE): 0.6351225\n",
            "Test Losses for All Datasets: [tensor(0.63133, grad_fn=<DivBackward0>), tensor(0.63383, grad_fn=<DivBackward0>), tensor(0.63503, grad_fn=<DivBackward0>), tensor(0.63278, grad_fn=<DivBackward0>), tensor(0.63541, grad_fn=<DivBackward0>), tensor(0.63483, grad_fn=<DivBackward0>), tensor(0.63278, grad_fn=<DivBackward0>), tensor(0.63420, grad_fn=<DivBackward0>), tensor(0.63672, grad_fn=<DivBackward0>), tensor(0.63512, grad_fn=<DivBackward0>)]\n"
          ]
        }
      ]
    },
    {
      "cell_type": "markdown",
      "source": [
        "# **Saving Test Losses**"
      ],
      "metadata": {
        "id": "Sq5bBwEOFib_"
      }
    },
    {
      "cell_type": "code",
      "source": [
        "import pandas as pd\n",
        "import numpy as np\n",
        "\n",
        "# Ensure the test_loss_list is converted to a format that can be saved\n",
        "new_list = []\n",
        "\n",
        "# Convert each test loss value to a float and detach from the computation graph if needed\n",
        "for x in test_loss_list:\n",
        "    if isinstance(x, torch.Tensor):\n",
        "        new_list.append(x.item())  # Use .item() for scalar tensors\n",
        "    else:\n",
        "        new_list.append(float(x))  # Convert to float if it's already a number\n",
        "\n",
        "# Create a DataFrame from the list\n",
        "test_loss_df = pd.DataFrame(new_list, columns=[\"Test Loss\"])\n",
        "\n",
        "# Save the DataFrame to an Excel file\n",
        "#test_loss_df.to_excel(\"[14 bus] Test Losses.xlsx\", index=False)\n",
        "#print(\"\\nTest loss file saved successfully as '[14 bus] Test Losses.xlsx'!\")\n",
        "\n",
        "#test_loss_df.to_excel(\"[30 bus] Test Losses.xlsx\", index=False)\n",
        "#print(\"\\nTest loss file saved successfully as '[30 bus] Test Losses.xlsx'!\")\n",
        "\n",
        "test_loss_df.to_excel(\"[57 bus] Test Losses.xlsx\", index=False)\n",
        "print(\"\\nTest loss file saved successfully as '[57 bus] Test Losses.xlsx'!\")"
      ],
      "metadata": {
        "colab": {
          "base_uri": "https://localhost:8080/"
        },
        "id": "3U-A856gFHz2",
        "outputId": "172880a4-c3a1-4c52-9de3-5c9bb07a97e2"
      },
      "execution_count": 168,
      "outputs": [
        {
          "output_type": "stream",
          "name": "stdout",
          "text": [
            "\n",
            "Test loss file saved successfully as '[30 bus] Test Losses.xlsx'!\n"
          ]
        }
      ]
    },
    {
      "cell_type": "code",
      "source": [
        "\"\"\"\n",
        "# Save test losses to Excel\n",
        "new_list = []\n",
        "for x in test_loss_list:\n",
        "    new_list.append(x.detach().numpy())\n",
        "\n",
        "test_loss_df = pd.DataFrame(new_list, columns=[\"Test Loss\"])\n",
        "test_loss_df.to_excel(\"[14 bus] Test Losses.xlsx\", index=False)\n",
        "print(\"\\nTest loss file saved!\")\n",
        "\"\"\""
      ],
      "metadata": {
        "colab": {
          "base_uri": "https://localhost:8080/"
        },
        "id": "hiuQ4Z22-0iZ",
        "outputId": "6b1eceff-21d3-4c70-b571-b61cafdd4dee"
      },
      "execution_count": 40,
      "outputs": [
        {
          "output_type": "stream",
          "name": "stdout",
          "text": [
            "\n",
            "Test loss file saved!\n"
          ]
        }
      ]
    },
    {
      "cell_type": "markdown",
      "source": [
        "# **IEEE 30 Bus DataSet Generation**\n",
        "\n",
        "It Contains 30 buses, 6 generators, 21 loads, and 41 branches.\n",
        "\n",
        "A classic test case for load flow and optimal power flow (OPF) studies.\n"
      ],
      "metadata": {
        "id": "6_lpkv2gTeoH"
      }
    },
    {
      "cell_type": "code",
      "source": [
        "pip install pandapower"
      ],
      "metadata": {
        "colab": {
          "base_uri": "https://localhost:8080/"
        },
        "id": "3tKJsBPkTioB",
        "outputId": "1b70a494-0874-499e-ba18-ddf8f0f81fc1"
      },
      "execution_count": 1,
      "outputs": [
        {
          "output_type": "stream",
          "name": "stdout",
          "text": [
            "Requirement already satisfied: pandapower in /usr/local/lib/python3.10/dist-packages (2.14.11)\n",
            "Requirement already satisfied: pandas>=1.0 in /usr/local/lib/python3.10/dist-packages (from pandapower) (2.2.2)\n",
            "Requirement already satisfied: networkx>=2.5 in /usr/local/lib/python3.10/dist-packages (from pandapower) (3.4.2)\n",
            "Requirement already satisfied: scipy<1.14 in /usr/local/lib/python3.10/dist-packages (from pandapower) (1.13.1)\n",
            "Requirement already satisfied: numpy<2.0 in /usr/local/lib/python3.10/dist-packages (from pandapower) (1.26.4)\n",
            "Requirement already satisfied: packaging in /usr/local/lib/python3.10/dist-packages (from pandapower) (24.1)\n",
            "Requirement already satisfied: tqdm in /usr/local/lib/python3.10/dist-packages (from pandapower) (4.66.6)\n",
            "Requirement already satisfied: deepdiff in /usr/local/lib/python3.10/dist-packages (from pandapower) (8.0.1)\n",
            "Requirement already satisfied: python-dateutil>=2.8.2 in /usr/local/lib/python3.10/dist-packages (from pandas>=1.0->pandapower) (2.8.2)\n",
            "Requirement already satisfied: pytz>=2020.1 in /usr/local/lib/python3.10/dist-packages (from pandas>=1.0->pandapower) (2024.2)\n",
            "Requirement already satisfied: tzdata>=2022.7 in /usr/local/lib/python3.10/dist-packages (from pandas>=1.0->pandapower) (2024.2)\n",
            "Requirement already satisfied: orderly-set==5.2.2 in /usr/local/lib/python3.10/dist-packages (from deepdiff->pandapower) (5.2.2)\n",
            "Requirement already satisfied: six>=1.5 in /usr/local/lib/python3.10/dist-packages (from python-dateutil>=2.8.2->pandas>=1.0->pandapower) (1.16.0)\n"
          ]
        }
      ]
    },
    {
      "cell_type": "code",
      "source": [
        "import pandapower as pp\n",
        "import pandapower.networks as nw\n",
        "import pandas as pd\n",
        "import random\n",
        "import os\n",
        "\n",
        "# Create the output folder\n",
        "output_folder = \"datasets_30Bus\"\n",
        "os.makedirs(output_folder, exist_ok=True)\n",
        "\n",
        "# Create the 30-bus test system using pandapower\n",
        "net = nw.case30()\n",
        "\n",
        "# Number of datasets and samples per dataset\n",
        "num_datasets = 10\n",
        "samples_per_dataset = 2000\n",
        "variation_range = 0.4  # ±40% random load variation\n",
        "\n",
        "# columns for the output Excel file\n",
        "bus_ids = net.bus.index\n",
        "columns = []\n",
        "\n",
        "# column names based on dataset format\n",
        "for bus in bus_ids:\n",
        "    columns.extend([f\"P_{bus + 1} (PQ)\", f\"Q_{bus + 1} (PQ)\", f\"V_{bus + 1}\", f\"d_{bus + 1}\"])\n",
        "\n",
        "# Store original load values for resetting\n",
        "original_p_values = net.load['p_mw'].copy()\n",
        "original_q_values = net.load['q_mvar'].copy()\n",
        "\n",
        "# Generate the datasets\n",
        "for dataset_n in range(1, num_datasets + 1):\n",
        "    print(f\"Generating dataset {dataset_n}...\")\n",
        "\n",
        "    data = []\n",
        "\n",
        "    # initial power flow to stabilize the network\n",
        "    #try:\n",
        "    #    pp.runpp(net, algorithm='nr', max_iteration=20)\n",
        "    #except pp.LoadflowNotConverged:\n",
        "    #    print(f\"Initial load flow did not converge for dataset {dataset_n}, skipping this dataset.\")\n",
        "    #    continue\n",
        "\n",
        "    for sample in range(1, samples_per_dataset + 1):\n",
        "        # Reset the load values to the original values\n",
        "        net.load['p_mw'] = original_p_values\n",
        "        net.load['q_mvar'] = original_q_values\n",
        "\n",
        "        # Apply random variation based on the original values\n",
        "        for load in net.load.index:\n",
        "            net.load.at[load, 'p_mw'] = original_p_values[load] * (1 + random.uniform(-variation_range, variation_range))\n",
        "            net.load.at[load, 'q_mvar'] = original_q_values[load] * (1 + random.uniform(-variation_range, variation_range))\n",
        "\n",
        "        # Run AC power flow with Newton-Raphson algorithm\n",
        "        try:\n",
        "            pp.runpp(net, algorithm='nr', max_iteration=20)\n",
        "        except pp.LoadflowNotConverged:\n",
        "            print(f\"Load flow did not converge for sample {sample} in dataset {dataset_n}, skipping this sample.\")\n",
        "            continue\n",
        "\n",
        "        # Collect data for the current sample\n",
        "        row = []\n",
        "\n",
        "        for bus in bus_ids:\n",
        "            # Extract P and Q values for the bus (PQ buses only)\n",
        "            if bus in net.load['bus'].values:\n",
        "                p_load = net.res_load.loc[net.load[net.load['bus'] == bus].index, 'p_mw'].sum()\n",
        "                q_load = net.res_load.loc[net.load[net.load['bus'] == bus].index, 'q_mvar'].sum()\n",
        "            else:\n",
        "                p_load, q_load = 0, 0\n",
        "\n",
        "            # Extract V (voltage magnitude) and d (voltage angle)\n",
        "            v_mag = net.res_bus.at[bus, 'vm_pu']\n",
        "            v_ang = net.res_bus.at[bus, 'va_degree']\n",
        "\n",
        "            # Append data to the row in the specified format\n",
        "            row.extend([p_load, q_load, v_mag, v_ang])\n",
        "\n",
        "        # Add the row to the dataset\n",
        "        data.append(row)\n",
        "\n",
        "    # Create a DataFrame and add headers in the requested format\n",
        "    df = pd.DataFrame(data, columns=columns)\n",
        "\n",
        "    df.insert(0, \"Data\", [f\"Data {i + 1}\" for i in range(len(df))])\n",
        "    df.insert(0, \"Dataset\", [f\"PF Dataset_{dataset_n}\"] + [\"\"] * (len(df) - 1))\n",
        "\n",
        "    # Save the DataFrame to Excel\n",
        "    output_filename = os.path.join(output_folder, f\"PF_Dataset_{dataset_n}.xlsx\")\n",
        "    df.to_excel(output_filename, index=False)\n",
        "    print(f\"Dataset {dataset_n} saved to {output_filename}\")\n",
        "\n",
        "print(\"All datasets generated successfully.\")\n"
      ],
      "metadata": {
        "colab": {
          "base_uri": "https://localhost:8080/"
        },
        "id": "93oaOPiuTp0B",
        "outputId": "738cff88-02e6-43c0-9e48-5dec8aee9c86"
      },
      "execution_count": 10,
      "outputs": [
        {
          "output_type": "stream",
          "name": "stdout",
          "text": [
            "Generating dataset 1...\n",
            "Dataset 1 saved to datasets/PF_Dataset_1.xlsx\n",
            "Generating dataset 2...\n",
            "Dataset 2 saved to datasets/PF_Dataset_2.xlsx\n",
            "Generating dataset 3...\n",
            "Dataset 3 saved to datasets/PF_Dataset_3.xlsx\n",
            "Generating dataset 4...\n",
            "Dataset 4 saved to datasets/PF_Dataset_4.xlsx\n",
            "Generating dataset 5...\n",
            "Dataset 5 saved to datasets/PF_Dataset_5.xlsx\n",
            "Generating dataset 6...\n",
            "Dataset 6 saved to datasets/PF_Dataset_6.xlsx\n",
            "Generating dataset 7...\n",
            "Dataset 7 saved to datasets/PF_Dataset_7.xlsx\n",
            "Generating dataset 8...\n",
            "Dataset 8 saved to datasets/PF_Dataset_8.xlsx\n",
            "Generating dataset 9...\n",
            "Dataset 9 saved to datasets/PF_Dataset_9.xlsx\n",
            "Generating dataset 10...\n",
            "Dataset 10 saved to datasets/PF_Dataset_10.xlsx\n",
            "All datasets generated successfully.\n"
          ]
        }
      ]
    },
    {
      "cell_type": "markdown",
      "source": [
        " **30 Bus Generator Limits**\n",
        "\n",
        " Generated Active and Reactive Power (P and Q) should be bounded by their maximum and minimum capability for each bus.\n",
        "\n",
        " Otherwise the OPF will not converge for the network."
      ],
      "metadata": {
        "id": "AeQ0MuKV4_o0"
      }
    },
    {
      "cell_type": "code",
      "source": [
        "# Import pandas for cleaner output (optional)\n",
        "import pandas as pd\n",
        "\n",
        "# generator bus information\n",
        "gen_buses = net.gen['bus'].values  # The bus indices with generators\n",
        "p_gen = net.res_gen['p_mw'].values\n",
        "q_gen = net.res_gen['q_mvar'].values\n",
        "\n",
        "# detailed information for each generator\n",
        "print(\"Generator Information:\")\n",
        "for i, bus in enumerate(gen_buses):\n",
        "    p_max = net.gen.at[i, 'max_p_mw'] if 'max_p_mw' in net.gen.columns else \"N/A\"\n",
        "    q_max = net.gen.at[i, 'max_q_mvar'] if 'max_q_mvar' in net.gen.columns else \"N/A\"\n",
        "    print(f\"Bus {bus} | Active Power (P_gen): {p_gen[i]:.2f} MW | Reactive Power (Q_gen): {q_gen[i]:.2f} MVar | P_max: {p_max} MW | Q_max: {q_max} MVar\")\n",
        "\n",
        "print(\"\\nFull Generator DataFrame:\")\n",
        "print(net.gen)\n"
      ],
      "metadata": {
        "colab": {
          "base_uri": "https://localhost:8080/"
        },
        "id": "rYArq7UJuCfS",
        "outputId": "6b93e851-7870-483a-f48e-cc3f032748a3"
      },
      "execution_count": 6,
      "outputs": [
        {
          "output_type": "stream",
          "name": "stdout",
          "text": [
            "Generator Information:\n",
            "Bus 1 | Active Power (P_gen): 60.97 MW | Reactive Power (Q_gen): 37.38 MVar | P_max: 80.0 MW | Q_max: 60.0 MVar\n",
            "Bus 21 | Active Power (P_gen): 21.59 MW | Reactive Power (Q_gen): 40.45 MVar | P_max: 50.0 MW | Q_max: 62.5 MVar\n",
            "Bus 26 | Active Power (P_gen): 26.91 MW | Reactive Power (Q_gen): 11.79 MVar | P_max: 55.0 MW | Q_max: 48.7 MVar\n",
            "Bus 22 | Active Power (P_gen): 19.20 MW | Reactive Power (Q_gen): 7.34 MVar | P_max: 30.0 MW | Q_max: 40.0 MVar\n",
            "Bus 12 | Active Power (P_gen): 37.00 MW | Reactive Power (Q_gen): 10.96 MVar | P_max: 40.0 MW | Q_max: 44.7 MVar\n",
            "\n",
            "Full Generator DataFrame:\n",
            "   name  bus   p_mw  vm_pu  sn_mva  min_q_mvar  max_q_mvar  scaling  slack  \\\n",
            "0  None    1  60.97    1.0     NaN       -20.0        60.0      1.0  False   \n",
            "1  None   21  21.59    1.0     NaN       -15.0        62.5      1.0  False   \n",
            "2  None   26  26.91    1.0     NaN       -15.0        48.7      1.0  False   \n",
            "3  None   22  19.20    1.0     NaN       -10.0        40.0      1.0  False   \n",
            "4  None   12  37.00    1.0     NaN       -15.0        44.7      1.0  False   \n",
            "\n",
            "   in_service  slack_weight  type  controllable  max_p_mw  min_p_mw  \n",
            "0        True           0.0  None          True      80.0       0.0  \n",
            "1        True           0.0  None          True      50.0       0.0  \n",
            "2        True           0.0  None          True      55.0       0.0  \n",
            "3        True           0.0  None          True      30.0       0.0  \n",
            "4        True           0.0  None          True      40.0       0.0  \n"
          ]
        }
      ]
    },
    {
      "cell_type": "code",
      "source": [
        "import pandas as pd\n",
        "\n",
        "# Initialize lists to track generator outputs\n",
        "p_gen_list = []\n",
        "q_gen_list = []\n",
        "\n",
        "# Run power flow and log generator outputs for multiple test cases\n",
        "for i in range(10):  # 10 datasets\n",
        "    try:\n",
        "        pp.runpp(net, algorithm='nr', max_iteration=20)\n",
        "\n",
        "        # Get generator active and reactive power outputs\n",
        "        p_gen = net.res_gen['p_mw'].values\n",
        "        q_gen = net.res_gen['q_mvar'].values\n",
        "\n",
        "        # Log the generator outputs\n",
        "        p_gen_list.append(p_gen)\n",
        "        q_gen_list.append(q_gen)\n",
        "\n",
        "        print(f\"Test Case {i + 1}:\")\n",
        "        print(\"Active Power (P_gen):\", p_gen)\n",
        "        print(\"Reactive Power (Q_gen):\", q_gen)\n",
        "        print(\"=\" * 40)\n",
        "\n",
        "    except pp.LoadflowNotConverged:\n",
        "        print(f\"Load flow did not converge for Test Case {i + 1}, skipping...\")\n",
        "        continue\n",
        "\n",
        "# Convert to DataFrame for easier comparison\n",
        "p_gen_df = pd.DataFrame(p_gen_list, columns=[f\"P_gen_{i}\" for i in range(len(p_gen))])\n",
        "q_gen_df = pd.DataFrame(q_gen_list, columns=[f\"Q_gen_{i}\" for i in range(len(q_gen))])\n",
        "\n",
        "# Save the results to Excel for further analysis\n",
        "p_gen_df.to_excel(\"P_gen_changes.xlsx\", index=False)\n",
        "q_gen_df.to_excel(\"Q_gen_changes.xlsx\", index=False)\n",
        "\n",
        "print(\"Generator outputs logged and saved to 'P_gen_changes.xlsx' and 'Q_gen_changes.xlsx'.\")\n"
      ],
      "metadata": {
        "colab": {
          "base_uri": "https://localhost:8080/"
        },
        "id": "6vn0PtHlwYKz",
        "outputId": "67734627-7d5e-429b-9e22-3b602d611c0c"
      },
      "execution_count": 4,
      "outputs": [
        {
          "output_type": "stream",
          "name": "stdout",
          "text": [
            "Test Case 1:\n",
            "Active Power (P_gen): [60.97 21.59 26.91 19.2  37.  ]\n",
            "Reactive Power (Q_gen): [37.38115789 40.44738087 11.79165197  7.33633467 10.95915525]\n",
            "========================================\n",
            "Test Case 2:\n",
            "Active Power (P_gen): [60.97 21.59 26.91 19.2  37.  ]\n",
            "Reactive Power (Q_gen): [37.38115789 40.44738087 11.79165197  7.33633467 10.95915525]\n",
            "========================================\n",
            "Test Case 3:\n",
            "Active Power (P_gen): [60.97 21.59 26.91 19.2  37.  ]\n",
            "Reactive Power (Q_gen): [37.38115789 40.44738087 11.79165197  7.33633467 10.95915525]\n",
            "========================================\n",
            "Test Case 4:\n",
            "Active Power (P_gen): [60.97 21.59 26.91 19.2  37.  ]\n",
            "Reactive Power (Q_gen): [37.38115789 40.44738087 11.79165197  7.33633467 10.95915525]\n",
            "========================================\n",
            "Test Case 5:\n",
            "Active Power (P_gen): [60.97 21.59 26.91 19.2  37.  ]\n",
            "Reactive Power (Q_gen): [37.38115789 40.44738087 11.79165197  7.33633467 10.95915525]\n",
            "========================================\n",
            "Test Case 6:\n",
            "Active Power (P_gen): [60.97 21.59 26.91 19.2  37.  ]\n",
            "Reactive Power (Q_gen): [37.38115789 40.44738087 11.79165197  7.33633467 10.95915525]\n",
            "========================================\n",
            "Test Case 7:\n",
            "Active Power (P_gen): [60.97 21.59 26.91 19.2  37.  ]\n",
            "Reactive Power (Q_gen): [37.38115789 40.44738087 11.79165197  7.33633467 10.95915525]\n",
            "========================================\n",
            "Test Case 8:\n",
            "Active Power (P_gen): [60.97 21.59 26.91 19.2  37.  ]\n",
            "Reactive Power (Q_gen): [37.38115789 40.44738087 11.79165197  7.33633467 10.95915525]\n",
            "========================================\n",
            "Test Case 9:\n",
            "Active Power (P_gen): [60.97 21.59 26.91 19.2  37.  ]\n",
            "Reactive Power (Q_gen): [37.38115789 40.44738087 11.79165197  7.33633467 10.95915525]\n",
            "========================================\n",
            "Test Case 10:\n",
            "Active Power (P_gen): [60.97 21.59 26.91 19.2  37.  ]\n",
            "Reactive Power (Q_gen): [37.38115789 40.44738087 11.79165197  7.33633467 10.95915525]\n",
            "========================================\n",
            "Test Case 11:\n",
            "Active Power (P_gen): [60.97 21.59 26.91 19.2  37.  ]\n",
            "Reactive Power (Q_gen): [37.38115789 40.44738087 11.79165197  7.33633467 10.95915525]\n",
            "========================================\n",
            "Test Case 12:\n",
            "Active Power (P_gen): [60.97 21.59 26.91 19.2  37.  ]\n",
            "Reactive Power (Q_gen): [37.38115789 40.44738087 11.79165197  7.33633467 10.95915525]\n",
            "========================================\n",
            "Test Case 13:\n",
            "Active Power (P_gen): [60.97 21.59 26.91 19.2  37.  ]\n",
            "Reactive Power (Q_gen): [37.38115789 40.44738087 11.79165197  7.33633467 10.95915525]\n",
            "========================================\n",
            "Test Case 14:\n",
            "Active Power (P_gen): [60.97 21.59 26.91 19.2  37.  ]\n",
            "Reactive Power (Q_gen): [37.38115789 40.44738087 11.79165197  7.33633467 10.95915525]\n",
            "========================================\n",
            "Test Case 15:\n",
            "Active Power (P_gen): [60.97 21.59 26.91 19.2  37.  ]\n",
            "Reactive Power (Q_gen): [37.38115789 40.44738087 11.79165197  7.33633467 10.95915525]\n",
            "========================================\n",
            "Test Case 16:\n",
            "Active Power (P_gen): [60.97 21.59 26.91 19.2  37.  ]\n",
            "Reactive Power (Q_gen): [37.38115789 40.44738087 11.79165197  7.33633467 10.95915525]\n",
            "========================================\n",
            "Test Case 17:\n",
            "Active Power (P_gen): [60.97 21.59 26.91 19.2  37.  ]\n",
            "Reactive Power (Q_gen): [37.38115789 40.44738087 11.79165197  7.33633467 10.95915525]\n",
            "========================================\n",
            "Test Case 18:\n",
            "Active Power (P_gen): [60.97 21.59 26.91 19.2  37.  ]\n",
            "Reactive Power (Q_gen): [37.38115789 40.44738087 11.79165197  7.33633467 10.95915525]\n",
            "========================================\n",
            "Test Case 19:\n",
            "Active Power (P_gen): [60.97 21.59 26.91 19.2  37.  ]\n",
            "Reactive Power (Q_gen): [37.38115789 40.44738087 11.79165197  7.33633467 10.95915525]\n",
            "========================================\n",
            "Test Case 20:\n",
            "Active Power (P_gen): [60.97 21.59 26.91 19.2  37.  ]\n",
            "Reactive Power (Q_gen): [37.38115789 40.44738087 11.79165197  7.33633467 10.95915525]\n",
            "========================================\n",
            "Test Case 21:\n",
            "Active Power (P_gen): [60.97 21.59 26.91 19.2  37.  ]\n",
            "Reactive Power (Q_gen): [37.38115789 40.44738087 11.79165197  7.33633467 10.95915525]\n",
            "========================================\n",
            "Test Case 22:\n",
            "Active Power (P_gen): [60.97 21.59 26.91 19.2  37.  ]\n",
            "Reactive Power (Q_gen): [37.38115789 40.44738087 11.79165197  7.33633467 10.95915525]\n",
            "========================================\n",
            "Test Case 23:\n",
            "Active Power (P_gen): [60.97 21.59 26.91 19.2  37.  ]\n",
            "Reactive Power (Q_gen): [37.38115789 40.44738087 11.79165197  7.33633467 10.95915525]\n",
            "========================================\n",
            "Test Case 24:\n",
            "Active Power (P_gen): [60.97 21.59 26.91 19.2  37.  ]\n",
            "Reactive Power (Q_gen): [37.38115789 40.44738087 11.79165197  7.33633467 10.95915525]\n",
            "========================================\n",
            "Test Case 25:\n",
            "Active Power (P_gen): [60.97 21.59 26.91 19.2  37.  ]\n",
            "Reactive Power (Q_gen): [37.38115789 40.44738087 11.79165197  7.33633467 10.95915525]\n",
            "========================================\n",
            "Test Case 26:\n",
            "Active Power (P_gen): [60.97 21.59 26.91 19.2  37.  ]\n",
            "Reactive Power (Q_gen): [37.38115789 40.44738087 11.79165197  7.33633467 10.95915525]\n",
            "========================================\n",
            "Test Case 27:\n",
            "Active Power (P_gen): [60.97 21.59 26.91 19.2  37.  ]\n",
            "Reactive Power (Q_gen): [37.38115789 40.44738087 11.79165197  7.33633467 10.95915525]\n",
            "========================================\n",
            "Test Case 28:\n",
            "Active Power (P_gen): [60.97 21.59 26.91 19.2  37.  ]\n",
            "Reactive Power (Q_gen): [37.38115789 40.44738087 11.79165197  7.33633467 10.95915525]\n",
            "========================================\n",
            "Test Case 29:\n",
            "Active Power (P_gen): [60.97 21.59 26.91 19.2  37.  ]\n",
            "Reactive Power (Q_gen): [37.38115789 40.44738087 11.79165197  7.33633467 10.95915525]\n",
            "========================================\n",
            "Test Case 30:\n",
            "Active Power (P_gen): [60.97 21.59 26.91 19.2  37.  ]\n",
            "Reactive Power (Q_gen): [37.38115789 40.44738087 11.79165197  7.33633467 10.95915525]\n",
            "========================================\n",
            "Test Case 31:\n",
            "Active Power (P_gen): [60.97 21.59 26.91 19.2  37.  ]\n",
            "Reactive Power (Q_gen): [37.38115789 40.44738087 11.79165197  7.33633467 10.95915525]\n",
            "========================================\n",
            "Test Case 32:\n",
            "Active Power (P_gen): [60.97 21.59 26.91 19.2  37.  ]\n",
            "Reactive Power (Q_gen): [37.38115789 40.44738087 11.79165197  7.33633467 10.95915525]\n",
            "========================================\n",
            "Test Case 33:\n",
            "Active Power (P_gen): [60.97 21.59 26.91 19.2  37.  ]\n",
            "Reactive Power (Q_gen): [37.38115789 40.44738087 11.79165197  7.33633467 10.95915525]\n",
            "========================================\n",
            "Test Case 34:\n",
            "Active Power (P_gen): [60.97 21.59 26.91 19.2  37.  ]\n",
            "Reactive Power (Q_gen): [37.38115789 40.44738087 11.79165197  7.33633467 10.95915525]\n",
            "========================================\n",
            "Test Case 35:\n",
            "Active Power (P_gen): [60.97 21.59 26.91 19.2  37.  ]\n",
            "Reactive Power (Q_gen): [37.38115789 40.44738087 11.79165197  7.33633467 10.95915525]\n",
            "========================================\n",
            "Test Case 36:\n",
            "Active Power (P_gen): [60.97 21.59 26.91 19.2  37.  ]\n",
            "Reactive Power (Q_gen): [37.38115789 40.44738087 11.79165197  7.33633467 10.95915525]\n",
            "========================================\n",
            "Test Case 37:\n",
            "Active Power (P_gen): [60.97 21.59 26.91 19.2  37.  ]\n",
            "Reactive Power (Q_gen): [37.38115789 40.44738087 11.79165197  7.33633467 10.95915525]\n",
            "========================================\n",
            "Test Case 38:\n",
            "Active Power (P_gen): [60.97 21.59 26.91 19.2  37.  ]\n",
            "Reactive Power (Q_gen): [37.38115789 40.44738087 11.79165197  7.33633467 10.95915525]\n",
            "========================================\n",
            "Test Case 39:\n",
            "Active Power (P_gen): [60.97 21.59 26.91 19.2  37.  ]\n",
            "Reactive Power (Q_gen): [37.38115789 40.44738087 11.79165197  7.33633467 10.95915525]\n",
            "========================================\n",
            "Test Case 40:\n",
            "Active Power (P_gen): [60.97 21.59 26.91 19.2  37.  ]\n",
            "Reactive Power (Q_gen): [37.38115789 40.44738087 11.79165197  7.33633467 10.95915525]\n",
            "========================================\n",
            "Test Case 41:\n",
            "Active Power (P_gen): [60.97 21.59 26.91 19.2  37.  ]\n",
            "Reactive Power (Q_gen): [37.38115789 40.44738087 11.79165197  7.33633467 10.95915525]\n",
            "========================================\n",
            "Test Case 42:\n",
            "Active Power (P_gen): [60.97 21.59 26.91 19.2  37.  ]\n",
            "Reactive Power (Q_gen): [37.38115789 40.44738087 11.79165197  7.33633467 10.95915525]\n",
            "========================================\n",
            "Test Case 43:\n",
            "Active Power (P_gen): [60.97 21.59 26.91 19.2  37.  ]\n",
            "Reactive Power (Q_gen): [37.38115789 40.44738087 11.79165197  7.33633467 10.95915525]\n",
            "========================================\n",
            "Test Case 44:\n",
            "Active Power (P_gen): [60.97 21.59 26.91 19.2  37.  ]\n",
            "Reactive Power (Q_gen): [37.38115789 40.44738087 11.79165197  7.33633467 10.95915525]\n",
            "========================================\n",
            "Test Case 45:\n",
            "Active Power (P_gen): [60.97 21.59 26.91 19.2  37.  ]\n",
            "Reactive Power (Q_gen): [37.38115789 40.44738087 11.79165197  7.33633467 10.95915525]\n",
            "========================================\n",
            "Test Case 46:\n",
            "Active Power (P_gen): [60.97 21.59 26.91 19.2  37.  ]\n",
            "Reactive Power (Q_gen): [37.38115789 40.44738087 11.79165197  7.33633467 10.95915525]\n",
            "========================================\n",
            "Test Case 47:\n",
            "Active Power (P_gen): [60.97 21.59 26.91 19.2  37.  ]\n",
            "Reactive Power (Q_gen): [37.38115789 40.44738087 11.79165197  7.33633467 10.95915525]\n",
            "========================================\n",
            "Test Case 48:\n",
            "Active Power (P_gen): [60.97 21.59 26.91 19.2  37.  ]\n",
            "Reactive Power (Q_gen): [37.38115789 40.44738087 11.79165197  7.33633467 10.95915525]\n",
            "========================================\n",
            "Test Case 49:\n",
            "Active Power (P_gen): [60.97 21.59 26.91 19.2  37.  ]\n",
            "Reactive Power (Q_gen): [37.38115789 40.44738087 11.79165197  7.33633467 10.95915525]\n",
            "========================================\n",
            "Test Case 50:\n",
            "Active Power (P_gen): [60.97 21.59 26.91 19.2  37.  ]\n",
            "Reactive Power (Q_gen): [37.38115789 40.44738087 11.79165197  7.33633467 10.95915525]\n",
            "========================================\n",
            "Test Case 51:\n",
            "Active Power (P_gen): [60.97 21.59 26.91 19.2  37.  ]\n",
            "Reactive Power (Q_gen): [37.38115789 40.44738087 11.79165197  7.33633467 10.95915525]\n",
            "========================================\n",
            "Test Case 52:\n",
            "Active Power (P_gen): [60.97 21.59 26.91 19.2  37.  ]\n",
            "Reactive Power (Q_gen): [37.38115789 40.44738087 11.79165197  7.33633467 10.95915525]\n",
            "========================================\n",
            "Test Case 53:\n",
            "Active Power (P_gen): [60.97 21.59 26.91 19.2  37.  ]\n",
            "Reactive Power (Q_gen): [37.38115789 40.44738087 11.79165197  7.33633467 10.95915525]\n",
            "========================================\n",
            "Test Case 54:\n",
            "Active Power (P_gen): [60.97 21.59 26.91 19.2  37.  ]\n",
            "Reactive Power (Q_gen): [37.38115789 40.44738087 11.79165197  7.33633467 10.95915525]\n",
            "========================================\n",
            "Test Case 55:\n",
            "Active Power (P_gen): [60.97 21.59 26.91 19.2  37.  ]\n",
            "Reactive Power (Q_gen): [37.38115789 40.44738087 11.79165197  7.33633467 10.95915525]\n",
            "========================================\n",
            "Test Case 56:\n",
            "Active Power (P_gen): [60.97 21.59 26.91 19.2  37.  ]\n",
            "Reactive Power (Q_gen): [37.38115789 40.44738087 11.79165197  7.33633467 10.95915525]\n",
            "========================================\n",
            "Test Case 57:\n",
            "Active Power (P_gen): [60.97 21.59 26.91 19.2  37.  ]\n",
            "Reactive Power (Q_gen): [37.38115789 40.44738087 11.79165197  7.33633467 10.95915525]\n",
            "========================================\n",
            "Test Case 58:\n",
            "Active Power (P_gen): [60.97 21.59 26.91 19.2  37.  ]\n",
            "Reactive Power (Q_gen): [37.38115789 40.44738087 11.79165197  7.33633467 10.95915525]\n",
            "========================================\n",
            "Test Case 59:\n",
            "Active Power (P_gen): [60.97 21.59 26.91 19.2  37.  ]\n",
            "Reactive Power (Q_gen): [37.38115789 40.44738087 11.79165197  7.33633467 10.95915525]\n",
            "========================================\n",
            "Test Case 60:\n",
            "Active Power (P_gen): [60.97 21.59 26.91 19.2  37.  ]\n",
            "Reactive Power (Q_gen): [37.38115789 40.44738087 11.79165197  7.33633467 10.95915525]\n",
            "========================================\n",
            "Test Case 61:\n",
            "Active Power (P_gen): [60.97 21.59 26.91 19.2  37.  ]\n",
            "Reactive Power (Q_gen): [37.38115789 40.44738087 11.79165197  7.33633467 10.95915525]\n",
            "========================================\n",
            "Test Case 62:\n",
            "Active Power (P_gen): [60.97 21.59 26.91 19.2  37.  ]\n",
            "Reactive Power (Q_gen): [37.38115789 40.44738087 11.79165197  7.33633467 10.95915525]\n",
            "========================================\n",
            "Test Case 63:\n",
            "Active Power (P_gen): [60.97 21.59 26.91 19.2  37.  ]\n",
            "Reactive Power (Q_gen): [37.38115789 40.44738087 11.79165197  7.33633467 10.95915525]\n",
            "========================================\n",
            "Test Case 64:\n",
            "Active Power (P_gen): [60.97 21.59 26.91 19.2  37.  ]\n",
            "Reactive Power (Q_gen): [37.38115789 40.44738087 11.79165197  7.33633467 10.95915525]\n",
            "========================================\n",
            "Test Case 65:\n",
            "Active Power (P_gen): [60.97 21.59 26.91 19.2  37.  ]\n",
            "Reactive Power (Q_gen): [37.38115789 40.44738087 11.79165197  7.33633467 10.95915525]\n",
            "========================================\n",
            "Test Case 66:\n",
            "Active Power (P_gen): [60.97 21.59 26.91 19.2  37.  ]\n",
            "Reactive Power (Q_gen): [37.38115789 40.44738087 11.79165197  7.33633467 10.95915525]\n",
            "========================================\n",
            "Test Case 67:\n",
            "Active Power (P_gen): [60.97 21.59 26.91 19.2  37.  ]\n",
            "Reactive Power (Q_gen): [37.38115789 40.44738087 11.79165197  7.33633467 10.95915525]\n",
            "========================================\n",
            "Test Case 68:\n",
            "Active Power (P_gen): [60.97 21.59 26.91 19.2  37.  ]\n",
            "Reactive Power (Q_gen): [37.38115789 40.44738087 11.79165197  7.33633467 10.95915525]\n",
            "========================================\n",
            "Test Case 69:\n",
            "Active Power (P_gen): [60.97 21.59 26.91 19.2  37.  ]\n",
            "Reactive Power (Q_gen): [37.38115789 40.44738087 11.79165197  7.33633467 10.95915525]\n",
            "========================================\n",
            "Test Case 70:\n",
            "Active Power (P_gen): [60.97 21.59 26.91 19.2  37.  ]\n",
            "Reactive Power (Q_gen): [37.38115789 40.44738087 11.79165197  7.33633467 10.95915525]\n",
            "========================================\n",
            "Test Case 71:\n",
            "Active Power (P_gen): [60.97 21.59 26.91 19.2  37.  ]\n",
            "Reactive Power (Q_gen): [37.38115789 40.44738087 11.79165197  7.33633467 10.95915525]\n",
            "========================================\n",
            "Test Case 72:\n",
            "Active Power (P_gen): [60.97 21.59 26.91 19.2  37.  ]\n",
            "Reactive Power (Q_gen): [37.38115789 40.44738087 11.79165197  7.33633467 10.95915525]\n",
            "========================================\n",
            "Test Case 73:\n",
            "Active Power (P_gen): [60.97 21.59 26.91 19.2  37.  ]\n",
            "Reactive Power (Q_gen): [37.38115789 40.44738087 11.79165197  7.33633467 10.95915525]\n",
            "========================================\n",
            "Test Case 74:\n",
            "Active Power (P_gen): [60.97 21.59 26.91 19.2  37.  ]\n",
            "Reactive Power (Q_gen): [37.38115789 40.44738087 11.79165197  7.33633467 10.95915525]\n",
            "========================================\n",
            "Test Case 75:\n",
            "Active Power (P_gen): [60.97 21.59 26.91 19.2  37.  ]\n",
            "Reactive Power (Q_gen): [37.38115789 40.44738087 11.79165197  7.33633467 10.95915525]\n",
            "========================================\n",
            "Test Case 76:\n",
            "Active Power (P_gen): [60.97 21.59 26.91 19.2  37.  ]\n",
            "Reactive Power (Q_gen): [37.38115789 40.44738087 11.79165197  7.33633467 10.95915525]\n",
            "========================================\n",
            "Test Case 77:\n",
            "Active Power (P_gen): [60.97 21.59 26.91 19.2  37.  ]\n",
            "Reactive Power (Q_gen): [37.38115789 40.44738087 11.79165197  7.33633467 10.95915525]\n",
            "========================================\n",
            "Test Case 78:\n",
            "Active Power (P_gen): [60.97 21.59 26.91 19.2  37.  ]\n",
            "Reactive Power (Q_gen): [37.38115789 40.44738087 11.79165197  7.33633467 10.95915525]\n",
            "========================================\n",
            "Test Case 79:\n",
            "Active Power (P_gen): [60.97 21.59 26.91 19.2  37.  ]\n",
            "Reactive Power (Q_gen): [37.38115789 40.44738087 11.79165197  7.33633467 10.95915525]\n",
            "========================================\n",
            "Test Case 80:\n",
            "Active Power (P_gen): [60.97 21.59 26.91 19.2  37.  ]\n",
            "Reactive Power (Q_gen): [37.38115789 40.44738087 11.79165197  7.33633467 10.95915525]\n",
            "========================================\n",
            "Test Case 81:\n",
            "Active Power (P_gen): [60.97 21.59 26.91 19.2  37.  ]\n",
            "Reactive Power (Q_gen): [37.38115789 40.44738087 11.79165197  7.33633467 10.95915525]\n",
            "========================================\n",
            "Test Case 82:\n",
            "Active Power (P_gen): [60.97 21.59 26.91 19.2  37.  ]\n",
            "Reactive Power (Q_gen): [37.38115789 40.44738087 11.79165197  7.33633467 10.95915525]\n",
            "========================================\n",
            "Test Case 83:\n",
            "Active Power (P_gen): [60.97 21.59 26.91 19.2  37.  ]\n",
            "Reactive Power (Q_gen): [37.38115789 40.44738087 11.79165197  7.33633467 10.95915525]\n",
            "========================================\n",
            "Test Case 84:\n",
            "Active Power (P_gen): [60.97 21.59 26.91 19.2  37.  ]\n",
            "Reactive Power (Q_gen): [37.38115789 40.44738087 11.79165197  7.33633467 10.95915525]\n",
            "========================================\n",
            "Test Case 85:\n",
            "Active Power (P_gen): [60.97 21.59 26.91 19.2  37.  ]\n",
            "Reactive Power (Q_gen): [37.38115789 40.44738087 11.79165197  7.33633467 10.95915525]\n",
            "========================================\n",
            "Test Case 86:\n",
            "Active Power (P_gen): [60.97 21.59 26.91 19.2  37.  ]\n",
            "Reactive Power (Q_gen): [37.38115789 40.44738087 11.79165197  7.33633467 10.95915525]\n",
            "========================================\n",
            "Test Case 87:\n",
            "Active Power (P_gen): [60.97 21.59 26.91 19.2  37.  ]\n",
            "Reactive Power (Q_gen): [37.38115789 40.44738087 11.79165197  7.33633467 10.95915525]\n",
            "========================================\n",
            "Test Case 88:\n",
            "Active Power (P_gen): [60.97 21.59 26.91 19.2  37.  ]\n",
            "Reactive Power (Q_gen): [37.38115789 40.44738087 11.79165197  7.33633467 10.95915525]\n",
            "========================================\n",
            "Test Case 89:\n",
            "Active Power (P_gen): [60.97 21.59 26.91 19.2  37.  ]\n",
            "Reactive Power (Q_gen): [37.38115789 40.44738087 11.79165197  7.33633467 10.95915525]\n",
            "========================================\n",
            "Test Case 90:\n",
            "Active Power (P_gen): [60.97 21.59 26.91 19.2  37.  ]\n",
            "Reactive Power (Q_gen): [37.38115789 40.44738087 11.79165197  7.33633467 10.95915525]\n",
            "========================================\n",
            "Test Case 91:\n",
            "Active Power (P_gen): [60.97 21.59 26.91 19.2  37.  ]\n",
            "Reactive Power (Q_gen): [37.38115789 40.44738087 11.79165197  7.33633467 10.95915525]\n",
            "========================================\n",
            "Test Case 92:\n",
            "Active Power (P_gen): [60.97 21.59 26.91 19.2  37.  ]\n",
            "Reactive Power (Q_gen): [37.38115789 40.44738087 11.79165197  7.33633467 10.95915525]\n",
            "========================================\n",
            "Test Case 93:\n",
            "Active Power (P_gen): [60.97 21.59 26.91 19.2  37.  ]\n",
            "Reactive Power (Q_gen): [37.38115789 40.44738087 11.79165197  7.33633467 10.95915525]\n",
            "========================================\n",
            "Test Case 94:\n",
            "Active Power (P_gen): [60.97 21.59 26.91 19.2  37.  ]\n",
            "Reactive Power (Q_gen): [37.38115789 40.44738087 11.79165197  7.33633467 10.95915525]\n",
            "========================================\n",
            "Test Case 95:\n",
            "Active Power (P_gen): [60.97 21.59 26.91 19.2  37.  ]\n",
            "Reactive Power (Q_gen): [37.38115789 40.44738087 11.79165197  7.33633467 10.95915525]\n",
            "========================================\n",
            "Test Case 96:\n",
            "Active Power (P_gen): [60.97 21.59 26.91 19.2  37.  ]\n",
            "Reactive Power (Q_gen): [37.38115789 40.44738087 11.79165197  7.33633467 10.95915525]\n",
            "========================================\n",
            "Test Case 97:\n",
            "Active Power (P_gen): [60.97 21.59 26.91 19.2  37.  ]\n",
            "Reactive Power (Q_gen): [37.38115789 40.44738087 11.79165197  7.33633467 10.95915525]\n",
            "========================================\n",
            "Test Case 98:\n",
            "Active Power (P_gen): [60.97 21.59 26.91 19.2  37.  ]\n",
            "Reactive Power (Q_gen): [37.38115789 40.44738087 11.79165197  7.33633467 10.95915525]\n",
            "========================================\n",
            "Test Case 99:\n",
            "Active Power (P_gen): [60.97 21.59 26.91 19.2  37.  ]\n",
            "Reactive Power (Q_gen): [37.38115789 40.44738087 11.79165197  7.33633467 10.95915525]\n",
            "========================================\n",
            "Test Case 100:\n",
            "Active Power (P_gen): [60.97 21.59 26.91 19.2  37.  ]\n",
            "Reactive Power (Q_gen): [37.38115789 40.44738087 11.79165197  7.33633467 10.95915525]\n",
            "========================================\n",
            "Test Case 101:\n",
            "Active Power (P_gen): [60.97 21.59 26.91 19.2  37.  ]\n",
            "Reactive Power (Q_gen): [37.38115789 40.44738087 11.79165197  7.33633467 10.95915525]\n",
            "========================================\n",
            "Test Case 102:\n",
            "Active Power (P_gen): [60.97 21.59 26.91 19.2  37.  ]\n",
            "Reactive Power (Q_gen): [37.38115789 40.44738087 11.79165197  7.33633467 10.95915525]\n",
            "========================================\n",
            "Generator outputs logged and saved to 'P_gen_changes.xlsx' and 'Q_gen_changes.xlsx'.\n"
          ]
        }
      ]
    },
    {
      "cell_type": "markdown",
      "source": [
        "# **IEEE 57 Bus DataSet Generation**\n",
        "\n",
        "Contains 57 buses, 7 generators, 42 loads, and 80 branches.\n",
        "\n",
        "Commonly used for testing load flow and contingency analysis."
      ],
      "metadata": {
        "id": "ySJfKeBtCDkF"
      }
    },
    {
      "cell_type": "code",
      "source": [
        "pip install pandapower"
      ],
      "metadata": {
        "colab": {
          "base_uri": "https://localhost:8080/"
        },
        "id": "RHOCYB1bOk0i",
        "outputId": "066f7775-07a2-47ca-8d12-3baa89ea6f60"
      },
      "execution_count": 12,
      "outputs": [
        {
          "output_type": "stream",
          "name": "stdout",
          "text": [
            "Requirement already satisfied: pandapower in /usr/local/lib/python3.10/dist-packages (2.14.11)\n",
            "Requirement already satisfied: pandas>=1.0 in /usr/local/lib/python3.10/dist-packages (from pandapower) (2.2.2)\n",
            "Requirement already satisfied: networkx>=2.5 in /usr/local/lib/python3.10/dist-packages (from pandapower) (3.4.2)\n",
            "Requirement already satisfied: scipy<1.14 in /usr/local/lib/python3.10/dist-packages (from pandapower) (1.13.1)\n",
            "Requirement already satisfied: numpy<2.0 in /usr/local/lib/python3.10/dist-packages (from pandapower) (1.26.4)\n",
            "Requirement already satisfied: packaging in /usr/local/lib/python3.10/dist-packages (from pandapower) (24.1)\n",
            "Requirement already satisfied: tqdm in /usr/local/lib/python3.10/dist-packages (from pandapower) (4.66.6)\n",
            "Requirement already satisfied: deepdiff in /usr/local/lib/python3.10/dist-packages (from pandapower) (8.0.1)\n",
            "Requirement already satisfied: python-dateutil>=2.8.2 in /usr/local/lib/python3.10/dist-packages (from pandas>=1.0->pandapower) (2.8.2)\n",
            "Requirement already satisfied: pytz>=2020.1 in /usr/local/lib/python3.10/dist-packages (from pandas>=1.0->pandapower) (2024.2)\n",
            "Requirement already satisfied: tzdata>=2022.7 in /usr/local/lib/python3.10/dist-packages (from pandas>=1.0->pandapower) (2024.2)\n",
            "Requirement already satisfied: orderly-set==5.2.2 in /usr/local/lib/python3.10/dist-packages (from deepdiff->pandapower) (5.2.2)\n",
            "Requirement already satisfied: six>=1.5 in /usr/local/lib/python3.10/dist-packages (from python-dateutil>=2.8.2->pandas>=1.0->pandapower) (1.16.0)\n"
          ]
        }
      ]
    },
    {
      "cell_type": "code",
      "source": [
        "import pandapower as pp\n",
        "import pandapower.networks as nw\n",
        "import pandas as pd\n",
        "import random\n",
        "import os\n",
        "\n",
        "# Create the output folder\n",
        "output_folder = \"datasets_57Bus\"\n",
        "os.makedirs(output_folder, exist_ok=True)\n",
        "\n",
        "# Load the 57-bus test system using pandapower\n",
        "net = nw.case57()\n",
        "\n",
        "# Number of datasets and samples per dataset\n",
        "num_datasets = 10\n",
        "samples_per_dataset = 2000\n",
        "variation_range = 0.4  # ±40% random load variation\n",
        "\n",
        "# Define the columns for the output Excel file\n",
        "bus_ids = net.bus.index\n",
        "columns = []\n",
        "\n",
        "# Create column names based on your dataset format\n",
        "for bus in bus_ids:\n",
        "    columns.extend([f\"P_{bus + 1} (PQ)\", f\"Q_{bus + 1} (PQ)\", f\"V_{bus + 1}\", f\"d_{bus + 1}\"])\n",
        "\n",
        "# Store original load values for resetting\n",
        "original_p_values = net.load['p_mw'].copy()\n",
        "original_q_values = net.load['q_mvar'].copy()\n",
        "\n",
        "# Generate the datasets\n",
        "for dataset_n in range(1, num_datasets + 1):\n",
        "    print(f\"Generating dataset {dataset_n}...\")\n",
        "\n",
        "    data = []\n",
        "\n",
        "    for sample in range(1, samples_per_dataset + 1):\n",
        "        # Reset the load values to the original values\n",
        "        net.load['p_mw'] = original_p_values\n",
        "        net.load['q_mvar'] = original_q_values\n",
        "\n",
        "        # Apply random variation based on the original values\n",
        "        for load in net.load.index:\n",
        "            net.load.at[load, 'p_mw'] = original_p_values[load] * (1 + random.uniform(-variation_range, variation_range))\n",
        "            net.load.at[load, 'q_mvar'] = original_q_values[load] * (1 + random.uniform(-variation_range, variation_range))\n",
        "\n",
        "        # Run AC power flow with Newton-Raphson algorithm\n",
        "        try:\n",
        "            pp.runpp(net, algorithm='nr', max_iteration=30)\n",
        "        except pp.LoadflowNotConverged:\n",
        "            print(f\"Load flow did not converge for sample {sample} in dataset {dataset_n}, skipping this sample.\")\n",
        "            continue\n",
        "\n",
        "        # Collect data for the current sample\n",
        "        row = []\n",
        "\n",
        "        for bus in bus_ids:\n",
        "            # Extract P and Q values for the bus (PQ buses only)\n",
        "            if bus in net.load['bus'].values:\n",
        "                p_load = net.res_load.loc[net.load[net.load['bus'] == bus].index, 'p_mw'].sum()\n",
        "                q_load = net.res_load.loc[net.load[net.load['bus'] == bus].index, 'q_mvar'].sum()\n",
        "            else:\n",
        "                p_load, q_load = 0, 0\n",
        "\n",
        "            # Extract V (voltage magnitude) and d (voltage angle)\n",
        "            v_mag = net.res_bus.at[bus, 'vm_pu']\n",
        "            v_ang = net.res_bus.at[bus, 'va_degree']\n",
        "\n",
        "            # Append data to the row in the specified format\n",
        "            row.extend([p_load, q_load, v_mag, v_ang])\n",
        "\n",
        "        # Add the row to the dataset\n",
        "        data.append(row)\n",
        "\n",
        "    # Create a DataFrame and add headers in the requested format\n",
        "    df = pd.DataFrame(data, columns=columns)\n",
        "    df.insert(0, \"Data\", [f\"Data {i + 1}\" for i in range(len(df))])\n",
        "    df.insert(0, \"Dataset\", [f\"PF Dataset_{dataset_n}\"] + [\"\"] * (len(df) - 1))\n",
        "\n",
        "    # Save the DataFrame to Excel\n",
        "    output_filename = os.path.join(output_folder, f\"PF_Dataset_{dataset_n}.xlsx\")\n",
        "    df.to_excel(output_filename, index=False)\n",
        "    print(f\"Dataset {dataset_n} saved to {output_filename}\")\n",
        "\n",
        "print(\"All datasets generated successfully.\")\n"
      ],
      "metadata": {
        "colab": {
          "base_uri": "https://localhost:8080/"
        },
        "id": "zKT0Xj1IOcrf",
        "outputId": "87bdc83d-c839-4026-bc85-e3909a108110"
      },
      "execution_count": 13,
      "outputs": [
        {
          "output_type": "stream",
          "name": "stdout",
          "text": [
            "Generating dataset 1...\n",
            "Dataset 1 saved to datasets_57Bus/PF_Dataset_1.xlsx\n",
            "Generating dataset 2...\n",
            "Dataset 2 saved to datasets_57Bus/PF_Dataset_2.xlsx\n",
            "Generating dataset 3...\n",
            "Dataset 3 saved to datasets_57Bus/PF_Dataset_3.xlsx\n",
            "Generating dataset 4...\n",
            "Dataset 4 saved to datasets_57Bus/PF_Dataset_4.xlsx\n",
            "Generating dataset 5...\n",
            "Dataset 5 saved to datasets_57Bus/PF_Dataset_5.xlsx\n",
            "Generating dataset 6...\n",
            "Dataset 6 saved to datasets_57Bus/PF_Dataset_6.xlsx\n",
            "Generating dataset 7...\n",
            "Dataset 7 saved to datasets_57Bus/PF_Dataset_7.xlsx\n",
            "Generating dataset 8...\n",
            "Dataset 8 saved to datasets_57Bus/PF_Dataset_8.xlsx\n",
            "Generating dataset 9...\n",
            "Dataset 9 saved to datasets_57Bus/PF_Dataset_9.xlsx\n",
            "Generating dataset 10...\n",
            "Dataset 10 saved to datasets_57Bus/PF_Dataset_10.xlsx\n",
            "All datasets generated successfully.\n"
          ]
        }
      ]
    },
    {
      "cell_type": "markdown",
      "source": [
        "**57 Bus Generator Limits**\n",
        "\n",
        " Generated Active and Reactive Power (P and Q) should be bounded by their maximum and minimum capability for each bus.\n",
        "\n",
        " Otherwise the OPF will not converge for the network."
      ],
      "metadata": {
        "id": "0my7n9SIPNvr"
      }
    },
    {
      "cell_type": "code",
      "source": [
        "# Import pandas for cleaner output\n",
        "import pandas as pd\n",
        "\n",
        "# generator bus information\n",
        "gen_buses = net.gen['bus'].values  # The bus indices with generators\n",
        "p_gen = net.res_gen['p_mw'].values\n",
        "q_gen = net.res_gen['q_mvar'].values\n",
        "\n",
        "# detailed information for each generator\n",
        "print(\"Generator Information:\")\n",
        "for i, bus in enumerate(gen_buses):\n",
        "    p_max = net.gen.at[i, 'max_p_mw'] if 'max_p_mw' in net.gen.columns else \"N/A\"\n",
        "    q_max = net.gen.at[i, 'max_q_mvar'] if 'max_q_mvar' in net.gen.columns else \"N/A\"\n",
        "    print(f\"Bus {bus} | Active Power (P_gen): {p_gen[i]:.2f} MW | Reactive Power (Q_gen): {q_gen[i]:.2f} MVar | P_max: {p_max} MW | Q_max: {q_max} MVar\")\n",
        "\n",
        "print(\"\\nFull Generator DataFrame:\")\n",
        "print(net.gen)\n"
      ],
      "metadata": {
        "colab": {
          "base_uri": "https://localhost:8080/"
        },
        "id": "A0XK26Y4CDUc",
        "outputId": "339174ab-6db4-4976-9353-ded89e057daf"
      },
      "execution_count": 15,
      "outputs": [
        {
          "output_type": "stream",
          "name": "stdout",
          "text": [
            "Generator Information:\n",
            "Bus 1 | Active Power (P_gen): 0.00 MW | Reactive Power (Q_gen): 29.40 MVar | P_max: 100.0 MW | Q_max: 50.0 MVar\n",
            "Bus 2 | Active Power (P_gen): 40.00 MW | Reactive Power (Q_gen): -9.46 MVar | P_max: 140.0 MW | Q_max: 60.0 MVar\n",
            "Bus 5 | Active Power (P_gen): 0.00 MW | Reactive Power (Q_gen): 12.11 MVar | P_max: 100.0 MW | Q_max: 25.0 MVar\n",
            "Bus 7 | Active Power (P_gen): 450.00 MW | Reactive Power (Q_gen): 74.54 MVar | P_max: 550.0 MW | Q_max: 200.0 MVar\n",
            "Bus 8 | Active Power (P_gen): 0.00 MW | Reactive Power (Q_gen): -21.24 MVar | P_max: 100.0 MW | Q_max: 9.0 MVar\n",
            "Bus 11 | Active Power (P_gen): 310.00 MW | Reactive Power (Q_gen): 109.47 MVar | P_max: 410.0 MW | Q_max: 155.0 MVar\n",
            "\n",
            "Full Generator DataFrame:\n",
            "   name  bus   p_mw  vm_pu  sn_mva  min_q_mvar  max_q_mvar  scaling  slack  \\\n",
            "0  None    1    0.0  1.010     NaN       -17.0        50.0      1.0  False   \n",
            "1  None    2   40.0  0.985     NaN       -10.0        60.0      1.0  False   \n",
            "2  None    5    0.0  0.980     NaN        -8.0        25.0      1.0  False   \n",
            "3  None    7  450.0  1.005     NaN      -140.0       200.0      1.0  False   \n",
            "4  None    8    0.0  0.980     NaN        -3.0         9.0      1.0  False   \n",
            "5  None   11  310.0  1.015     NaN      -150.0       155.0      1.0  False   \n",
            "\n",
            "   in_service  slack_weight  type  controllable  max_p_mw  min_p_mw  \n",
            "0        True           0.0  None          True     100.0       0.0  \n",
            "1        True           0.0  None          True     140.0       0.0  \n",
            "2        True           0.0  None          True     100.0       0.0  \n",
            "3        True           0.0  None          True     550.0       0.0  \n",
            "4        True           0.0  None          True     100.0       0.0  \n",
            "5        True           0.0  None          True     410.0       0.0  \n"
          ]
        }
      ]
    },
    {
      "cell_type": "markdown",
      "source": [
        "# **Histogram**\n",
        "\n",
        "Histograms is used to see which architecture has a better and more consistent performance (narrower, left-skewed distribution)\n",
        "\n",
        "Histograms is used to compare:\n",
        "\n",
        "1.   Different bus systems (e.g., 14-bus vs. 30-bus vs. 57-bus) using the same GNN architecture.\n",
        "\n",
        "2.   It can also be used to compare different GNN architectures for a same network to see the effect\n",
        "\n",
        "\n",
        "**Histogram Goal:**\n",
        "\n",
        "\n",
        "\n",
        "*   Mean and Median Values: Lower mean and median values indicate better performance.\n",
        "\n",
        "*   Spread of Distribution: A narrower histogram indicates more consistent performance (less variance).\n",
        "\n",
        "*   Left-Skewed Distribution: A left-skewed histogram (with most losses near zero) indicates good generalization.\n",
        "\n"
      ],
      "metadata": {
        "id": "pmyF3Eb1KKQv"
      }
    },
    {
      "cell_type": "code",
      "source": [
        "import numpy as np\n",
        "import pandas as pd\n",
        "import matplotlib.pyplot as plt\n",
        "\n",
        "# Load the test loss data from each Excel file\n",
        "bus_14_loss_data = pd.read_excel('[14 bus] Test Losses.xlsx').values.flatten()\n",
        "bus_30_loss_data = pd.read_excel('[30 bus] Test Losses.xlsx').values.flatten()\n",
        "\n",
        "# mean and median for each bus system\n",
        "mean_14 = np.mean(bus_14_loss_data)\n",
        "median_14 = np.median(bus_14_loss_data)\n",
        "\n",
        "mean_30 = np.mean(bus_30_loss_data)\n",
        "median_30 = np.median(bus_30_loss_data)\n",
        "\n",
        "\n",
        "# Print the statistics\n",
        "print(f\"14-bus system - Mean: {mean_14:.5f}, Median: {median_14:.5f}\")\n",
        "print(f\"30-bus system - Mean: {mean_30:.5f}, Median: {median_30:.5f}\")\n",
        "\n",
        "# histogram plotting parameters\n",
        "kwargs = dict(histtype='stepfilled', alpha=0.5, density=True, bins=20)\n",
        "\n",
        "# labels for the histograms\n",
        "label_14 = f\"14-bus, Mean: {mean_14:.5f}, Median: {median_14:.5f}\"\n",
        "label_30 = f\"30-bus, Mean: {mean_30:.5f}, Median: {median_30:.5f}\"\n",
        "\n",
        "# Plot the histograms\n",
        "plt.figure(figsize=(10, 6))\n",
        "plt.hist(bus_14_loss_data, label=label_14, **kwargs)\n",
        "plt.hist(bus_30_loss_data, label=label_30, **kwargs)\n",
        "\n",
        "# plot details\n",
        "plt.title('Comparison of Test Loss Distributions Across Different Test Case Networks')\n",
        "plt.xlabel('Test Loss (MSE or NRMSE)')\n",
        "plt.ylabel('Density')\n",
        "plt.legend(loc='upper right')\n",
        "plt.grid(True)\n",
        "plt.show()\n"
      ],
      "metadata": {
        "colab": {
          "base_uri": "https://localhost:8080/",
          "height": 356
        },
        "id": "Qc_Y31iUKMWJ",
        "outputId": "2f667993-768e-4851-f639-55e1b9b9912a"
      },
      "execution_count": 11,
      "outputs": [
        {
          "output_type": "error",
          "ename": "FileNotFoundError",
          "evalue": "[Errno 2] No such file or directory: '[14 bus] Test Losses.xlsx'",
          "traceback": [
            "\u001b[0;31m---------------------------------------------------------------------------\u001b[0m",
            "\u001b[0;31mFileNotFoundError\u001b[0m                         Traceback (most recent call last)",
            "\u001b[0;32m<ipython-input-11-bf62279d52f2>\u001b[0m in \u001b[0;36m<cell line: 6>\u001b[0;34m()\u001b[0m\n\u001b[1;32m      4\u001b[0m \u001b[0;34m\u001b[0m\u001b[0m\n\u001b[1;32m      5\u001b[0m \u001b[0;31m# Load the test loss data from each Excel file\u001b[0m\u001b[0;34m\u001b[0m\u001b[0;34m\u001b[0m\u001b[0m\n\u001b[0;32m----> 6\u001b[0;31m \u001b[0mbus_14_loss_data\u001b[0m \u001b[0;34m=\u001b[0m \u001b[0mpd\u001b[0m\u001b[0;34m.\u001b[0m\u001b[0mread_excel\u001b[0m\u001b[0;34m(\u001b[0m\u001b[0;34m'[14 bus] Test Losses.xlsx'\u001b[0m\u001b[0;34m)\u001b[0m\u001b[0;34m.\u001b[0m\u001b[0mvalues\u001b[0m\u001b[0;34m.\u001b[0m\u001b[0mflatten\u001b[0m\u001b[0;34m(\u001b[0m\u001b[0;34m)\u001b[0m\u001b[0;34m\u001b[0m\u001b[0;34m\u001b[0m\u001b[0m\n\u001b[0m\u001b[1;32m      7\u001b[0m \u001b[0mbus_30_loss_data\u001b[0m \u001b[0;34m=\u001b[0m \u001b[0mpd\u001b[0m\u001b[0;34m.\u001b[0m\u001b[0mread_excel\u001b[0m\u001b[0;34m(\u001b[0m\u001b[0;34m'[30 bus] Test Losses.xlsx'\u001b[0m\u001b[0;34m)\u001b[0m\u001b[0;34m.\u001b[0m\u001b[0mvalues\u001b[0m\u001b[0;34m.\u001b[0m\u001b[0mflatten\u001b[0m\u001b[0;34m(\u001b[0m\u001b[0;34m)\u001b[0m\u001b[0;34m\u001b[0m\u001b[0;34m\u001b[0m\u001b[0m\n\u001b[1;32m      8\u001b[0m \u001b[0;34m\u001b[0m\u001b[0m\n",
            "\u001b[0;32m/usr/local/lib/python3.10/dist-packages/pandas/io/excel/_base.py\u001b[0m in \u001b[0;36mread_excel\u001b[0;34m(io, sheet_name, header, names, index_col, usecols, dtype, engine, converters, true_values, false_values, skiprows, nrows, na_values, keep_default_na, na_filter, verbose, parse_dates, date_parser, date_format, thousands, decimal, comment, skipfooter, storage_options, dtype_backend, engine_kwargs)\u001b[0m\n\u001b[1;32m    493\u001b[0m     \u001b[0;32mif\u001b[0m \u001b[0;32mnot\u001b[0m \u001b[0misinstance\u001b[0m\u001b[0;34m(\u001b[0m\u001b[0mio\u001b[0m\u001b[0;34m,\u001b[0m \u001b[0mExcelFile\u001b[0m\u001b[0;34m)\u001b[0m\u001b[0;34m:\u001b[0m\u001b[0;34m\u001b[0m\u001b[0;34m\u001b[0m\u001b[0m\n\u001b[1;32m    494\u001b[0m         \u001b[0mshould_close\u001b[0m \u001b[0;34m=\u001b[0m \u001b[0;32mTrue\u001b[0m\u001b[0;34m\u001b[0m\u001b[0;34m\u001b[0m\u001b[0m\n\u001b[0;32m--> 495\u001b[0;31m         io = ExcelFile(\n\u001b[0m\u001b[1;32m    496\u001b[0m             \u001b[0mio\u001b[0m\u001b[0;34m,\u001b[0m\u001b[0;34m\u001b[0m\u001b[0;34m\u001b[0m\u001b[0m\n\u001b[1;32m    497\u001b[0m             \u001b[0mstorage_options\u001b[0m\u001b[0;34m=\u001b[0m\u001b[0mstorage_options\u001b[0m\u001b[0;34m,\u001b[0m\u001b[0;34m\u001b[0m\u001b[0;34m\u001b[0m\u001b[0m\n",
            "\u001b[0;32m/usr/local/lib/python3.10/dist-packages/pandas/io/excel/_base.py\u001b[0m in \u001b[0;36m__init__\u001b[0;34m(self, path_or_buffer, engine, storage_options, engine_kwargs)\u001b[0m\n\u001b[1;32m   1548\u001b[0m                 \u001b[0mext\u001b[0m \u001b[0;34m=\u001b[0m \u001b[0;34m\"xls\"\u001b[0m\u001b[0;34m\u001b[0m\u001b[0;34m\u001b[0m\u001b[0m\n\u001b[1;32m   1549\u001b[0m             \u001b[0;32melse\u001b[0m\u001b[0;34m:\u001b[0m\u001b[0;34m\u001b[0m\u001b[0;34m\u001b[0m\u001b[0m\n\u001b[0;32m-> 1550\u001b[0;31m                 ext = inspect_excel_format(\n\u001b[0m\u001b[1;32m   1551\u001b[0m                     \u001b[0mcontent_or_path\u001b[0m\u001b[0;34m=\u001b[0m\u001b[0mpath_or_buffer\u001b[0m\u001b[0;34m,\u001b[0m \u001b[0mstorage_options\u001b[0m\u001b[0;34m=\u001b[0m\u001b[0mstorage_options\u001b[0m\u001b[0;34m\u001b[0m\u001b[0;34m\u001b[0m\u001b[0m\n\u001b[1;32m   1552\u001b[0m                 )\n",
            "\u001b[0;32m/usr/local/lib/python3.10/dist-packages/pandas/io/excel/_base.py\u001b[0m in \u001b[0;36minspect_excel_format\u001b[0;34m(content_or_path, storage_options)\u001b[0m\n\u001b[1;32m   1400\u001b[0m         \u001b[0mcontent_or_path\u001b[0m \u001b[0;34m=\u001b[0m \u001b[0mBytesIO\u001b[0m\u001b[0;34m(\u001b[0m\u001b[0mcontent_or_path\u001b[0m\u001b[0;34m)\u001b[0m\u001b[0;34m\u001b[0m\u001b[0;34m\u001b[0m\u001b[0m\n\u001b[1;32m   1401\u001b[0m \u001b[0;34m\u001b[0m\u001b[0m\n\u001b[0;32m-> 1402\u001b[0;31m     with get_handle(\n\u001b[0m\u001b[1;32m   1403\u001b[0m         \u001b[0mcontent_or_path\u001b[0m\u001b[0;34m,\u001b[0m \u001b[0;34m\"rb\"\u001b[0m\u001b[0;34m,\u001b[0m \u001b[0mstorage_options\u001b[0m\u001b[0;34m=\u001b[0m\u001b[0mstorage_options\u001b[0m\u001b[0;34m,\u001b[0m \u001b[0mis_text\u001b[0m\u001b[0;34m=\u001b[0m\u001b[0;32mFalse\u001b[0m\u001b[0;34m\u001b[0m\u001b[0;34m\u001b[0m\u001b[0m\n\u001b[1;32m   1404\u001b[0m     ) as handle:\n",
            "\u001b[0;32m/usr/local/lib/python3.10/dist-packages/pandas/io/common.py\u001b[0m in \u001b[0;36mget_handle\u001b[0;34m(path_or_buf, mode, encoding, compression, memory_map, is_text, errors, storage_options)\u001b[0m\n\u001b[1;32m    880\u001b[0m         \u001b[0;32melse\u001b[0m\u001b[0;34m:\u001b[0m\u001b[0;34m\u001b[0m\u001b[0;34m\u001b[0m\u001b[0m\n\u001b[1;32m    881\u001b[0m             \u001b[0;31m# Binary mode\u001b[0m\u001b[0;34m\u001b[0m\u001b[0;34m\u001b[0m\u001b[0m\n\u001b[0;32m--> 882\u001b[0;31m             \u001b[0mhandle\u001b[0m \u001b[0;34m=\u001b[0m \u001b[0mopen\u001b[0m\u001b[0;34m(\u001b[0m\u001b[0mhandle\u001b[0m\u001b[0;34m,\u001b[0m \u001b[0mioargs\u001b[0m\u001b[0;34m.\u001b[0m\u001b[0mmode\u001b[0m\u001b[0;34m)\u001b[0m\u001b[0;34m\u001b[0m\u001b[0;34m\u001b[0m\u001b[0m\n\u001b[0m\u001b[1;32m    883\u001b[0m         \u001b[0mhandles\u001b[0m\u001b[0;34m.\u001b[0m\u001b[0mappend\u001b[0m\u001b[0;34m(\u001b[0m\u001b[0mhandle\u001b[0m\u001b[0;34m)\u001b[0m\u001b[0;34m\u001b[0m\u001b[0;34m\u001b[0m\u001b[0m\n\u001b[1;32m    884\u001b[0m \u001b[0;34m\u001b[0m\u001b[0m\n",
            "\u001b[0;31mFileNotFoundError\u001b[0m: [Errno 2] No such file or directory: '[14 bus] Test Losses.xlsx'"
          ]
        }
      ]
    },
    {
      "cell_type": "code",
      "source": [],
      "metadata": {
        "id": "7Wqd4N8uM6os"
      },
      "execution_count": null,
      "outputs": []
    }
  ]
}