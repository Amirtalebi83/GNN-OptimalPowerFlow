{
  "nbformat": 4,
  "nbformat_minor": 0,
  "metadata": {
    "colab": {
      "provenance": []
    },
    "kernelspec": {
      "name": "python3",
      "display_name": "Python 3"
    },
    "language_info": {
      "name": "python"
    }
  },
  "cells": [
    {
      "cell_type": "code",
      "execution_count": 19,
      "metadata": {
        "colab": {
          "base_uri": "https://localhost:8080/"
        },
        "id": "IEZO9Oc5ifIT",
        "outputId": "7a66ed21-9714-44cb-eaff-35aaa38870e1"
      },
      "outputs": [
        {
          "output_type": "stream",
          "name": "stdout",
          "text": [
            "Mounted at /content/drive\n",
            "Cloning into 'GNN-OptimalPowerFlow'...\n",
            "remote: Enumerating objects: 180, done.\u001b[K\n",
            "remote: Counting objects: 100% (12/12), done.\u001b[K\n",
            "remote: Compressing objects: 100% (6/6), done.\u001b[K\n",
            "remote: Total 180 (delta 8), reused 9 (delta 6), pack-reused 168 (from 1)\u001b[K\n",
            "Receiving objects: 100% (180/180), 64.67 MiB | 14.36 MiB/s, done.\n",
            "Resolving deltas: 100% (17/17), done.\n",
            "/content/GNN-OptimalPowerFlow\n",
            "'dataset generation'   document  'jupyter notebook'   README.md\n"
          ]
        }
      ],
      "source": [
        "# Mount Google Drive\n",
        "from google.colab import drive\n",
        "drive.mount('/content/drive')\n",
        "\n",
        "# Clone GitHub repository\n",
        "!git clone https://github.com/Amirtalebi83/GNN-OptimalPowerFlow.git\n",
        "%cd GNN-OptimalPowerFlow\n",
        "\n",
        "# Check the contents of the cloned repo\n",
        "!ls\n"
      ]
    },
    {
      "cell_type": "code",
      "source": [
        "# Install PyTorch and PyTorch Geometric\n",
        "!pip install torch\n",
        "!pip install torch-geometric\n",
        "!pip install pandas openpyxl  # For data handling\n"
      ],
      "metadata": {
        "colab": {
          "base_uri": "https://localhost:8080/"
        },
        "id": "tFKnT4mUkcMj",
        "outputId": "944d43a8-67f8-4f6a-ed08-7679e23724ef"
      },
      "execution_count": 18,
      "outputs": [
        {
          "output_type": "stream",
          "name": "stdout",
          "text": [
            "Requirement already satisfied: torch in /usr/local/lib/python3.10/dist-packages (2.5.0+cu121)\n",
            "Requirement already satisfied: filelock in /usr/local/lib/python3.10/dist-packages (from torch) (3.16.1)\n",
            "Requirement already satisfied: typing-extensions>=4.8.0 in /usr/local/lib/python3.10/dist-packages (from torch) (4.12.2)\n",
            "Requirement already satisfied: networkx in /usr/local/lib/python3.10/dist-packages (from torch) (3.4.2)\n",
            "Requirement already satisfied: jinja2 in /usr/local/lib/python3.10/dist-packages (from torch) (3.1.4)\n",
            "Requirement already satisfied: fsspec in /usr/local/lib/python3.10/dist-packages (from torch) (2024.10.0)\n",
            "Requirement already satisfied: sympy==1.13.1 in /usr/local/lib/python3.10/dist-packages (from torch) (1.13.1)\n",
            "Requirement already satisfied: mpmath<1.4,>=1.1.0 in /usr/local/lib/python3.10/dist-packages (from sympy==1.13.1->torch) (1.3.0)\n",
            "Requirement already satisfied: MarkupSafe>=2.0 in /usr/local/lib/python3.10/dist-packages (from jinja2->torch) (3.0.2)\n",
            "Collecting torch-geometric\n",
            "  Downloading torch_geometric-2.6.1-py3-none-any.whl.metadata (63 kB)\n",
            "\u001b[2K     \u001b[90m━━━━━━━━━━━━━━━━━━━━━━━━━━━━━━━━━━━━━━━━\u001b[0m \u001b[32m63.1/63.1 kB\u001b[0m \u001b[31m1.5 MB/s\u001b[0m eta \u001b[36m0:00:00\u001b[0m\n",
            "\u001b[?25hRequirement already satisfied: aiohttp in /usr/local/lib/python3.10/dist-packages (from torch-geometric) (3.10.10)\n",
            "Requirement already satisfied: fsspec in /usr/local/lib/python3.10/dist-packages (from torch-geometric) (2024.10.0)\n",
            "Requirement already satisfied: jinja2 in /usr/local/lib/python3.10/dist-packages (from torch-geometric) (3.1.4)\n",
            "Requirement already satisfied: numpy in /usr/local/lib/python3.10/dist-packages (from torch-geometric) (1.26.4)\n",
            "Requirement already satisfied: psutil>=5.8.0 in /usr/local/lib/python3.10/dist-packages (from torch-geometric) (5.9.5)\n",
            "Requirement already satisfied: pyparsing in /usr/local/lib/python3.10/dist-packages (from torch-geometric) (3.2.0)\n",
            "Requirement already satisfied: requests in /usr/local/lib/python3.10/dist-packages (from torch-geometric) (2.32.3)\n",
            "Requirement already satisfied: tqdm in /usr/local/lib/python3.10/dist-packages (from torch-geometric) (4.66.6)\n",
            "Requirement already satisfied: aiohappyeyeballs>=2.3.0 in /usr/local/lib/python3.10/dist-packages (from aiohttp->torch-geometric) (2.4.3)\n",
            "Requirement already satisfied: aiosignal>=1.1.2 in /usr/local/lib/python3.10/dist-packages (from aiohttp->torch-geometric) (1.3.1)\n",
            "Requirement already satisfied: attrs>=17.3.0 in /usr/local/lib/python3.10/dist-packages (from aiohttp->torch-geometric) (24.2.0)\n",
            "Requirement already satisfied: frozenlist>=1.1.1 in /usr/local/lib/python3.10/dist-packages (from aiohttp->torch-geometric) (1.5.0)\n",
            "Requirement already satisfied: multidict<7.0,>=4.5 in /usr/local/lib/python3.10/dist-packages (from aiohttp->torch-geometric) (6.1.0)\n",
            "Requirement already satisfied: yarl<2.0,>=1.12.0 in /usr/local/lib/python3.10/dist-packages (from aiohttp->torch-geometric) (1.17.1)\n",
            "Requirement already satisfied: async-timeout<5.0,>=4.0 in /usr/local/lib/python3.10/dist-packages (from aiohttp->torch-geometric) (4.0.3)\n",
            "Requirement already satisfied: MarkupSafe>=2.0 in /usr/local/lib/python3.10/dist-packages (from jinja2->torch-geometric) (3.0.2)\n",
            "Requirement already satisfied: charset-normalizer<4,>=2 in /usr/local/lib/python3.10/dist-packages (from requests->torch-geometric) (3.4.0)\n",
            "Requirement already satisfied: idna<4,>=2.5 in /usr/local/lib/python3.10/dist-packages (from requests->torch-geometric) (3.10)\n",
            "Requirement already satisfied: urllib3<3,>=1.21.1 in /usr/local/lib/python3.10/dist-packages (from requests->torch-geometric) (2.2.3)\n",
            "Requirement already satisfied: certifi>=2017.4.17 in /usr/local/lib/python3.10/dist-packages (from requests->torch-geometric) (2024.8.30)\n",
            "Requirement already satisfied: typing-extensions>=4.1.0 in /usr/local/lib/python3.10/dist-packages (from multidict<7.0,>=4.5->aiohttp->torch-geometric) (4.12.2)\n",
            "Requirement already satisfied: propcache>=0.2.0 in /usr/local/lib/python3.10/dist-packages (from yarl<2.0,>=1.12.0->aiohttp->torch-geometric) (0.2.0)\n",
            "Downloading torch_geometric-2.6.1-py3-none-any.whl (1.1 MB)\n",
            "\u001b[2K   \u001b[90m━━━━━━━━━━━━━━━━━━━━━━━━━━━━━━━━━━━━━━━━\u001b[0m \u001b[32m1.1/1.1 MB\u001b[0m \u001b[31m17.1 MB/s\u001b[0m eta \u001b[36m0:00:00\u001b[0m\n",
            "\u001b[?25hInstalling collected packages: torch-geometric\n",
            "Successfully installed torch-geometric-2.6.1\n",
            "Requirement already satisfied: pandas in /usr/local/lib/python3.10/dist-packages (2.2.2)\n",
            "Requirement already satisfied: openpyxl in /usr/local/lib/python3.10/dist-packages (3.1.5)\n",
            "Requirement already satisfied: numpy>=1.22.4 in /usr/local/lib/python3.10/dist-packages (from pandas) (1.26.4)\n",
            "Requirement already satisfied: python-dateutil>=2.8.2 in /usr/local/lib/python3.10/dist-packages (from pandas) (2.8.2)\n",
            "Requirement already satisfied: pytz>=2020.1 in /usr/local/lib/python3.10/dist-packages (from pandas) (2024.2)\n",
            "Requirement already satisfied: tzdata>=2022.7 in /usr/local/lib/python3.10/dist-packages (from pandas) (2024.2)\n",
            "Requirement already satisfied: et-xmlfile in /usr/local/lib/python3.10/dist-packages (from openpyxl) (2.0.0)\n",
            "Requirement already satisfied: six>=1.5 in /usr/local/lib/python3.10/dist-packages (from python-dateutil>=2.8.2->pandas) (1.16.0)\n"
          ]
        }
      ]
    },
    {
      "cell_type": "markdown",
      "source": [
        "# **Import Libraries**\n",
        "\n",
        "\n",
        "\n"
      ],
      "metadata": {
        "id": "PAXH3kw-lhBp"
      }
    },
    {
      "cell_type": "code",
      "source": [
        "import torch\n",
        "import torch.nn as nn\n",
        "import torch.nn.functional as F\n",
        "from torch.nn import Linear\n",
        "import torch_geometric.nn as pyg_nn\n",
        "from torch_geometric.nn import GCNConv, GraphConv, SAGEConv, GATConv, ChebConv\n",
        "from torch_geometric.data import Data, DataLoader\n",
        "\n",
        "import numpy as np\n",
        "import pandas as pd\n",
        "import matplotlib.pyplot as plt\n",
        "\n",
        "# Set print options for better readability\n",
        "np.set_printoptions(precision=5, suppress=True)\n",
        "torch.set_printoptions(precision=5, sci_mode=False)\n"
      ],
      "metadata": {
        "id": "baBqQiLOjL_U"
      },
      "execution_count": 20,
      "outputs": []
    },
    {
      "cell_type": "code",
      "source": [
        "def slice_dataset(dataset, percentage):\n",
        "    data_size = len(dataset)\n",
        "    return dataset[:int(data_size * percentage / 100)]\n",
        "\n",
        "def make_dataset(dataset, n_bus):\n",
        "    x_raw, y_raw = [], []\n",
        "\n",
        "    for i in range(len(dataset)):\n",
        "        x_sample, y_sample = [], []\n",
        "        for n in range(n_bus):\n",
        "            # Assume P and Q are inputs\n",
        "            x_sample.append([dataset[i, 4*n+1], dataset[i, 4*n+2]])  # [P, Q]\n",
        "            y_sample.extend(dataset[i, 4*n+3:4*n+5])  # [V, delta]\n",
        "\n",
        "        x_raw.append(x_sample)\n",
        "        y_raw.append(y_sample)\n",
        "\n",
        "    x_raw = torch.tensor(x_raw, dtype=torch.float)\n",
        "    y_raw = torch.tensor(y_raw, dtype=torch.float)\n",
        "    return x_raw, y_raw\n",
        "\n",
        "def normalize_dataset(x, y):\n",
        "    x_mean, x_std = torch.mean(x, 0), torch.std(x, 0)\n",
        "    y_mean, y_std = torch.mean(y, 0), torch.std(y, 0)\n",
        "    x_norm = (x - x_mean) / x_std\n",
        "    y_norm = (y - y_mean) / y_std\n",
        "    return x_norm, y_norm, x_mean, y_mean, x_std, y_std\n",
        "\n",
        "def denormalize_output(y_norm, y_mean, y_std):\n",
        "    return y_norm * y_std + y_mean\n",
        "\n",
        "def MSE(yhat, y):\n",
        "    return torch.mean((yhat - y) ** 2)\n"
      ],
      "metadata": {
        "id": "CRoUAOdUji6k"
      },
      "execution_count": 21,
      "outputs": []
    },
    {
      "cell_type": "markdown",
      "source": [
        "# **Load Dataset**"
      ],
      "metadata": {
        "id": "5ESaGHxvmHAO"
      }
    },
    {
      "cell_type": "code",
      "source": [
        "# Load dataset from Excel files\n",
        "dataset1 = pd.read_excel('/content/GNN-OptimalPowerFlow/jupyter notebook/dataset/Grid_14 bus_1.xlsx').values\n",
        "dataset2 = pd.read_excel('/content/GNN-OptimalPowerFlow/jupyter notebook/dataset/Grid_14 bus_2.xlsx').values\n",
        "\n",
        "# Split the dataset\n",
        "train_percentage = 100\n",
        "val_percentage = 100\n",
        "\n",
        "train_dataset = slice_dataset(dataset1, train_percentage)\n",
        "val_dataset = slice_dataset(dataset2, val_percentage)\n",
        "\n",
        "n_bus = 14\n",
        "\n",
        "# Prepare training and validation data\n",
        "x_raw_train, y_raw_train = make_dataset(train_dataset, n_bus)\n",
        "x_raw_val, y_raw_val = make_dataset(val_dataset, n_bus)\n",
        "\n",
        "# Normalize the data\n",
        "x_norm_train, y_norm_train, _, _, _, _ = normalize_dataset(x_raw_train, y_raw_train)\n",
        "x_norm_val, y_norm_val, x_val_mean, y_val_mean, x_val_std, y_val_std = normalize_dataset(x_raw_val, y_raw_val)\n",
        "\n",
        "# Prepare DataLoader for PyTorch Geometric\n",
        "edge_index = torch.tensor([[0, 1, 1, 2, 1, 3, 2, 4, 3, 5, 4, 6, 4, 7, 5, 8, 5, 9, 1, 10, 10, 11, 11, 12, 11, 13],\n",
        "                           [1, 0, 2, 1, 3, 1, 4, 2, 5, 3, 6, 4, 7, 4, 8, 5, 9, 5, 10, 1, 11, 10, 12, 11, 13, 11]], dtype=torch.long)\n",
        "\n",
        "# Create Data objects for PyTorch Geometric\n",
        "train_data_list = [Data(x=x, y=y, edge_index=edge_index) for x, y in zip(x_norm_train, y_norm_train)]\n",
        "val_data_list = [Data(x=x, y=y, edge_index=edge_index) for x, y in zip(x_norm_val, y_norm_val)]\n",
        "\n",
        "train_loader = DataLoader(train_data_list, batch_size=1)\n",
        "val_loader = DataLoader(val_data_list, batch_size=1)\n"
      ],
      "metadata": {
        "colab": {
          "base_uri": "https://localhost:8080/"
        },
        "id": "Oxr4mBoojyA-",
        "outputId": "5d772e41-7a2e-4db2-f693-a1cac5776ab0"
      },
      "execution_count": 22,
      "outputs": [
        {
          "output_type": "stream",
          "name": "stderr",
          "text": [
            "/usr/local/lib/python3.10/dist-packages/torch_geometric/deprecation.py:26: UserWarning: 'data.DataLoader' is deprecated, use 'loader.DataLoader' instead\n",
            "  warnings.warn(out)\n"
          ]
        }
      ]
    },
    {
      "cell_type": "code",
      "source": [
        "edge_index"
      ],
      "metadata": {
        "colab": {
          "base_uri": "https://localhost:8080/"
        },
        "id": "p5dDK5_qgRaT",
        "outputId": "d3a40993-33a7-42cb-c29d-e42c5339d68f"
      },
      "execution_count": 23,
      "outputs": [
        {
          "output_type": "execute_result",
          "data": {
            "text/plain": [
              "tensor([[ 0,  1,  1,  2,  1,  3,  2,  4,  3,  5,  4,  6,  4,  7,  5,  8,  5,  9,\n",
              "          1, 10, 10, 11, 11, 12, 11, 13],\n",
              "        [ 1,  0,  2,  1,  3,  1,  4,  2,  5,  3,  6,  4,  7,  4,  8,  5,  9,  5,\n",
              "         10,  1, 11, 10, 12, 11, 13, 11]])"
            ]
          },
          "metadata": {},
          "execution_count": 23
        }
      ]
    },
    {
      "cell_type": "markdown",
      "source": [
        "# **Define GNN Model**\n",
        "\n",
        "We will use a simple GCN as the first model and later extend it to include other GNN topologies:"
      ],
      "metadata": {
        "id": "IwMNOyWDpPIQ"
      }
    },
    {
      "cell_type": "code",
      "source": [
        "class My_GNN_Model(nn.Module):\n",
        "    def __init__(self, in_channels=2, hidden_channels=8, out_channels=2):\n",
        "        super(My_GNN_Model, self).__init__()\n",
        "        self.conv1 = GCNConv(in_channels, hidden_channels)\n",
        "        self.conv2 = GCNConv(hidden_channels, hidden_channels)\n",
        "        self.lin = Linear(hidden_channels * n_bus, out_channels * n_bus)\n",
        "\n",
        "    def forward(self, data):\n",
        "        x, edge_index = data.x, data.edge_index\n",
        "        x = F.relu(self.conv1(x, edge_index))\n",
        "        x = F.relu(self.conv2(x, edge_index))\n",
        "        x = x.view(-1)\n",
        "        x = self.lin(x)\n",
        "        return x.view(-1, 2)\n",
        "\n",
        "model = My_GNN_Model()\n"
      ],
      "metadata": {
        "id": "L7We0J-aj4Lr"
      },
      "execution_count": 6,
      "outputs": []
    },
    {
      "cell_type": "markdown",
      "source": [
        "# **Training Loop**"
      ],
      "metadata": {
        "id": "B0345-HgpZa8"
      }
    },
    {
      "cell_type": "code",
      "source": [
        "optimizer = torch.optim.Adam(model.parameters(), lr=0.005)\n",
        "epochs = 100\n",
        "\n",
        "for epoch in range(epochs):\n",
        "    model.train()\n",
        "    for batch in train_loader:\n",
        "        optimizer.zero_grad()\n",
        "        y_pred = model(batch)\n",
        "\n",
        "        # Flatten the prediction to match the target shape\n",
        "        y_pred = y_pred.view(-1)\n",
        "\n",
        "        # Compute loss using flattened predictions and targets\n",
        "        loss = MSE(denormalize_output(y_pred, y_val_mean, y_val_std), denormalize_output(batch.y, y_val_mean, y_val_std))\n",
        "        loss.backward()\n",
        "        optimizer.step()\n",
        "\n",
        "    print(f\"Epoch {epoch}, Loss: {loss.item():.6f}\")\n"
      ],
      "metadata": {
        "colab": {
          "base_uri": "https://localhost:8080/"
        },
        "id": "EriyGbLZpbPr",
        "outputId": "1f75fb38-7494-4a86-e682-cb5299d8101f"
      },
      "execution_count": 7,
      "outputs": [
        {
          "output_type": "stream",
          "name": "stdout",
          "text": [
            "Epoch 0, Loss: 0.003972\n",
            "Epoch 1, Loss: 0.001788\n",
            "Epoch 2, Loss: 0.002764\n",
            "Epoch 3, Loss: 0.003041\n",
            "Epoch 4, Loss: 0.002732\n",
            "Epoch 5, Loss: 0.002575\n",
            "Epoch 6, Loss: 0.002350\n",
            "Epoch 7, Loss: 0.002206\n",
            "Epoch 8, Loss: 0.002322\n",
            "Epoch 9, Loss: 0.002365\n",
            "Epoch 10, Loss: 0.002193\n",
            "Epoch 11, Loss: 0.002252\n",
            "Epoch 12, Loss: 0.002420\n",
            "Epoch 13, Loss: 0.002379\n",
            "Epoch 14, Loss: 0.002394\n",
            "Epoch 15, Loss: 0.002610\n",
            "Epoch 16, Loss: 0.002705\n",
            "Epoch 17, Loss: 0.002781\n",
            "Epoch 18, Loss: 0.002755\n",
            "Epoch 19, Loss: 0.002358\n",
            "Epoch 20, Loss: 0.002139\n",
            "Epoch 21, Loss: 0.002146\n",
            "Epoch 22, Loss: 0.002063\n",
            "Epoch 23, Loss: 0.002205\n",
            "Epoch 24, Loss: 0.002235\n",
            "Epoch 25, Loss: 0.002424\n",
            "Epoch 26, Loss: 0.002329\n",
            "Epoch 27, Loss: 0.001747\n",
            "Epoch 28, Loss: 0.001620\n",
            "Epoch 29, Loss: 0.001439\n",
            "Epoch 30, Loss: 0.001635\n",
            "Epoch 31, Loss: 0.001665\n",
            "Epoch 32, Loss: 0.001782\n",
            "Epoch 33, Loss: 0.001450\n",
            "Epoch 34, Loss: 0.001937\n",
            "Epoch 35, Loss: 0.001997\n",
            "Epoch 36, Loss: 0.001634\n",
            "Epoch 37, Loss: 0.001980\n",
            "Epoch 38, Loss: 0.002036\n",
            "Epoch 39, Loss: 0.001731\n",
            "Epoch 40, Loss: 0.001573\n",
            "Epoch 41, Loss: 0.001525\n",
            "Epoch 42, Loss: 0.001413\n",
            "Epoch 43, Loss: 0.001528\n",
            "Epoch 44, Loss: 0.001554\n",
            "Epoch 45, Loss: 0.001493\n",
            "Epoch 46, Loss: 0.001502\n",
            "Epoch 47, Loss: 0.001467\n",
            "Epoch 48, Loss: 0.001523\n",
            "Epoch 49, Loss: 0.001325\n",
            "Epoch 50, Loss: 0.001524\n",
            "Epoch 51, Loss: 0.001340\n",
            "Epoch 52, Loss: 0.001135\n",
            "Epoch 53, Loss: 0.001080\n",
            "Epoch 54, Loss: 0.001251\n",
            "Epoch 55, Loss: 0.001073\n",
            "Epoch 56, Loss: 0.000986\n",
            "Epoch 57, Loss: 0.001619\n",
            "Epoch 58, Loss: 0.001115\n",
            "Epoch 59, Loss: 0.001102\n",
            "Epoch 60, Loss: 0.001218\n",
            "Epoch 61, Loss: 0.001056\n",
            "Epoch 62, Loss: 0.001041\n",
            "Epoch 63, Loss: 0.000795\n",
            "Epoch 64, Loss: 0.000800\n",
            "Epoch 65, Loss: 0.000916\n",
            "Epoch 66, Loss: 0.000919\n",
            "Epoch 67, Loss: 0.000798\n",
            "Epoch 68, Loss: 0.000675\n",
            "Epoch 69, Loss: 0.000667\n",
            "Epoch 70, Loss: 0.000652\n",
            "Epoch 71, Loss: 0.000635\n",
            "Epoch 72, Loss: 0.000784\n",
            "Epoch 73, Loss: 0.000750\n",
            "Epoch 74, Loss: 0.000724\n",
            "Epoch 75, Loss: 0.000345\n",
            "Epoch 76, Loss: 0.000351\n",
            "Epoch 77, Loss: 0.000413\n",
            "Epoch 78, Loss: 0.000546\n",
            "Epoch 79, Loss: 0.000296\n",
            "Epoch 80, Loss: 0.000258\n",
            "Epoch 81, Loss: 0.000124\n",
            "Epoch 82, Loss: 0.000176\n",
            "Epoch 83, Loss: 0.000079\n",
            "Epoch 84, Loss: 0.000112\n",
            "Epoch 85, Loss: 0.000056\n",
            "Epoch 86, Loss: 0.000053\n",
            "Epoch 87, Loss: 0.000024\n",
            "Epoch 88, Loss: 0.000025\n",
            "Epoch 89, Loss: 0.000048\n",
            "Epoch 90, Loss: 0.000093\n",
            "Epoch 91, Loss: 0.000030\n",
            "Epoch 92, Loss: 0.000237\n",
            "Epoch 93, Loss: 0.000257\n",
            "Epoch 94, Loss: 0.000110\n",
            "Epoch 95, Loss: 0.000126\n",
            "Epoch 96, Loss: 0.000131\n",
            "Epoch 97, Loss: 0.000110\n",
            "Epoch 98, Loss: 0.000288\n",
            "Epoch 99, Loss: 0.000204\n"
          ]
        }
      ]
    },
    {
      "cell_type": "markdown",
      "source": [
        "# **Topologies to Test:**\n",
        "The following topologies will be tested to compare the effectiveness of different GNN architecture.\n",
        "\n",
        "Each topology offers different strengths, such as handling local versus long-range relationships, incorporating attention mechanisms, and scaling to larger grid sizes.\n",
        "\n",
        "1. **Graph Convolutional Networks (GCN):**\n",
        "\n",
        " GCN is a basic form of GNN where each node aggregates features from its immediate neighbors. It’s simplicity makes it a good first model. It is widely used for node classification and regression tasks. GCN will serves as a baseline model that can handle local relationships effectively but may struggle with long-range dependencies.\n",
        "\n",
        "2. **Graph Attention Networks (GAT):**\n",
        "'GATConv'\n",
        "\n",
        "GAT assigns different attention weights to each neighboring node during aggregation and help the network focus on the most important nodes. It allows dynamic weighting of neighbors, which is useful when certain nodes (like generator buses) have more influence\n",
        "in OPF.\n",
        "\n",
        "3. **Chebyshev Networks (ChebNet):**\n",
        "'ChebConv'\n",
        "\n",
        "ChebNet approximates graph convolutions using Chebyshev polynomials and can capture information from nodes multiple hops away without needing many layers. ChebNet can effectively model multi-hop relationships while reducing the need for deep GCNs, which is important for capturing system-wide behavior in the grid.\n",
        "\n",
        "4. **GraphSAGE (SAmple and aggreGatE):**\n",
        "'SAGEConv'\n",
        "\n",
        "GraphSAGE is designed for inductive learning and allows us to sample a fixed-size neighborhood of nodes which will make it scalable to large graphs.\n",
        "GraphSAGE could be useful for OPF tasks in large power grids, as it can efficiently scale to larger\n",
        "networks.\n",
        "\n",
        "5. **GraphConv (GraphConv):**\n",
        "\n",
        "GraphConv is designed to enhance feature learning by incorporating self-loops (each node aggregates its own feature along with its neighbors).\n",
        "It performs a weighted sum of neighbor features, including the node’s own feature. This helps in capturing more node-specific information.\n",
        "It is useful when self-loops or enhanced node feature aggregation can improve model performance. It might perform better on grids where local node information (like generator buses) is crucial.\n",
        "\n",
        "6. **Multi-Head Graph Attention Networks (MH-GAT):**\n",
        "\n",
        "Multi-head attention computes multiple\n",
        "attention distributions in parallel, capturing various aspects of node relationships. This topology\n",
        "could be valuable for learning different aspects of node and edge interactions, especially when OPF\n",
        "solutions are influenced by both local and distant nodes"
      ],
      "metadata": {
        "id": "edjbvxFqU8dK"
      }
    },
    {
      "cell_type": "markdown",
      "source": [
        "# **Experiment Order:** (and an Idea for the comparison paper?)"
      ],
      "metadata": {
        "id": "BTFYOHpKWwj3"
      }
    },
    {
      "cell_type": "markdown",
      "source": [
        "**Baseline:** GCN (to set a benchmark).\n",
        "\n",
        "**Attention-Based:** GATConv (to see if attention helps in OPF tasks).\n",
        "\n",
        "**Multi-Hop Relationship:** ChebConv (to model long-range dependencies).\n",
        "\n",
        "**Scalability Test:** SAGEConv (to see how well it scales to larger bus systems).\n",
        "\n",
        "**Enhanced Node Feature Learning:** GraphConv (to check if self-loops improve performance)."
      ],
      "metadata": {
        "id": "Dp6u3VjWWLxq"
      }
    },
    {
      "cell_type": "code",
      "source": [
        "from torch_geometric.nn import GCNConv, GraphConv, SAGEConv, GATConv, ChebConv\n",
        "\n",
        "class My_GNN_GNN_NN(torch.nn.Module):\n",
        "    def __init__(self, node_size, feat_in, feat_size1, feat_size2, hidden_size1, output_size, gnn_type='GCN'):\n",
        "        super(My_GNN_GNN_NN, self).__init__()\n",
        "        self.feat_in = feat_in\n",
        "        self.feat_size1 = feat_size1\n",
        "        self.feat_size2 = feat_size2\n",
        "        self.hidden_size1 = hidden_size1\n",
        "        self.output_size = output_size\n",
        "\n",
        "        # Select GNN Layer Type\n",
        "        if gnn_type == 'GCN':\n",
        "            self.conv1 = GCNConv(feat_in, feat_size1)\n",
        "            self.conv2 = GCNConv(feat_size1, feat_size2)\n",
        "        elif gnn_type == 'GraphConv':\n",
        "            self.conv1 = GraphConv(feat_in, feat_size1)\n",
        "            self.conv2 = GraphConv(feat_size1, feat_size2)\n",
        "        elif gnn_type == 'SAGEConv':\n",
        "            self.conv1 = SAGEConv(feat_in, feat_size1)\n",
        "            self.conv2 = SAGEConv(feat_size1, feat_size2)\n",
        "        elif gnn_type == 'GATConv':\n",
        "            self.conv1 = GATConv(feat_in, feat_size1)\n",
        "            self.conv2 = GATConv(feat_size1, feat_size2)\n",
        "        elif gnn_type == 'ChebConv':\n",
        "            self.conv1 = ChebConv(feat_in, feat_size1, K=2)\n",
        "            self.conv2 = ChebConv(feat_size1, feat_size2, K=2)\n",
        "        else:\n",
        "            raise ValueError(\"Invalid GNN type. Choose from 'GCN', 'GraphConv', 'SAGEConv', 'GATConv', 'ChebConv'.\")\n",
        "\n",
        "        self.lin1 = Linear(node_size * feat_size2, hidden_size1)\n",
        "        self.lin2 = Linear(hidden_size1, output_size)\n",
        "\n",
        "    def forward(self, data):\n",
        "        x, edge_index = data.x, data.edge_index\n",
        "        x = self.conv1(x, edge_index)\n",
        "        x = torch.tanh(x)\n",
        "        x = self.conv2(x, edge_index)\n",
        "        x = torch.tanh(x)\n",
        "        x = x.flatten(start_dim=0)\n",
        "        x = self.lin1(x)\n",
        "        x = torch.tanh(x)\n",
        "        x = self.lin2(x)\n",
        "        return x\n",
        "\n",
        "    def save_weights(self, model, filename):\n",
        "        torch.save(model.state_dict(), filename)\n",
        "\n"
      ],
      "metadata": {
        "id": "Q6CBvBJIjDjX"
      },
      "execution_count": 14,
      "outputs": []
    },
    {
      "cell_type": "markdown",
      "source": [
        "# **Model Initialization**"
      ],
      "metadata": {
        "id": "lM4NMS22ggeT"
      }
    },
    {
      "cell_type": "code",
      "source": [
        "# Define hyperparameters\n",
        "feat_in = 2\n",
        "feat_size1 = 8  #16 prev 8\n",
        "feat_size2 = 4  #8 prev 4\n",
        "hidden_size1 = 50 #prev 30\n",
        "output_size = n_bus * 2\n",
        "lr = 0.0005 #0.0001\n",
        "gnn_type = 'GCN'  # Choose from 'GCN', 'GraphConv', 'SAGEConv', 'GATConv', 'ChebConv'\n",
        "\n",
        "# Initialize the model\n",
        "model = My_GNN_GNN_NN(n_bus, feat_in, feat_size1, feat_size2, hidden_size1, output_size, gnn_type)\n",
        "optimizer = torch.optim.Adam(model.parameters(), lr=lr)\n",
        "scheduler = torch.optim.lr_scheduler.ReduceLROnPlateau(optimizer, mode='min', factor=0.5, patience=50)\n",
        "\n",
        "# Print model parameter details\n",
        "for name, param in model.named_parameters():\n",
        "    print(f\"{name}: {param.size()}\")\n",
        "\n",
        "param_count = sum(p.numel() for p in model.parameters() if p.requires_grad)\n",
        "print(f\"Total number of trainable parameters: {param_count}\")\n"
      ],
      "metadata": {
        "colab": {
          "base_uri": "https://localhost:8080/"
        },
        "id": "npj2Zepnj6b_",
        "outputId": "c58d2ab2-b4c4-43af-8834-666fc6e26986"
      },
      "execution_count": 15,
      "outputs": [
        {
          "output_type": "stream",
          "name": "stdout",
          "text": [
            "conv1.bias: torch.Size([8])\n",
            "conv1.lin.weight: torch.Size([8, 2])\n",
            "conv2.bias: torch.Size([4])\n",
            "conv2.lin.weight: torch.Size([4, 8])\n",
            "lin1.weight: torch.Size([30, 56])\n",
            "lin1.bias: torch.Size([30])\n",
            "lin2.weight: torch.Size([28, 30])\n",
            "lin2.bias: torch.Size([28])\n",
            "Total number of trainable parameters: 2638\n"
          ]
        }
      ]
    },
    {
      "cell_type": "markdown",
      "source": [
        "# **Enhanced Training Loop**"
      ],
      "metadata": {
        "id": "9IniYKPphG0I"
      }
    },
    {
      "cell_type": "code",
      "source": [
        "train_loss_list, val_loss_list = [], []\n",
        "patience = 50\n",
        "count = 0\n",
        "lossMin = float('inf')\n",
        "\n",
        "for epoch in range(600): #Changed from 2001\n",
        "    model.train()\n",
        "    train_loss = 0\n",
        "    for batch in train_loader:\n",
        "        optimizer.zero_grad()\n",
        "        y_pred = model(batch)\n",
        "        y_pred = y_pred.view(-1)  # Flatten predictions\n",
        "        loss = MSE(denormalize_output(y_pred, y_val_mean, y_val_std), denormalize_output(batch.y, y_val_mean, y_val_std))\n",
        "        loss.backward()\n",
        "        optimizer.step()\n",
        "        train_loss += loss.item() * batch.num_graphs\n",
        "\n",
        "    train_loss /= len(train_loader.dataset)\n",
        "    train_loss_list.append(train_loss)\n",
        "\n",
        "    # Validation\n",
        "    model.eval()\n",
        "    val_loss = 0\n",
        "    with torch.no_grad():\n",
        "        for batch in val_loader:\n",
        "            y_val_pred = model(batch)\n",
        "            y_val_pred = y_val_pred.view(-1)\n",
        "            loss = MSE(denormalize_output(y_val_pred, y_val_mean, y_val_std), denormalize_output(batch.y, y_val_mean, y_val_std))\n",
        "            val_loss += loss.item() * batch.num_graphs\n",
        "\n",
        "    val_loss /= len(val_loader.dataset)\n",
        "    val_loss_list.append(val_loss)\n",
        "\n",
        "    # Learning rate adjustment\n",
        "    scheduler.step(val_loss)\n",
        "\n",
        "    # Early stopping\n",
        "    if val_loss < lossMin:\n",
        "        lossMin = val_loss\n",
        "        count = 0\n",
        "        best_epoch = epoch\n",
        "        best_train_loss = train_loss\n",
        "        best_val_loss = val_loss\n",
        "        model.save_weights(model, \"[14 bus] Best_GNN_GNN_NN_model.pt\")\n",
        "        #model.save_weights(model, \"[30 bus] Best_GNN_GNN_NN_model.pt\")\n",
        "        #model.save_weights(model, \"[57 bus] Best_GNN_GNN_NN_model.pt\")\n",
        "    else:\n",
        "        count += 1\n",
        "        if count > patience:\n",
        "            print(f\"Early stopping at epoch {epoch} | Best epoch: {best_epoch}\")\n",
        "            print(f\"Best train loss: {best_train_loss:.7f} | Best val loss: {best_val_loss:.7f}\")\n",
        "            break\n",
        "\n",
        "    # Log progress every 10 epochs\n",
        "    if epoch % 10 == 0:\n",
        "        print(f\"Epoch {epoch} | Train loss: {train_loss:.7f} | Val loss: {val_loss:.7f}\")\n",
        "\n",
        "print(\"Training complete.\")\n"
      ],
      "metadata": {
        "colab": {
          "base_uri": "https://localhost:8080/",
          "height": 1000
        },
        "id": "WAZmEwSpj9Sq",
        "outputId": "3864a4f6-cb3b-41bd-9c5b-63ea2060922f"
      },
      "execution_count": 16,
      "outputs": [
        {
          "output_type": "stream",
          "name": "stdout",
          "text": [
            "Epoch 0 | Train loss: 0.1411163 | Val loss: 0.0199592\n",
            "Epoch 10 | Train loss: 0.0039379 | Val loss: 0.0039918\n",
            "Epoch 20 | Train loss: 0.0028474 | Val loss: 0.0031149\n",
            "Epoch 30 | Train loss: 0.0022970 | Val loss: 0.0026240\n",
            "Epoch 40 | Train loss: 0.0019075 | Val loss: 0.0022537\n",
            "Epoch 50 | Train loss: 0.0015767 | Val loss: 0.0019198\n",
            "Epoch 60 | Train loss: 0.0012795 | Val loss: 0.0015969\n",
            "Epoch 70 | Train loss: 0.0010466 | Val loss: 0.0013166\n",
            "Epoch 80 | Train loss: 0.0008793 | Val loss: 0.0010970\n",
            "Epoch 90 | Train loss: 0.0007584 | Val loss: 0.0009356\n",
            "Epoch 100 | Train loss: 0.0006679 | Val loss: 0.0008198\n",
            "Epoch 110 | Train loss: 0.0005964 | Val loss: 0.0007344\n",
            "Epoch 120 | Train loss: 0.0005377 | Val loss: 0.0006684\n",
            "Epoch 130 | Train loss: 0.0004881 | Val loss: 0.0006153\n",
            "Epoch 140 | Train loss: 0.0004455 | Val loss: 0.0005713\n",
            "Epoch 150 | Train loss: 0.0004083 | Val loss: 0.0005343\n",
            "Epoch 160 | Train loss: 0.0003757 | Val loss: 0.0005029\n",
            "Epoch 170 | Train loss: 0.0003467 | Val loss: 0.0004762\n",
            "Epoch 180 | Train loss: 0.0003209 | Val loss: 0.0004534\n",
            "Epoch 190 | Train loss: 0.0002977 | Val loss: 0.0004342\n",
            "Epoch 200 | Train loss: 0.0002769 | Val loss: 0.0004184\n",
            "Epoch 210 | Train loss: 0.0002580 | Val loss: 0.0004055\n",
            "Epoch 220 | Train loss: 0.0002410 | Val loss: 0.0003953\n",
            "Epoch 230 | Train loss: 0.0002257 | Val loss: 0.0003873\n",
            "Epoch 240 | Train loss: 0.0002118 | Val loss: 0.0003813\n",
            "Epoch 250 | Train loss: 0.0001994 | Val loss: 0.0003771\n",
            "Epoch 260 | Train loss: 0.0001882 | Val loss: 0.0003743\n",
            "Epoch 270 | Train loss: 0.0001782 | Val loss: 0.0003729\n",
            "Epoch 280 | Train loss: 0.0001692 | Val loss: 0.0003725\n",
            "Epoch 290 | Train loss: 0.0001611 | Val loss: 0.0003728\n",
            "Epoch 300 | Train loss: 0.0001538 | Val loss: 0.0003737\n",
            "Epoch 310 | Train loss: 0.0001472 | Val loss: 0.0003749\n",
            "Epoch 320 | Train loss: 0.0001412 | Val loss: 0.0003762\n",
            "Epoch 330 | Train loss: 0.0001011 | Val loss: 0.0002820\n",
            "Epoch 340 | Train loss: 0.0000980 | Val loss: 0.0002758\n",
            "Epoch 350 | Train loss: 0.0000952 | Val loss: 0.0002732\n",
            "Epoch 360 | Train loss: 0.0000925 | Val loss: 0.0002713\n",
            "Epoch 370 | Train loss: 0.0000900 | Val loss: 0.0002698\n",
            "Epoch 380 | Train loss: 0.0000876 | Val loss: 0.0002685\n",
            "Epoch 390 | Train loss: 0.0000853 | Val loss: 0.0002675\n",
            "Epoch 400 | Train loss: 0.0000831 | Val loss: 0.0002665\n",
            "Epoch 410 | Train loss: 0.0000810 | Val loss: 0.0002657\n",
            "Epoch 420 | Train loss: 0.0000790 | Val loss: 0.0002651\n",
            "Epoch 430 | Train loss: 0.0000771 | Val loss: 0.0002645\n",
            "Epoch 440 | Train loss: 0.0000753 | Val loss: 0.0002640\n",
            "Epoch 450 | Train loss: 0.0000735 | Val loss: 0.0002636\n",
            "Epoch 460 | Train loss: 0.0000718 | Val loss: 0.0002633\n",
            "Epoch 470 | Train loss: 0.0000702 | Val loss: 0.0002631\n",
            "Epoch 480 | Train loss: 0.0000686 | Val loss: 0.0002629\n"
          ]
        },
        {
          "output_type": "error",
          "ename": "KeyboardInterrupt",
          "evalue": "",
          "traceback": [
            "\u001b[0;31m---------------------------------------------------------------------------\u001b[0m",
            "\u001b[0;31mKeyboardInterrupt\u001b[0m                         Traceback (most recent call last)",
            "\u001b[0;32m<ipython-input-16-abb8f4f34bf2>\u001b[0m in \u001b[0;36m<cell line: 6>\u001b[0;34m()\u001b[0m\n\u001b[1;32m     23\u001b[0m     \u001b[0mval_loss\u001b[0m \u001b[0;34m=\u001b[0m \u001b[0;36m0\u001b[0m\u001b[0;34m\u001b[0m\u001b[0;34m\u001b[0m\u001b[0m\n\u001b[1;32m     24\u001b[0m     \u001b[0;32mwith\u001b[0m \u001b[0mtorch\u001b[0m\u001b[0;34m.\u001b[0m\u001b[0mno_grad\u001b[0m\u001b[0;34m(\u001b[0m\u001b[0;34m)\u001b[0m\u001b[0;34m:\u001b[0m\u001b[0;34m\u001b[0m\u001b[0;34m\u001b[0m\u001b[0m\n\u001b[0;32m---> 25\u001b[0;31m         \u001b[0;32mfor\u001b[0m \u001b[0mbatch\u001b[0m \u001b[0;32min\u001b[0m \u001b[0mval_loader\u001b[0m\u001b[0;34m:\u001b[0m\u001b[0;34m\u001b[0m\u001b[0;34m\u001b[0m\u001b[0m\n\u001b[0m\u001b[1;32m     26\u001b[0m             \u001b[0my_val_pred\u001b[0m \u001b[0;34m=\u001b[0m \u001b[0mmodel\u001b[0m\u001b[0;34m(\u001b[0m\u001b[0mbatch\u001b[0m\u001b[0;34m)\u001b[0m\u001b[0;34m\u001b[0m\u001b[0;34m\u001b[0m\u001b[0m\n\u001b[1;32m     27\u001b[0m             \u001b[0my_val_pred\u001b[0m \u001b[0;34m=\u001b[0m \u001b[0my_val_pred\u001b[0m\u001b[0;34m.\u001b[0m\u001b[0mview\u001b[0m\u001b[0;34m(\u001b[0m\u001b[0;34m-\u001b[0m\u001b[0;36m1\u001b[0m\u001b[0;34m)\u001b[0m\u001b[0;34m\u001b[0m\u001b[0;34m\u001b[0m\u001b[0m\n",
            "\u001b[0;32m/usr/local/lib/python3.10/dist-packages/torch/utils/data/dataloader.py\u001b[0m in \u001b[0;36m__next__\u001b[0;34m(self)\u001b[0m\n\u001b[1;32m    699\u001b[0m                 \u001b[0;31m# TODO(https://github.com/pytorch/pytorch/issues/76750)\u001b[0m\u001b[0;34m\u001b[0m\u001b[0;34m\u001b[0m\u001b[0m\n\u001b[1;32m    700\u001b[0m                 \u001b[0mself\u001b[0m\u001b[0;34m.\u001b[0m\u001b[0m_reset\u001b[0m\u001b[0;34m(\u001b[0m\u001b[0;34m)\u001b[0m  \u001b[0;31m# type: ignore[call-arg]\u001b[0m\u001b[0;34m\u001b[0m\u001b[0;34m\u001b[0m\u001b[0m\n\u001b[0;32m--> 701\u001b[0;31m             \u001b[0mdata\u001b[0m \u001b[0;34m=\u001b[0m \u001b[0mself\u001b[0m\u001b[0;34m.\u001b[0m\u001b[0m_next_data\u001b[0m\u001b[0;34m(\u001b[0m\u001b[0;34m)\u001b[0m\u001b[0;34m\u001b[0m\u001b[0;34m\u001b[0m\u001b[0m\n\u001b[0m\u001b[1;32m    702\u001b[0m             \u001b[0mself\u001b[0m\u001b[0;34m.\u001b[0m\u001b[0m_num_yielded\u001b[0m \u001b[0;34m+=\u001b[0m \u001b[0;36m1\u001b[0m\u001b[0;34m\u001b[0m\u001b[0;34m\u001b[0m\u001b[0m\n\u001b[1;32m    703\u001b[0m             if (\n",
            "\u001b[0;32m/usr/local/lib/python3.10/dist-packages/torch/utils/data/dataloader.py\u001b[0m in \u001b[0;36m_next_data\u001b[0;34m(self)\u001b[0m\n\u001b[1;32m    755\u001b[0m     \u001b[0;32mdef\u001b[0m \u001b[0m_next_data\u001b[0m\u001b[0;34m(\u001b[0m\u001b[0mself\u001b[0m\u001b[0;34m)\u001b[0m\u001b[0;34m:\u001b[0m\u001b[0;34m\u001b[0m\u001b[0;34m\u001b[0m\u001b[0m\n\u001b[1;32m    756\u001b[0m         \u001b[0mindex\u001b[0m \u001b[0;34m=\u001b[0m \u001b[0mself\u001b[0m\u001b[0;34m.\u001b[0m\u001b[0m_next_index\u001b[0m\u001b[0;34m(\u001b[0m\u001b[0;34m)\u001b[0m  \u001b[0;31m# may raise StopIteration\u001b[0m\u001b[0;34m\u001b[0m\u001b[0;34m\u001b[0m\u001b[0m\n\u001b[0;32m--> 757\u001b[0;31m         \u001b[0mdata\u001b[0m \u001b[0;34m=\u001b[0m \u001b[0mself\u001b[0m\u001b[0;34m.\u001b[0m\u001b[0m_dataset_fetcher\u001b[0m\u001b[0;34m.\u001b[0m\u001b[0mfetch\u001b[0m\u001b[0;34m(\u001b[0m\u001b[0mindex\u001b[0m\u001b[0;34m)\u001b[0m  \u001b[0;31m# may raise StopIteration\u001b[0m\u001b[0;34m\u001b[0m\u001b[0;34m\u001b[0m\u001b[0m\n\u001b[0m\u001b[1;32m    758\u001b[0m         \u001b[0;32mif\u001b[0m \u001b[0mself\u001b[0m\u001b[0;34m.\u001b[0m\u001b[0m_pin_memory\u001b[0m\u001b[0;34m:\u001b[0m\u001b[0;34m\u001b[0m\u001b[0;34m\u001b[0m\u001b[0m\n\u001b[1;32m    759\u001b[0m             \u001b[0mdata\u001b[0m \u001b[0;34m=\u001b[0m \u001b[0m_utils\u001b[0m\u001b[0;34m.\u001b[0m\u001b[0mpin_memory\u001b[0m\u001b[0;34m.\u001b[0m\u001b[0mpin_memory\u001b[0m\u001b[0;34m(\u001b[0m\u001b[0mdata\u001b[0m\u001b[0;34m,\u001b[0m \u001b[0mself\u001b[0m\u001b[0;34m.\u001b[0m\u001b[0m_pin_memory_device\u001b[0m\u001b[0;34m)\u001b[0m\u001b[0;34m\u001b[0m\u001b[0;34m\u001b[0m\u001b[0m\n",
            "\u001b[0;32m/usr/local/lib/python3.10/dist-packages/torch/utils/data/_utils/fetch.py\u001b[0m in \u001b[0;36mfetch\u001b[0;34m(self, possibly_batched_index)\u001b[0m\n\u001b[1;32m     53\u001b[0m         \u001b[0;32melse\u001b[0m\u001b[0;34m:\u001b[0m\u001b[0;34m\u001b[0m\u001b[0;34m\u001b[0m\u001b[0m\n\u001b[1;32m     54\u001b[0m             \u001b[0mdata\u001b[0m \u001b[0;34m=\u001b[0m \u001b[0mself\u001b[0m\u001b[0;34m.\u001b[0m\u001b[0mdataset\u001b[0m\u001b[0;34m[\u001b[0m\u001b[0mpossibly_batched_index\u001b[0m\u001b[0;34m]\u001b[0m\u001b[0;34m\u001b[0m\u001b[0;34m\u001b[0m\u001b[0m\n\u001b[0;32m---> 55\u001b[0;31m         \u001b[0;32mreturn\u001b[0m \u001b[0mself\u001b[0m\u001b[0;34m.\u001b[0m\u001b[0mcollate_fn\u001b[0m\u001b[0;34m(\u001b[0m\u001b[0mdata\u001b[0m\u001b[0;34m)\u001b[0m\u001b[0;34m\u001b[0m\u001b[0;34m\u001b[0m\u001b[0m\n\u001b[0m",
            "\u001b[0;32m/usr/local/lib/python3.10/dist-packages/torch_geometric/loader/dataloader.py\u001b[0m in \u001b[0;36m__call__\u001b[0;34m(self, batch)\u001b[0m\n\u001b[1;32m     25\u001b[0m         \u001b[0melem\u001b[0m \u001b[0;34m=\u001b[0m \u001b[0mbatch\u001b[0m\u001b[0;34m[\u001b[0m\u001b[0;36m0\u001b[0m\u001b[0;34m]\u001b[0m\u001b[0;34m\u001b[0m\u001b[0;34m\u001b[0m\u001b[0m\n\u001b[1;32m     26\u001b[0m         \u001b[0;32mif\u001b[0m \u001b[0misinstance\u001b[0m\u001b[0;34m(\u001b[0m\u001b[0melem\u001b[0m\u001b[0;34m,\u001b[0m \u001b[0mBaseData\u001b[0m\u001b[0;34m)\u001b[0m\u001b[0;34m:\u001b[0m\u001b[0;34m\u001b[0m\u001b[0;34m\u001b[0m\u001b[0m\n\u001b[0;32m---> 27\u001b[0;31m             return Batch.from_data_list(\n\u001b[0m\u001b[1;32m     28\u001b[0m                 \u001b[0mbatch\u001b[0m\u001b[0;34m,\u001b[0m\u001b[0;34m\u001b[0m\u001b[0;34m\u001b[0m\u001b[0m\n\u001b[1;32m     29\u001b[0m                 \u001b[0mfollow_batch\u001b[0m\u001b[0;34m=\u001b[0m\u001b[0mself\u001b[0m\u001b[0;34m.\u001b[0m\u001b[0mfollow_batch\u001b[0m\u001b[0;34m,\u001b[0m\u001b[0;34m\u001b[0m\u001b[0;34m\u001b[0m\u001b[0m\n",
            "\u001b[0;32m/usr/local/lib/python3.10/dist-packages/torch_geometric/data/batch.py\u001b[0m in \u001b[0;36mfrom_data_list\u001b[0;34m(cls, data_list, follow_batch, exclude_keys)\u001b[0m\n\u001b[1;32m     95\u001b[0m         \u001b[0mWill\u001b[0m \u001b[0mexclude\u001b[0m \u001b[0many\u001b[0m \u001b[0mkeys\u001b[0m \u001b[0mgiven\u001b[0m \u001b[0;32min\u001b[0m \u001b[0;34m:\u001b[0m\u001b[0mobj\u001b[0m\u001b[0;34m:\u001b[0m\u001b[0;31m`\u001b[0m\u001b[0mexclude_keys\u001b[0m\u001b[0;31m`\u001b[0m\u001b[0;34m.\u001b[0m\u001b[0;34m\u001b[0m\u001b[0;34m\u001b[0m\u001b[0m\n\u001b[1;32m     96\u001b[0m         \"\"\"\n\u001b[0;32m---> 97\u001b[0;31m         batch, slice_dict, inc_dict = collate(\n\u001b[0m\u001b[1;32m     98\u001b[0m             \u001b[0mcls\u001b[0m\u001b[0;34m,\u001b[0m\u001b[0;34m\u001b[0m\u001b[0;34m\u001b[0m\u001b[0m\n\u001b[1;32m     99\u001b[0m             \u001b[0mdata_list\u001b[0m\u001b[0;34m=\u001b[0m\u001b[0mdata_list\u001b[0m\u001b[0;34m,\u001b[0m\u001b[0;34m\u001b[0m\u001b[0;34m\u001b[0m\u001b[0m\n",
            "\u001b[0;32m/usr/local/lib/python3.10/dist-packages/torch_geometric/data/collate.py\u001b[0m in \u001b[0;36mcollate\u001b[0;34m(cls, data_list, increment, add_batch, follow_batch, exclude_keys)\u001b[0m\n\u001b[1;32m    142\u001b[0m             \u001b[0mrepeats\u001b[0m \u001b[0;34m=\u001b[0m \u001b[0;34m[\u001b[0m\u001b[0mstore\u001b[0m\u001b[0;34m.\u001b[0m\u001b[0mnum_nodes\u001b[0m \u001b[0;32mor\u001b[0m \u001b[0;36m0\u001b[0m \u001b[0;32mfor\u001b[0m \u001b[0mstore\u001b[0m \u001b[0;32min\u001b[0m \u001b[0mstores\u001b[0m\u001b[0;34m]\u001b[0m\u001b[0;34m\u001b[0m\u001b[0;34m\u001b[0m\u001b[0m\n\u001b[1;32m    143\u001b[0m             \u001b[0mout_store\u001b[0m\u001b[0;34m.\u001b[0m\u001b[0mbatch\u001b[0m \u001b[0;34m=\u001b[0m \u001b[0mrepeat_interleave\u001b[0m\u001b[0;34m(\u001b[0m\u001b[0mrepeats\u001b[0m\u001b[0;34m,\u001b[0m \u001b[0mdevice\u001b[0m\u001b[0;34m=\u001b[0m\u001b[0mdevice\u001b[0m\u001b[0;34m)\u001b[0m\u001b[0;34m\u001b[0m\u001b[0;34m\u001b[0m\u001b[0m\n\u001b[0;32m--> 144\u001b[0;31m             \u001b[0mout_store\u001b[0m\u001b[0;34m.\u001b[0m\u001b[0mptr\u001b[0m \u001b[0;34m=\u001b[0m \u001b[0mcumsum\u001b[0m\u001b[0;34m(\u001b[0m\u001b[0mtorch\u001b[0m\u001b[0;34m.\u001b[0m\u001b[0mtensor\u001b[0m\u001b[0;34m(\u001b[0m\u001b[0mrepeats\u001b[0m\u001b[0;34m,\u001b[0m \u001b[0mdevice\u001b[0m\u001b[0;34m=\u001b[0m\u001b[0mdevice\u001b[0m\u001b[0;34m)\u001b[0m\u001b[0;34m)\u001b[0m\u001b[0;34m\u001b[0m\u001b[0;34m\u001b[0m\u001b[0m\n\u001b[0m\u001b[1;32m    145\u001b[0m \u001b[0;34m\u001b[0m\u001b[0m\n\u001b[1;32m    146\u001b[0m     \u001b[0;32mreturn\u001b[0m \u001b[0mout\u001b[0m\u001b[0;34m,\u001b[0m \u001b[0mslice_dict\u001b[0m\u001b[0;34m,\u001b[0m \u001b[0minc_dict\u001b[0m\u001b[0;34m\u001b[0m\u001b[0;34m\u001b[0m\u001b[0m\n",
            "\u001b[0;32m/usr/local/lib/python3.10/dist-packages/torch_geometric/data/storage.py\u001b[0m in \u001b[0;36m__setattr__\u001b[0;34m(self, key, value)\u001b[0m\n\u001b[1;32m    107\u001b[0m             \u001b[0mself\u001b[0m\u001b[0;34m.\u001b[0m\u001b[0m__dict__\u001b[0m\u001b[0;34m[\u001b[0m\u001b[0mkey\u001b[0m\u001b[0;34m]\u001b[0m \u001b[0;34m=\u001b[0m \u001b[0mvalue\u001b[0m\u001b[0;34m\u001b[0m\u001b[0;34m\u001b[0m\u001b[0m\n\u001b[1;32m    108\u001b[0m         \u001b[0;32melse\u001b[0m\u001b[0;34m:\u001b[0m\u001b[0;34m\u001b[0m\u001b[0;34m\u001b[0m\u001b[0m\n\u001b[0;32m--> 109\u001b[0;31m             \u001b[0mself\u001b[0m\u001b[0;34m[\u001b[0m\u001b[0mkey\u001b[0m\u001b[0;34m]\u001b[0m \u001b[0;34m=\u001b[0m \u001b[0mvalue\u001b[0m\u001b[0;34m\u001b[0m\u001b[0;34m\u001b[0m\u001b[0m\n\u001b[0m\u001b[1;32m    110\u001b[0m \u001b[0;34m\u001b[0m\u001b[0m\n\u001b[1;32m    111\u001b[0m     \u001b[0;32mdef\u001b[0m \u001b[0m__delattr__\u001b[0m\u001b[0;34m(\u001b[0m\u001b[0mself\u001b[0m\u001b[0;34m,\u001b[0m \u001b[0mkey\u001b[0m\u001b[0;34m:\u001b[0m \u001b[0mstr\u001b[0m\u001b[0;34m)\u001b[0m \u001b[0;34m->\u001b[0m \u001b[0;32mNone\u001b[0m\u001b[0;34m:\u001b[0m\u001b[0;34m\u001b[0m\u001b[0;34m\u001b[0m\u001b[0m\n",
            "\u001b[0;32m/usr/local/lib/python3.10/dist-packages/torch_geometric/data/storage.py\u001b[0m in \u001b[0;36m__setitem__\u001b[0;34m(self, key, value)\u001b[0m\n\u001b[1;32m    119\u001b[0m \u001b[0;34m\u001b[0m\u001b[0m\n\u001b[1;32m    120\u001b[0m     \u001b[0;32mdef\u001b[0m \u001b[0m__setitem__\u001b[0m\u001b[0;34m(\u001b[0m\u001b[0mself\u001b[0m\u001b[0;34m,\u001b[0m \u001b[0mkey\u001b[0m\u001b[0;34m:\u001b[0m \u001b[0mstr\u001b[0m\u001b[0;34m,\u001b[0m \u001b[0mvalue\u001b[0m\u001b[0;34m:\u001b[0m \u001b[0mAny\u001b[0m\u001b[0;34m)\u001b[0m \u001b[0;34m->\u001b[0m \u001b[0;32mNone\u001b[0m\u001b[0;34m:\u001b[0m\u001b[0;34m\u001b[0m\u001b[0;34m\u001b[0m\u001b[0m\n\u001b[0;32m--> 121\u001b[0;31m         \u001b[0mself\u001b[0m\u001b[0;34m.\u001b[0m\u001b[0m_pop_cache\u001b[0m\u001b[0;34m(\u001b[0m\u001b[0mkey\u001b[0m\u001b[0;34m)\u001b[0m\u001b[0;34m\u001b[0m\u001b[0;34m\u001b[0m\u001b[0m\n\u001b[0m\u001b[1;32m    122\u001b[0m         \u001b[0;32mif\u001b[0m \u001b[0mvalue\u001b[0m \u001b[0;32mis\u001b[0m \u001b[0;32mNone\u001b[0m \u001b[0;32mand\u001b[0m \u001b[0mkey\u001b[0m \u001b[0;32min\u001b[0m \u001b[0mself\u001b[0m\u001b[0;34m.\u001b[0m\u001b[0m_mapping\u001b[0m\u001b[0;34m:\u001b[0m\u001b[0;34m\u001b[0m\u001b[0;34m\u001b[0m\u001b[0m\n\u001b[1;32m    123\u001b[0m             \u001b[0;32mdel\u001b[0m \u001b[0mself\u001b[0m\u001b[0;34m.\u001b[0m\u001b[0m_mapping\u001b[0m\u001b[0;34m[\u001b[0m\u001b[0mkey\u001b[0m\u001b[0;34m]\u001b[0m\u001b[0;34m\u001b[0m\u001b[0;34m\u001b[0m\u001b[0m\n",
            "\u001b[0;32m/usr/local/lib/python3.10/dist-packages/torch_geometric/data/storage.py\u001b[0m in \u001b[0;36m_pop_cache\u001b[0;34m(self, key)\u001b[0m\n\u001b[1;32m     81\u001b[0m \u001b[0;34m\u001b[0m\u001b[0m\n\u001b[1;32m     82\u001b[0m     \u001b[0;32mdef\u001b[0m \u001b[0m_pop_cache\u001b[0m\u001b[0;34m(\u001b[0m\u001b[0mself\u001b[0m\u001b[0;34m,\u001b[0m \u001b[0mkey\u001b[0m\u001b[0;34m:\u001b[0m \u001b[0mstr\u001b[0m\u001b[0;34m)\u001b[0m \u001b[0;34m->\u001b[0m \u001b[0;32mNone\u001b[0m\u001b[0;34m:\u001b[0m\u001b[0;34m\u001b[0m\u001b[0;34m\u001b[0m\u001b[0m\n\u001b[0;32m---> 83\u001b[0;31m         \u001b[0;32mfor\u001b[0m \u001b[0mcache\u001b[0m \u001b[0;32min\u001b[0m \u001b[0mgetattr\u001b[0m\u001b[0;34m(\u001b[0m\u001b[0mself\u001b[0m\u001b[0;34m,\u001b[0m \u001b[0;34m'_cached_attr'\u001b[0m\u001b[0;34m,\u001b[0m \u001b[0;34m{\u001b[0m\u001b[0;34m}\u001b[0m\u001b[0;34m)\u001b[0m\u001b[0;34m.\u001b[0m\u001b[0mvalues\u001b[0m\u001b[0;34m(\u001b[0m\u001b[0;34m)\u001b[0m\u001b[0;34m:\u001b[0m\u001b[0;34m\u001b[0m\u001b[0;34m\u001b[0m\u001b[0m\n\u001b[0m\u001b[1;32m     84\u001b[0m             \u001b[0mcache\u001b[0m\u001b[0;34m.\u001b[0m\u001b[0mdiscard\u001b[0m\u001b[0;34m(\u001b[0m\u001b[0mkey\u001b[0m\u001b[0;34m)\u001b[0m\u001b[0;34m\u001b[0m\u001b[0;34m\u001b[0m\u001b[0m\n\u001b[1;32m     85\u001b[0m \u001b[0;34m\u001b[0m\u001b[0m\n",
            "\u001b[0;32m/usr/local/lib/python3.10/dist-packages/torch_geometric/data/storage.py\u001b[0m in \u001b[0;36m__getattr__\u001b[0;34m(self, key)\u001b[0m\n\u001b[1;32m     87\u001b[0m         \u001b[0;32mreturn\u001b[0m \u001b[0mlen\u001b[0m\u001b[0;34m(\u001b[0m\u001b[0mself\u001b[0m\u001b[0;34m.\u001b[0m\u001b[0m_mapping\u001b[0m\u001b[0;34m)\u001b[0m\u001b[0;34m\u001b[0m\u001b[0;34m\u001b[0m\u001b[0m\n\u001b[1;32m     88\u001b[0m \u001b[0;34m\u001b[0m\u001b[0m\n\u001b[0;32m---> 89\u001b[0;31m     \u001b[0;32mdef\u001b[0m \u001b[0m__getattr__\u001b[0m\u001b[0;34m(\u001b[0m\u001b[0mself\u001b[0m\u001b[0;34m,\u001b[0m \u001b[0mkey\u001b[0m\u001b[0;34m:\u001b[0m \u001b[0mstr\u001b[0m\u001b[0;34m)\u001b[0m \u001b[0;34m->\u001b[0m \u001b[0mAny\u001b[0m\u001b[0;34m:\u001b[0m\u001b[0;34m\u001b[0m\u001b[0;34m\u001b[0m\u001b[0m\n\u001b[0m\u001b[1;32m     90\u001b[0m         \u001b[0;32mif\u001b[0m \u001b[0mkey\u001b[0m \u001b[0;34m==\u001b[0m \u001b[0;34m'_mapping'\u001b[0m\u001b[0;34m:\u001b[0m\u001b[0;34m\u001b[0m\u001b[0;34m\u001b[0m\u001b[0m\n\u001b[1;32m     91\u001b[0m             \u001b[0mself\u001b[0m\u001b[0;34m.\u001b[0m\u001b[0m_mapping\u001b[0m \u001b[0;34m=\u001b[0m \u001b[0;34m{\u001b[0m\u001b[0;34m}\u001b[0m\u001b[0;34m\u001b[0m\u001b[0;34m\u001b[0m\u001b[0m\n",
            "\u001b[0;31mKeyboardInterrupt\u001b[0m: "
          ]
        }
      ]
    },
    {
      "cell_type": "markdown",
      "source": [
        "# **Plotting Loss Curves**"
      ],
      "metadata": {
        "id": "HkhKmVL-hLQR"
      }
    },
    {
      "cell_type": "code",
      "source": [
        "import matplotlib.pyplot as plt\n",
        "\n",
        "plt.title('GNN GNN NN on Power Flow Dataset')\n",
        "plt.plot(train_loss_list, label=\"Train Loss\")\n",
        "plt.plot(val_loss_list, label=\"Validation Loss\")\n",
        "plt.yscale('log')\n",
        "plt.xlabel(\"Epoch\")\n",
        "plt.ylabel(\"Loss\")\n",
        "plt.legend(loc='best')\n",
        "plt.show()\n",
        "\n",
        "print(f\"Last epoch: {epoch}, Train loss: {train_loss:.7f}, Val loss: {val_loss:.7f}\")\n",
        "print(f\"Best epoch: {best_epoch}, Train loss: {best_train_loss:.7f}, Val loss: {best_val_loss:.7f}\")\n"
      ],
      "metadata": {
        "colab": {
          "base_uri": "https://localhost:8080/",
          "height": 508
        },
        "id": "YWYYyI3cj-22",
        "outputId": "a73afe6c-e325-4303-b340-1fc516b53bd2"
      },
      "execution_count": 17,
      "outputs": [
        {
          "output_type": "display_data",
          "data": {
            "text/plain": [
              "<Figure size 640x480 with 1 Axes>"
            ],
            "image/png": "[encoded data removed]"
          },
          "metadata": {}
        },
        {
          "output_type": "stream",
          "name": "stdout",
          "text": [
            "Last epoch: 484, Train loss: 0.0000680, Val loss: 0.4678678\n",
            "Best epoch: 483, Train loss: 0.0000682, Val loss: 0.0002628\n"
          ]
        }
      ]
    },
    {
      "cell_type": "markdown",
      "source": [
        "# **Model Evaluation**"
      ],
      "metadata": {
        "id": "MhfPkA3bhVX4"
      }
    },
    {
      "cell_type": "code",
      "source": [
        "model.eval()\n",
        "\n",
        "from sklearn.metrics import mean_squared_error, mean_absolute_error, r2_score\n",
        "import numpy as np\n",
        "\n",
        "# Function to calculate regression metrics\n",
        "def evaluate_regression_metrics(y_true, y_pred):\n",
        "    # Denormalize the outputs\n",
        "    y_true = denormalize_output(y_true, y_val_mean, y_val_std)\n",
        "    y_pred = denormalize_output(y_pred, y_val_mean, y_val_std)\n",
        "\n",
        "    # Convert to numpy arrays\n",
        "    y_true = y_true.detach().cpu().numpy()\n",
        "    y_pred = y_pred.detach().cpu().numpy()\n",
        "\n",
        "    # Calculate metrics\n",
        "    mse = mean_squared_error(y_true, y_pred)\n",
        "    rmse = np.sqrt(mse)\n",
        "    nrmse = rmse / np.std(y_true)\n",
        "    mae = mean_absolute_error(y_true, y_pred)\n",
        "    r2 = r2_score(y_true, y_pred)\n",
        "\n",
        "    # Print metrics\n",
        "    print(f\"Mean Squared Error (MSE): {mse:.6f}\")\n",
        "    print(f\"Root Mean Squared Error (RMSE): {rmse:.6f}\")\n",
        "    print(f\"Normalized RMSE (NRMSE): {nrmse:.6f}\")\n",
        "    print(f\"Mean Absolute Error (MAE): {mae:.6f}\")\n",
        "    print(f\"R^2 Score: {r2:.6f}\")\n",
        "\n",
        "    return mse, rmse, nrmse, mae, r2\n",
        "\n",
        "# Evaluation after training\n",
        "model.eval()\n",
        "y_val_predictions = []\n",
        "\n",
        "# Collect all predictions and ground truth for the validation set\n",
        "with torch.no_grad():\n",
        "    for batch in val_loader:\n",
        "        y_val_pred = model(batch)\n",
        "        y_val_predictions.append(y_val_pred)\n",
        "\n",
        "# Stack predictions and targets\n",
        "y_val_predictions = torch.cat(y_val_predictions, dim=0)\n",
        "y_val_targets = torch.cat([batch.y for batch in val_loader], dim=0)\n",
        "\n",
        "# Reshape predictions and targets\n",
        "y_val_predictions = y_val_predictions.view(-1, n_bus * 2)\n",
        "y_val_targets = y_val_targets.view(-1, n_bus * 2)\n",
        "\n",
        "# Calculate and print regression metrics\n",
        "mse, rmse, nrmse, mae, r2 = evaluate_regression_metrics(y_val_targets, y_val_predictions)\n",
        "\n",
        "# Save the metrics to a dictionary for later comparison\n",
        "metrics = {\n",
        "    'MSE': mse,\n",
        "    'RMSE': rmse,\n",
        "    'NRMSE': nrmse,\n",
        "    'MAE': mae,\n",
        "    'R2': r2\n",
        "}\n",
        "\n",
        "# Optionally save the metrics to file\n",
        "import pandas as pd\n",
        "metrics_df = pd.DataFrame([metrics])\n",
        "metrics_df.to_csv(\"14_bus_validation_metrics.csv\", index=False)\n",
        "print(\"\\nMetrics saved to '14_bus_validation_metrics.csv'.\")\n",
        "\n",
        "#metrics_df.to_csv(\"30_bus_validation_metrics.csv\", index=False)\n",
        "#print(\"\\nMetrics saved to '30_bus_validation_metrics.csv'.\")\n",
        "\n",
        "#metrics_df.to_csv(\"57_bus_validation_metrics.csv\", index=False)\n",
        "#print(\"\\nMetrics saved to '57_bus_validation_metrics.csv'.\")\n"
      ],
      "metadata": {
        "colab": {
          "base_uri": "https://localhost:8080/"
        },
        "id": "mJb6OjgSuV4I",
        "outputId": "4b6b4f07-90fa-4d77-ca64-d443e2ba5623"
      },
      "execution_count": 19,
      "outputs": [
        {
          "output_type": "stream",
          "name": "stdout",
          "text": [
            "Mean Squared Error (MSE): 0.000263\n",
            "Root Mean Squared Error (RMSE): 0.016212\n",
            "Normalized RMSE (NRMSE): 0.000194\n",
            "Mean Absolute Error (MAE): 0.009671\n",
            "R^2 Score: 0.999006\n",
            "\n",
            "Metrics saved to 'validation_metrics.csv'.\n"
          ]
        }
      ]
    },
    {
      "cell_type": "code",
      "source": [
        "model.eval()\n",
        "\n",
        "# Evaluation on a single training datapoint\n",
        "y_train_pred = model(train_loader.dataset[0])\n",
        "train_loss_1 = MSE(denormalize_output(y_train_pred, y_val_mean, y_val_std), denormalize_output(y_norm_train[0], y_val_mean, y_val_std))\n",
        "print(\"[1 datapoint] Train ground-truth:\", y_raw_train[0].detach().numpy())\n",
        "print(\"[1 datapoint] Train prediction:\", denormalize_output(y_train_pred, y_val_mean, y_val_std).detach().numpy())\n",
        "print(f\"[1 datapoint] Train loss (MSE): {train_loss_1:.7f}\")\n",
        "\n",
        "# Evaluation on a single validation datapoint\n",
        "y_val_pred = model(val_loader.dataset[0])\n",
        "val_loss_1 = MSE(denormalize_output(y_val_pred, y_val_mean, y_val_std), denormalize_output(y_norm_val[0], y_val_mean, y_val_std))\n",
        "print(\"[1 datapoint] Val ground-truth:\", y_raw_val[0].detach().numpy())\n",
        "print(\"[1 datapoint] Val prediction:\", denormalize_output(y_val_pred, y_val_mean, y_val_std).detach().numpy())\n",
        "print(f\"[1 datapoint] Val loss (MSE): {val_loss_1:.7f}\")\n"
      ],
      "metadata": {
        "colab": {
          "base_uri": "https://localhost:8080/"
        },
        "id": "bauFg7bKkBKp",
        "outputId": "73bc61af-a15e-48c2-bab5-d7813ce15e40"
      },
      "execution_count": 20,
      "outputs": [
        {
          "output_type": "stream",
          "name": "stdout",
          "text": [
            "[1 datapoint] Train ground-truth: [  10.324 -154.216    9.882 -156.117    9.753 -156.712    9.724 -156.839\n",
            "    9.659 -157.161    9.607 -157.399    9.617 -157.37     9.627 -157.311\n",
            "    9.581 -157.512    9.56  -157.633    9.773 -156.613    9.682 -157.039\n",
            "    9.658 -157.152    9.664 -157.123]\n",
            "[1 datapoint] Train prediction: [  10.32436 -154.20943    9.88266 -156.10844    9.75356 -156.70706\n",
            "    9.72556 -156.83072    9.66007 -157.1534     9.60873 -157.38504\n",
            "    9.61776 -157.36098    9.62839 -157.3038     9.58461 -157.49806\n",
            "    9.56193 -157.61293    9.77318 -156.61003    9.68424 -157.03433\n",
            "    9.66011 -157.14351    9.66575 -157.11386]\n",
            "[1 datapoint] Train loss (MSE): 0.0000388\n",
            "[1 datapoint] Val ground-truth: [  10.302 -154.788    9.844 -156.745    9.686 -157.465    9.685 -157.484\n",
            "    9.574 -157.989    9.568 -158.053    9.543 -158.141    9.532 -158.187\n",
            "    9.518 -158.294    9.535 -158.209    9.727 -157.275    9.629 -157.731\n",
            "    9.599 -157.869    9.594 -157.896]\n",
            "[1 datapoint] Val prediction: [  10.30243 -154.78113    9.84237 -156.73941    9.68732 -157.45108\n",
            "    9.68502 -157.4755     9.57621 -157.9755     9.56624 -158.0505\n",
            "    9.54285 -158.13078    9.53402 -158.17642    9.51632 -158.295\n",
            "    9.53326 -158.21048    9.72747 -157.26582    9.63065 -157.72482\n",
            "    9.59874 -157.86638    9.59374 -157.8916 ]\n",
            "[1 datapoint] Val loss (MSE): 0.0000331\n"
          ]
        }
      ]
    },
    {
      "cell_type": "markdown",
      "source": [
        "# **Testing on Multiple Datasets**"
      ],
      "metadata": {
        "id": "7SXapJIxhdqG"
      }
    },
    {
      "cell_type": "code",
      "source": [
        "best_model = My_GNN_GNN_NN(n_bus, feat_in, feat_size1, feat_size2, hidden_size1, output_size)\n",
        "\n",
        "# Load the saved state dictionary\n",
        "state_dict = torch.load(\"[14 bus] Best_GNN_GNN_NN_model.pt\")\n",
        "#state_dict = torch.load(\"[30 bus] Best_GNN_GNN_NN_model.pt\")\n",
        "#state_dict = torch.load(\"[57 bus] Best_GNN_GNN_NN_model.pt\")\n",
        "\n",
        "best_model.load_state_dict(state_dict)\n",
        "\n",
        "# Set the model to evaluation mode\n",
        "best_model.eval()"
      ],
      "metadata": {
        "colab": {
          "base_uri": "https://localhost:8080/"
        },
        "id": "FwIyhE7I7Dkf",
        "outputId": "227643e6-d123-47ca-a74f-ce8ebe6009fb"
      },
      "execution_count": 24,
      "outputs": [
        {
          "output_type": "stream",
          "name": "stderr",
          "text": [
            "<ipython-input-24-d1e4fc2b466c>:4: FutureWarning: You are using `torch.load` with `weights_only=False` (the current default value), which uses the default pickle module implicitly. It is possible to construct malicious pickle data which will execute arbitrary code during unpickling (See https://github.com/pytorch/pytorch/blob/main/SECURITY.md#untrusted-models for more details). In a future release, the default value for `weights_only` will be flipped to `True`. This limits the functions that could be executed during unpickling. Arbitrary objects will no longer be allowed to be loaded via this mode unless they are explicitly allowlisted by the user via `torch.serialization.add_safe_globals`. We recommend you start setting `weights_only=True` for any use case where you don't have full control of the loaded file. Please open an issue on GitHub for any issues related to this experimental feature.\n",
            "  state_dict = torch.load(\"[PyG] [14 bus] Best_GNN_GNN_NN_model.pt\")\n"
          ]
        },
        {
          "output_type": "execute_result",
          "data": {
            "text/plain": [
              "My_GNN_GNN_NN(\n",
              "  (conv1): GCNConv(2, 8)\n",
              "  (conv2): GCNConv(8, 4)\n",
              "  (lin1): Linear(in_features=56, out_features=30, bias=True)\n",
              "  (lin2): Linear(in_features=30, out_features=28, bias=True)\n",
              ")"
            ]
          },
          "metadata": {},
          "execution_count": 24
        }
      ]
    },
    {
      "cell_type": "code",
      "source": [
        "def NRMSE(yhat, y):\n",
        "    rmse = torch.sqrt(torch.mean((yhat - y) ** 2))\n",
        "    nrmse = rmse / torch.std(y)\n",
        "    return nrmse"
      ],
      "metadata": {
        "id": "v1vG8VRM7y7u"
      },
      "execution_count": 26,
      "outputs": []
    },
    {
      "cell_type": "code",
      "source": [
        "test_loss_list = []\n",
        "\n",
        "for i in range(10):\n",
        "    dataset = pd.read_excel(f'/content/GNN-OptimalPowerFlow/jupyter notebook/dataset/Grid_14 bus_{i + 1}.xlsx').values\n",
        "    test_dataset = slice_dataset(dataset, 8)\n",
        "    x_raw_test, y_raw_test = make_dataset(test_dataset, n_bus)\n",
        "    x_norm_test, y_norm_test, _, _, _, _ = normalize_dataset(x_raw_test, y_raw_test)\n",
        "\n",
        "    data_test_list = [Data(x=x, y=y, edge_index=edge_index) for x, y in zip(x_norm_test, y_norm_test)]\n",
        "    test_loader = DataLoader(data_test_list, batch_size=1)\n",
        "\n",
        "    test_loss = 0\n",
        "    yhat = torch.empty(0, n_bus * 2)\n",
        "    for batch in test_loader:\n",
        "        y_pred = best_model(batch)\n",
        "        yhat = torch.cat((yhat, y_pred.view(1, -1)))\n",
        "\n",
        "    yhat = denormalize_output(yhat, y_val_mean, y_val_std)\n",
        "    test_loss_NRMSE = NRMSE(yhat, y_raw_test)\n",
        "\n",
        "    print(f\"Dataset {i + 1} | Test loss (NRMSE): {test_loss_NRMSE:.7f}\")\n",
        "    test_loss_list.append(test_loss_NRMSE)"
      ],
      "metadata": {
        "colab": {
          "base_uri": "https://localhost:8080/",
          "height": 1000
        },
        "id": "UoIbS0G4kDGM",
        "outputId": "e4e05b66-59b8-4efb-9e14-1988d7771241"
      },
      "execution_count": 27,
      "outputs": [
        {
          "output_type": "stream",
          "name": "stderr",
          "text": [
            "/usr/local/lib/python3.10/dist-packages/torch_geometric/deprecation.py:26: UserWarning: 'data.DataLoader' is deprecated, use 'loader.DataLoader' instead\n",
            "  warnings.warn(out)\n"
          ]
        },
        {
          "output_type": "stream",
          "name": "stdout",
          "text": [
            "Dataset 1 | Test loss (NRMSE): 0.0002095\n"
          ]
        },
        {
          "output_type": "stream",
          "name": "stderr",
          "text": [
            "/usr/local/lib/python3.10/dist-packages/torch_geometric/deprecation.py:26: UserWarning: 'data.DataLoader' is deprecated, use 'loader.DataLoader' instead\n",
            "  warnings.warn(out)\n"
          ]
        },
        {
          "output_type": "stream",
          "name": "stdout",
          "text": [
            "Dataset 2 | Test loss (NRMSE): 0.0001943\n"
          ]
        },
        {
          "output_type": "stream",
          "name": "stderr",
          "text": [
            "/usr/local/lib/python3.10/dist-packages/torch_geometric/deprecation.py:26: UserWarning: 'data.DataLoader' is deprecated, use 'loader.DataLoader' instead\n",
            "  warnings.warn(out)\n"
          ]
        },
        {
          "output_type": "stream",
          "name": "stdout",
          "text": [
            "Dataset 3 | Test loss (NRMSE): 0.0001995\n"
          ]
        },
        {
          "output_type": "stream",
          "name": "stderr",
          "text": [
            "/usr/local/lib/python3.10/dist-packages/torch_geometric/deprecation.py:26: UserWarning: 'data.DataLoader' is deprecated, use 'loader.DataLoader' instead\n",
            "  warnings.warn(out)\n"
          ]
        },
        {
          "output_type": "stream",
          "name": "stdout",
          "text": [
            "Dataset 4 | Test loss (NRMSE): 0.0002290\n"
          ]
        },
        {
          "output_type": "stream",
          "name": "stderr",
          "text": [
            "/usr/local/lib/python3.10/dist-packages/torch_geometric/deprecation.py:26: UserWarning: 'data.DataLoader' is deprecated, use 'loader.DataLoader' instead\n",
            "  warnings.warn(out)\n"
          ]
        },
        {
          "output_type": "stream",
          "name": "stdout",
          "text": [
            "Dataset 5 | Test loss (NRMSE): 0.0002516\n"
          ]
        },
        {
          "output_type": "stream",
          "name": "stderr",
          "text": [
            "/usr/local/lib/python3.10/dist-packages/torch_geometric/deprecation.py:26: UserWarning: 'data.DataLoader' is deprecated, use 'loader.DataLoader' instead\n",
            "  warnings.warn(out)\n"
          ]
        },
        {
          "output_type": "stream",
          "name": "stdout",
          "text": [
            "Dataset 6 | Test loss (NRMSE): 0.0001987\n"
          ]
        },
        {
          "output_type": "stream",
          "name": "stderr",
          "text": [
            "/usr/local/lib/python3.10/dist-packages/torch_geometric/deprecation.py:26: UserWarning: 'data.DataLoader' is deprecated, use 'loader.DataLoader' instead\n",
            "  warnings.warn(out)\n"
          ]
        },
        {
          "output_type": "stream",
          "name": "stdout",
          "text": [
            "Dataset 7 | Test loss (NRMSE): 0.0003747\n"
          ]
        },
        {
          "output_type": "stream",
          "name": "stderr",
          "text": [
            "/usr/local/lib/python3.10/dist-packages/torch_geometric/deprecation.py:26: UserWarning: 'data.DataLoader' is deprecated, use 'loader.DataLoader' instead\n",
            "  warnings.warn(out)\n"
          ]
        },
        {
          "output_type": "stream",
          "name": "stdout",
          "text": [
            "Dataset 8 | Test loss (NRMSE): 0.0005161\n"
          ]
        },
        {
          "output_type": "stream",
          "name": "stderr",
          "text": [
            "/usr/local/lib/python3.10/dist-packages/torch_geometric/deprecation.py:26: UserWarning: 'data.DataLoader' is deprecated, use 'loader.DataLoader' instead\n",
            "  warnings.warn(out)\n"
          ]
        },
        {
          "output_type": "stream",
          "name": "stdout",
          "text": [
            "Dataset 9 | Test loss (NRMSE): 0.0002261\n"
          ]
        },
        {
          "output_type": "stream",
          "name": "stderr",
          "text": [
            "/usr/local/lib/python3.10/dist-packages/torch_geometric/deprecation.py:26: UserWarning: 'data.DataLoader' is deprecated, use 'loader.DataLoader' instead\n",
            "  warnings.warn(out)\n"
          ]
        },
        {
          "output_type": "stream",
          "name": "stdout",
          "text": [
            "Dataset 10 | Test loss (NRMSE): 0.0004208\n"
          ]
        },
        {
          "output_type": "stream",
          "name": "stderr",
          "text": [
            "/usr/local/lib/python3.10/dist-packages/torch_geometric/deprecation.py:26: UserWarning: 'data.DataLoader' is deprecated, use 'loader.DataLoader' instead\n",
            "  warnings.warn(out)\n"
          ]
        },
        {
          "output_type": "stream",
          "name": "stdout",
          "text": [
            "Dataset 11 | Test loss (NRMSE): 0.0003316\n"
          ]
        },
        {
          "output_type": "stream",
          "name": "stderr",
          "text": [
            "/usr/local/lib/python3.10/dist-packages/torch_geometric/deprecation.py:26: UserWarning: 'data.DataLoader' is deprecated, use 'loader.DataLoader' instead\n",
            "  warnings.warn(out)\n"
          ]
        },
        {
          "output_type": "stream",
          "name": "stdout",
          "text": [
            "Dataset 12 | Test loss (NRMSE): 0.0002865\n"
          ]
        },
        {
          "output_type": "stream",
          "name": "stderr",
          "text": [
            "/usr/local/lib/python3.10/dist-packages/torch_geometric/deprecation.py:26: UserWarning: 'data.DataLoader' is deprecated, use 'loader.DataLoader' instead\n",
            "  warnings.warn(out)\n"
          ]
        },
        {
          "output_type": "stream",
          "name": "stdout",
          "text": [
            "Dataset 13 | Test loss (NRMSE): 0.0002028\n"
          ]
        },
        {
          "output_type": "stream",
          "name": "stderr",
          "text": [
            "/usr/local/lib/python3.10/dist-packages/torch_geometric/deprecation.py:26: UserWarning: 'data.DataLoader' is deprecated, use 'loader.DataLoader' instead\n",
            "  warnings.warn(out)\n"
          ]
        },
        {
          "output_type": "stream",
          "name": "stdout",
          "text": [
            "Dataset 14 | Test loss (NRMSE): 0.0002147\n"
          ]
        },
        {
          "output_type": "stream",
          "name": "stderr",
          "text": [
            "/usr/local/lib/python3.10/dist-packages/torch_geometric/deprecation.py:26: UserWarning: 'data.DataLoader' is deprecated, use 'loader.DataLoader' instead\n",
            "  warnings.warn(out)\n"
          ]
        },
        {
          "output_type": "stream",
          "name": "stdout",
          "text": [
            "Dataset 15 | Test loss (NRMSE): 0.0002133\n"
          ]
        },
        {
          "output_type": "stream",
          "name": "stderr",
          "text": [
            "/usr/local/lib/python3.10/dist-packages/torch_geometric/deprecation.py:26: UserWarning: 'data.DataLoader' is deprecated, use 'loader.DataLoader' instead\n",
            "  warnings.warn(out)\n"
          ]
        },
        {
          "output_type": "stream",
          "name": "stdout",
          "text": [
            "Dataset 16 | Test loss (NRMSE): 0.0002421\n"
          ]
        },
        {
          "output_type": "stream",
          "name": "stderr",
          "text": [
            "/usr/local/lib/python3.10/dist-packages/torch_geometric/deprecation.py:26: UserWarning: 'data.DataLoader' is deprecated, use 'loader.DataLoader' instead\n",
            "  warnings.warn(out)\n"
          ]
        },
        {
          "output_type": "stream",
          "name": "stdout",
          "text": [
            "Dataset 17 | Test loss (NRMSE): 0.0002568\n"
          ]
        },
        {
          "output_type": "stream",
          "name": "stderr",
          "text": [
            "/usr/local/lib/python3.10/dist-packages/torch_geometric/deprecation.py:26: UserWarning: 'data.DataLoader' is deprecated, use 'loader.DataLoader' instead\n",
            "  warnings.warn(out)\n"
          ]
        },
        {
          "output_type": "stream",
          "name": "stdout",
          "text": [
            "Dataset 18 | Test loss (NRMSE): 0.0002829\n"
          ]
        },
        {
          "output_type": "stream",
          "name": "stderr",
          "text": [
            "/usr/local/lib/python3.10/dist-packages/torch_geometric/deprecation.py:26: UserWarning: 'data.DataLoader' is deprecated, use 'loader.DataLoader' instead\n",
            "  warnings.warn(out)\n"
          ]
        },
        {
          "output_type": "stream",
          "name": "stdout",
          "text": [
            "Dataset 19 | Test loss (NRMSE): 0.0002054\n"
          ]
        },
        {
          "output_type": "stream",
          "name": "stderr",
          "text": [
            "/usr/local/lib/python3.10/dist-packages/torch_geometric/deprecation.py:26: UserWarning: 'data.DataLoader' is deprecated, use 'loader.DataLoader' instead\n",
            "  warnings.warn(out)\n"
          ]
        },
        {
          "output_type": "stream",
          "name": "stdout",
          "text": [
            "Dataset 20 | Test loss (NRMSE): 0.0002482\n"
          ]
        },
        {
          "output_type": "stream",
          "name": "stderr",
          "text": [
            "/usr/local/lib/python3.10/dist-packages/torch_geometric/deprecation.py:26: UserWarning: 'data.DataLoader' is deprecated, use 'loader.DataLoader' instead\n",
            "  warnings.warn(out)\n"
          ]
        },
        {
          "output_type": "stream",
          "name": "stdout",
          "text": [
            "Dataset 21 | Test loss (NRMSE): 0.0003200\n"
          ]
        },
        {
          "output_type": "stream",
          "name": "stderr",
          "text": [
            "/usr/local/lib/python3.10/dist-packages/torch_geometric/deprecation.py:26: UserWarning: 'data.DataLoader' is deprecated, use 'loader.DataLoader' instead\n",
            "  warnings.warn(out)\n"
          ]
        },
        {
          "output_type": "stream",
          "name": "stdout",
          "text": [
            "Dataset 22 | Test loss (NRMSE): 0.0002926\n"
          ]
        },
        {
          "output_type": "stream",
          "name": "stderr",
          "text": [
            "/usr/local/lib/python3.10/dist-packages/torch_geometric/deprecation.py:26: UserWarning: 'data.DataLoader' is deprecated, use 'loader.DataLoader' instead\n",
            "  warnings.warn(out)\n"
          ]
        },
        {
          "output_type": "stream",
          "name": "stdout",
          "text": [
            "Dataset 23 | Test loss (NRMSE): 0.0002473\n"
          ]
        },
        {
          "output_type": "stream",
          "name": "stderr",
          "text": [
            "/usr/local/lib/python3.10/dist-packages/torch_geometric/deprecation.py:26: UserWarning: 'data.DataLoader' is deprecated, use 'loader.DataLoader' instead\n",
            "  warnings.warn(out)\n"
          ]
        },
        {
          "output_type": "stream",
          "name": "stdout",
          "text": [
            "Dataset 24 | Test loss (NRMSE): 0.0004114\n"
          ]
        },
        {
          "output_type": "stream",
          "name": "stderr",
          "text": [
            "/usr/local/lib/python3.10/dist-packages/torch_geometric/deprecation.py:26: UserWarning: 'data.DataLoader' is deprecated, use 'loader.DataLoader' instead\n",
            "  warnings.warn(out)\n"
          ]
        },
        {
          "output_type": "stream",
          "name": "stdout",
          "text": [
            "Dataset 25 | Test loss (NRMSE): 0.0003111\n"
          ]
        },
        {
          "output_type": "stream",
          "name": "stderr",
          "text": [
            "/usr/local/lib/python3.10/dist-packages/torch_geometric/deprecation.py:26: UserWarning: 'data.DataLoader' is deprecated, use 'loader.DataLoader' instead\n",
            "  warnings.warn(out)\n"
          ]
        },
        {
          "output_type": "stream",
          "name": "stdout",
          "text": [
            "Dataset 26 | Test loss (NRMSE): 0.0002337\n"
          ]
        },
        {
          "output_type": "stream",
          "name": "stderr",
          "text": [
            "/usr/local/lib/python3.10/dist-packages/torch_geometric/deprecation.py:26: UserWarning: 'data.DataLoader' is deprecated, use 'loader.DataLoader' instead\n",
            "  warnings.warn(out)\n"
          ]
        },
        {
          "output_type": "stream",
          "name": "stdout",
          "text": [
            "Dataset 27 | Test loss (NRMSE): 0.0003020\n"
          ]
        },
        {
          "output_type": "stream",
          "name": "stderr",
          "text": [
            "/usr/local/lib/python3.10/dist-packages/torch_geometric/deprecation.py:26: UserWarning: 'data.DataLoader' is deprecated, use 'loader.DataLoader' instead\n",
            "  warnings.warn(out)\n"
          ]
        },
        {
          "output_type": "stream",
          "name": "stdout",
          "text": [
            "Dataset 28 | Test loss (NRMSE): 0.0002455\n"
          ]
        },
        {
          "output_type": "stream",
          "name": "stderr",
          "text": [
            "/usr/local/lib/python3.10/dist-packages/torch_geometric/deprecation.py:26: UserWarning: 'data.DataLoader' is deprecated, use 'loader.DataLoader' instead\n",
            "  warnings.warn(out)\n"
          ]
        },
        {
          "output_type": "stream",
          "name": "stdout",
          "text": [
            "Dataset 29 | Test loss (NRMSE): 0.0002127\n"
          ]
        },
        {
          "output_type": "stream",
          "name": "stderr",
          "text": [
            "/usr/local/lib/python3.10/dist-packages/torch_geometric/deprecation.py:26: UserWarning: 'data.DataLoader' is deprecated, use 'loader.DataLoader' instead\n",
            "  warnings.warn(out)\n"
          ]
        },
        {
          "output_type": "stream",
          "name": "stdout",
          "text": [
            "Dataset 30 | Test loss (NRMSE): 0.0004148\n"
          ]
        },
        {
          "output_type": "stream",
          "name": "stderr",
          "text": [
            "/usr/local/lib/python3.10/dist-packages/torch_geometric/deprecation.py:26: UserWarning: 'data.DataLoader' is deprecated, use 'loader.DataLoader' instead\n",
            "  warnings.warn(out)\n"
          ]
        },
        {
          "output_type": "stream",
          "name": "stdout",
          "text": [
            "Dataset 31 | Test loss (NRMSE): 0.0003674\n"
          ]
        },
        {
          "output_type": "stream",
          "name": "stderr",
          "text": [
            "/usr/local/lib/python3.10/dist-packages/torch_geometric/deprecation.py:26: UserWarning: 'data.DataLoader' is deprecated, use 'loader.DataLoader' instead\n",
            "  warnings.warn(out)\n"
          ]
        },
        {
          "output_type": "stream",
          "name": "stdout",
          "text": [
            "Dataset 32 | Test loss (NRMSE): 0.0001855\n"
          ]
        },
        {
          "output_type": "stream",
          "name": "stderr",
          "text": [
            "/usr/local/lib/python3.10/dist-packages/torch_geometric/deprecation.py:26: UserWarning: 'data.DataLoader' is deprecated, use 'loader.DataLoader' instead\n",
            "  warnings.warn(out)\n"
          ]
        },
        {
          "output_type": "stream",
          "name": "stdout",
          "text": [
            "Dataset 33 | Test loss (NRMSE): 0.0002888\n"
          ]
        },
        {
          "output_type": "stream",
          "name": "stderr",
          "text": [
            "/usr/local/lib/python3.10/dist-packages/torch_geometric/deprecation.py:26: UserWarning: 'data.DataLoader' is deprecated, use 'loader.DataLoader' instead\n",
            "  warnings.warn(out)\n"
          ]
        },
        {
          "output_type": "stream",
          "name": "stdout",
          "text": [
            "Dataset 34 | Test loss (NRMSE): 0.0002272\n"
          ]
        },
        {
          "output_type": "stream",
          "name": "stderr",
          "text": [
            "/usr/local/lib/python3.10/dist-packages/torch_geometric/deprecation.py:26: UserWarning: 'data.DataLoader' is deprecated, use 'loader.DataLoader' instead\n",
            "  warnings.warn(out)\n"
          ]
        },
        {
          "output_type": "stream",
          "name": "stdout",
          "text": [
            "Dataset 35 | Test loss (NRMSE): 0.0004344\n"
          ]
        },
        {
          "output_type": "stream",
          "name": "stderr",
          "text": [
            "/usr/local/lib/python3.10/dist-packages/torch_geometric/deprecation.py:26: UserWarning: 'data.DataLoader' is deprecated, use 'loader.DataLoader' instead\n",
            "  warnings.warn(out)\n"
          ]
        },
        {
          "output_type": "stream",
          "name": "stdout",
          "text": [
            "Dataset 36 | Test loss (NRMSE): 0.0002356\n"
          ]
        },
        {
          "output_type": "stream",
          "name": "stderr",
          "text": [
            "/usr/local/lib/python3.10/dist-packages/torch_geometric/deprecation.py:26: UserWarning: 'data.DataLoader' is deprecated, use 'loader.DataLoader' instead\n",
            "  warnings.warn(out)\n"
          ]
        },
        {
          "output_type": "stream",
          "name": "stdout",
          "text": [
            "Dataset 37 | Test loss (NRMSE): 0.0001974\n"
          ]
        },
        {
          "output_type": "stream",
          "name": "stderr",
          "text": [
            "/usr/local/lib/python3.10/dist-packages/torch_geometric/deprecation.py:26: UserWarning: 'data.DataLoader' is deprecated, use 'loader.DataLoader' instead\n",
            "  warnings.warn(out)\n"
          ]
        },
        {
          "output_type": "stream",
          "name": "stdout",
          "text": [
            "Dataset 38 | Test loss (NRMSE): 0.0003367\n"
          ]
        },
        {
          "output_type": "stream",
          "name": "stderr",
          "text": [
            "/usr/local/lib/python3.10/dist-packages/torch_geometric/deprecation.py:26: UserWarning: 'data.DataLoader' is deprecated, use 'loader.DataLoader' instead\n",
            "  warnings.warn(out)\n"
          ]
        },
        {
          "output_type": "stream",
          "name": "stdout",
          "text": [
            "Dataset 39 | Test loss (NRMSE): 0.0002926\n"
          ]
        },
        {
          "output_type": "stream",
          "name": "stderr",
          "text": [
            "/usr/local/lib/python3.10/dist-packages/torch_geometric/deprecation.py:26: UserWarning: 'data.DataLoader' is deprecated, use 'loader.DataLoader' instead\n",
            "  warnings.warn(out)\n"
          ]
        },
        {
          "output_type": "stream",
          "name": "stdout",
          "text": [
            "Dataset 40 | Test loss (NRMSE): 0.0003836\n"
          ]
        },
        {
          "output_type": "stream",
          "name": "stderr",
          "text": [
            "/usr/local/lib/python3.10/dist-packages/torch_geometric/deprecation.py:26: UserWarning: 'data.DataLoader' is deprecated, use 'loader.DataLoader' instead\n",
            "  warnings.warn(out)\n"
          ]
        },
        {
          "output_type": "stream",
          "name": "stdout",
          "text": [
            "Dataset 41 | Test loss (NRMSE): 0.0002361\n"
          ]
        },
        {
          "output_type": "stream",
          "name": "stderr",
          "text": [
            "/usr/local/lib/python3.10/dist-packages/torch_geometric/deprecation.py:26: UserWarning: 'data.DataLoader' is deprecated, use 'loader.DataLoader' instead\n",
            "  warnings.warn(out)\n"
          ]
        },
        {
          "output_type": "stream",
          "name": "stdout",
          "text": [
            "Dataset 42 | Test loss (NRMSE): 0.0002531\n"
          ]
        },
        {
          "output_type": "stream",
          "name": "stderr",
          "text": [
            "/usr/local/lib/python3.10/dist-packages/torch_geometric/deprecation.py:26: UserWarning: 'data.DataLoader' is deprecated, use 'loader.DataLoader' instead\n",
            "  warnings.warn(out)\n"
          ]
        },
        {
          "output_type": "stream",
          "name": "stdout",
          "text": [
            "Dataset 43 | Test loss (NRMSE): 0.0002360\n"
          ]
        },
        {
          "output_type": "stream",
          "name": "stderr",
          "text": [
            "/usr/local/lib/python3.10/dist-packages/torch_geometric/deprecation.py:26: UserWarning: 'data.DataLoader' is deprecated, use 'loader.DataLoader' instead\n",
            "  warnings.warn(out)\n"
          ]
        },
        {
          "output_type": "stream",
          "name": "stdout",
          "text": [
            "Dataset 44 | Test loss (NRMSE): 0.0002286\n"
          ]
        },
        {
          "output_type": "stream",
          "name": "stderr",
          "text": [
            "/usr/local/lib/python3.10/dist-packages/torch_geometric/deprecation.py:26: UserWarning: 'data.DataLoader' is deprecated, use 'loader.DataLoader' instead\n",
            "  warnings.warn(out)\n"
          ]
        },
        {
          "output_type": "stream",
          "name": "stdout",
          "text": [
            "Dataset 45 | Test loss (NRMSE): 0.0002239\n"
          ]
        },
        {
          "output_type": "stream",
          "name": "stderr",
          "text": [
            "/usr/local/lib/python3.10/dist-packages/torch_geometric/deprecation.py:26: UserWarning: 'data.DataLoader' is deprecated, use 'loader.DataLoader' instead\n",
            "  warnings.warn(out)\n"
          ]
        },
        {
          "output_type": "stream",
          "name": "stdout",
          "text": [
            "Dataset 46 | Test loss (NRMSE): 0.0002371\n"
          ]
        },
        {
          "output_type": "stream",
          "name": "stderr",
          "text": [
            "/usr/local/lib/python3.10/dist-packages/torch_geometric/deprecation.py:26: UserWarning: 'data.DataLoader' is deprecated, use 'loader.DataLoader' instead\n",
            "  warnings.warn(out)\n"
          ]
        },
        {
          "output_type": "stream",
          "name": "stdout",
          "text": [
            "Dataset 47 | Test loss (NRMSE): 0.0002316\n"
          ]
        },
        {
          "output_type": "stream",
          "name": "stderr",
          "text": [
            "/usr/local/lib/python3.10/dist-packages/torch_geometric/deprecation.py:26: UserWarning: 'data.DataLoader' is deprecated, use 'loader.DataLoader' instead\n",
            "  warnings.warn(out)\n"
          ]
        },
        {
          "output_type": "stream",
          "name": "stdout",
          "text": [
            "Dataset 48 | Test loss (NRMSE): 0.0002576\n"
          ]
        },
        {
          "output_type": "stream",
          "name": "stderr",
          "text": [
            "/usr/local/lib/python3.10/dist-packages/torch_geometric/deprecation.py:26: UserWarning: 'data.DataLoader' is deprecated, use 'loader.DataLoader' instead\n",
            "  warnings.warn(out)\n"
          ]
        },
        {
          "output_type": "stream",
          "name": "stdout",
          "text": [
            "Dataset 49 | Test loss (NRMSE): 0.0003063\n"
          ]
        },
        {
          "output_type": "stream",
          "name": "stderr",
          "text": [
            "/usr/local/lib/python3.10/dist-packages/torch_geometric/deprecation.py:26: UserWarning: 'data.DataLoader' is deprecated, use 'loader.DataLoader' instead\n",
            "  warnings.warn(out)\n"
          ]
        },
        {
          "output_type": "stream",
          "name": "stdout",
          "text": [
            "Dataset 50 | Test loss (NRMSE): 0.0002411\n"
          ]
        },
        {
          "output_type": "stream",
          "name": "stderr",
          "text": [
            "/usr/local/lib/python3.10/dist-packages/torch_geometric/deprecation.py:26: UserWarning: 'data.DataLoader' is deprecated, use 'loader.DataLoader' instead\n",
            "  warnings.warn(out)\n"
          ]
        },
        {
          "output_type": "stream",
          "name": "stdout",
          "text": [
            "Dataset 51 | Test loss (NRMSE): 0.0002475\n"
          ]
        },
        {
          "output_type": "stream",
          "name": "stderr",
          "text": [
            "/usr/local/lib/python3.10/dist-packages/torch_geometric/deprecation.py:26: UserWarning: 'data.DataLoader' is deprecated, use 'loader.DataLoader' instead\n",
            "  warnings.warn(out)\n"
          ]
        },
        {
          "output_type": "stream",
          "name": "stdout",
          "text": [
            "Dataset 52 | Test loss (NRMSE): 0.0002501\n"
          ]
        },
        {
          "output_type": "stream",
          "name": "stderr",
          "text": [
            "/usr/local/lib/python3.10/dist-packages/torch_geometric/deprecation.py:26: UserWarning: 'data.DataLoader' is deprecated, use 'loader.DataLoader' instead\n",
            "  warnings.warn(out)\n"
          ]
        },
        {
          "output_type": "stream",
          "name": "stdout",
          "text": [
            "Dataset 53 | Test loss (NRMSE): 0.0002639\n"
          ]
        },
        {
          "output_type": "stream",
          "name": "stderr",
          "text": [
            "/usr/local/lib/python3.10/dist-packages/torch_geometric/deprecation.py:26: UserWarning: 'data.DataLoader' is deprecated, use 'loader.DataLoader' instead\n",
            "  warnings.warn(out)\n"
          ]
        },
        {
          "output_type": "stream",
          "name": "stdout",
          "text": [
            "Dataset 54 | Test loss (NRMSE): 0.0002280\n"
          ]
        },
        {
          "output_type": "stream",
          "name": "stderr",
          "text": [
            "/usr/local/lib/python3.10/dist-packages/torch_geometric/deprecation.py:26: UserWarning: 'data.DataLoader' is deprecated, use 'loader.DataLoader' instead\n",
            "  warnings.warn(out)\n"
          ]
        },
        {
          "output_type": "stream",
          "name": "stdout",
          "text": [
            "Dataset 55 | Test loss (NRMSE): 0.0002472\n"
          ]
        },
        {
          "output_type": "stream",
          "name": "stderr",
          "text": [
            "/usr/local/lib/python3.10/dist-packages/torch_geometric/deprecation.py:26: UserWarning: 'data.DataLoader' is deprecated, use 'loader.DataLoader' instead\n",
            "  warnings.warn(out)\n"
          ]
        },
        {
          "output_type": "stream",
          "name": "stdout",
          "text": [
            "Dataset 56 | Test loss (NRMSE): 0.0003015\n"
          ]
        },
        {
          "output_type": "stream",
          "name": "stderr",
          "text": [
            "/usr/local/lib/python3.10/dist-packages/torch_geometric/deprecation.py:26: UserWarning: 'data.DataLoader' is deprecated, use 'loader.DataLoader' instead\n",
            "  warnings.warn(out)\n"
          ]
        },
        {
          "output_type": "stream",
          "name": "stdout",
          "text": [
            "Dataset 57 | Test loss (NRMSE): 0.0002308\n"
          ]
        },
        {
          "output_type": "stream",
          "name": "stderr",
          "text": [
            "/usr/local/lib/python3.10/dist-packages/torch_geometric/deprecation.py:26: UserWarning: 'data.DataLoader' is deprecated, use 'loader.DataLoader' instead\n",
            "  warnings.warn(out)\n"
          ]
        },
        {
          "output_type": "stream",
          "name": "stdout",
          "text": [
            "Dataset 58 | Test loss (NRMSE): 0.0002724\n"
          ]
        },
        {
          "output_type": "stream",
          "name": "stderr",
          "text": [
            "/usr/local/lib/python3.10/dist-packages/torch_geometric/deprecation.py:26: UserWarning: 'data.DataLoader' is deprecated, use 'loader.DataLoader' instead\n",
            "  warnings.warn(out)\n"
          ]
        },
        {
          "output_type": "stream",
          "name": "stdout",
          "text": [
            "Dataset 59 | Test loss (NRMSE): 0.0002402\n"
          ]
        },
        {
          "output_type": "stream",
          "name": "stderr",
          "text": [
            "/usr/local/lib/python3.10/dist-packages/torch_geometric/deprecation.py:26: UserWarning: 'data.DataLoader' is deprecated, use 'loader.DataLoader' instead\n",
            "  warnings.warn(out)\n"
          ]
        },
        {
          "output_type": "stream",
          "name": "stdout",
          "text": [
            "Dataset 60 | Test loss (NRMSE): 0.0002262\n"
          ]
        },
        {
          "output_type": "stream",
          "name": "stderr",
          "text": [
            "/usr/local/lib/python3.10/dist-packages/torch_geometric/deprecation.py:26: UserWarning: 'data.DataLoader' is deprecated, use 'loader.DataLoader' instead\n",
            "  warnings.warn(out)\n"
          ]
        },
        {
          "output_type": "stream",
          "name": "stdout",
          "text": [
            "Dataset 61 | Test loss (NRMSE): 0.0002497\n"
          ]
        },
        {
          "output_type": "stream",
          "name": "stderr",
          "text": [
            "/usr/local/lib/python3.10/dist-packages/torch_geometric/deprecation.py:26: UserWarning: 'data.DataLoader' is deprecated, use 'loader.DataLoader' instead\n",
            "  warnings.warn(out)\n"
          ]
        },
        {
          "output_type": "stream",
          "name": "stdout",
          "text": [
            "Dataset 62 | Test loss (NRMSE): 0.0002549\n"
          ]
        },
        {
          "output_type": "stream",
          "name": "stderr",
          "text": [
            "/usr/local/lib/python3.10/dist-packages/torch_geometric/deprecation.py:26: UserWarning: 'data.DataLoader' is deprecated, use 'loader.DataLoader' instead\n",
            "  warnings.warn(out)\n"
          ]
        },
        {
          "output_type": "stream",
          "name": "stdout",
          "text": [
            "Dataset 63 | Test loss (NRMSE): 0.0002976\n"
          ]
        },
        {
          "output_type": "stream",
          "name": "stderr",
          "text": [
            "/usr/local/lib/python3.10/dist-packages/torch_geometric/deprecation.py:26: UserWarning: 'data.DataLoader' is deprecated, use 'loader.DataLoader' instead\n",
            "  warnings.warn(out)\n"
          ]
        },
        {
          "output_type": "stream",
          "name": "stdout",
          "text": [
            "Dataset 64 | Test loss (NRMSE): 0.0002231\n"
          ]
        },
        {
          "output_type": "stream",
          "name": "stderr",
          "text": [
            "/usr/local/lib/python3.10/dist-packages/torch_geometric/deprecation.py:26: UserWarning: 'data.DataLoader' is deprecated, use 'loader.DataLoader' instead\n",
            "  warnings.warn(out)\n"
          ]
        },
        {
          "output_type": "stream",
          "name": "stdout",
          "text": [
            "Dataset 65 | Test loss (NRMSE): 0.0002026\n"
          ]
        },
        {
          "output_type": "stream",
          "name": "stderr",
          "text": [
            "/usr/local/lib/python3.10/dist-packages/torch_geometric/deprecation.py:26: UserWarning: 'data.DataLoader' is deprecated, use 'loader.DataLoader' instead\n",
            "  warnings.warn(out)\n"
          ]
        },
        {
          "output_type": "stream",
          "name": "stdout",
          "text": [
            "Dataset 66 | Test loss (NRMSE): 0.0002315\n"
          ]
        },
        {
          "output_type": "stream",
          "name": "stderr",
          "text": [
            "/usr/local/lib/python3.10/dist-packages/torch_geometric/deprecation.py:26: UserWarning: 'data.DataLoader' is deprecated, use 'loader.DataLoader' instead\n",
            "  warnings.warn(out)\n"
          ]
        },
        {
          "output_type": "stream",
          "name": "stdout",
          "text": [
            "Dataset 67 | Test loss (NRMSE): 0.0002260\n"
          ]
        },
        {
          "output_type": "stream",
          "name": "stderr",
          "text": [
            "/usr/local/lib/python3.10/dist-packages/torch_geometric/deprecation.py:26: UserWarning: 'data.DataLoader' is deprecated, use 'loader.DataLoader' instead\n",
            "  warnings.warn(out)\n"
          ]
        },
        {
          "output_type": "stream",
          "name": "stdout",
          "text": [
            "Dataset 68 | Test loss (NRMSE): 0.0002500\n"
          ]
        },
        {
          "output_type": "stream",
          "name": "stderr",
          "text": [
            "/usr/local/lib/python3.10/dist-packages/torch_geometric/deprecation.py:26: UserWarning: 'data.DataLoader' is deprecated, use 'loader.DataLoader' instead\n",
            "  warnings.warn(out)\n"
          ]
        },
        {
          "output_type": "stream",
          "name": "stdout",
          "text": [
            "Dataset 69 | Test loss (NRMSE): 0.0002723\n"
          ]
        },
        {
          "output_type": "stream",
          "name": "stderr",
          "text": [
            "/usr/local/lib/python3.10/dist-packages/torch_geometric/deprecation.py:26: UserWarning: 'data.DataLoader' is deprecated, use 'loader.DataLoader' instead\n",
            "  warnings.warn(out)\n"
          ]
        },
        {
          "output_type": "stream",
          "name": "stdout",
          "text": [
            "Dataset 70 | Test loss (NRMSE): 0.0004067\n"
          ]
        },
        {
          "output_type": "stream",
          "name": "stderr",
          "text": [
            "/usr/local/lib/python3.10/dist-packages/torch_geometric/deprecation.py:26: UserWarning: 'data.DataLoader' is deprecated, use 'loader.DataLoader' instead\n",
            "  warnings.warn(out)\n"
          ]
        },
        {
          "output_type": "stream",
          "name": "stdout",
          "text": [
            "Dataset 71 | Test loss (NRMSE): 0.0002416\n"
          ]
        },
        {
          "output_type": "stream",
          "name": "stderr",
          "text": [
            "/usr/local/lib/python3.10/dist-packages/torch_geometric/deprecation.py:26: UserWarning: 'data.DataLoader' is deprecated, use 'loader.DataLoader' instead\n",
            "  warnings.warn(out)\n"
          ]
        },
        {
          "output_type": "stream",
          "name": "stdout",
          "text": [
            "Dataset 72 | Test loss (NRMSE): 0.0002616\n"
          ]
        },
        {
          "output_type": "stream",
          "name": "stderr",
          "text": [
            "/usr/local/lib/python3.10/dist-packages/torch_geometric/deprecation.py:26: UserWarning: 'data.DataLoader' is deprecated, use 'loader.DataLoader' instead\n",
            "  warnings.warn(out)\n"
          ]
        },
        {
          "output_type": "stream",
          "name": "stdout",
          "text": [
            "Dataset 73 | Test loss (NRMSE): 0.0004603\n"
          ]
        },
        {
          "output_type": "stream",
          "name": "stderr",
          "text": [
            "/usr/local/lib/python3.10/dist-packages/torch_geometric/deprecation.py:26: UserWarning: 'data.DataLoader' is deprecated, use 'loader.DataLoader' instead\n",
            "  warnings.warn(out)\n"
          ]
        },
        {
          "output_type": "stream",
          "name": "stdout",
          "text": [
            "Dataset 74 | Test loss (NRMSE): 0.0002254\n"
          ]
        },
        {
          "output_type": "stream",
          "name": "stderr",
          "text": [
            "/usr/local/lib/python3.10/dist-packages/torch_geometric/deprecation.py:26: UserWarning: 'data.DataLoader' is deprecated, use 'loader.DataLoader' instead\n",
            "  warnings.warn(out)\n"
          ]
        },
        {
          "output_type": "stream",
          "name": "stdout",
          "text": [
            "Dataset 75 | Test loss (NRMSE): 0.0003029\n"
          ]
        },
        {
          "output_type": "stream",
          "name": "stderr",
          "text": [
            "/usr/local/lib/python3.10/dist-packages/torch_geometric/deprecation.py:26: UserWarning: 'data.DataLoader' is deprecated, use 'loader.DataLoader' instead\n",
            "  warnings.warn(out)\n"
          ]
        },
        {
          "output_type": "stream",
          "name": "stdout",
          "text": [
            "Dataset 76 | Test loss (NRMSE): 0.0002025\n"
          ]
        },
        {
          "output_type": "stream",
          "name": "stderr",
          "text": [
            "/usr/local/lib/python3.10/dist-packages/torch_geometric/deprecation.py:26: UserWarning: 'data.DataLoader' is deprecated, use 'loader.DataLoader' instead\n",
            "  warnings.warn(out)\n"
          ]
        },
        {
          "output_type": "stream",
          "name": "stdout",
          "text": [
            "Dataset 77 | Test loss (NRMSE): 0.0002342\n"
          ]
        },
        {
          "output_type": "stream",
          "name": "stderr",
          "text": [
            "/usr/local/lib/python3.10/dist-packages/torch_geometric/deprecation.py:26: UserWarning: 'data.DataLoader' is deprecated, use 'loader.DataLoader' instead\n",
            "  warnings.warn(out)\n"
          ]
        },
        {
          "output_type": "stream",
          "name": "stdout",
          "text": [
            "Dataset 78 | Test loss (NRMSE): 0.0002847\n"
          ]
        },
        {
          "output_type": "stream",
          "name": "stderr",
          "text": [
            "/usr/local/lib/python3.10/dist-packages/torch_geometric/deprecation.py:26: UserWarning: 'data.DataLoader' is deprecated, use 'loader.DataLoader' instead\n",
            "  warnings.warn(out)\n"
          ]
        },
        {
          "output_type": "stream",
          "name": "stdout",
          "text": [
            "Dataset 79 | Test loss (NRMSE): 0.0002023\n"
          ]
        },
        {
          "output_type": "stream",
          "name": "stderr",
          "text": [
            "/usr/local/lib/python3.10/dist-packages/torch_geometric/deprecation.py:26: UserWarning: 'data.DataLoader' is deprecated, use 'loader.DataLoader' instead\n",
            "  warnings.warn(out)\n"
          ]
        },
        {
          "output_type": "stream",
          "name": "stdout",
          "text": [
            "Dataset 80 | Test loss (NRMSE): 0.0003112\n"
          ]
        },
        {
          "output_type": "stream",
          "name": "stderr",
          "text": [
            "/usr/local/lib/python3.10/dist-packages/torch_geometric/deprecation.py:26: UserWarning: 'data.DataLoader' is deprecated, use 'loader.DataLoader' instead\n",
            "  warnings.warn(out)\n"
          ]
        },
        {
          "output_type": "stream",
          "name": "stdout",
          "text": [
            "Dataset 81 | Test loss (NRMSE): 0.0002211\n"
          ]
        },
        {
          "output_type": "stream",
          "name": "stderr",
          "text": [
            "/usr/local/lib/python3.10/dist-packages/torch_geometric/deprecation.py:26: UserWarning: 'data.DataLoader' is deprecated, use 'loader.DataLoader' instead\n",
            "  warnings.warn(out)\n"
          ]
        },
        {
          "output_type": "stream",
          "name": "stdout",
          "text": [
            "Dataset 82 | Test loss (NRMSE): 0.0003614\n"
          ]
        },
        {
          "output_type": "stream",
          "name": "stderr",
          "text": [
            "/usr/local/lib/python3.10/dist-packages/torch_geometric/deprecation.py:26: UserWarning: 'data.DataLoader' is deprecated, use 'loader.DataLoader' instead\n",
            "  warnings.warn(out)\n"
          ]
        },
        {
          "output_type": "stream",
          "name": "stdout",
          "text": [
            "Dataset 83 | Test loss (NRMSE): 0.0002367\n"
          ]
        },
        {
          "output_type": "stream",
          "name": "stderr",
          "text": [
            "/usr/local/lib/python3.10/dist-packages/torch_geometric/deprecation.py:26: UserWarning: 'data.DataLoader' is deprecated, use 'loader.DataLoader' instead\n",
            "  warnings.warn(out)\n"
          ]
        },
        {
          "output_type": "stream",
          "name": "stdout",
          "text": [
            "Dataset 84 | Test loss (NRMSE): 0.0003276\n"
          ]
        },
        {
          "output_type": "stream",
          "name": "stderr",
          "text": [
            "/usr/local/lib/python3.10/dist-packages/torch_geometric/deprecation.py:26: UserWarning: 'data.DataLoader' is deprecated, use 'loader.DataLoader' instead\n",
            "  warnings.warn(out)\n"
          ]
        },
        {
          "output_type": "stream",
          "name": "stdout",
          "text": [
            "Dataset 85 | Test loss (NRMSE): 0.0002196\n"
          ]
        },
        {
          "output_type": "stream",
          "name": "stderr",
          "text": [
            "/usr/local/lib/python3.10/dist-packages/torch_geometric/deprecation.py:26: UserWarning: 'data.DataLoader' is deprecated, use 'loader.DataLoader' instead\n",
            "  warnings.warn(out)\n"
          ]
        },
        {
          "output_type": "stream",
          "name": "stdout",
          "text": [
            "Dataset 86 | Test loss (NRMSE): 0.0004222\n"
          ]
        },
        {
          "output_type": "stream",
          "name": "stderr",
          "text": [
            "/usr/local/lib/python3.10/dist-packages/torch_geometric/deprecation.py:26: UserWarning: 'data.DataLoader' is deprecated, use 'loader.DataLoader' instead\n",
            "  warnings.warn(out)\n"
          ]
        },
        {
          "output_type": "stream",
          "name": "stdout",
          "text": [
            "Dataset 87 | Test loss (NRMSE): 0.0002839\n"
          ]
        },
        {
          "output_type": "stream",
          "name": "stderr",
          "text": [
            "/usr/local/lib/python3.10/dist-packages/torch_geometric/deprecation.py:26: UserWarning: 'data.DataLoader' is deprecated, use 'loader.DataLoader' instead\n",
            "  warnings.warn(out)\n"
          ]
        },
        {
          "output_type": "stream",
          "name": "stdout",
          "text": [
            "Dataset 88 | Test loss (NRMSE): 0.0002288\n"
          ]
        },
        {
          "output_type": "stream",
          "name": "stderr",
          "text": [
            "/usr/local/lib/python3.10/dist-packages/torch_geometric/deprecation.py:26: UserWarning: 'data.DataLoader' is deprecated, use 'loader.DataLoader' instead\n",
            "  warnings.warn(out)\n"
          ]
        },
        {
          "output_type": "stream",
          "name": "stdout",
          "text": [
            "Dataset 89 | Test loss (NRMSE): 0.0002221\n"
          ]
        },
        {
          "output_type": "stream",
          "name": "stderr",
          "text": [
            "/usr/local/lib/python3.10/dist-packages/torch_geometric/deprecation.py:26: UserWarning: 'data.DataLoader' is deprecated, use 'loader.DataLoader' instead\n",
            "  warnings.warn(out)\n"
          ]
        },
        {
          "output_type": "stream",
          "name": "stdout",
          "text": [
            "Dataset 90 | Test loss (NRMSE): 0.0002877\n"
          ]
        },
        {
          "output_type": "stream",
          "name": "stderr",
          "text": [
            "/usr/local/lib/python3.10/dist-packages/torch_geometric/deprecation.py:26: UserWarning: 'data.DataLoader' is deprecated, use 'loader.DataLoader' instead\n",
            "  warnings.warn(out)\n"
          ]
        },
        {
          "output_type": "stream",
          "name": "stdout",
          "text": [
            "Dataset 91 | Test loss (NRMSE): 0.0002259\n"
          ]
        },
        {
          "output_type": "stream",
          "name": "stderr",
          "text": [
            "/usr/local/lib/python3.10/dist-packages/torch_geometric/deprecation.py:26: UserWarning: 'data.DataLoader' is deprecated, use 'loader.DataLoader' instead\n",
            "  warnings.warn(out)\n"
          ]
        },
        {
          "output_type": "stream",
          "name": "stdout",
          "text": [
            "Dataset 92 | Test loss (NRMSE): 0.0003299\n"
          ]
        },
        {
          "output_type": "stream",
          "name": "stderr",
          "text": [
            "/usr/local/lib/python3.10/dist-packages/torch_geometric/deprecation.py:26: UserWarning: 'data.DataLoader' is deprecated, use 'loader.DataLoader' instead\n",
            "  warnings.warn(out)\n"
          ]
        },
        {
          "output_type": "stream",
          "name": "stdout",
          "text": [
            "Dataset 93 | Test loss (NRMSE): 0.0005751\n"
          ]
        },
        {
          "output_type": "stream",
          "name": "stderr",
          "text": [
            "/usr/local/lib/python3.10/dist-packages/torch_geometric/deprecation.py:26: UserWarning: 'data.DataLoader' is deprecated, use 'loader.DataLoader' instead\n",
            "  warnings.warn(out)\n"
          ]
        },
        {
          "output_type": "stream",
          "name": "stdout",
          "text": [
            "Dataset 94 | Test loss (NRMSE): 0.0002721\n"
          ]
        },
        {
          "output_type": "stream",
          "name": "stderr",
          "text": [
            "/usr/local/lib/python3.10/dist-packages/torch_geometric/deprecation.py:26: UserWarning: 'data.DataLoader' is deprecated, use 'loader.DataLoader' instead\n",
            "  warnings.warn(out)\n"
          ]
        },
        {
          "output_type": "stream",
          "name": "stdout",
          "text": [
            "Dataset 95 | Test loss (NRMSE): 0.0002123\n"
          ]
        },
        {
          "output_type": "stream",
          "name": "stderr",
          "text": [
            "/usr/local/lib/python3.10/dist-packages/torch_geometric/deprecation.py:26: UserWarning: 'data.DataLoader' is deprecated, use 'loader.DataLoader' instead\n",
            "  warnings.warn(out)\n"
          ]
        },
        {
          "output_type": "stream",
          "name": "stdout",
          "text": [
            "Dataset 96 | Test loss (NRMSE): 0.0003042\n"
          ]
        },
        {
          "output_type": "stream",
          "name": "stderr",
          "text": [
            "/usr/local/lib/python3.10/dist-packages/torch_geometric/deprecation.py:26: UserWarning: 'data.DataLoader' is deprecated, use 'loader.DataLoader' instead\n",
            "  warnings.warn(out)\n"
          ]
        },
        {
          "output_type": "stream",
          "name": "stdout",
          "text": [
            "Dataset 97 | Test loss (NRMSE): 0.0001777\n"
          ]
        },
        {
          "output_type": "stream",
          "name": "stderr",
          "text": [
            "/usr/local/lib/python3.10/dist-packages/torch_geometric/deprecation.py:26: UserWarning: 'data.DataLoader' is deprecated, use 'loader.DataLoader' instead\n",
            "  warnings.warn(out)\n"
          ]
        },
        {
          "output_type": "stream",
          "name": "stdout",
          "text": [
            "Dataset 98 | Test loss (NRMSE): 0.0003940\n"
          ]
        },
        {
          "output_type": "stream",
          "name": "stderr",
          "text": [
            "/usr/local/lib/python3.10/dist-packages/torch_geometric/deprecation.py:26: UserWarning: 'data.DataLoader' is deprecated, use 'loader.DataLoader' instead\n",
            "  warnings.warn(out)\n"
          ]
        },
        {
          "output_type": "stream",
          "name": "stdout",
          "text": [
            "Dataset 99 | Test loss (NRMSE): 0.0002464\n"
          ]
        },
        {
          "output_type": "stream",
          "name": "stderr",
          "text": [
            "/usr/local/lib/python3.10/dist-packages/torch_geometric/deprecation.py:26: UserWarning: 'data.DataLoader' is deprecated, use 'loader.DataLoader' instead\n",
            "  warnings.warn(out)\n"
          ]
        },
        {
          "output_type": "stream",
          "name": "stdout",
          "text": [
            "Dataset 100 | Test loss (NRMSE): 0.0002115\n"
          ]
        },
        {
          "output_type": "stream",
          "name": "stderr",
          "text": [
            "/usr/local/lib/python3.10/dist-packages/torch_geometric/deprecation.py:26: UserWarning: 'data.DataLoader' is deprecated, use 'loader.DataLoader' instead\n",
            "  warnings.warn(out)\n"
          ]
        },
        {
          "output_type": "stream",
          "name": "stdout",
          "text": [
            "Dataset 101 | Test loss (NRMSE): 0.0001971\n"
          ]
        },
        {
          "output_type": "stream",
          "name": "stderr",
          "text": [
            "/usr/local/lib/python3.10/dist-packages/torch_geometric/deprecation.py:26: UserWarning: 'data.DataLoader' is deprecated, use 'loader.DataLoader' instead\n",
            "  warnings.warn(out)\n"
          ]
        },
        {
          "output_type": "stream",
          "name": "stdout",
          "text": [
            "Dataset 102 | Test loss (NRMSE): 0.0003324\n"
          ]
        },
        {
          "output_type": "error",
          "ename": "RuntimeError",
          "evalue": "Can't call numpy() on Tensor that requires grad. Use tensor.detach().numpy() instead.",
          "traceback": [
            "\u001b[0;31m---------------------------------------------------------------------------\u001b[0m",
            "\u001b[0;31mRuntimeError\u001b[0m                              Traceback (most recent call last)",
            "\u001b[0;32m<ipython-input-27-004ee0ab93aa>\u001b[0m in \u001b[0;36m<cell line: 25>\u001b[0;34m()\u001b[0m\n\u001b[1;32m     23\u001b[0m \u001b[0;34m\u001b[0m\u001b[0m\n\u001b[1;32m     24\u001b[0m \u001b[0;31m# Save test losses to Excel\u001b[0m\u001b[0;34m\u001b[0m\u001b[0;34m\u001b[0m\u001b[0m\n\u001b[0;32m---> 25\u001b[0;31m \u001b[0mtest_loss_df\u001b[0m \u001b[0;34m=\u001b[0m \u001b[0mpd\u001b[0m\u001b[0;34m.\u001b[0m\u001b[0mDataFrame\u001b[0m\u001b[0;34m(\u001b[0m\u001b[0mtest_loss_list\u001b[0m\u001b[0;34m,\u001b[0m \u001b[0mcolumns\u001b[0m\u001b[0;34m=\u001b[0m\u001b[0;34m[\u001b[0m\u001b[0;34m\"Test Loss\"\u001b[0m\u001b[0;34m]\u001b[0m\u001b[0;34m)\u001b[0m\u001b[0;34m\u001b[0m\u001b[0;34m\u001b[0m\u001b[0m\n\u001b[0m\u001b[1;32m     26\u001b[0m \u001b[0mtest_loss_df\u001b[0m\u001b[0;34m.\u001b[0m\u001b[0mto_excel\u001b[0m\u001b[0;34m(\u001b[0m\u001b[0;34m\"[PyG] [14 bus] Test Losses.xlsx\"\u001b[0m\u001b[0;34m,\u001b[0m \u001b[0mindex\u001b[0m\u001b[0;34m=\u001b[0m\u001b[0;32mFalse\u001b[0m\u001b[0;34m)\u001b[0m\u001b[0;34m\u001b[0m\u001b[0;34m\u001b[0m\u001b[0m\n\u001b[1;32m     27\u001b[0m \u001b[0mprint\u001b[0m\u001b[0;34m(\u001b[0m\u001b[0;34m\"\\nTest loss file saved!\"\u001b[0m\u001b[0;34m)\u001b[0m\u001b[0;34m\u001b[0m\u001b[0;34m\u001b[0m\u001b[0m\n",
            "\u001b[0;32m/usr/local/lib/python3.10/dist-packages/pandas/core/frame.py\u001b[0m in \u001b[0;36m__init__\u001b[0;34m(self, data, index, columns, dtype, copy)\u001b[0m\n\u001b[1;32m    865\u001b[0m                     )\n\u001b[1;32m    866\u001b[0m                 \u001b[0;32melse\u001b[0m\u001b[0;34m:\u001b[0m\u001b[0;34m\u001b[0m\u001b[0;34m\u001b[0m\u001b[0m\n\u001b[0;32m--> 867\u001b[0;31m                     mgr = ndarray_to_mgr(\n\u001b[0m\u001b[1;32m    868\u001b[0m                         \u001b[0mdata\u001b[0m\u001b[0;34m,\u001b[0m\u001b[0;34m\u001b[0m\u001b[0;34m\u001b[0m\u001b[0m\n\u001b[1;32m    869\u001b[0m                         \u001b[0mindex\u001b[0m\u001b[0;34m,\u001b[0m\u001b[0;34m\u001b[0m\u001b[0;34m\u001b[0m\u001b[0m\n",
            "\u001b[0;32m/usr/local/lib/python3.10/dist-packages/pandas/core/internals/construction.py\u001b[0m in \u001b[0;36mndarray_to_mgr\u001b[0;34m(values, index, columns, dtype, copy, typ)\u001b[0m\n\u001b[1;32m    317\u001b[0m         \u001b[0;31m# by definition an array here\u001b[0m\u001b[0;34m\u001b[0m\u001b[0;34m\u001b[0m\u001b[0m\n\u001b[1;32m    318\u001b[0m         \u001b[0;31m# the dtypes will be coerced to a single dtype\u001b[0m\u001b[0;34m\u001b[0m\u001b[0;34m\u001b[0m\u001b[0m\n\u001b[0;32m--> 319\u001b[0;31m         \u001b[0mvalues\u001b[0m \u001b[0;34m=\u001b[0m \u001b[0m_prep_ndarraylike\u001b[0m\u001b[0;34m(\u001b[0m\u001b[0mvalues\u001b[0m\u001b[0;34m,\u001b[0m \u001b[0mcopy\u001b[0m\u001b[0;34m=\u001b[0m\u001b[0mcopy_on_sanitize\u001b[0m\u001b[0;34m)\u001b[0m\u001b[0;34m\u001b[0m\u001b[0;34m\u001b[0m\u001b[0m\n\u001b[0m\u001b[1;32m    320\u001b[0m \u001b[0;34m\u001b[0m\u001b[0m\n\u001b[1;32m    321\u001b[0m     \u001b[0;32mif\u001b[0m \u001b[0mdtype\u001b[0m \u001b[0;32mis\u001b[0m \u001b[0;32mnot\u001b[0m \u001b[0;32mNone\u001b[0m \u001b[0;32mand\u001b[0m \u001b[0mvalues\u001b[0m\u001b[0;34m.\u001b[0m\u001b[0mdtype\u001b[0m \u001b[0;34m!=\u001b[0m \u001b[0mdtype\u001b[0m\u001b[0;34m:\u001b[0m\u001b[0;34m\u001b[0m\u001b[0;34m\u001b[0m\u001b[0m\n",
            "\u001b[0;32m/usr/local/lib/python3.10/dist-packages/pandas/core/internals/construction.py\u001b[0m in \u001b[0;36m_prep_ndarraylike\u001b[0;34m(values, copy)\u001b[0m\n\u001b[1;32m    578\u001b[0m         \u001b[0mvalues\u001b[0m \u001b[0;34m=\u001b[0m \u001b[0mnp\u001b[0m\u001b[0;34m.\u001b[0m\u001b[0marray\u001b[0m\u001b[0;34m(\u001b[0m\u001b[0;34m[\u001b[0m\u001b[0mconvert\u001b[0m\u001b[0;34m(\u001b[0m\u001b[0mv\u001b[0m\u001b[0;34m)\u001b[0m \u001b[0;32mfor\u001b[0m \u001b[0mv\u001b[0m \u001b[0;32min\u001b[0m \u001b[0mvalues\u001b[0m\u001b[0;34m]\u001b[0m\u001b[0;34m)\u001b[0m\u001b[0;34m\u001b[0m\u001b[0;34m\u001b[0m\u001b[0m\n\u001b[1;32m    579\u001b[0m     \u001b[0;32melse\u001b[0m\u001b[0;34m:\u001b[0m\u001b[0;34m\u001b[0m\u001b[0;34m\u001b[0m\u001b[0m\n\u001b[0;32m--> 580\u001b[0;31m         \u001b[0mvalues\u001b[0m \u001b[0;34m=\u001b[0m \u001b[0mconvert\u001b[0m\u001b[0;34m(\u001b[0m\u001b[0mvalues\u001b[0m\u001b[0;34m)\u001b[0m\u001b[0;34m\u001b[0m\u001b[0;34m\u001b[0m\u001b[0m\n\u001b[0m\u001b[1;32m    581\u001b[0m \u001b[0;34m\u001b[0m\u001b[0m\n\u001b[1;32m    582\u001b[0m     \u001b[0;32mreturn\u001b[0m \u001b[0m_ensure_2d\u001b[0m\u001b[0;34m(\u001b[0m\u001b[0mvalues\u001b[0m\u001b[0;34m)\u001b[0m\u001b[0;34m\u001b[0m\u001b[0;34m\u001b[0m\u001b[0m\n",
            "\u001b[0;32m/usr/local/lib/python3.10/dist-packages/pandas/core/internals/construction.py\u001b[0m in \u001b[0;36mconvert\u001b[0;34m(v)\u001b[0m\n\u001b[1;32m    562\u001b[0m \u001b[0;34m\u001b[0m\u001b[0m\n\u001b[1;32m    563\u001b[0m         \u001b[0mv\u001b[0m \u001b[0;34m=\u001b[0m \u001b[0mextract_array\u001b[0m\u001b[0;34m(\u001b[0m\u001b[0mv\u001b[0m\u001b[0;34m,\u001b[0m \u001b[0mextract_numpy\u001b[0m\u001b[0;34m=\u001b[0m\u001b[0;32mTrue\u001b[0m\u001b[0;34m)\u001b[0m\u001b[0;34m\u001b[0m\u001b[0;34m\u001b[0m\u001b[0m\n\u001b[0;32m--> 564\u001b[0;31m         \u001b[0mres\u001b[0m \u001b[0;34m=\u001b[0m \u001b[0mmaybe_convert_platform\u001b[0m\u001b[0;34m(\u001b[0m\u001b[0mv\u001b[0m\u001b[0;34m)\u001b[0m\u001b[0;34m\u001b[0m\u001b[0;34m\u001b[0m\u001b[0m\n\u001b[0m\u001b[1;32m    565\u001b[0m         \u001b[0;31m# We don't do maybe_infer_to_datetimelike here bc we will end up doing\u001b[0m\u001b[0;34m\u001b[0m\u001b[0;34m\u001b[0m\u001b[0m\n\u001b[1;32m    566\u001b[0m         \u001b[0;31m#  it column-by-column in ndarray_to_mgr\u001b[0m\u001b[0;34m\u001b[0m\u001b[0;34m\u001b[0m\u001b[0m\n",
            "\u001b[0;32m/usr/local/lib/python3.10/dist-packages/pandas/core/dtypes/cast.py\u001b[0m in \u001b[0;36mmaybe_convert_platform\u001b[0;34m(values)\u001b[0m\n\u001b[1;32m    129\u001b[0m \u001b[0;34m\u001b[0m\u001b[0m\n\u001b[1;32m    130\u001b[0m     \u001b[0;32mif\u001b[0m \u001b[0misinstance\u001b[0m\u001b[0;34m(\u001b[0m\u001b[0mvalues\u001b[0m\u001b[0;34m,\u001b[0m \u001b[0;34m(\u001b[0m\u001b[0mlist\u001b[0m\u001b[0;34m,\u001b[0m \u001b[0mtuple\u001b[0m\u001b[0;34m,\u001b[0m \u001b[0mrange\u001b[0m\u001b[0;34m)\u001b[0m\u001b[0;34m)\u001b[0m\u001b[0;34m:\u001b[0m\u001b[0;34m\u001b[0m\u001b[0;34m\u001b[0m\u001b[0m\n\u001b[0;32m--> 131\u001b[0;31m         \u001b[0marr\u001b[0m \u001b[0;34m=\u001b[0m \u001b[0mconstruct_1d_object_array_from_listlike\u001b[0m\u001b[0;34m(\u001b[0m\u001b[0mvalues\u001b[0m\u001b[0;34m)\u001b[0m\u001b[0;34m\u001b[0m\u001b[0;34m\u001b[0m\u001b[0m\n\u001b[0m\u001b[1;32m    132\u001b[0m     \u001b[0;32melse\u001b[0m\u001b[0;34m:\u001b[0m\u001b[0;34m\u001b[0m\u001b[0;34m\u001b[0m\u001b[0m\n\u001b[1;32m    133\u001b[0m         \u001b[0;31m# The caller is responsible for ensuring that we have np.ndarray\u001b[0m\u001b[0;34m\u001b[0m\u001b[0;34m\u001b[0m\u001b[0m\n",
            "\u001b[0;32m/usr/local/lib/python3.10/dist-packages/pandas/core/dtypes/cast.py\u001b[0m in \u001b[0;36mconstruct_1d_object_array_from_listlike\u001b[0;34m(values)\u001b[0m\n\u001b[1;32m   1599\u001b[0m     \u001b[0;31m# making a 1D array that contains list-likes is a bit tricky:\u001b[0m\u001b[0;34m\u001b[0m\u001b[0;34m\u001b[0m\u001b[0m\n\u001b[1;32m   1600\u001b[0m     \u001b[0mresult\u001b[0m \u001b[0;34m=\u001b[0m \u001b[0mnp\u001b[0m\u001b[0;34m.\u001b[0m\u001b[0mempty\u001b[0m\u001b[0;34m(\u001b[0m\u001b[0mlen\u001b[0m\u001b[0;34m(\u001b[0m\u001b[0mvalues\u001b[0m\u001b[0;34m)\u001b[0m\u001b[0;34m,\u001b[0m \u001b[0mdtype\u001b[0m\u001b[0;34m=\u001b[0m\u001b[0;34m\"object\"\u001b[0m\u001b[0;34m)\u001b[0m\u001b[0;34m\u001b[0m\u001b[0;34m\u001b[0m\u001b[0m\n\u001b[0;32m-> 1601\u001b[0;31m     \u001b[0mresult\u001b[0m\u001b[0;34m[\u001b[0m\u001b[0;34m:\u001b[0m\u001b[0;34m]\u001b[0m \u001b[0;34m=\u001b[0m \u001b[0mvalues\u001b[0m\u001b[0;34m\u001b[0m\u001b[0;34m\u001b[0m\u001b[0m\n\u001b[0m\u001b[1;32m   1602\u001b[0m     \u001b[0;32mreturn\u001b[0m \u001b[0mresult\u001b[0m\u001b[0;34m\u001b[0m\u001b[0;34m\u001b[0m\u001b[0m\n\u001b[1;32m   1603\u001b[0m \u001b[0;34m\u001b[0m\u001b[0m\n",
            "\u001b[0;32m/usr/local/lib/python3.10/dist-packages/torch/_tensor.py\u001b[0m in \u001b[0;36m__array__\u001b[0;34m(self, dtype)\u001b[0m\n\u001b[1;32m   1149\u001b[0m             \u001b[0;32mreturn\u001b[0m \u001b[0mself\u001b[0m\u001b[0;34m.\u001b[0m\u001b[0mnumpy\u001b[0m\u001b[0;34m(\u001b[0m\u001b[0;34m)\u001b[0m\u001b[0;34m\u001b[0m\u001b[0;34m\u001b[0m\u001b[0m\n\u001b[1;32m   1150\u001b[0m         \u001b[0;32melse\u001b[0m\u001b[0;34m:\u001b[0m\u001b[0;34m\u001b[0m\u001b[0;34m\u001b[0m\u001b[0m\n\u001b[0;32m-> 1151\u001b[0;31m             \u001b[0;32mreturn\u001b[0m \u001b[0mself\u001b[0m\u001b[0;34m.\u001b[0m\u001b[0mnumpy\u001b[0m\u001b[0;34m(\u001b[0m\u001b[0;34m)\u001b[0m\u001b[0;34m.\u001b[0m\u001b[0mastype\u001b[0m\u001b[0;34m(\u001b[0m\u001b[0mdtype\u001b[0m\u001b[0;34m,\u001b[0m \u001b[0mcopy\u001b[0m\u001b[0;34m=\u001b[0m\u001b[0;32mFalse\u001b[0m\u001b[0;34m)\u001b[0m\u001b[0;34m\u001b[0m\u001b[0;34m\u001b[0m\u001b[0m\n\u001b[0m\u001b[1;32m   1152\u001b[0m \u001b[0;34m\u001b[0m\u001b[0m\n\u001b[1;32m   1153\u001b[0m     \u001b[0;31m# Wrap Numpy array again in a suitable tensor when done, to support e.g.\u001b[0m\u001b[0;34m\u001b[0m\u001b[0;34m\u001b[0m\u001b[0m\n",
            "\u001b[0;31mRuntimeError\u001b[0m: Can't call numpy() on Tensor that requires grad. Use tensor.detach().numpy() instead."
          ]
        }
      ]
    },
    {
      "cell_type": "code",
      "source": [
        "# Save test losses to Excel\n",
        "new_list = []\n",
        "for x in test_loss_list:\n",
        "    new_list.append(x.detach().numpy())\n",
        "\n",
        "test_loss_df = pd.DataFrame(new_list, columns=[\"Test Loss\"])\n",
        "test_loss_df.to_excel(\"[14 bus] Test Losses.xlsx\", index=False)\n",
        "print(\"\\nTest loss file saved!\")"
      ],
      "metadata": {
        "colab": {
          "base_uri": "https://localhost:8080/"
        },
        "id": "hiuQ4Z22-0iZ",
        "outputId": "675aba84-eaaf-4681-ce76-4b1450120f4e"
      },
      "execution_count": 31,
      "outputs": [
        {
          "output_type": "stream",
          "name": "stdout",
          "text": [
            "\n",
            "Test loss file saved!\n"
          ]
        }
      ]
    },
    {
      "cell_type": "markdown",
      "source": [
        "# **IEEE 30 Bus DataSet Generation**\n",
        "\n",
        "It Contains 30 buses, 6 generators, 21 loads, and 41 branches.\n",
        "\n",
        "A classic test case for load flow and optimal power flow (OPF) studies.\n"
      ],
      "metadata": {
        "id": "6_lpkv2gTeoH"
      }
    },
    {
      "cell_type": "code",
      "source": [
        "pip install pandapower"
      ],
      "metadata": {
        "colab": {
          "base_uri": "https://localhost:8080/"
        },
        "id": "3tKJsBPkTioB",
        "outputId": "1b70a494-0874-499e-ba18-ddf8f0f81fc1"
      },
      "execution_count": 1,
      "outputs": [
        {
          "output_type": "stream",
          "name": "stdout",
          "text": [
            "Requirement already satisfied: pandapower in /usr/local/lib/python3.10/dist-packages (2.14.11)\n",
            "Requirement already satisfied: pandas>=1.0 in /usr/local/lib/python3.10/dist-packages (from pandapower) (2.2.2)\n",
            "Requirement already satisfied: networkx>=2.5 in /usr/local/lib/python3.10/dist-packages (from pandapower) (3.4.2)\n",
            "Requirement already satisfied: scipy<1.14 in /usr/local/lib/python3.10/dist-packages (from pandapower) (1.13.1)\n",
            "Requirement already satisfied: numpy<2.0 in /usr/local/lib/python3.10/dist-packages (from pandapower) (1.26.4)\n",
            "Requirement already satisfied: packaging in /usr/local/lib/python3.10/dist-packages (from pandapower) (24.1)\n",
            "Requirement already satisfied: tqdm in /usr/local/lib/python3.10/dist-packages (from pandapower) (4.66.6)\n",
            "Requirement already satisfied: deepdiff in /usr/local/lib/python3.10/dist-packages (from pandapower) (8.0.1)\n",
            "Requirement already satisfied: python-dateutil>=2.8.2 in /usr/local/lib/python3.10/dist-packages (from pandas>=1.0->pandapower) (2.8.2)\n",
            "Requirement already satisfied: pytz>=2020.1 in /usr/local/lib/python3.10/dist-packages (from pandas>=1.0->pandapower) (2024.2)\n",
            "Requirement already satisfied: tzdata>=2022.7 in /usr/local/lib/python3.10/dist-packages (from pandas>=1.0->pandapower) (2024.2)\n",
            "Requirement already satisfied: orderly-set==5.2.2 in /usr/local/lib/python3.10/dist-packages (from deepdiff->pandapower) (5.2.2)\n",
            "Requirement already satisfied: six>=1.5 in /usr/local/lib/python3.10/dist-packages (from python-dateutil>=2.8.2->pandas>=1.0->pandapower) (1.16.0)\n"
          ]
        }
      ]
    },
    {
      "cell_type": "code",
      "source": [
        "import pandapower as pp\n",
        "import pandapower.networks as nw\n",
        "import pandas as pd\n",
        "import random\n",
        "import os\n",
        "\n",
        "# Create the output folder\n",
        "output_folder = \"datasets_30Bus\"\n",
        "os.makedirs(output_folder, exist_ok=True)\n",
        "\n",
        "# Create the 30-bus test system using pandapower\n",
        "net = nw.case30()\n",
        "\n",
        "# Number of datasets and samples per dataset\n",
        "num_datasets = 10\n",
        "samples_per_dataset = 2000\n",
        "variation_range = 0.4  # ±40% random load variation\n",
        "\n",
        "# columns for the output Excel file\n",
        "bus_ids = net.bus.index\n",
        "columns = []\n",
        "\n",
        "# column names based on dataset format\n",
        "for bus in bus_ids:\n",
        "    columns.extend([f\"P_{bus + 1} (PQ)\", f\"Q_{bus + 1} (PQ)\", f\"V_{bus + 1}\", f\"d_{bus + 1}\"])\n",
        "\n",
        "# Store original load values for resetting\n",
        "original_p_values = net.load['p_mw'].copy()\n",
        "original_q_values = net.load['q_mvar'].copy()\n",
        "\n",
        "# Generate the datasets\n",
        "for dataset_n in range(1, num_datasets + 1):\n",
        "    print(f\"Generating dataset {dataset_n}...\")\n",
        "\n",
        "    data = []\n",
        "\n",
        "    # initial power flow to stabilize the network\n",
        "    #try:\n",
        "    #    pp.runpp(net, algorithm='nr', max_iteration=20)\n",
        "    #except pp.LoadflowNotConverged:\n",
        "    #    print(f\"Initial load flow did not converge for dataset {dataset_n}, skipping this dataset.\")\n",
        "    #    continue\n",
        "\n",
        "    for sample in range(1, samples_per_dataset + 1):\n",
        "        # Reset the load values to the original values\n",
        "        net.load['p_mw'] = original_p_values\n",
        "        net.load['q_mvar'] = original_q_values\n",
        "\n",
        "        # Apply random variation based on the original values\n",
        "        for load in net.load.index:\n",
        "            net.load.at[load, 'p_mw'] = original_p_values[load] * (1 + random.uniform(-variation_range, variation_range))\n",
        "            net.load.at[load, 'q_mvar'] = original_q_values[load] * (1 + random.uniform(-variation_range, variation_range))\n",
        "\n",
        "        # Run AC power flow with Newton-Raphson algorithm\n",
        "        try:\n",
        "            pp.runpp(net, algorithm='nr', max_iteration=20)\n",
        "        except pp.LoadflowNotConverged:\n",
        "            print(f\"Load flow did not converge for sample {sample} in dataset {dataset_n}, skipping this sample.\")\n",
        "            continue\n",
        "\n",
        "        # Collect data for the current sample\n",
        "        row = []\n",
        "\n",
        "        for bus in bus_ids:\n",
        "            # Extract P and Q values for the bus (PQ buses only)\n",
        "            if bus in net.load['bus'].values:\n",
        "                p_load = net.res_load.loc[net.load[net.load['bus'] == bus].index, 'p_mw'].sum()\n",
        "                q_load = net.res_load.loc[net.load[net.load['bus'] == bus].index, 'q_mvar'].sum()\n",
        "            else:\n",
        "                p_load, q_load = 0, 0\n",
        "\n",
        "            # Extract V (voltage magnitude) and d (voltage angle)\n",
        "            v_mag = net.res_bus.at[bus, 'vm_pu']\n",
        "            v_ang = net.res_bus.at[bus, 'va_degree']\n",
        "\n",
        "            # Append data to the row in the specified format\n",
        "            row.extend([p_load, q_load, v_mag, v_ang])\n",
        "\n",
        "        # Add the row to the dataset\n",
        "        data.append(row)\n",
        "\n",
        "    # Create a DataFrame and add headers in the requested format\n",
        "    df = pd.DataFrame(data, columns=columns)\n",
        "\n",
        "    df.insert(0, \"Data\", [f\"Data {i + 1}\" for i in range(len(df))])\n",
        "    df.insert(0, \"Dataset\", [f\"PF Dataset_{dataset_n}\"] + [\"\"] * (len(df) - 1))\n",
        "\n",
        "    # Save the DataFrame to Excel\n",
        "    output_filename = os.path.join(output_folder, f\"PF_Dataset_{dataset_n}.xlsx\")\n",
        "    df.to_excel(output_filename, index=False)\n",
        "    print(f\"Dataset {dataset_n} saved to {output_filename}\")\n",
        "\n",
        "print(\"All datasets generated successfully.\")\n"
      ],
      "metadata": {
        "colab": {
          "base_uri": "https://localhost:8080/"
        },
        "id": "93oaOPiuTp0B",
        "outputId": "738cff88-02e6-43c0-9e48-5dec8aee9c86"
      },
      "execution_count": 10,
      "outputs": [
        {
          "output_type": "stream",
          "name": "stdout",
          "text": [
            "Generating dataset 1...\n",
            "Dataset 1 saved to datasets/PF_Dataset_1.xlsx\n",
            "Generating dataset 2...\n",
            "Dataset 2 saved to datasets/PF_Dataset_2.xlsx\n",
            "Generating dataset 3...\n",
            "Dataset 3 saved to datasets/PF_Dataset_3.xlsx\n",
            "Generating dataset 4...\n",
            "Dataset 4 saved to datasets/PF_Dataset_4.xlsx\n",
            "Generating dataset 5...\n",
            "Dataset 5 saved to datasets/PF_Dataset_5.xlsx\n",
            "Generating dataset 6...\n",
            "Dataset 6 saved to datasets/PF_Dataset_6.xlsx\n",
            "Generating dataset 7...\n",
            "Dataset 7 saved to datasets/PF_Dataset_7.xlsx\n",
            "Generating dataset 8...\n",
            "Dataset 8 saved to datasets/PF_Dataset_8.xlsx\n",
            "Generating dataset 9...\n",
            "Dataset 9 saved to datasets/PF_Dataset_9.xlsx\n",
            "Generating dataset 10...\n",
            "Dataset 10 saved to datasets/PF_Dataset_10.xlsx\n",
            "All datasets generated successfully.\n"
          ]
        }
      ]
    },
    {
      "cell_type": "markdown",
      "source": [
        " **30 Bus Generator Limits**\n",
        "\n",
        " Generated Active and Reactive Power (P and Q) should be bounded by their maximum and minimum capability for each bus.\n",
        "\n",
        " Otherwise the OPF will not converge for the network."
      ],
      "metadata": {
        "id": "AeQ0MuKV4_o0"
      }
    },
    {
      "cell_type": "code",
      "source": [
        "# Import pandas for cleaner output (optional)\n",
        "import pandas as pd\n",
        "\n",
        "# generator bus information\n",
        "gen_buses = net.gen['bus'].values  # The bus indices with generators\n",
        "p_gen = net.res_gen['p_mw'].values\n",
        "q_gen = net.res_gen['q_mvar'].values\n",
        "\n",
        "# detailed information for each generator\n",
        "print(\"Generator Information:\")\n",
        "for i, bus in enumerate(gen_buses):\n",
        "    p_max = net.gen.at[i, 'max_p_mw'] if 'max_p_mw' in net.gen.columns else \"N/A\"\n",
        "    q_max = net.gen.at[i, 'max_q_mvar'] if 'max_q_mvar' in net.gen.columns else \"N/A\"\n",
        "    print(f\"Bus {bus} | Active Power (P_gen): {p_gen[i]:.2f} MW | Reactive Power (Q_gen): {q_gen[i]:.2f} MVar | P_max: {p_max} MW | Q_max: {q_max} MVar\")\n",
        "\n",
        "print(\"\\nFull Generator DataFrame:\")\n",
        "print(net.gen)\n"
      ],
      "metadata": {
        "colab": {
          "base_uri": "https://localhost:8080/"
        },
        "id": "rYArq7UJuCfS",
        "outputId": "6b93e851-7870-483a-f48e-cc3f032748a3"
      },
      "execution_count": 6,
      "outputs": [
        {
          "output_type": "stream",
          "name": "stdout",
          "text": [
            "Generator Information:\n",
            "Bus 1 | Active Power (P_gen): 60.97 MW | Reactive Power (Q_gen): 37.38 MVar | P_max: 80.0 MW | Q_max: 60.0 MVar\n",
            "Bus 21 | Active Power (P_gen): 21.59 MW | Reactive Power (Q_gen): 40.45 MVar | P_max: 50.0 MW | Q_max: 62.5 MVar\n",
            "Bus 26 | Active Power (P_gen): 26.91 MW | Reactive Power (Q_gen): 11.79 MVar | P_max: 55.0 MW | Q_max: 48.7 MVar\n",
            "Bus 22 | Active Power (P_gen): 19.20 MW | Reactive Power (Q_gen): 7.34 MVar | P_max: 30.0 MW | Q_max: 40.0 MVar\n",
            "Bus 12 | Active Power (P_gen): 37.00 MW | Reactive Power (Q_gen): 10.96 MVar | P_max: 40.0 MW | Q_max: 44.7 MVar\n",
            "\n",
            "Full Generator DataFrame:\n",
            "   name  bus   p_mw  vm_pu  sn_mva  min_q_mvar  max_q_mvar  scaling  slack  \\\n",
            "0  None    1  60.97    1.0     NaN       -20.0        60.0      1.0  False   \n",
            "1  None   21  21.59    1.0     NaN       -15.0        62.5      1.0  False   \n",
            "2  None   26  26.91    1.0     NaN       -15.0        48.7      1.0  False   \n",
            "3  None   22  19.20    1.0     NaN       -10.0        40.0      1.0  False   \n",
            "4  None   12  37.00    1.0     NaN       -15.0        44.7      1.0  False   \n",
            "\n",
            "   in_service  slack_weight  type  controllable  max_p_mw  min_p_mw  \n",
            "0        True           0.0  None          True      80.0       0.0  \n",
            "1        True           0.0  None          True      50.0       0.0  \n",
            "2        True           0.0  None          True      55.0       0.0  \n",
            "3        True           0.0  None          True      30.0       0.0  \n",
            "4        True           0.0  None          True      40.0       0.0  \n"
          ]
        }
      ]
    },
    {
      "cell_type": "code",
      "source": [
        "import pandas as pd\n",
        "\n",
        "# Initialize lists to track generator outputs\n",
        "p_gen_list = []\n",
        "q_gen_list = []\n",
        "\n",
        "# Run power flow and log generator outputs for multiple test cases\n",
        "for i in range(10):  # 10 datasets\n",
        "    try:\n",
        "        pp.runpp(net, algorithm='nr', max_iteration=20)\n",
        "\n",
        "        # Get generator active and reactive power outputs\n",
        "        p_gen = net.res_gen['p_mw'].values\n",
        "        q_gen = net.res_gen['q_mvar'].values\n",
        "\n",
        "        # Log the generator outputs\n",
        "        p_gen_list.append(p_gen)\n",
        "        q_gen_list.append(q_gen)\n",
        "\n",
        "        print(f\"Test Case {i + 1}:\")\n",
        "        print(\"Active Power (P_gen):\", p_gen)\n",
        "        print(\"Reactive Power (Q_gen):\", q_gen)\n",
        "        print(\"=\" * 40)\n",
        "\n",
        "    except pp.LoadflowNotConverged:\n",
        "        print(f\"Load flow did not converge for Test Case {i + 1}, skipping...\")\n",
        "        continue\n",
        "\n",
        "# Convert to DataFrame for easier comparison\n",
        "p_gen_df = pd.DataFrame(p_gen_list, columns=[f\"P_gen_{i}\" for i in range(len(p_gen))])\n",
        "q_gen_df = pd.DataFrame(q_gen_list, columns=[f\"Q_gen_{i}\" for i in range(len(q_gen))])\n",
        "\n",
        "# Save the results to Excel for further analysis\n",
        "p_gen_df.to_excel(\"P_gen_changes.xlsx\", index=False)\n",
        "q_gen_df.to_excel(\"Q_gen_changes.xlsx\", index=False)\n",
        "\n",
        "print(\"Generator outputs logged and saved to 'P_gen_changes.xlsx' and 'Q_gen_changes.xlsx'.\")\n"
      ],
      "metadata": {
        "colab": {
          "base_uri": "https://localhost:8080/"
        },
        "id": "6vn0PtHlwYKz",
        "outputId": "67734627-7d5e-429b-9e22-3b602d611c0c"
      },
      "execution_count": 4,
      "outputs": [
        {
          "output_type": "stream",
          "name": "stdout",
          "text": [
            "Test Case 1:\n",
            "Active Power (P_gen): [60.97 21.59 26.91 19.2  37.  ]\n",
            "Reactive Power (Q_gen): [37.38115789 40.44738087 11.79165197  7.33633467 10.95915525]\n",
            "========================================\n",
            "Test Case 2:\n",
            "Active Power (P_gen): [60.97 21.59 26.91 19.2  37.  ]\n",
            "Reactive Power (Q_gen): [37.38115789 40.44738087 11.79165197  7.33633467 10.95915525]\n",
            "========================================\n",
            "Test Case 3:\n",
            "Active Power (P_gen): [60.97 21.59 26.91 19.2  37.  ]\n",
            "Reactive Power (Q_gen): [37.38115789 40.44738087 11.79165197  7.33633467 10.95915525]\n",
            "========================================\n",
            "Test Case 4:\n",
            "Active Power (P_gen): [60.97 21.59 26.91 19.2  37.  ]\n",
            "Reactive Power (Q_gen): [37.38115789 40.44738087 11.79165197  7.33633467 10.95915525]\n",
            "========================================\n",
            "Test Case 5:\n",
            "Active Power (P_gen): [60.97 21.59 26.91 19.2  37.  ]\n",
            "Reactive Power (Q_gen): [37.38115789 40.44738087 11.79165197  7.33633467 10.95915525]\n",
            "========================================\n",
            "Test Case 6:\n",
            "Active Power (P_gen): [60.97 21.59 26.91 19.2  37.  ]\n",
            "Reactive Power (Q_gen): [37.38115789 40.44738087 11.79165197  7.33633467 10.95915525]\n",
            "========================================\n",
            "Test Case 7:\n",
            "Active Power (P_gen): [60.97 21.59 26.91 19.2  37.  ]\n",
            "Reactive Power (Q_gen): [37.38115789 40.44738087 11.79165197  7.33633467 10.95915525]\n",
            "========================================\n",
            "Test Case 8:\n",
            "Active Power (P_gen): [60.97 21.59 26.91 19.2  37.  ]\n",
            "Reactive Power (Q_gen): [37.38115789 40.44738087 11.79165197  7.33633467 10.95915525]\n",
            "========================================\n",
            "Test Case 9:\n",
            "Active Power (P_gen): [60.97 21.59 26.91 19.2  37.  ]\n",
            "Reactive Power (Q_gen): [37.38115789 40.44738087 11.79165197  7.33633467 10.95915525]\n",
            "========================================\n",
            "Test Case 10:\n",
            "Active Power (P_gen): [60.97 21.59 26.91 19.2  37.  ]\n",
            "Reactive Power (Q_gen): [37.38115789 40.44738087 11.79165197  7.33633467 10.95915525]\n",
            "========================================\n",
            "Test Case 11:\n",
            "Active Power (P_gen): [60.97 21.59 26.91 19.2  37.  ]\n",
            "Reactive Power (Q_gen): [37.38115789 40.44738087 11.79165197  7.33633467 10.95915525]\n",
            "========================================\n",
            "Test Case 12:\n",
            "Active Power (P_gen): [60.97 21.59 26.91 19.2  37.  ]\n",
            "Reactive Power (Q_gen): [37.38115789 40.44738087 11.79165197  7.33633467 10.95915525]\n",
            "========================================\n",
            "Test Case 13:\n",
            "Active Power (P_gen): [60.97 21.59 26.91 19.2  37.  ]\n",
            "Reactive Power (Q_gen): [37.38115789 40.44738087 11.79165197  7.33633467 10.95915525]\n",
            "========================================\n",
            "Test Case 14:\n",
            "Active Power (P_gen): [60.97 21.59 26.91 19.2  37.  ]\n",
            "Reactive Power (Q_gen): [37.38115789 40.44738087 11.79165197  7.33633467 10.95915525]\n",
            "========================================\n",
            "Test Case 15:\n",
            "Active Power (P_gen): [60.97 21.59 26.91 19.2  37.  ]\n",
            "Reactive Power (Q_gen): [37.38115789 40.44738087 11.79165197  7.33633467 10.95915525]\n",
            "========================================\n",
            "Test Case 16:\n",
            "Active Power (P_gen): [60.97 21.59 26.91 19.2  37.  ]\n",
            "Reactive Power (Q_gen): [37.38115789 40.44738087 11.79165197  7.33633467 10.95915525]\n",
            "========================================\n",
            "Test Case 17:\n",
            "Active Power (P_gen): [60.97 21.59 26.91 19.2  37.  ]\n",
            "Reactive Power (Q_gen): [37.38115789 40.44738087 11.79165197  7.33633467 10.95915525]\n",
            "========================================\n",
            "Test Case 18:\n",
            "Active Power (P_gen): [60.97 21.59 26.91 19.2  37.  ]\n",
            "Reactive Power (Q_gen): [37.38115789 40.44738087 11.79165197  7.33633467 10.95915525]\n",
            "========================================\n",
            "Test Case 19:\n",
            "Active Power (P_gen): [60.97 21.59 26.91 19.2  37.  ]\n",
            "Reactive Power (Q_gen): [37.38115789 40.44738087 11.79165197  7.33633467 10.95915525]\n",
            "========================================\n",
            "Test Case 20:\n",
            "Active Power (P_gen): [60.97 21.59 26.91 19.2  37.  ]\n",
            "Reactive Power (Q_gen): [37.38115789 40.44738087 11.79165197  7.33633467 10.95915525]\n",
            "========================================\n",
            "Test Case 21:\n",
            "Active Power (P_gen): [60.97 21.59 26.91 19.2  37.  ]\n",
            "Reactive Power (Q_gen): [37.38115789 40.44738087 11.79165197  7.33633467 10.95915525]\n",
            "========================================\n",
            "Test Case 22:\n",
            "Active Power (P_gen): [60.97 21.59 26.91 19.2  37.  ]\n",
            "Reactive Power (Q_gen): [37.38115789 40.44738087 11.79165197  7.33633467 10.95915525]\n",
            "========================================\n",
            "Test Case 23:\n",
            "Active Power (P_gen): [60.97 21.59 26.91 19.2  37.  ]\n",
            "Reactive Power (Q_gen): [37.38115789 40.44738087 11.79165197  7.33633467 10.95915525]\n",
            "========================================\n",
            "Test Case 24:\n",
            "Active Power (P_gen): [60.97 21.59 26.91 19.2  37.  ]\n",
            "Reactive Power (Q_gen): [37.38115789 40.44738087 11.79165197  7.33633467 10.95915525]\n",
            "========================================\n",
            "Test Case 25:\n",
            "Active Power (P_gen): [60.97 21.59 26.91 19.2  37.  ]\n",
            "Reactive Power (Q_gen): [37.38115789 40.44738087 11.79165197  7.33633467 10.95915525]\n",
            "========================================\n",
            "Test Case 26:\n",
            "Active Power (P_gen): [60.97 21.59 26.91 19.2  37.  ]\n",
            "Reactive Power (Q_gen): [37.38115789 40.44738087 11.79165197  7.33633467 10.95915525]\n",
            "========================================\n",
            "Test Case 27:\n",
            "Active Power (P_gen): [60.97 21.59 26.91 19.2  37.  ]\n",
            "Reactive Power (Q_gen): [37.38115789 40.44738087 11.79165197  7.33633467 10.95915525]\n",
            "========================================\n",
            "Test Case 28:\n",
            "Active Power (P_gen): [60.97 21.59 26.91 19.2  37.  ]\n",
            "Reactive Power (Q_gen): [37.38115789 40.44738087 11.79165197  7.33633467 10.95915525]\n",
            "========================================\n",
            "Test Case 29:\n",
            "Active Power (P_gen): [60.97 21.59 26.91 19.2  37.  ]\n",
            "Reactive Power (Q_gen): [37.38115789 40.44738087 11.79165197  7.33633467 10.95915525]\n",
            "========================================\n",
            "Test Case 30:\n",
            "Active Power (P_gen): [60.97 21.59 26.91 19.2  37.  ]\n",
            "Reactive Power (Q_gen): [37.38115789 40.44738087 11.79165197  7.33633467 10.95915525]\n",
            "========================================\n",
            "Test Case 31:\n",
            "Active Power (P_gen): [60.97 21.59 26.91 19.2  37.  ]\n",
            "Reactive Power (Q_gen): [37.38115789 40.44738087 11.79165197  7.33633467 10.95915525]\n",
            "========================================\n",
            "Test Case 32:\n",
            "Active Power (P_gen): [60.97 21.59 26.91 19.2  37.  ]\n",
            "Reactive Power (Q_gen): [37.38115789 40.44738087 11.79165197  7.33633467 10.95915525]\n",
            "========================================\n",
            "Test Case 33:\n",
            "Active Power (P_gen): [60.97 21.59 26.91 19.2  37.  ]\n",
            "Reactive Power (Q_gen): [37.38115789 40.44738087 11.79165197  7.33633467 10.95915525]\n",
            "========================================\n",
            "Test Case 34:\n",
            "Active Power (P_gen): [60.97 21.59 26.91 19.2  37.  ]\n",
            "Reactive Power (Q_gen): [37.38115789 40.44738087 11.79165197  7.33633467 10.95915525]\n",
            "========================================\n",
            "Test Case 35:\n",
            "Active Power (P_gen): [60.97 21.59 26.91 19.2  37.  ]\n",
            "Reactive Power (Q_gen): [37.38115789 40.44738087 11.79165197  7.33633467 10.95915525]\n",
            "========================================\n",
            "Test Case 36:\n",
            "Active Power (P_gen): [60.97 21.59 26.91 19.2  37.  ]\n",
            "Reactive Power (Q_gen): [37.38115789 40.44738087 11.79165197  7.33633467 10.95915525]\n",
            "========================================\n",
            "Test Case 37:\n",
            "Active Power (P_gen): [60.97 21.59 26.91 19.2  37.  ]\n",
            "Reactive Power (Q_gen): [37.38115789 40.44738087 11.79165197  7.33633467 10.95915525]\n",
            "========================================\n",
            "Test Case 38:\n",
            "Active Power (P_gen): [60.97 21.59 26.91 19.2  37.  ]\n",
            "Reactive Power (Q_gen): [37.38115789 40.44738087 11.79165197  7.33633467 10.95915525]\n",
            "========================================\n",
            "Test Case 39:\n",
            "Active Power (P_gen): [60.97 21.59 26.91 19.2  37.  ]\n",
            "Reactive Power (Q_gen): [37.38115789 40.44738087 11.79165197  7.33633467 10.95915525]\n",
            "========================================\n",
            "Test Case 40:\n",
            "Active Power (P_gen): [60.97 21.59 26.91 19.2  37.  ]\n",
            "Reactive Power (Q_gen): [37.38115789 40.44738087 11.79165197  7.33633467 10.95915525]\n",
            "========================================\n",
            "Test Case 41:\n",
            "Active Power (P_gen): [60.97 21.59 26.91 19.2  37.  ]\n",
            "Reactive Power (Q_gen): [37.38115789 40.44738087 11.79165197  7.33633467 10.95915525]\n",
            "========================================\n",
            "Test Case 42:\n",
            "Active Power (P_gen): [60.97 21.59 26.91 19.2  37.  ]\n",
            "Reactive Power (Q_gen): [37.38115789 40.44738087 11.79165197  7.33633467 10.95915525]\n",
            "========================================\n",
            "Test Case 43:\n",
            "Active Power (P_gen): [60.97 21.59 26.91 19.2  37.  ]\n",
            "Reactive Power (Q_gen): [37.38115789 40.44738087 11.79165197  7.33633467 10.95915525]\n",
            "========================================\n",
            "Test Case 44:\n",
            "Active Power (P_gen): [60.97 21.59 26.91 19.2  37.  ]\n",
            "Reactive Power (Q_gen): [37.38115789 40.44738087 11.79165197  7.33633467 10.95915525]\n",
            "========================================\n",
            "Test Case 45:\n",
            "Active Power (P_gen): [60.97 21.59 26.91 19.2  37.  ]\n",
            "Reactive Power (Q_gen): [37.38115789 40.44738087 11.79165197  7.33633467 10.95915525]\n",
            "========================================\n",
            "Test Case 46:\n",
            "Active Power (P_gen): [60.97 21.59 26.91 19.2  37.  ]\n",
            "Reactive Power (Q_gen): [37.38115789 40.44738087 11.79165197  7.33633467 10.95915525]\n",
            "========================================\n",
            "Test Case 47:\n",
            "Active Power (P_gen): [60.97 21.59 26.91 19.2  37.  ]\n",
            "Reactive Power (Q_gen): [37.38115789 40.44738087 11.79165197  7.33633467 10.95915525]\n",
            "========================================\n",
            "Test Case 48:\n",
            "Active Power (P_gen): [60.97 21.59 26.91 19.2  37.  ]\n",
            "Reactive Power (Q_gen): [37.38115789 40.44738087 11.79165197  7.33633467 10.95915525]\n",
            "========================================\n",
            "Test Case 49:\n",
            "Active Power (P_gen): [60.97 21.59 26.91 19.2  37.  ]\n",
            "Reactive Power (Q_gen): [37.38115789 40.44738087 11.79165197  7.33633467 10.95915525]\n",
            "========================================\n",
            "Test Case 50:\n",
            "Active Power (P_gen): [60.97 21.59 26.91 19.2  37.  ]\n",
            "Reactive Power (Q_gen): [37.38115789 40.44738087 11.79165197  7.33633467 10.95915525]\n",
            "========================================\n",
            "Test Case 51:\n",
            "Active Power (P_gen): [60.97 21.59 26.91 19.2  37.  ]\n",
            "Reactive Power (Q_gen): [37.38115789 40.44738087 11.79165197  7.33633467 10.95915525]\n",
            "========================================\n",
            "Test Case 52:\n",
            "Active Power (P_gen): [60.97 21.59 26.91 19.2  37.  ]\n",
            "Reactive Power (Q_gen): [37.38115789 40.44738087 11.79165197  7.33633467 10.95915525]\n",
            "========================================\n",
            "Test Case 53:\n",
            "Active Power (P_gen): [60.97 21.59 26.91 19.2  37.  ]\n",
            "Reactive Power (Q_gen): [37.38115789 40.44738087 11.79165197  7.33633467 10.95915525]\n",
            "========================================\n",
            "Test Case 54:\n",
            "Active Power (P_gen): [60.97 21.59 26.91 19.2  37.  ]\n",
            "Reactive Power (Q_gen): [37.38115789 40.44738087 11.79165197  7.33633467 10.95915525]\n",
            "========================================\n",
            "Test Case 55:\n",
            "Active Power (P_gen): [60.97 21.59 26.91 19.2  37.  ]\n",
            "Reactive Power (Q_gen): [37.38115789 40.44738087 11.79165197  7.33633467 10.95915525]\n",
            "========================================\n",
            "Test Case 56:\n",
            "Active Power (P_gen): [60.97 21.59 26.91 19.2  37.  ]\n",
            "Reactive Power (Q_gen): [37.38115789 40.44738087 11.79165197  7.33633467 10.95915525]\n",
            "========================================\n",
            "Test Case 57:\n",
            "Active Power (P_gen): [60.97 21.59 26.91 19.2  37.  ]\n",
            "Reactive Power (Q_gen): [37.38115789 40.44738087 11.79165197  7.33633467 10.95915525]\n",
            "========================================\n",
            "Test Case 58:\n",
            "Active Power (P_gen): [60.97 21.59 26.91 19.2  37.  ]\n",
            "Reactive Power (Q_gen): [37.38115789 40.44738087 11.79165197  7.33633467 10.95915525]\n",
            "========================================\n",
            "Test Case 59:\n",
            "Active Power (P_gen): [60.97 21.59 26.91 19.2  37.  ]\n",
            "Reactive Power (Q_gen): [37.38115789 40.44738087 11.79165197  7.33633467 10.95915525]\n",
            "========================================\n",
            "Test Case 60:\n",
            "Active Power (P_gen): [60.97 21.59 26.91 19.2  37.  ]\n",
            "Reactive Power (Q_gen): [37.38115789 40.44738087 11.79165197  7.33633467 10.95915525]\n",
            "========================================\n",
            "Test Case 61:\n",
            "Active Power (P_gen): [60.97 21.59 26.91 19.2  37.  ]\n",
            "Reactive Power (Q_gen): [37.38115789 40.44738087 11.79165197  7.33633467 10.95915525]\n",
            "========================================\n",
            "Test Case 62:\n",
            "Active Power (P_gen): [60.97 21.59 26.91 19.2  37.  ]\n",
            "Reactive Power (Q_gen): [37.38115789 40.44738087 11.79165197  7.33633467 10.95915525]\n",
            "========================================\n",
            "Test Case 63:\n",
            "Active Power (P_gen): [60.97 21.59 26.91 19.2  37.  ]\n",
            "Reactive Power (Q_gen): [37.38115789 40.44738087 11.79165197  7.33633467 10.95915525]\n",
            "========================================\n",
            "Test Case 64:\n",
            "Active Power (P_gen): [60.97 21.59 26.91 19.2  37.  ]\n",
            "Reactive Power (Q_gen): [37.38115789 40.44738087 11.79165197  7.33633467 10.95915525]\n",
            "========================================\n",
            "Test Case 65:\n",
            "Active Power (P_gen): [60.97 21.59 26.91 19.2  37.  ]\n",
            "Reactive Power (Q_gen): [37.38115789 40.44738087 11.79165197  7.33633467 10.95915525]\n",
            "========================================\n",
            "Test Case 66:\n",
            "Active Power (P_gen): [60.97 21.59 26.91 19.2  37.  ]\n",
            "Reactive Power (Q_gen): [37.38115789 40.44738087 11.79165197  7.33633467 10.95915525]\n",
            "========================================\n",
            "Test Case 67:\n",
            "Active Power (P_gen): [60.97 21.59 26.91 19.2  37.  ]\n",
            "Reactive Power (Q_gen): [37.38115789 40.44738087 11.79165197  7.33633467 10.95915525]\n",
            "========================================\n",
            "Test Case 68:\n",
            "Active Power (P_gen): [60.97 21.59 26.91 19.2  37.  ]\n",
            "Reactive Power (Q_gen): [37.38115789 40.44738087 11.79165197  7.33633467 10.95915525]\n",
            "========================================\n",
            "Test Case 69:\n",
            "Active Power (P_gen): [60.97 21.59 26.91 19.2  37.  ]\n",
            "Reactive Power (Q_gen): [37.38115789 40.44738087 11.79165197  7.33633467 10.95915525]\n",
            "========================================\n",
            "Test Case 70:\n",
            "Active Power (P_gen): [60.97 21.59 26.91 19.2  37.  ]\n",
            "Reactive Power (Q_gen): [37.38115789 40.44738087 11.79165197  7.33633467 10.95915525]\n",
            "========================================\n",
            "Test Case 71:\n",
            "Active Power (P_gen): [60.97 21.59 26.91 19.2  37.  ]\n",
            "Reactive Power (Q_gen): [37.38115789 40.44738087 11.79165197  7.33633467 10.95915525]\n",
            "========================================\n",
            "Test Case 72:\n",
            "Active Power (P_gen): [60.97 21.59 26.91 19.2  37.  ]\n",
            "Reactive Power (Q_gen): [37.38115789 40.44738087 11.79165197  7.33633467 10.95915525]\n",
            "========================================\n",
            "Test Case 73:\n",
            "Active Power (P_gen): [60.97 21.59 26.91 19.2  37.  ]\n",
            "Reactive Power (Q_gen): [37.38115789 40.44738087 11.79165197  7.33633467 10.95915525]\n",
            "========================================\n",
            "Test Case 74:\n",
            "Active Power (P_gen): [60.97 21.59 26.91 19.2  37.  ]\n",
            "Reactive Power (Q_gen): [37.38115789 40.44738087 11.79165197  7.33633467 10.95915525]\n",
            "========================================\n",
            "Test Case 75:\n",
            "Active Power (P_gen): [60.97 21.59 26.91 19.2  37.  ]\n",
            "Reactive Power (Q_gen): [37.38115789 40.44738087 11.79165197  7.33633467 10.95915525]\n",
            "========================================\n",
            "Test Case 76:\n",
            "Active Power (P_gen): [60.97 21.59 26.91 19.2  37.  ]\n",
            "Reactive Power (Q_gen): [37.38115789 40.44738087 11.79165197  7.33633467 10.95915525]\n",
            "========================================\n",
            "Test Case 77:\n",
            "Active Power (P_gen): [60.97 21.59 26.91 19.2  37.  ]\n",
            "Reactive Power (Q_gen): [37.38115789 40.44738087 11.79165197  7.33633467 10.95915525]\n",
            "========================================\n",
            "Test Case 78:\n",
            "Active Power (P_gen): [60.97 21.59 26.91 19.2  37.  ]\n",
            "Reactive Power (Q_gen): [37.38115789 40.44738087 11.79165197  7.33633467 10.95915525]\n",
            "========================================\n",
            "Test Case 79:\n",
            "Active Power (P_gen): [60.97 21.59 26.91 19.2  37.  ]\n",
            "Reactive Power (Q_gen): [37.38115789 40.44738087 11.79165197  7.33633467 10.95915525]\n",
            "========================================\n",
            "Test Case 80:\n",
            "Active Power (P_gen): [60.97 21.59 26.91 19.2  37.  ]\n",
            "Reactive Power (Q_gen): [37.38115789 40.44738087 11.79165197  7.33633467 10.95915525]\n",
            "========================================\n",
            "Test Case 81:\n",
            "Active Power (P_gen): [60.97 21.59 26.91 19.2  37.  ]\n",
            "Reactive Power (Q_gen): [37.38115789 40.44738087 11.79165197  7.33633467 10.95915525]\n",
            "========================================\n",
            "Test Case 82:\n",
            "Active Power (P_gen): [60.97 21.59 26.91 19.2  37.  ]\n",
            "Reactive Power (Q_gen): [37.38115789 40.44738087 11.79165197  7.33633467 10.95915525]\n",
            "========================================\n",
            "Test Case 83:\n",
            "Active Power (P_gen): [60.97 21.59 26.91 19.2  37.  ]\n",
            "Reactive Power (Q_gen): [37.38115789 40.44738087 11.79165197  7.33633467 10.95915525]\n",
            "========================================\n",
            "Test Case 84:\n",
            "Active Power (P_gen): [60.97 21.59 26.91 19.2  37.  ]\n",
            "Reactive Power (Q_gen): [37.38115789 40.44738087 11.79165197  7.33633467 10.95915525]\n",
            "========================================\n",
            "Test Case 85:\n",
            "Active Power (P_gen): [60.97 21.59 26.91 19.2  37.  ]\n",
            "Reactive Power (Q_gen): [37.38115789 40.44738087 11.79165197  7.33633467 10.95915525]\n",
            "========================================\n",
            "Test Case 86:\n",
            "Active Power (P_gen): [60.97 21.59 26.91 19.2  37.  ]\n",
            "Reactive Power (Q_gen): [37.38115789 40.44738087 11.79165197  7.33633467 10.95915525]\n",
            "========================================\n",
            "Test Case 87:\n",
            "Active Power (P_gen): [60.97 21.59 26.91 19.2  37.  ]\n",
            "Reactive Power (Q_gen): [37.38115789 40.44738087 11.79165197  7.33633467 10.95915525]\n",
            "========================================\n",
            "Test Case 88:\n",
            "Active Power (P_gen): [60.97 21.59 26.91 19.2  37.  ]\n",
            "Reactive Power (Q_gen): [37.38115789 40.44738087 11.79165197  7.33633467 10.95915525]\n",
            "========================================\n",
            "Test Case 89:\n",
            "Active Power (P_gen): [60.97 21.59 26.91 19.2  37.  ]\n",
            "Reactive Power (Q_gen): [37.38115789 40.44738087 11.79165197  7.33633467 10.95915525]\n",
            "========================================\n",
            "Test Case 90:\n",
            "Active Power (P_gen): [60.97 21.59 26.91 19.2  37.  ]\n",
            "Reactive Power (Q_gen): [37.38115789 40.44738087 11.79165197  7.33633467 10.95915525]\n",
            "========================================\n",
            "Test Case 91:\n",
            "Active Power (P_gen): [60.97 21.59 26.91 19.2  37.  ]\n",
            "Reactive Power (Q_gen): [37.38115789 40.44738087 11.79165197  7.33633467 10.95915525]\n",
            "========================================\n",
            "Test Case 92:\n",
            "Active Power (P_gen): [60.97 21.59 26.91 19.2  37.  ]\n",
            "Reactive Power (Q_gen): [37.38115789 40.44738087 11.79165197  7.33633467 10.95915525]\n",
            "========================================\n",
            "Test Case 93:\n",
            "Active Power (P_gen): [60.97 21.59 26.91 19.2  37.  ]\n",
            "Reactive Power (Q_gen): [37.38115789 40.44738087 11.79165197  7.33633467 10.95915525]\n",
            "========================================\n",
            "Test Case 94:\n",
            "Active Power (P_gen): [60.97 21.59 26.91 19.2  37.  ]\n",
            "Reactive Power (Q_gen): [37.38115789 40.44738087 11.79165197  7.33633467 10.95915525]\n",
            "========================================\n",
            "Test Case 95:\n",
            "Active Power (P_gen): [60.97 21.59 26.91 19.2  37.  ]\n",
            "Reactive Power (Q_gen): [37.38115789 40.44738087 11.79165197  7.33633467 10.95915525]\n",
            "========================================\n",
            "Test Case 96:\n",
            "Active Power (P_gen): [60.97 21.59 26.91 19.2  37.  ]\n",
            "Reactive Power (Q_gen): [37.38115789 40.44738087 11.79165197  7.33633467 10.95915525]\n",
            "========================================\n",
            "Test Case 97:\n",
            "Active Power (P_gen): [60.97 21.59 26.91 19.2  37.  ]\n",
            "Reactive Power (Q_gen): [37.38115789 40.44738087 11.79165197  7.33633467 10.95915525]\n",
            "========================================\n",
            "Test Case 98:\n",
            "Active Power (P_gen): [60.97 21.59 26.91 19.2  37.  ]\n",
            "Reactive Power (Q_gen): [37.38115789 40.44738087 11.79165197  7.33633467 10.95915525]\n",
            "========================================\n",
            "Test Case 99:\n",
            "Active Power (P_gen): [60.97 21.59 26.91 19.2  37.  ]\n",
            "Reactive Power (Q_gen): [37.38115789 40.44738087 11.79165197  7.33633467 10.95915525]\n",
            "========================================\n",
            "Test Case 100:\n",
            "Active Power (P_gen): [60.97 21.59 26.91 19.2  37.  ]\n",
            "Reactive Power (Q_gen): [37.38115789 40.44738087 11.79165197  7.33633467 10.95915525]\n",
            "========================================\n",
            "Test Case 101:\n",
            "Active Power (P_gen): [60.97 21.59 26.91 19.2  37.  ]\n",
            "Reactive Power (Q_gen): [37.38115789 40.44738087 11.79165197  7.33633467 10.95915525]\n",
            "========================================\n",
            "Test Case 102:\n",
            "Active Power (P_gen): [60.97 21.59 26.91 19.2  37.  ]\n",
            "Reactive Power (Q_gen): [37.38115789 40.44738087 11.79165197  7.33633467 10.95915525]\n",
            "========================================\n",
            "Generator outputs logged and saved to 'P_gen_changes.xlsx' and 'Q_gen_changes.xlsx'.\n"
          ]
        }
      ]
    },
    {
      "cell_type": "markdown",
      "source": [
        "# **IEEE 57 Bus DataSet Generation**\n",
        "\n",
        "Contains 57 buses, 7 generators, 42 loads, and 80 branches.\n",
        "\n",
        "Commonly used for testing load flow and contingency analysis."
      ],
      "metadata": {
        "id": "ySJfKeBtCDkF"
      }
    },
    {
      "cell_type": "code",
      "source": [
        "pip install pandapower"
      ],
      "metadata": {
        "colab": {
          "base_uri": "https://localhost:8080/"
        },
        "id": "RHOCYB1bOk0i",
        "outputId": "066f7775-07a2-47ca-8d12-3baa89ea6f60"
      },
      "execution_count": 12,
      "outputs": [
        {
          "output_type": "stream",
          "name": "stdout",
          "text": [
            "Requirement already satisfied: pandapower in /usr/local/lib/python3.10/dist-packages (2.14.11)\n",
            "Requirement already satisfied: pandas>=1.0 in /usr/local/lib/python3.10/dist-packages (from pandapower) (2.2.2)\n",
            "Requirement already satisfied: networkx>=2.5 in /usr/local/lib/python3.10/dist-packages (from pandapower) (3.4.2)\n",
            "Requirement already satisfied: scipy<1.14 in /usr/local/lib/python3.10/dist-packages (from pandapower) (1.13.1)\n",
            "Requirement already satisfied: numpy<2.0 in /usr/local/lib/python3.10/dist-packages (from pandapower) (1.26.4)\n",
            "Requirement already satisfied: packaging in /usr/local/lib/python3.10/dist-packages (from pandapower) (24.1)\n",
            "Requirement already satisfied: tqdm in /usr/local/lib/python3.10/dist-packages (from pandapower) (4.66.6)\n",
            "Requirement already satisfied: deepdiff in /usr/local/lib/python3.10/dist-packages (from pandapower) (8.0.1)\n",
            "Requirement already satisfied: python-dateutil>=2.8.2 in /usr/local/lib/python3.10/dist-packages (from pandas>=1.0->pandapower) (2.8.2)\n",
            "Requirement already satisfied: pytz>=2020.1 in /usr/local/lib/python3.10/dist-packages (from pandas>=1.0->pandapower) (2024.2)\n",
            "Requirement already satisfied: tzdata>=2022.7 in /usr/local/lib/python3.10/dist-packages (from pandas>=1.0->pandapower) (2024.2)\n",
            "Requirement already satisfied: orderly-set==5.2.2 in /usr/local/lib/python3.10/dist-packages (from deepdiff->pandapower) (5.2.2)\n",
            "Requirement already satisfied: six>=1.5 in /usr/local/lib/python3.10/dist-packages (from python-dateutil>=2.8.2->pandas>=1.0->pandapower) (1.16.0)\n"
          ]
        }
      ]
    },
    {
      "cell_type": "code",
      "source": [
        "import pandapower as pp\n",
        "import pandapower.networks as nw\n",
        "import pandas as pd\n",
        "import random\n",
        "import os\n",
        "\n",
        "# Create the output folder\n",
        "output_folder = \"datasets_57Bus\"\n",
        "os.makedirs(output_folder, exist_ok=True)\n",
        "\n",
        "# Load the 57-bus test system using pandapower\n",
        "net = nw.case57()\n",
        "\n",
        "# Number of datasets and samples per dataset\n",
        "num_datasets = 10\n",
        "samples_per_dataset = 2000\n",
        "variation_range = 0.4  # ±40% random load variation\n",
        "\n",
        "# Define the columns for the output Excel file\n",
        "bus_ids = net.bus.index\n",
        "columns = []\n",
        "\n",
        "# Create column names based on your dataset format\n",
        "for bus in bus_ids:\n",
        "    columns.extend([f\"P_{bus + 1} (PQ)\", f\"Q_{bus + 1} (PQ)\", f\"V_{bus + 1}\", f\"d_{bus + 1}\"])\n",
        "\n",
        "# Store original load values for resetting\n",
        "original_p_values = net.load['p_mw'].copy()\n",
        "original_q_values = net.load['q_mvar'].copy()\n",
        "\n",
        "# Generate the datasets\n",
        "for dataset_n in range(1, num_datasets + 1):\n",
        "    print(f\"Generating dataset {dataset_n}...\")\n",
        "\n",
        "    data = []\n",
        "\n",
        "    for sample in range(1, samples_per_dataset + 1):\n",
        "        # Reset the load values to the original values\n",
        "        net.load['p_mw'] = original_p_values\n",
        "        net.load['q_mvar'] = original_q_values\n",
        "\n",
        "        # Apply random variation based on the original values\n",
        "        for load in net.load.index:\n",
        "            net.load.at[load, 'p_mw'] = original_p_values[load] * (1 + random.uniform(-variation_range, variation_range))\n",
        "            net.load.at[load, 'q_mvar'] = original_q_values[load] * (1 + random.uniform(-variation_range, variation_range))\n",
        "\n",
        "        # Run AC power flow with Newton-Raphson algorithm\n",
        "        try:\n",
        "            pp.runpp(net, algorithm='nr', max_iteration=30)\n",
        "        except pp.LoadflowNotConverged:\n",
        "            print(f\"Load flow did not converge for sample {sample} in dataset {dataset_n}, skipping this sample.\")\n",
        "            continue\n",
        "\n",
        "        # Collect data for the current sample\n",
        "        row = []\n",
        "\n",
        "        for bus in bus_ids:\n",
        "            # Extract P and Q values for the bus (PQ buses only)\n",
        "            if bus in net.load['bus'].values:\n",
        "                p_load = net.res_load.loc[net.load[net.load['bus'] == bus].index, 'p_mw'].sum()\n",
        "                q_load = net.res_load.loc[net.load[net.load['bus'] == bus].index, 'q_mvar'].sum()\n",
        "            else:\n",
        "                p_load, q_load = 0, 0\n",
        "\n",
        "            # Extract V (voltage magnitude) and d (voltage angle)\n",
        "            v_mag = net.res_bus.at[bus, 'vm_pu']\n",
        "            v_ang = net.res_bus.at[bus, 'va_degree']\n",
        "\n",
        "            # Append data to the row in the specified format\n",
        "            row.extend([p_load, q_load, v_mag, v_ang])\n",
        "\n",
        "        # Add the row to the dataset\n",
        "        data.append(row)\n",
        "\n",
        "    # Create a DataFrame and add headers in the requested format\n",
        "    df = pd.DataFrame(data, columns=columns)\n",
        "    df.insert(0, \"Data\", [f\"Data {i + 1}\" for i in range(len(df))])\n",
        "    df.insert(0, \"Dataset\", [f\"PF Dataset_{dataset_n}\"] + [\"\"] * (len(df) - 1))\n",
        "\n",
        "    # Save the DataFrame to Excel\n",
        "    output_filename = os.path.join(output_folder, f\"PF_Dataset_{dataset_n}.xlsx\")\n",
        "    df.to_excel(output_filename, index=False)\n",
        "    print(f\"Dataset {dataset_n} saved to {output_filename}\")\n",
        "\n",
        "print(\"All datasets generated successfully.\")\n"
      ],
      "metadata": {
        "colab": {
          "base_uri": "https://localhost:8080/"
        },
        "id": "zKT0Xj1IOcrf",
        "outputId": "87bdc83d-c839-4026-bc85-e3909a108110"
      },
      "execution_count": 13,
      "outputs": [
        {
          "output_type": "stream",
          "name": "stdout",
          "text": [
            "Generating dataset 1...\n",
            "Dataset 1 saved to datasets_57Bus/PF_Dataset_1.xlsx\n",
            "Generating dataset 2...\n",
            "Dataset 2 saved to datasets_57Bus/PF_Dataset_2.xlsx\n",
            "Generating dataset 3...\n",
            "Dataset 3 saved to datasets_57Bus/PF_Dataset_3.xlsx\n",
            "Generating dataset 4...\n",
            "Dataset 4 saved to datasets_57Bus/PF_Dataset_4.xlsx\n",
            "Generating dataset 5...\n",
            "Dataset 5 saved to datasets_57Bus/PF_Dataset_5.xlsx\n",
            "Generating dataset 6...\n",
            "Dataset 6 saved to datasets_57Bus/PF_Dataset_6.xlsx\n",
            "Generating dataset 7...\n",
            "Dataset 7 saved to datasets_57Bus/PF_Dataset_7.xlsx\n",
            "Generating dataset 8...\n",
            "Dataset 8 saved to datasets_57Bus/PF_Dataset_8.xlsx\n",
            "Generating dataset 9...\n",
            "Dataset 9 saved to datasets_57Bus/PF_Dataset_9.xlsx\n",
            "Generating dataset 10...\n",
            "Dataset 10 saved to datasets_57Bus/PF_Dataset_10.xlsx\n",
            "All datasets generated successfully.\n"
          ]
        }
      ]
    },
    {
      "cell_type": "markdown",
      "source": [
        "**57 Bus Generator Limits**\n",
        "\n",
        " Generated Active and Reactive Power (P and Q) should be bounded by their maximum and minimum capability for each bus.\n",
        "\n",
        " Otherwise the OPF will not converge for the network."
      ],
      "metadata": {
        "id": "0my7n9SIPNvr"
      }
    },
    {
      "cell_type": "code",
      "source": [
        "# Import pandas for cleaner output\n",
        "import pandas as pd\n",
        "\n",
        "# generator bus information\n",
        "gen_buses = net.gen['bus'].values  # The bus indices with generators\n",
        "p_gen = net.res_gen['p_mw'].values\n",
        "q_gen = net.res_gen['q_mvar'].values\n",
        "\n",
        "# detailed information for each generator\n",
        "print(\"Generator Information:\")\n",
        "for i, bus in enumerate(gen_buses):\n",
        "    p_max = net.gen.at[i, 'max_p_mw'] if 'max_p_mw' in net.gen.columns else \"N/A\"\n",
        "    q_max = net.gen.at[i, 'max_q_mvar'] if 'max_q_mvar' in net.gen.columns else \"N/A\"\n",
        "    print(f\"Bus {bus} | Active Power (P_gen): {p_gen[i]:.2f} MW | Reactive Power (Q_gen): {q_gen[i]:.2f} MVar | P_max: {p_max} MW | Q_max: {q_max} MVar\")\n",
        "\n",
        "print(\"\\nFull Generator DataFrame:\")\n",
        "print(net.gen)\n"
      ],
      "metadata": {
        "colab": {
          "base_uri": "https://localhost:8080/"
        },
        "id": "A0XK26Y4CDUc",
        "outputId": "339174ab-6db4-4976-9353-ded89e057daf"
      },
      "execution_count": 15,
      "outputs": [
        {
          "output_type": "stream",
          "name": "stdout",
          "text": [
            "Generator Information:\n",
            "Bus 1 | Active Power (P_gen): 0.00 MW | Reactive Power (Q_gen): 29.40 MVar | P_max: 100.0 MW | Q_max: 50.0 MVar\n",
            "Bus 2 | Active Power (P_gen): 40.00 MW | Reactive Power (Q_gen): -9.46 MVar | P_max: 140.0 MW | Q_max: 60.0 MVar\n",
            "Bus 5 | Active Power (P_gen): 0.00 MW | Reactive Power (Q_gen): 12.11 MVar | P_max: 100.0 MW | Q_max: 25.0 MVar\n",
            "Bus 7 | Active Power (P_gen): 450.00 MW | Reactive Power (Q_gen): 74.54 MVar | P_max: 550.0 MW | Q_max: 200.0 MVar\n",
            "Bus 8 | Active Power (P_gen): 0.00 MW | Reactive Power (Q_gen): -21.24 MVar | P_max: 100.0 MW | Q_max: 9.0 MVar\n",
            "Bus 11 | Active Power (P_gen): 310.00 MW | Reactive Power (Q_gen): 109.47 MVar | P_max: 410.0 MW | Q_max: 155.0 MVar\n",
            "\n",
            "Full Generator DataFrame:\n",
            "   name  bus   p_mw  vm_pu  sn_mva  min_q_mvar  max_q_mvar  scaling  slack  \\\n",
            "0  None    1    0.0  1.010     NaN       -17.0        50.0      1.0  False   \n",
            "1  None    2   40.0  0.985     NaN       -10.0        60.0      1.0  False   \n",
            "2  None    5    0.0  0.980     NaN        -8.0        25.0      1.0  False   \n",
            "3  None    7  450.0  1.005     NaN      -140.0       200.0      1.0  False   \n",
            "4  None    8    0.0  0.980     NaN        -3.0         9.0      1.0  False   \n",
            "5  None   11  310.0  1.015     NaN      -150.0       155.0      1.0  False   \n",
            "\n",
            "   in_service  slack_weight  type  controllable  max_p_mw  min_p_mw  \n",
            "0        True           0.0  None          True     100.0       0.0  \n",
            "1        True           0.0  None          True     140.0       0.0  \n",
            "2        True           0.0  None          True     100.0       0.0  \n",
            "3        True           0.0  None          True     550.0       0.0  \n",
            "4        True           0.0  None          True     100.0       0.0  \n",
            "5        True           0.0  None          True     410.0       0.0  \n"
          ]
        }
      ]
    },
    {
      "cell_type": "markdown",
      "source": [
        "# **Histogram**\n",
        "\n",
        "Histograms is used to see which architecture has a better and more consistent performance (narrower, left-skewed distribution)\n",
        "\n",
        "Histograms is used to compare:\n",
        "\n",
        "1.   Different bus systems (e.g., 14-bus vs. 30-bus vs. 57-bus) using the same GNN architecture.\n",
        "\n",
        "2.   It can also be used to compare different GNN architectures for a same network to see the effect\n",
        "\n",
        "\n",
        "**Histogram Goal:**\n",
        "\n",
        "\n",
        "\n",
        "*   Mean and Median Values: Lower mean and median values indicate better performance.\n",
        "\n",
        "*   Spread of Distribution: A narrower histogram indicates more consistent performance (less variance).\n",
        "\n",
        "*   Left-Skewed Distribution: A left-skewed histogram (with most losses near zero) indicates good generalization.\n",
        "\n"
      ],
      "metadata": {
        "id": "pmyF3Eb1KKQv"
      }
    },
    {
      "cell_type": "code",
      "source": [
        "import numpy as np\n",
        "import pandas as pd\n",
        "import matplotlib.pyplot as plt\n",
        "\n",
        "# Load the test loss data from each Excel file\n",
        "bus_14_loss_data = pd.read_excel('[14 bus] Test Losses.xlsx').values.flatten()\n",
        "bus_30_loss_data = pd.read_excel('[30 bus] Test Losses.xlsx').values.flatten()\n",
        "\n",
        "# mean and median for each bus system\n",
        "mean_14 = np.mean(bus_14_loss_data)\n",
        "median_14 = np.median(bus_14_loss_data)\n",
        "\n",
        "mean_30 = np.mean(bus_30_loss_data)\n",
        "median_30 = np.median(bus_30_loss_data)\n",
        "\n",
        "\n",
        "# Print the statistics\n",
        "print(f\"14-bus system - Mean: {mean_14:.5f}, Median: {median_14:.5f}\")\n",
        "print(f\"30-bus system - Mean: {mean_30:.5f}, Median: {median_30:.5f}\")\n",
        "\n",
        "# histogram plotting parameters\n",
        "kwargs = dict(histtype='stepfilled', alpha=0.5, density=True, bins=20)\n",
        "\n",
        "# labels for the histograms\n",
        "label_14 = f\"14-bus, Mean: {mean_14:.5f}, Median: {median_14:.5f}\"\n",
        "label_30 = f\"30-bus, Mean: {mean_30:.5f}, Median: {median_30:.5f}\"\n",
        "\n",
        "# Plot the histograms\n",
        "plt.figure(figsize=(10, 6))\n",
        "plt.hist(bus_14_loss_data, label=label_14, **kwargs)\n",
        "plt.hist(bus_30_loss_data, label=label_30, **kwargs)\n",
        "\n",
        "# plot details\n",
        "plt.title('Comparison of Test Loss Distributions Across Different Test Case Networks')\n",
        "plt.xlabel('Test Loss (MSE or NRMSE)')\n",
        "plt.ylabel('Density')\n",
        "plt.legend(loc='upper right')\n",
        "plt.grid(True)\n",
        "plt.show()\n"
      ],
      "metadata": {
        "colab": {
          "base_uri": "https://localhost:8080/",
          "height": 384
        },
        "id": "Qc_Y31iUKMWJ",
        "outputId": "2f667993-768e-4851-f639-55e1b9b9912a"
      },
      "execution_count": 11,
      "outputs": [
        {
          "output_type": "error",
          "ename": "FileNotFoundError",
          "evalue": "[Errno 2] No such file or directory: '[14 bus] Test Losses.xlsx'",
          "traceback": [
            "\u001b[0;31m---------------------------------------------------------------------------\u001b[0m",
            "\u001b[0;31mFileNotFoundError\u001b[0m                         Traceback (most recent call last)",
            "\u001b[0;32m<ipython-input-11-bf62279d52f2>\u001b[0m in \u001b[0;36m<cell line: 6>\u001b[0;34m()\u001b[0m\n\u001b[1;32m      4\u001b[0m \u001b[0;34m\u001b[0m\u001b[0m\n\u001b[1;32m      5\u001b[0m \u001b[0;31m# Load the test loss data from each Excel file\u001b[0m\u001b[0;34m\u001b[0m\u001b[0;34m\u001b[0m\u001b[0m\n\u001b[0;32m----> 6\u001b[0;31m \u001b[0mbus_14_loss_data\u001b[0m \u001b[0;34m=\u001b[0m \u001b[0mpd\u001b[0m\u001b[0;34m.\u001b[0m\u001b[0mread_excel\u001b[0m\u001b[0;34m(\u001b[0m\u001b[0;34m'[14 bus] Test Losses.xlsx'\u001b[0m\u001b[0;34m)\u001b[0m\u001b[0;34m.\u001b[0m\u001b[0mvalues\u001b[0m\u001b[0;34m.\u001b[0m\u001b[0mflatten\u001b[0m\u001b[0;34m(\u001b[0m\u001b[0;34m)\u001b[0m\u001b[0;34m\u001b[0m\u001b[0;34m\u001b[0m\u001b[0m\n\u001b[0m\u001b[1;32m      7\u001b[0m \u001b[0mbus_30_loss_data\u001b[0m \u001b[0;34m=\u001b[0m \u001b[0mpd\u001b[0m\u001b[0;34m.\u001b[0m\u001b[0mread_excel\u001b[0m\u001b[0;34m(\u001b[0m\u001b[0;34m'[30 bus] Test Losses.xlsx'\u001b[0m\u001b[0;34m)\u001b[0m\u001b[0;34m.\u001b[0m\u001b[0mvalues\u001b[0m\u001b[0;34m.\u001b[0m\u001b[0mflatten\u001b[0m\u001b[0;34m(\u001b[0m\u001b[0;34m)\u001b[0m\u001b[0;34m\u001b[0m\u001b[0;34m\u001b[0m\u001b[0m\n\u001b[1;32m      8\u001b[0m \u001b[0;34m\u001b[0m\u001b[0m\n",
            "\u001b[0;32m/usr/local/lib/python3.10/dist-packages/pandas/io/excel/_base.py\u001b[0m in \u001b[0;36mread_excel\u001b[0;34m(io, sheet_name, header, names, index_col, usecols, dtype, engine, converters, true_values, false_values, skiprows, nrows, na_values, keep_default_na, na_filter, verbose, parse_dates, date_parser, date_format, thousands, decimal, comment, skipfooter, storage_options, dtype_backend, engine_kwargs)\u001b[0m\n\u001b[1;32m    493\u001b[0m     \u001b[0;32mif\u001b[0m \u001b[0;32mnot\u001b[0m \u001b[0misinstance\u001b[0m\u001b[0;34m(\u001b[0m\u001b[0mio\u001b[0m\u001b[0;34m,\u001b[0m \u001b[0mExcelFile\u001b[0m\u001b[0;34m)\u001b[0m\u001b[0;34m:\u001b[0m\u001b[0;34m\u001b[0m\u001b[0;34m\u001b[0m\u001b[0m\n\u001b[1;32m    494\u001b[0m         \u001b[0mshould_close\u001b[0m \u001b[0;34m=\u001b[0m \u001b[0;32mTrue\u001b[0m\u001b[0;34m\u001b[0m\u001b[0;34m\u001b[0m\u001b[0m\n\u001b[0;32m--> 495\u001b[0;31m         io = ExcelFile(\n\u001b[0m\u001b[1;32m    496\u001b[0m             \u001b[0mio\u001b[0m\u001b[0;34m,\u001b[0m\u001b[0;34m\u001b[0m\u001b[0;34m\u001b[0m\u001b[0m\n\u001b[1;32m    497\u001b[0m             \u001b[0mstorage_options\u001b[0m\u001b[0;34m=\u001b[0m\u001b[0mstorage_options\u001b[0m\u001b[0;34m,\u001b[0m\u001b[0;34m\u001b[0m\u001b[0;34m\u001b[0m\u001b[0m\n",
            "\u001b[0;32m/usr/local/lib/python3.10/dist-packages/pandas/io/excel/_base.py\u001b[0m in \u001b[0;36m__init__\u001b[0;34m(self, path_or_buffer, engine, storage_options, engine_kwargs)\u001b[0m\n\u001b[1;32m   1548\u001b[0m                 \u001b[0mext\u001b[0m \u001b[0;34m=\u001b[0m \u001b[0;34m\"xls\"\u001b[0m\u001b[0;34m\u001b[0m\u001b[0;34m\u001b[0m\u001b[0m\n\u001b[1;32m   1549\u001b[0m             \u001b[0;32melse\u001b[0m\u001b[0;34m:\u001b[0m\u001b[0;34m\u001b[0m\u001b[0;34m\u001b[0m\u001b[0m\n\u001b[0;32m-> 1550\u001b[0;31m                 ext = inspect_excel_format(\n\u001b[0m\u001b[1;32m   1551\u001b[0m                     \u001b[0mcontent_or_path\u001b[0m\u001b[0;34m=\u001b[0m\u001b[0mpath_or_buffer\u001b[0m\u001b[0;34m,\u001b[0m \u001b[0mstorage_options\u001b[0m\u001b[0;34m=\u001b[0m\u001b[0mstorage_options\u001b[0m\u001b[0;34m\u001b[0m\u001b[0;34m\u001b[0m\u001b[0m\n\u001b[1;32m   1552\u001b[0m                 )\n",
            "\u001b[0;32m/usr/local/lib/python3.10/dist-packages/pandas/io/excel/_base.py\u001b[0m in \u001b[0;36minspect_excel_format\u001b[0;34m(content_or_path, storage_options)\u001b[0m\n\u001b[1;32m   1400\u001b[0m         \u001b[0mcontent_or_path\u001b[0m \u001b[0;34m=\u001b[0m \u001b[0mBytesIO\u001b[0m\u001b[0;34m(\u001b[0m\u001b[0mcontent_or_path\u001b[0m\u001b[0;34m)\u001b[0m\u001b[0;34m\u001b[0m\u001b[0;34m\u001b[0m\u001b[0m\n\u001b[1;32m   1401\u001b[0m \u001b[0;34m\u001b[0m\u001b[0m\n\u001b[0;32m-> 1402\u001b[0;31m     with get_handle(\n\u001b[0m\u001b[1;32m   1403\u001b[0m         \u001b[0mcontent_or_path\u001b[0m\u001b[0;34m,\u001b[0m \u001b[0;34m\"rb\"\u001b[0m\u001b[0;34m,\u001b[0m \u001b[0mstorage_options\u001b[0m\u001b[0;34m=\u001b[0m\u001b[0mstorage_options\u001b[0m\u001b[0;34m,\u001b[0m \u001b[0mis_text\u001b[0m\u001b[0;34m=\u001b[0m\u001b[0;32mFalse\u001b[0m\u001b[0;34m\u001b[0m\u001b[0;34m\u001b[0m\u001b[0m\n\u001b[1;32m   1404\u001b[0m     ) as handle:\n",
            "\u001b[0;32m/usr/local/lib/python3.10/dist-packages/pandas/io/common.py\u001b[0m in \u001b[0;36mget_handle\u001b[0;34m(path_or_buf, mode, encoding, compression, memory_map, is_text, errors, storage_options)\u001b[0m\n\u001b[1;32m    880\u001b[0m         \u001b[0;32melse\u001b[0m\u001b[0;34m:\u001b[0m\u001b[0;34m\u001b[0m\u001b[0;34m\u001b[0m\u001b[0m\n\u001b[1;32m    881\u001b[0m             \u001b[0;31m# Binary mode\u001b[0m\u001b[0;34m\u001b[0m\u001b[0;34m\u001b[0m\u001b[0m\n\u001b[0;32m--> 882\u001b[0;31m             \u001b[0mhandle\u001b[0m \u001b[0;34m=\u001b[0m \u001b[0mopen\u001b[0m\u001b[0;34m(\u001b[0m\u001b[0mhandle\u001b[0m\u001b[0;34m,\u001b[0m \u001b[0mioargs\u001b[0m\u001b[0;34m.\u001b[0m\u001b[0mmode\u001b[0m\u001b[0;34m)\u001b[0m\u001b[0;34m\u001b[0m\u001b[0;34m\u001b[0m\u001b[0m\n\u001b[0m\u001b[1;32m    883\u001b[0m         \u001b[0mhandles\u001b[0m\u001b[0;34m.\u001b[0m\u001b[0mappend\u001b[0m\u001b[0;34m(\u001b[0m\u001b[0mhandle\u001b[0m\u001b[0;34m)\u001b[0m\u001b[0;34m\u001b[0m\u001b[0;34m\u001b[0m\u001b[0m\n\u001b[1;32m    884\u001b[0m \u001b[0;34m\u001b[0m\u001b[0m\n",
            "\u001b[0;31mFileNotFoundError\u001b[0m: [Errno 2] No such file or directory: '[14 bus] Test Losses.xlsx'"
          ]
        }
      ]
    },
    {
      "cell_type": "code",
      "source": [],
      "metadata": {
        "id": "7Wqd4N8uM6os"
      },
      "execution_count": null,
      "outputs": []
    }
  ]
}