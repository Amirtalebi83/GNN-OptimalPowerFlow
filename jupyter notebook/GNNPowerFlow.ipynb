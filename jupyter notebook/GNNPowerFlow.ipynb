{
  "nbformat": 4,
  "nbformat_minor": 0,
  "metadata": {
    "colab": {
      "provenance": [],
      "collapsed_sections": [
        "Dm_QSMHnh5qa",
        "jkFs_7lLiDgc"
      ]
    },
    "kernelspec": {
      "name": "python3",
      "display_name": "Python 3"
    },
    "language_info": {
      "name": "python"
    }
  },
  "cells": [
    {
      "cell_type": "code",
      "execution_count": 1,
      "metadata": {
        "colab": {
          "base_uri": "https://localhost:8080/"
        },
        "id": "IEZO9Oc5ifIT",
        "outputId": "fb31ad84-afbc-4f57-8731-319d072b56b6"
      },
      "outputs": [
        {
          "output_type": "stream",
          "name": "stdout",
          "text": [
            "Mounted at /content/drive\n",
            "Cloning into 'GNN-OptimalPowerFlow'...\n",
            "remote: Enumerating objects: 308, done.\u001b[K\n",
            "remote: Counting objects: 100% (35/35), done.\u001b[K\n",
            "remote: Compressing objects: 100% (24/24), done.\u001b[K\n",
            "remote: Total 308 (delta 13), reused 28 (delta 11), pack-reused 273 (from 1)\u001b[K\n",
            "Receiving objects: 100% (308/308), 261.16 MiB | 16.67 MiB/s, done.\n",
            "Resolving deltas: 100% (47/47), done.\n",
            "/content/GNN-OptimalPowerFlow\n",
            " Datasets   document  'jupyter notebook'   README.md   Results\n"
          ]
        }
      ],
      "source": [
        "from google.colab import drive\n",
        "drive.mount('/content/drive')\n",
        "\n",
        "# Clone GitHub repository\n",
        "!git clone https://github.com/Amirtalebi83/GNN-OptimalPowerFlow.git\n",
        "%cd GNN-OptimalPowerFlow\n",
        "\n",
        "!ls"
      ]
    },
    {
      "cell_type": "code",
      "source": [
        "# Install PyTorch and PyTorch Geometric\n",
        "!pip install torch\n",
        "!pip install torch-geometric\n",
        "!pip install pandas openpyxl"
      ],
      "metadata": {
        "colab": {
          "base_uri": "https://localhost:8080/"
        },
        "id": "tFKnT4mUkcMj",
        "outputId": "7445ce33-ca66-46b2-967e-c771d8b48ce8"
      },
      "execution_count": 2,
      "outputs": [
        {
          "output_type": "stream",
          "name": "stdout",
          "text": [
            "Requirement already satisfied: torch in /usr/local/lib/python3.10/dist-packages (2.5.1+cu121)\n",
            "Requirement already satisfied: filelock in /usr/local/lib/python3.10/dist-packages (from torch) (3.16.1)\n",
            "Requirement already satisfied: typing-extensions>=4.8.0 in /usr/local/lib/python3.10/dist-packages (from torch) (4.12.2)\n",
            "Requirement already satisfied: networkx in /usr/local/lib/python3.10/dist-packages (from torch) (3.4.2)\n",
            "Requirement already satisfied: jinja2 in /usr/local/lib/python3.10/dist-packages (from torch) (3.1.4)\n",
            "Requirement already satisfied: fsspec in /usr/local/lib/python3.10/dist-packages (from torch) (2024.10.0)\n",
            "Requirement already satisfied: sympy==1.13.1 in /usr/local/lib/python3.10/dist-packages (from torch) (1.13.1)\n",
            "Requirement already satisfied: mpmath<1.4,>=1.1.0 in /usr/local/lib/python3.10/dist-packages (from sympy==1.13.1->torch) (1.3.0)\n",
            "Requirement already satisfied: MarkupSafe>=2.0 in /usr/local/lib/python3.10/dist-packages (from jinja2->torch) (3.0.2)\n",
            "Collecting torch-geometric\n",
            "  Downloading torch_geometric-2.6.1-py3-none-any.whl.metadata (63 kB)\n",
            "\u001b[2K     \u001b[90m━━━━━━━━━━━━━━━━━━━━━━━━━━━━━━━━━━━━━━━━\u001b[0m \u001b[32m63.1/63.1 kB\u001b[0m \u001b[31m2.1 MB/s\u001b[0m eta \u001b[36m0:00:00\u001b[0m\n",
            "\u001b[?25hRequirement already satisfied: aiohttp in /usr/local/lib/python3.10/dist-packages (from torch-geometric) (3.10.10)\n",
            "Requirement already satisfied: fsspec in /usr/local/lib/python3.10/dist-packages (from torch-geometric) (2024.10.0)\n",
            "Requirement already satisfied: jinja2 in /usr/local/lib/python3.10/dist-packages (from torch-geometric) (3.1.4)\n",
            "Requirement already satisfied: numpy in /usr/local/lib/python3.10/dist-packages (from torch-geometric) (1.26.4)\n",
            "Requirement already satisfied: psutil>=5.8.0 in /usr/local/lib/python3.10/dist-packages (from torch-geometric) (5.9.5)\n",
            "Requirement already satisfied: pyparsing in /usr/local/lib/python3.10/dist-packages (from torch-geometric) (3.2.0)\n",
            "Requirement already satisfied: requests in /usr/local/lib/python3.10/dist-packages (from torch-geometric) (2.32.3)\n",
            "Requirement already satisfied: tqdm in /usr/local/lib/python3.10/dist-packages (from torch-geometric) (4.66.6)\n",
            "Requirement already satisfied: aiohappyeyeballs>=2.3.0 in /usr/local/lib/python3.10/dist-packages (from aiohttp->torch-geometric) (2.4.3)\n",
            "Requirement already satisfied: aiosignal>=1.1.2 in /usr/local/lib/python3.10/dist-packages (from aiohttp->torch-geometric) (1.3.1)\n",
            "Requirement already satisfied: attrs>=17.3.0 in /usr/local/lib/python3.10/dist-packages (from aiohttp->torch-geometric) (24.2.0)\n",
            "Requirement already satisfied: frozenlist>=1.1.1 in /usr/local/lib/python3.10/dist-packages (from aiohttp->torch-geometric) (1.5.0)\n",
            "Requirement already satisfied: multidict<7.0,>=4.5 in /usr/local/lib/python3.10/dist-packages (from aiohttp->torch-geometric) (6.1.0)\n",
            "Requirement already satisfied: yarl<2.0,>=1.12.0 in /usr/local/lib/python3.10/dist-packages (from aiohttp->torch-geometric) (1.17.1)\n",
            "Requirement already satisfied: async-timeout<5.0,>=4.0 in /usr/local/lib/python3.10/dist-packages (from aiohttp->torch-geometric) (4.0.3)\n",
            "Requirement already satisfied: MarkupSafe>=2.0 in /usr/local/lib/python3.10/dist-packages (from jinja2->torch-geometric) (3.0.2)\n",
            "Requirement already satisfied: charset-normalizer<4,>=2 in /usr/local/lib/python3.10/dist-packages (from requests->torch-geometric) (3.4.0)\n",
            "Requirement already satisfied: idna<4,>=2.5 in /usr/local/lib/python3.10/dist-packages (from requests->torch-geometric) (3.10)\n",
            "Requirement already satisfied: urllib3<3,>=1.21.1 in /usr/local/lib/python3.10/dist-packages (from requests->torch-geometric) (2.2.3)\n",
            "Requirement already satisfied: certifi>=2017.4.17 in /usr/local/lib/python3.10/dist-packages (from requests->torch-geometric) (2024.8.30)\n",
            "Requirement already satisfied: typing-extensions>=4.1.0 in /usr/local/lib/python3.10/dist-packages (from multidict<7.0,>=4.5->aiohttp->torch-geometric) (4.12.2)\n",
            "Requirement already satisfied: propcache>=0.2.0 in /usr/local/lib/python3.10/dist-packages (from yarl<2.0,>=1.12.0->aiohttp->torch-geometric) (0.2.0)\n",
            "Downloading torch_geometric-2.6.1-py3-none-any.whl (1.1 MB)\n",
            "\u001b[2K   \u001b[90m━━━━━━━━━━━━━━━━━━━━━━━━━━━━━━━━━━━━━━━━\u001b[0m \u001b[32m1.1/1.1 MB\u001b[0m \u001b[31m20.0 MB/s\u001b[0m eta \u001b[36m0:00:00\u001b[0m\n",
            "\u001b[?25hInstalling collected packages: torch-geometric\n",
            "Successfully installed torch-geometric-2.6.1\n",
            "Requirement already satisfied: pandas in /usr/local/lib/python3.10/dist-packages (2.2.2)\n",
            "Requirement already satisfied: openpyxl in /usr/local/lib/python3.10/dist-packages (3.1.5)\n",
            "Requirement already satisfied: numpy>=1.22.4 in /usr/local/lib/python3.10/dist-packages (from pandas) (1.26.4)\n",
            "Requirement already satisfied: python-dateutil>=2.8.2 in /usr/local/lib/python3.10/dist-packages (from pandas) (2.8.2)\n",
            "Requirement already satisfied: pytz>=2020.1 in /usr/local/lib/python3.10/dist-packages (from pandas) (2024.2)\n",
            "Requirement already satisfied: tzdata>=2022.7 in /usr/local/lib/python3.10/dist-packages (from pandas) (2024.2)\n",
            "Requirement already satisfied: et-xmlfile in /usr/local/lib/python3.10/dist-packages (from openpyxl) (2.0.0)\n",
            "Requirement already satisfied: six>=1.5 in /usr/local/lib/python3.10/dist-packages (from python-dateutil>=2.8.2->pandas) (1.16.0)\n"
          ]
        }
      ]
    },
    {
      "cell_type": "code",
      "source": [
        "!git reset --hard HEAD #Reset Any Local Changes\n",
        "!git pull origin main #Pull the Latest Changes from GitHub"
      ],
      "metadata": {
        "colab": {
          "base_uri": "https://localhost:8080/"
        },
        "id": "MC2cAxHHyg27",
        "outputId": "dccf16bd-7388-4ea3-a230-a3e98e5cac2f"
      },
      "execution_count": 139,
      "outputs": [
        {
          "output_type": "stream",
          "name": "stdout",
          "text": [
            "From https://github.com/Amirtalebi83/GNN-OptimalPowerFlow\n",
            " * branch            main       -> FETCH_HEAD\n",
            "Already up to date.\n"
          ]
        }
      ]
    },
    {
      "cell_type": "code",
      "source": [
        "%cd /content\n",
        "!rm -rf GNN-OptimalPowerFlow"
      ],
      "metadata": {
        "id": "eQropCnvyrhy"
      },
      "execution_count": 126,
      "outputs": []
    },
    {
      "cell_type": "code",
      "source": [
        "!rm -rf GNN-OptimalPowerFlow"
      ],
      "metadata": {
        "id": "wkf78Nes-ZHp"
      },
      "execution_count": 133,
      "outputs": []
    },
    {
      "cell_type": "code",
      "source": [
        "!git clone https://github.com/Amirtalebi83/GNN-OptimalPowerFlow.git\n",
        "!ls -la GNN-OptimalPowerFlow"
      ],
      "metadata": {
        "colab": {
          "base_uri": "https://localhost:8080/"
        },
        "id": "L92XdvEc0BQx",
        "outputId": "8fec4c2c-66f9-46c5-f943-40356ddbe274"
      },
      "execution_count": 127,
      "outputs": [
        {
          "output_type": "stream",
          "name": "stdout",
          "text": [
            "Cloning into 'GNN-OptimalPowerFlow'...\n",
            "remote: Enumerating objects: 283, done.\u001b[K\n",
            "remote: Counting objects: 100% (10/10), done.\u001b[K\n",
            "remote: Compressing objects: 100% (4/4), done.\u001b[K\n",
            "remote: Total 283 (delta 8), reused 6 (delta 6), pack-reused 273 (from 1)\u001b[K\n",
            "Receiving objects: 100% (283/283), 260.31 MiB | 31.53 MiB/s, done.\n",
            "Resolving deltas: 100% (42/42), done.\n",
            "Updating files: 100% (54/54), done.\n",
            "total 36\n",
            "drwxr-xr-x 6 root root  4096 Nov 14 23:19  .\n",
            "drwxr-xr-x 7 root root  4096 Nov 14 23:19  ..\n",
            "drwxr-xr-x 5 root root  4096 Nov 14 23:19  Datasets\n",
            "drwxr-xr-x 2 root root  4096 Nov 14 23:19  document\n",
            "drwxr-xr-x 8 root root  4096 Nov 14 23:19  .git\n",
            "drwxr-xr-x 2 root root  4096 Nov 14 23:19 'jupyter notebook'\n",
            "-rw-r--r-- 1 root root 10321 Nov 14 23:19  README.md\n"
          ]
        }
      ]
    },
    {
      "cell_type": "markdown",
      "source": [
        "# **Import Libraries**\n",
        "\n",
        "\n",
        "\n"
      ],
      "metadata": {
        "id": "PAXH3kw-lhBp"
      }
    },
    {
      "cell_type": "code",
      "source": [
        "import torch\n",
        "import torch.nn as nn\n",
        "import torch.nn.functional as F\n",
        "from torch.nn import Linear\n",
        "import torch_geometric.nn as pyg_nn\n",
        "from torch_geometric.nn import GCNConv, GraphConv, SAGEConv, GATConv, ChebConv\n",
        "from torch_geometric.data import Data, DataLoader\n",
        "\n",
        "import numpy as np\n",
        "import pandas as pd\n",
        "import matplotlib.pyplot as plt\n",
        "\n",
        "# Set print options for better readability\n",
        "np.set_printoptions(precision=5, suppress=True)\n",
        "torch.set_printoptions(precision=5, sci_mode=False)\n"
      ],
      "metadata": {
        "id": "baBqQiLOjL_U"
      },
      "execution_count": 3,
      "outputs": []
    },
    {
      "cell_type": "code",
      "source": [
        "!pip install pandapower"
      ],
      "metadata": {
        "colab": {
          "base_uri": "https://localhost:8080/"
        },
        "id": "_d_kPAYJLXfp",
        "outputId": "38357985-d2bf-481f-aaaf-610a3a3ae7bc"
      },
      "execution_count": 4,
      "outputs": [
        {
          "output_type": "stream",
          "name": "stdout",
          "text": [
            "Collecting pandapower\n",
            "  Downloading pandapower-2.14.11.zip (13.2 MB)\n",
            "\u001b[2K     \u001b[90m━━━━━━━━━━━━━━━━━━━━━━━━━━━━━━━━━━━━━━━━\u001b[0m \u001b[32m13.2/13.2 MB\u001b[0m \u001b[31m48.1 MB/s\u001b[0m eta \u001b[36m0:00:00\u001b[0m\n",
            "\u001b[?25h  Preparing metadata (setup.py) ... \u001b[?25l\u001b[?25hdone\n",
            "Requirement already satisfied: pandas>=1.0 in /usr/local/lib/python3.10/dist-packages (from pandapower) (2.2.2)\n",
            "Requirement already satisfied: networkx>=2.5 in /usr/local/lib/python3.10/dist-packages (from pandapower) (3.4.2)\n",
            "Requirement already satisfied: scipy<1.14 in /usr/local/lib/python3.10/dist-packages (from pandapower) (1.13.1)\n",
            "Requirement already satisfied: numpy<2.0 in /usr/local/lib/python3.10/dist-packages (from pandapower) (1.26.4)\n",
            "Requirement already satisfied: packaging in /usr/local/lib/python3.10/dist-packages (from pandapower) (24.2)\n",
            "Requirement already satisfied: tqdm in /usr/local/lib/python3.10/dist-packages (from pandapower) (4.66.6)\n",
            "Collecting deepdiff (from pandapower)\n",
            "  Downloading deepdiff-8.0.1-py3-none-any.whl.metadata (8.5 kB)\n",
            "Requirement already satisfied: python-dateutil>=2.8.2 in /usr/local/lib/python3.10/dist-packages (from pandas>=1.0->pandapower) (2.8.2)\n",
            "Requirement already satisfied: pytz>=2020.1 in /usr/local/lib/python3.10/dist-packages (from pandas>=1.0->pandapower) (2024.2)\n",
            "Requirement already satisfied: tzdata>=2022.7 in /usr/local/lib/python3.10/dist-packages (from pandas>=1.0->pandapower) (2024.2)\n",
            "Collecting orderly-set==5.2.2 (from deepdiff->pandapower)\n",
            "  Downloading orderly_set-5.2.2-py3-none-any.whl.metadata (6.3 kB)\n",
            "Requirement already satisfied: six>=1.5 in /usr/local/lib/python3.10/dist-packages (from python-dateutil>=2.8.2->pandas>=1.0->pandapower) (1.16.0)\n",
            "Downloading deepdiff-8.0.1-py3-none-any.whl (82 kB)\n",
            "\u001b[2K   \u001b[90m━━━━━━━━━━━━━━━━━━━━━━━━━━━━━━━━━━━━━━━━\u001b[0m \u001b[32m82.7/82.7 kB\u001b[0m \u001b[31m6.6 MB/s\u001b[0m eta \u001b[36m0:00:00\u001b[0m\n",
            "\u001b[?25hDownloading orderly_set-5.2.2-py3-none-any.whl (11 kB)\n",
            "Building wheels for collected packages: pandapower\n",
            "  Building wheel for pandapower (setup.py) ... \u001b[?25l\u001b[?25hdone\n",
            "  Created wheel for pandapower: filename=pandapower-2.14.11-py3-none-any.whl size=13131028 sha256=ac27ba503485a96291612befa8bec6a75f5b5ebf6d8cfc8150d2e1f9518d1517\n",
            "  Stored in directory: /root/.cache/pip/wheels/7f/de/5a/7b00f385eb06d1fb1f7c1cd06f9bb901709c038d3899548cf1\n",
            "Successfully built pandapower\n",
            "Installing collected packages: orderly-set, deepdiff, pandapower\n",
            "Successfully installed deepdiff-8.0.1 orderly-set-5.2.2 pandapower-2.14.11\n"
          ]
        }
      ]
    },
    {
      "cell_type": "markdown",
      "source": [
        "# **Dataset Preparation**"
      ],
      "metadata": {
        "id": "NBWjoAqRoHaU"
      }
    },
    {
      "cell_type": "code",
      "source": [
        "import pandapower as pp\n",
        "import pandapower.networks as nw\n",
        "import torch\n",
        "import pandas as pd\n",
        "from torch_geometric.data import Data, DataLoader"
      ],
      "metadata": {
        "id": "xKA8rxaeLOzQ"
      },
      "execution_count": 5,
      "outputs": []
    },
    {
      "cell_type": "code",
      "source": [
        "from operator import is_\n",
        "def slice_dataset(dataset, percentage):\n",
        "    data_size = len(dataset)\n",
        "    return dataset[:int(data_size * percentage / 100)]\n",
        "\n",
        "def make_dataset(dataset, n_bus):\n",
        "    x_raw, y_raw = [], []\n",
        "\n",
        "    for i in range(len(dataset)):\n",
        "        x_sample, y_sample = [], []\n",
        "        for n in range(n_bus):\n",
        "            # Define bus type: Slack (1), PQ (2), PV (3)\n",
        "            is_pv = 0\n",
        "            is_pq = 0\n",
        "            is_slack = 0\n",
        "            if n == 0:  # Slack bus is always bus 0\n",
        "                is_slack = 1\n",
        "            elif dataset[i, 4 * n + 2] == 0:  # Q = 0 indicates PV bus\n",
        "                is_pv = 1\n",
        "            else:\n",
        "                is_pq = 1  # PQ bus\n",
        "\n",
        "            # Include P, Q, V, delta, and bus type as features\n",
        "            x_sample.append([\n",
        "                dataset[i, 4 * n + 1],  # P\n",
        "                dataset[i, 4 * n + 2],  # Q\n",
        "                dataset[i, 4 * n + 3],  # V\n",
        "                dataset[i, 4 * n + 4],  # delta\n",
        "                is_pv,                # Bus type\n",
        "                is_pq,\n",
        "                is_slack\n",
        "            ])\n",
        "\n",
        "            # Use P and Q as targets\n",
        "            y_sample.append([\n",
        "                # dataset[i, 4 * n + 1],  # P (target)\n",
        "                # dataset[i, 4 * n + 2],   # Q (target)\n",
        "                dataset[i, 4 * n + 3],   # V (target)\n",
        "                dataset[i, 4 * n + 4]   # D (target)\n",
        "            ])\n",
        "\n",
        "        x_raw.append(x_sample)\n",
        "        y_raw.append(y_sample)\n",
        "\n",
        "    # Convert to PyTorch tensors\n",
        "    x_raw = torch.tensor(x_raw, dtype=torch.float)\n",
        "    y_raw = torch.tensor(y_raw, dtype=torch.float)\n",
        "    return x_raw, y_raw\n"
      ],
      "metadata": {
        "id": "xqY7cbqkngcS"
      },
      "execution_count": 6,
      "outputs": []
    },
    {
      "cell_type": "code",
      "source": [
        "def normalize_dataset(x, y):\n",
        "    # Compute mean and standard deviation for features and targets\n",
        "    x_mean, x_std = torch.mean(x, 0), torch.std(x, 0)\n",
        "    y_mean, y_std = torch.mean(y, 0), torch.std(y, 0)\n",
        "\n",
        "    # Handle zero standard deviation to avoid division by zero\n",
        "    x_std[x_std == 0] = 1\n",
        "    y_std[y_std == 0] = 1\n",
        "\n",
        "    # Normalize the input features except for the bus type, Bus type should not be normalized as it is (1, 2, or 3)\n",
        "    x_norm = (x - x_mean) / x_std\n",
        "    x_norm[:, :, 4] = x[:, :, 4]\n",
        "\n",
        "    # Normalize the targets\n",
        "    y_norm = (y - y_mean) / y_std\n",
        "\n",
        "    return x_norm, y_norm, x_mean, y_mean, x_std, y_std\n",
        "\n",
        "def denormalize_output(y_norm, y_mean, y_std):\n",
        "    return y_norm * y_std + y_mean\n",
        "\n",
        "def MSE(yhat, y):\n",
        "    return torch.mean((yhat - y) ** 2)\n"
      ],
      "metadata": {
        "id": "IHHpynA4oRtO"
      },
      "execution_count": 7,
      "outputs": []
    },
    {
      "cell_type": "markdown",
      "source": [
        "# **Load Dataset**"
      ],
      "metadata": {
        "id": "5ESaGHxvmHAO"
      }
    },
    {
      "cell_type": "markdown",
      "source": [
        "# **14 Bus Only**"
      ],
      "metadata": {
        "id": "Dm_QSMHnh5qa"
      }
    },
    {
      "cell_type": "code",
      "source": [
        "import pandapower as pp\n",
        "import pandapower.networks as nw\n",
        "import torch\n",
        "import pandas as pd\n",
        "from torch_geometric.data import Data, DataLoader\n",
        "\n",
        "# Load dataset from Excel files\n",
        "dataset1 = pd.read_excel('/content/GNN-OptimalPowerFlow/Datasets/14Bus/PF_Dataset_1.xlsx').values\n",
        "dataset2 = pd.read_excel('/content/GNN-OptimalPowerFlow/Datasets/14Bus/PF_Dataset_2.xlsx').values\n",
        "\n",
        "# Split the dataset\n",
        "train_percentage = 100\n",
        "val_percentage = 100\n",
        "\n",
        "train_dataset = slice_dataset(dataset1, train_percentage)\n",
        "val_dataset = slice_dataset(dataset2, val_percentage)\n",
        "\n",
        "n_bus = 14\n",
        "\n",
        "# Prepare training and validation data\n",
        "x_raw_train, y_raw_train = make_dataset(train_dataset, n_bus)\n",
        "x_raw_val, y_raw_val = make_dataset(val_dataset, n_bus)\n",
        "\n",
        "# Normalize the raw data\n",
        "x_norm_train, y_norm_train, x_train_mean, y_train_mean, x_train_std, y_train_std = normalize_dataset(x_raw_train, y_raw_train)\n",
        "x_norm_val, y_norm_val, x_val_mean, y_val_mean, x_val_std, y_val_std = normalize_dataset(x_raw_val, y_raw_val)\n",
        "\n",
        "# Prepare DataLoader for PyTorch Geometric\n",
        "# Load the IEEE 14-bus test case using pandapower\n",
        "net = nw.case14()\n",
        "\n",
        "# Get the 'from_bus' and 'to_bus' for each line in the network\n",
        "from_buses = net.line['from_bus'].values\n",
        "to_buses = net.line['to_bus'].values\n",
        "\n",
        "# Construct the edge index (bidirectional edges)\n",
        "edge_index = torch.tensor([list(from_buses) + list(to_buses), list(to_buses) + list(from_buses)], dtype=torch.long)\n",
        "\n",
        "print(\"Edge Index for IEEE 14-bus System:\")\n",
        "print(edge_index)\n",
        "\n",
        "# Create Data objects for PyTorch Geometric\n",
        "train_data_list = [Data(x=x, y=y, edge_index=edge_index) for x, y in zip(x_norm_train, y_norm_train)]\n",
        "val_data_list = [Data(x=x, y=y, edge_index=edge_index) for x, y in zip(x_norm_val, y_norm_val)]\n",
        "\n",
        "# Prepare DataLoaders\n",
        "train_loader = DataLoader(train_data_list, batch_size=16)\n",
        "val_loader = DataLoader(val_data_list, batch_size=16)\n",
        "\n",
        "print(\"Data preparation completed successfully.\")\n"
      ],
      "metadata": {
        "colab": {
          "base_uri": "https://localhost:8080/"
        },
        "id": "Oxr4mBoojyA-",
        "outputId": "545a4c36-cb48-40dd-cad6-ac14d54fcb08"
      },
      "execution_count": 22,
      "outputs": [
        {
          "output_type": "stream",
          "name": "stdout",
          "text": [
            "Edge Index for IEEE 14-bus System:\n",
            "tensor([[ 0,  0,  1,  1,  1,  2,  3,  5,  5,  5,  8,  8,  9, 11, 12,  1,  4,  2,\n",
            "          3,  4,  3,  4, 10, 11, 12,  9, 13, 10, 12, 13],\n",
            "        [ 1,  4,  2,  3,  4,  3,  4, 10, 11, 12,  9, 13, 10, 12, 13,  0,  0,  1,\n",
            "          1,  1,  2,  3,  5,  5,  5,  8,  8,  9, 11, 12]])\n",
            "Data preparation completed successfully.\n"
          ]
        },
        {
          "output_type": "stream",
          "name": "stderr",
          "text": [
            "/usr/local/lib/python3.10/dist-packages/torch_geometric/deprecation.py:26: UserWarning: 'data.DataLoader' is deprecated, use 'loader.DataLoader' instead\n",
            "  warnings.warn(out)\n"
          ]
        }
      ]
    },
    {
      "cell_type": "markdown",
      "source": [
        "# **30 Bus Only**\n",
        "\n",
        "1. **Data Preparation:** Load and filter the dataset\n",
        "\n",
        "2. **Normalization:**\n",
        "Normalize the data (normalize_dataset)\n",
        "\n",
        "3. **Filter Constant Features:** Identify and remove constant features"
      ],
      "metadata": {
        "id": "duxl-KR0h-yT"
      }
    },
    {
      "cell_type": "code",
      "source": [
        "print(y_raw_train.shape)\n",
        "print(y_norm_train.shape)\n",
        "\n",
        "print(x_raw_train.shape)\n",
        "print(x_norm_train.shape)"
      ],
      "metadata": {
        "colab": {
          "base_uri": "https://localhost:8080/"
        },
        "id": "UtCPIW4MyITc",
        "outputId": "289c65aa-c57a-4d60-f044-00047998a99c"
      },
      "execution_count": 26,
      "outputs": [
        {
          "output_type": "stream",
          "name": "stdout",
          "text": [
            "torch.Size([2000, 57, 2])\n",
            "torch.Size([2000, 57, 2])\n",
            "torch.Size([2000, 57, 7])\n",
            "torch.Size([2000, 57, 7])\n"
          ]
        }
      ]
    },
    {
      "cell_type": "code",
      "source": [
        "import pandapower as pp\n",
        "import pandapower.networks as nw\n",
        "import torch\n",
        "import pandas as pd\n",
        "from torch_geometric.data import Data, DataLoader\n",
        "\n",
        "# Load dataset from Excel files\n",
        "dataset1 = pd.read_excel('/content/GNN-OptimalPowerFlow/Datasets/30Bus/PF_Dataset_1_10000.xlsx').values\n",
        "dataset2 = pd.read_excel('/content/GNN-OptimalPowerFlow/Datasets/30Bus/PF_Dataset_2_10000.xlsx').values\n",
        "\n",
        "# Split the dataset\n",
        "train_percentage = 100\n",
        "val_percentage = 20\n",
        "\n",
        "train_dataset = slice_dataset(dataset1, train_percentage)\n",
        "val_dataset = slice_dataset(dataset2, val_percentage)\n",
        "\n",
        "n_bus = 30\n",
        "\n",
        "# Prepare training and validation data\n",
        "x_raw_train, y_raw_train = make_dataset(train_dataset, n_bus)\n",
        "x_raw_val, y_raw_val = make_dataset(val_dataset, n_bus)\n",
        "\n",
        "# Normalize the raw data\n",
        "x_norm_train, y_norm_train, x_train_mean, y_train_mean, x_train_std, y_train_std = normalize_dataset(x_raw_train, y_raw_train)\n",
        "x_norm_val, y_norm_val, x_val_mean, y_val_mean, x_val_std, y_val_std = normalize_dataset(x_raw_val, y_raw_val)\n",
        "\n",
        "# Prepare DataLoader for PyTorch Geometric\n",
        "# Load the IEEE 30-bus test case using pandapower\n",
        "net = nw.case30()\n",
        "\n",
        "# Get the 'from_bus' and 'to_bus' for each line in the network\n",
        "from_buses = net.line['from_bus'].values\n",
        "to_buses = net.line['to_bus'].values\n",
        "\n",
        "# Construct the edge index (bidirectional edges)\n",
        "edge_index = torch.tensor([list(from_buses) + list(to_buses), list(to_buses) + list(from_buses)], dtype=torch.long)\n",
        "\n",
        "print(\"Edge Index for IEEE 30-bus System:\")\n",
        "print(edge_index)\n",
        "\n",
        "# Create Data objects for PyTorch Geometric\n",
        "train_data_list = [Data(x=x, y=y, edge_index=edge_index) for x, y in zip(x_norm_train, y_norm_train)]\n",
        "val_data_list = [Data(x=x, y=y, edge_index=edge_index) for x, y in zip(x_norm_val, y_norm_val)]\n",
        "\n",
        "# Prepare DataLoaders\n",
        "train_loader = DataLoader(train_data_list, batch_size=16)\n",
        "val_loader = DataLoader(val_data_list, batch_size=16)\n",
        "\n",
        "print(\"Data preparation completed successfully.\")\n"
      ],
      "metadata": {
        "colab": {
          "base_uri": "https://localhost:8080/"
        },
        "id": "LaQbb0UuLiUa",
        "outputId": "dddfcdf0-7e6e-4411-8935-6c94632bf512"
      },
      "execution_count": 40,
      "outputs": [
        {
          "output_type": "stream",
          "name": "stdout",
          "text": [
            "Edge Index for IEEE 30-bus System:\n",
            "tensor([[ 0,  0,  1,  2,  1,  1,  3,  4,  5,  5,  5,  5,  8,  8,  3, 11, 11, 11,\n",
            "         11, 13, 15, 14, 17, 18,  9,  9,  9,  9, 20, 14, 21, 22, 23, 24, 24, 27,\n",
            "         26, 26, 28,  7,  5,  1,  2,  3,  3,  4,  5,  5,  6,  6,  7,  8,  9, 10,\n",
            "          9, 11, 12, 13, 14, 15, 14, 16, 17, 18, 19, 19, 16, 20, 21, 21, 22, 23,\n",
            "         23, 24, 25, 26, 26, 28, 29, 29, 27, 27],\n",
            "        [ 1,  2,  3,  3,  4,  5,  5,  6,  6,  7,  8,  9, 10,  9, 11, 12, 13, 14,\n",
            "         15, 14, 16, 17, 18, 19, 19, 16, 20, 21, 21, 22, 23, 23, 24, 25, 26, 26,\n",
            "         28, 29, 29, 27, 27,  0,  0,  1,  2,  1,  1,  3,  4,  5,  5,  5,  5,  8,\n",
            "          8,  3, 11, 11, 11, 11, 13, 15, 14, 17, 18,  9,  9,  9,  9, 20, 14, 21,\n",
            "         22, 23, 24, 24, 27, 26, 26, 28,  7,  5]])\n",
            "Data preparation completed successfully.\n"
          ]
        },
        {
          "output_type": "stream",
          "name": "stderr",
          "text": [
            "/usr/local/lib/python3.10/dist-packages/torch_geometric/deprecation.py:26: UserWarning: 'data.DataLoader' is deprecated, use 'loader.DataLoader' instead\n",
            "  warnings.warn(out)\n"
          ]
        }
      ]
    },
    {
      "cell_type": "markdown",
      "source": [
        "# **57 Bus Only**"
      ],
      "metadata": {
        "id": "jkFs_7lLiDgc"
      }
    },
    {
      "cell_type": "code",
      "source": [
        "import pandapower as pp\n",
        "import pandapower.networks as nw\n",
        "import torch\n",
        "import pandas as pd\n",
        "from torch_geometric.data import Data, DataLoader\n",
        "\n",
        "# Load datasets\n",
        "dataset1 = pd.read_excel('/content/GNN-OptimalPowerFlow/Datasets/57Bus/PF_Dataset_1_10000.xlsx').values\n",
        "dataset2 = pd.read_excel('/content/GNN-OptimalPowerFlow/Datasets/57Bus/PF_Dataset_2_10000.xlsx').values\n",
        "\n",
        "# Split the dataset\n",
        "train_percentage = 100\n",
        "val_percentage = 20\n",
        "\n",
        "train_dataset = slice_dataset(dataset1, train_percentage)\n",
        "val_dataset = slice_dataset(dataset2, val_percentage)\n",
        "\n",
        "n_bus = 57\n",
        "\n",
        "# Prepare training and validation data\n",
        "x_raw_train, y_raw_train = make_dataset(train_dataset, n_bus)\n",
        "x_raw_val, y_raw_val = make_dataset(val_dataset, n_bus)\n",
        "\n",
        "# Normalize the raw data\n",
        "x_norm_train, y_norm_train, x_train_mean, y_train_mean, x_train_std, y_train_std = normalize_dataset(x_raw_train, y_raw_train)\n",
        "x_norm_val, y_norm_val, x_val_mean, y_val_mean, x_val_std, y_val_std = normalize_dataset(x_raw_val, y_raw_val)\n",
        "\n",
        "# Prepare DataLoader for PyTorch Geometric\n",
        "# Load the IEEE 57-bus test case using pandapower\n",
        "net = nw.case57()\n",
        "\n",
        "# Get the 'from_bus' and 'to_bus' for each line in the network\n",
        "from_buses = net.line['from_bus'].values\n",
        "to_buses = net.line['to_bus'].values\n",
        "\n",
        "# Construct the edge index (bidirectional edges)\n",
        "edge_index = torch.tensor([list(from_buses) + list(to_buses), list(to_buses) + list(from_buses)], dtype=torch.long)\n",
        "\n",
        "print(\"Edge Index for IEEE 57-bus System:\")\n",
        "print(edge_index)\n",
        "\n",
        "# Create Data objects for PyTorch Geometric\n",
        "train_data_list = [Data(x=x, y=y, edge_index=edge_index) for x, y in zip(x_norm_train, y_norm_train)]\n",
        "val_data_list = [Data(x=x, y=y, edge_index=edge_index) for x, y in zip(x_norm_val, y_norm_val)]\n",
        "\n",
        "# Prepare DataLoaders\n",
        "train_loader = DataLoader(train_data_list, batch_size=16)\n",
        "val_loader = DataLoader(val_data_list, batch_size=16)\n",
        "\n",
        "print(\"Data preparation completed successfully.\")\n"
      ],
      "metadata": {
        "colab": {
          "base_uri": "https://localhost:8080/"
        },
        "id": "7W8Sef5XiCt-",
        "outputId": "74b0f0c5-ef23-4da8-c342-977bcb10412a"
      },
      "execution_count": 8,
      "outputs": [
        {
          "output_type": "stream",
          "name": "stdout",
          "text": [
            "Edge Index for IEEE 57-bus System:\n",
            "tensor([[ 0,  1,  2,  3,  3,  5,  5,  7,  8,  8,  8,  8, 12, 12,  0,  0,  0,  2,\n",
            "          4,  6,  9, 10, 11, 11, 11, 13, 17, 18, 20, 21, 22, 25, 26, 27, 24, 29,\n",
            "         30, 31, 33, 34, 35, 36, 36, 35, 21, 40, 40, 37, 45, 46, 47, 48, 49, 28,\n",
            "         51, 52, 53, 43, 55, 55, 56, 37, 37,  1,  2,  3,  4,  5,  6,  7,  8,  9,\n",
            "         10, 11, 12, 13, 14, 14, 15, 16, 14,  5,  7, 11, 12, 12, 15, 16, 14, 18,\n",
            "         19, 21, 22, 23, 26, 27, 28, 29, 30, 31, 32, 34, 35, 36, 37, 38, 39, 37,\n",
            "         41, 42, 43, 46, 47, 48, 49, 50, 51, 52, 53, 54, 44, 40, 41, 55, 48, 47],\n",
            "        [ 1,  2,  3,  4,  5,  6,  7,  8,  9, 10, 11, 12, 13, 14, 14, 15, 16, 14,\n",
            "          5,  7, 11, 12, 12, 15, 16, 14, 18, 19, 21, 22, 23, 26, 27, 28, 29, 30,\n",
            "         31, 32, 34, 35, 36, 37, 38, 39, 37, 41, 42, 43, 46, 47, 48, 49, 50, 51,\n",
            "         52, 53, 54, 44, 40, 41, 55, 48, 47,  0,  1,  2,  3,  3,  5,  5,  7,  8,\n",
            "          8,  8,  8, 12, 12,  0,  0,  0,  2,  4,  6,  9, 10, 11, 11, 11, 13, 17,\n",
            "         18, 20, 21, 22, 25, 26, 27, 24, 29, 30, 31, 33, 34, 35, 36, 36, 35, 21,\n",
            "         40, 40, 37, 45, 46, 47, 48, 49, 28, 51, 52, 53, 43, 55, 55, 56, 37, 37]])\n",
            "Data preparation completed successfully.\n"
          ]
        },
        {
          "output_type": "stream",
          "name": "stderr",
          "text": [
            "/usr/local/lib/python3.10/dist-packages/torch_geometric/deprecation.py:26: UserWarning: 'data.DataLoader' is deprecated, use 'loader.DataLoader' instead\n",
            "  warnings.warn(out)\n"
          ]
        }
      ]
    },
    {
      "cell_type": "markdown",
      "source": [
        "# **Define Initial GNN Model**\n",
        "\n",
        "We will use a simple GCN as the first model and later extend it to include other GNN topologies:"
      ],
      "metadata": {
        "id": "IwMNOyWDpPIQ"
      }
    },
    {
      "cell_type": "code",
      "source": [
        "import torch\n",
        "import torch.nn as nn\n",
        "import torch.nn.functional as F\n",
        "from torch_geometric.nn import GCNConv\n",
        "\n",
        "class My_GNN_Model(nn.Module):\n",
        "    def __init__(self, in_channels=7, hidden_channels=8, out_channels=2):\n",
        "        super(My_GNN_Model, self).__init__()\n",
        "        self.hidden_channels = hidden_channels\n",
        "\n",
        "        # the GNN layers\n",
        "        self.conv1 = GCN(in_channels, hidden_channels)\n",
        "        self.conv2 = GCN(hidden_channels, hidden_channels)\n",
        "\n",
        "        # the output GNN layer for direct prediction\n",
        "        self.conv_out = GCN(hidden_channels, out_channels)\n",
        "\n",
        "        if out_channels is None:\n",
        "            out_channels = 2\n",
        "\n",
        "        self.lin = Linear(hidden_channels * n_bus, out_channels * n_bus)\n",
        "\n",
        "\n",
        "    def forward(self, data):\n",
        "\n",
        "\n",
        "        x, edge_index = data.x, data.edge_index\n",
        "\n",
        "        # GCN layers with ReLU activation\n",
        "        x = F.relu(self.conv1(x, edge_index))\n",
        "        x = F.relu(self.conv2(x, edge_index))\n",
        "\n",
        "        # Reshape x for the Linear layer\n",
        "        batch_size = data.num_graphs  # be 8\n",
        "        x = x.view(batch_size, n_bus * self.hidden_channels)\n",
        "\n",
        "        # output Linear layer\n",
        "        x = self.lin(x)\n",
        "\n",
        "        # Reshape to get the final output shape\n",
        "        return x.view(batch_size * n_bus, 2)\n",
        "\n",
        "\n",
        "# Initialize the model\n",
        "model = My_GNN_Model(in_channels=7, out_channels=2)\n"
      ],
      "metadata": {
        "id": "tjqoOjKEu8bJ"
      },
      "execution_count": 41,
      "outputs": []
    },
    {
      "cell_type": "code",
      "source": [
        "print(y_pred.shape)\n",
        "print(y_val_mean.shape)\n",
        "print(y_val_std.shape)"
      ],
      "metadata": {
        "colab": {
          "base_uri": "https://localhost:8080/",
          "height": 176
        },
        "id": "ofHG-SUh1wNu",
        "outputId": "1ba3e4cd-affb-4b76-ced5-db85ecf4c7b1"
      },
      "execution_count": null,
      "outputs": [
        {
          "output_type": "error",
          "ename": "NameError",
          "evalue": "name 'y_pred' is not defined",
          "traceback": [
            "\u001b[0;31m---------------------------------------------------------------------------\u001b[0m",
            "\u001b[0;31mNameError\u001b[0m                                 Traceback (most recent call last)",
            "\u001b[0;32m<ipython-input-21-ceb5c6fe59d9>\u001b[0m in \u001b[0;36m<cell line: 1>\u001b[0;34m()\u001b[0m\n\u001b[0;32m----> 1\u001b[0;31m \u001b[0mprint\u001b[0m\u001b[0;34m(\u001b[0m\u001b[0my_pred\u001b[0m\u001b[0;34m.\u001b[0m\u001b[0mshape\u001b[0m\u001b[0;34m)\u001b[0m\u001b[0;34m\u001b[0m\u001b[0;34m\u001b[0m\u001b[0m\n\u001b[0m\u001b[1;32m      2\u001b[0m \u001b[0mprint\u001b[0m\u001b[0;34m(\u001b[0m\u001b[0my_val_mean\u001b[0m\u001b[0;34m.\u001b[0m\u001b[0mshape\u001b[0m\u001b[0;34m)\u001b[0m\u001b[0;34m\u001b[0m\u001b[0;34m\u001b[0m\u001b[0m\n\u001b[1;32m      3\u001b[0m \u001b[0mprint\u001b[0m\u001b[0;34m(\u001b[0m\u001b[0my_val_std\u001b[0m\u001b[0;34m.\u001b[0m\u001b[0mshape\u001b[0m\u001b[0;34m)\u001b[0m\u001b[0;34m\u001b[0m\u001b[0;34m\u001b[0m\u001b[0m\n",
            "\u001b[0;31mNameError\u001b[0m: name 'y_pred' is not defined"
          ]
        }
      ]
    },
    {
      "cell_type": "markdown",
      "source": [
        "# **Initial Training Loop**"
      ],
      "metadata": {
        "id": "B0345-HgpZa8"
      }
    },
    {
      "cell_type": "code",
      "source": [
        "# Optimizer with L2 regularization (weight decay)\n",
        "lambda_l2 = 1e-6  # L2 regularization\n",
        "\n",
        "optimizer = torch.optim.Adam(model.parameters(), lr=5e-5, weight_decay=lambda_l2)\n",
        "\n",
        "# Learning rate scheduler\n",
        "scheduler = torch.optim.lr_scheduler.ReduceLROnPlateau(optimizer, mode='min', factor=0.5, patience=20, verbose=True)\n",
        "\n",
        "epochs = 30\n",
        "\n",
        "for epoch in range(epochs):\n",
        "    model.train()\n",
        "    total_loss = 0.0  # Track the total loss for the epoch\n",
        "\n",
        "    for batch in train_loader:\n",
        "        optimizer.zero_grad()\n",
        "\n",
        "        # Forward pass\n",
        "        y_pred = model(batch)\n",
        "        target = batch.y  # Use only the filtered target features\n",
        "\n",
        "        # Reshape y_pred to have the shape [batch_size * n_bus, 2]\n",
        "        batch_size = batch.num_graphs\n",
        "        y_pred = y_pred.view(batch_size * n_bus, 2)\n",
        "\n",
        "        # Expand y_val_mean and y_val_std to match the batch size\n",
        "        y_val_mean_expanded = y_val_mean.repeat(batch_size, 1)\n",
        "        y_val_std_expanded = y_val_std.repeat(batch_size, 1)\n",
        "\n",
        "        # Compute loss using the expanded mean and std\n",
        "        loss = MSE(\n",
        "            denormalize_output(y_pred, y_val_mean_expanded, y_val_std_expanded),\n",
        "            denormalize_output(target, y_val_mean_expanded, y_val_std_expanded)\n",
        "        )\n",
        "\n",
        "        # Backpropagation\n",
        "        loss.backward()\n",
        "        optimizer.step()\n",
        "\n",
        "        # Accumulate the loss for reporting\n",
        "        total_loss += loss.item()\n",
        "\n",
        "    # Print the average loss for each epoch\n",
        "    avg_loss = total_loss / len(train_loader)\n",
        "\n",
        "    # Step the scheduler based on the average loss\n",
        "    scheduler.step(avg_loss)\n",
        "\n",
        "    print(f\"Epoch {epoch + 1}, Average Loss: {avg_loss:.6f}\")\n"
      ],
      "metadata": {
        "colab": {
          "base_uri": "https://localhost:8080/"
        },
        "id": "RIsTcrjHxHKQ",
        "outputId": "7af7a850-a156-4c62-e816-d0c9649ec84a"
      },
      "execution_count": 42,
      "outputs": [
        {
          "output_type": "stream",
          "name": "stderr",
          "text": [
            "/usr/local/lib/python3.10/dist-packages/torch/optim/lr_scheduler.py:62: UserWarning: The verbose parameter is deprecated. Please use get_last_lr() to access the learning rate.\n",
            "  warnings.warn(\n"
          ]
        },
        {
          "output_type": "stream",
          "name": "stdout",
          "text": [
            "Epoch 1, Average Loss: 0.228723\n",
            "Epoch 2, Average Loss: 0.055655\n",
            "Epoch 3, Average Loss: 0.037215\n",
            "Epoch 4, Average Loss: 0.025824\n",
            "Epoch 5, Average Loss: 0.017600\n",
            "Epoch 6, Average Loss: 0.012294\n",
            "Epoch 7, Average Loss: 0.008938\n",
            "Epoch 8, Average Loss: 0.006682\n",
            "Epoch 9, Average Loss: 0.005070\n",
            "Epoch 10, Average Loss: 0.003879\n",
            "Epoch 11, Average Loss: 0.002983\n",
            "Epoch 12, Average Loss: 0.002306\n",
            "Epoch 13, Average Loss: 0.001800\n",
            "Epoch 14, Average Loss: 0.001429\n",
            "Epoch 15, Average Loss: 0.001160\n",
            "Epoch 16, Average Loss: 0.000964\n",
            "Epoch 17, Average Loss: 0.000818\n",
            "Epoch 18, Average Loss: 0.000705\n",
            "Epoch 19, Average Loss: 0.000615\n",
            "Epoch 20, Average Loss: 0.000542\n",
            "Epoch 21, Average Loss: 0.000481\n",
            "Epoch 22, Average Loss: 0.000430\n",
            "Epoch 23, Average Loss: 0.000385\n",
            "Epoch 24, Average Loss: 0.000347\n",
            "Epoch 25, Average Loss: 0.000314\n",
            "Epoch 26, Average Loss: 0.000285\n",
            "Epoch 27, Average Loss: 0.000260\n",
            "Epoch 28, Average Loss: 0.000238\n",
            "Epoch 29, Average Loss: 0.000218\n",
            "Epoch 30, Average Loss: 0.000201\n"
          ]
        }
      ]
    },
    {
      "cell_type": "markdown",
      "source": [
        "# **Topologies to Test:**\n",
        "The following topologies will be tested to compare the effectiveness of different GNN architecture.\n",
        "\n",
        "Each topology offers different strengths, such as handling local versus long-range relationships, incorporating attention mechanisms, and scaling to larger grid sizes.\n",
        "\n",
        "1. **Graph Convolutional Networks (GCN):**\n",
        "\n",
        " GCN is a basic form of GNN where each node aggregates features from its immediate neighbors. It’s simplicity makes it a good first model. It is widely used for node classification and regression tasks. GCN will serves as a baseline model that can handle local relationships effectively but may struggle with long-range dependencies.\n",
        "\n",
        "2. **Graph Attention Networks (GAT):**\n",
        "'GATConv'\n",
        "\n",
        "GAT assigns different attention weights to each neighboring node during aggregation and help the network focus on the most important nodes. It allows dynamic weighting of neighbors, which is useful when certain nodes (like generator buses) have more influence\n",
        "in OPF.\n",
        "\n",
        "3. **Chebyshev Networks (ChebNet):**\n",
        "'ChebConv'\n",
        "\n",
        "ChebNet approximates graph convolutions using Chebyshev polynomials and can capture information from nodes multiple hops away without needing many layers. ChebNet can effectively model multi-hop relationships while reducing the need for deep GCNs, which is important for capturing system-wide behavior in the grid.\n",
        "\n",
        "4. **GraphSAGE (SAmple and aggreGatE):**\n",
        "'SAGEConv'\n",
        "\n",
        "GraphSAGE is designed for inductive learning and allows us to sample a fixed-size neighborhood of nodes which will make it scalable to large graphs.\n",
        "GraphSAGE could be useful for OPF tasks in large power grids, as it can efficiently scale to larger\n",
        "networks.\n",
        "\n",
        "5. **GraphConv (GraphConv):**\n",
        "\n",
        "GraphConv is designed to enhance feature learning by incorporating self-loops (each node aggregates its own feature along with its neighbors).\n",
        "It performs a weighted sum of neighbor features, including the node’s own feature. This helps in capturing more node-specific information.\n",
        "It is useful when self-loops or enhanced node feature aggregation can improve model performance. It might perform better on grids where local node information (like generator buses) is crucial.\n",
        "\n",
        "6. **Multi-Head Graph Attention Networks (MH-GAT):**\n",
        "\n",
        "Multi-head attention computes multiple\n",
        "attention distributions in parallel, capturing various aspects of node relationships. This topology\n",
        "could be valuable for learning different aspects of node and edge interactions, especially when OPF\n",
        "solutions are influenced by both local and distant nodes"
      ],
      "metadata": {
        "id": "edjbvxFqU8dK"
      }
    },
    {
      "cell_type": "markdown",
      "source": [
        "# **Experiment Order:** (and an Idea for the comparison paper?)"
      ],
      "metadata": {
        "id": "BTFYOHpKWwj3"
      }
    },
    {
      "cell_type": "markdown",
      "source": [
        "**Baseline:** GCN (to set a benchmark).\n",
        "\n",
        "**Attention-Based:** GATConv (to see if attention helps in OPF tasks).\n",
        "\n",
        "**Multi-Hop Relationship:** ChebConv (to model long-range dependencies).\n",
        "\n",
        "**Scalability Test:** SAGEConv (to see how well it scales to larger bus systems).\n",
        "\n",
        "**Enhanced Node Feature Learning:** GraphConv (to check if self-loops improve performance)."
      ],
      "metadata": {
        "id": "Dp6u3VjWWLxq"
      }
    },
    {
      "cell_type": "code",
      "source": [
        "class My_GNN_GNN_NN(nn.Module):\n",
        "    def __init__(self, node_size, feat_in, feat_size1, feat_size2, hidden_size1, output_size, gnn_type='GCN', dropout=0, use_batch_norm=False):\n",
        "        super(My_GNN_GNN_NN, self).__init__()\n",
        "\n",
        "        self.use_batch_norm = use_batch_norm\n",
        "        self.node_size = node_size\n",
        "        self.feat_size2 = feat_size2\n",
        "\n",
        "        # GNN Layer Selection\n",
        "        if gnn_type == 'GCN':\n",
        "            self.conv1 = GCNConv(feat_in, feat_size1)\n",
        "            self.conv2 = GCNConv(feat_size1, feat_size2)\n",
        "        elif gnn_type == 'GraphConv':\n",
        "            self.conv1 = GraphConv(feat_in, feat_size1)\n",
        "            self.conv2 = GraphConv(feat_size1, feat_size2)\n",
        "        elif gnn_type == 'SAGEConv':\n",
        "            self.conv1 = SAGEConv(feat_in, feat_size1)\n",
        "            self.conv2 = SAGEConv(feat_size1, feat_size2)\n",
        "        elif gnn_type == 'GATConv':\n",
        "            self.conv1 = GATConv(feat_in, feat_size1)\n",
        "            self.conv2 = GATConv(feat_size1, feat_size2)\n",
        "        elif gnn_type == 'ChebConv':\n",
        "            self.conv1 = ChebConv(feat_in, feat_size1, K=2)\n",
        "            self.conv2 = ChebConv(feat_size1, feat_size2, K=2)\n",
        "        else:\n",
        "            raise ValueError(\"Invalid GNN type. Choose from 'GCN', 'GraphConv', 'SAGEConv', 'GATConv', 'ChebConv'.\")\n",
        "\n",
        "        # Batch Normalization Layers\n",
        "        if use_batch_norm:\n",
        "            self.bn1 = nn.BatchNorm1d(feat_size1)\n",
        "            self.bn2 = nn.BatchNorm1d(feat_size2)\n",
        "\n",
        "        # Fully Connected Layers\n",
        "        self.lin1 = nn.Linear(node_size * feat_size2, hidden_size1)\n",
        "        self.lin2 = nn.Linear(hidden_size1, output_size)\n",
        "\n",
        "        # Dropout Layer\n",
        "        self.dropout = nn.Dropout(dropout)\n",
        "\n",
        "    def forward(self, data):\n",
        "        x, edge_index = data.x, data.edge_index\n",
        "        batch_size = data.num_graphs\n",
        "\n",
        "        # GNN Layer 1\n",
        "        x = self.conv1(x, edge_index)\n",
        "        if self.use_batch_norm:\n",
        "            x = self.bn1(x)\n",
        "        x = self.dropout(x)\n",
        "        x = F.relu(x)\n",
        "\n",
        "        # GNN Layer 2\n",
        "        x = self.conv2(x, edge_index)\n",
        "        if self.use_batch_norm:\n",
        "            x = self.bn2(x)\n",
        "        x = self.dropout(x)\n",
        "        x = F.relu(x)\n",
        "\n",
        "        # Reshape x for the Fully Connected layer\n",
        "        x = x.view(batch_size, self.node_size * self.feat_size2)\n",
        "\n",
        "        # Fully Connected Layers\n",
        "        x = F.relu(self.lin1(x))\n",
        "        x = self.lin2(x)\n",
        "\n",
        "        return x\n",
        "\n",
        "    def save_weights(self, filename):\n",
        "        torch.save(self.state_dict(), filename)\n",
        "\n",
        "    def load_weights(self, filename):\n",
        "        self.load_state_dict(torch.load(filename))\n",
        "        self.eval()\n"
      ],
      "metadata": {
        "id": "vL4Pdhz51I1A"
      },
      "execution_count": 43,
      "outputs": []
    },
    {
      "cell_type": "markdown",
      "source": [
        "# **Model Initialization**"
      ],
      "metadata": {
        "id": "lM4NMS22ggeT"
      }
    },
    {
      "cell_type": "code",
      "source": [
        "# Define hyperparameters\n",
        "feat_in = 7  # Number of input features per node (P, Q, V, delta, bus type)\n",
        "feat_size1 = 12  # Size of the first GNN layer 16\n",
        "feat_size2 = 12   # Size of the second GNN layer 8\n",
        "hidden_size1 = 128  # Size of the first fully connected layer\n",
        "output_size = n_bus * 2  # Output size\n",
        "gnn_type = 'GCN'  # Choose from 'GCN', 'GraphConv', 'SAGEConv', 'GATConv', 'ChebConv'\n",
        "dropout = 0 # Dropout rate\n",
        "use_batch_norm = True  # Use Batch Normalization\n",
        "\n",
        "# Initialize the model with specified hyperparameters\n",
        "model = My_GNN_GNN_NN(\n",
        "    node_size=n_bus,\n",
        "    feat_in=feat_in,\n",
        "    feat_size1=feat_size1,\n",
        "    feat_size2=feat_size2,\n",
        "    hidden_size1=hidden_size1,\n",
        "    output_size=output_size,\n",
        "    gnn_type=gnn_type,\n",
        "    dropout=dropout,\n",
        "    use_batch_norm=use_batch_norm\n",
        ")\n",
        "\n",
        "# Print model details for verification\n",
        "print(\"Initialized Model:\")\n",
        "print(model)\n",
        "\n",
        "# The optimizer and learning rate scheduler\n",
        "learning_rate = 5e-5 #1e-4\n",
        "lambda_l2 = 1e-6  # L2 regularization strength\n",
        "\n",
        "optimizer = torch.optim.Adam(model.parameters(), lr=learning_rate, weight_decay=lambda_l2)\n",
        "scheduler = torch.optim.lr_scheduler.ReduceLROnPlateau(\n",
        "    optimizer, mode='min', factor=0.5, patience=30, verbose=True\n",
        ")\n",
        "\n",
        "# Print model parameter details\n",
        "print(\"\\nModel Parameters:\")\n",
        "for name, param in model.named_parameters():\n",
        "    if param.requires_grad:\n",
        "        print(f\"{name}: {param.size()}\")\n",
        "\n",
        "# Calculate the total number of trainable parameters\n",
        "total_params = sum(p.numel() for p in model.parameters() if p.requires_grad)\n",
        "print(f\"\\nTotal number of trainable parameters: {total_params:,}\")"
      ],
      "metadata": {
        "colab": {
          "base_uri": "https://localhost:8080/"
        },
        "id": "cFdksTBy3xJk",
        "outputId": "f4c534f0-1541-40c2-c78f-7556d93f704b"
      },
      "execution_count": 44,
      "outputs": [
        {
          "output_type": "stream",
          "name": "stdout",
          "text": [
            "Initialized Model:\n",
            "My_GNN_GNN_NN(\n",
            "  (conv1): GCNConv(7, 12)\n",
            "  (conv2): GCNConv(12, 12)\n",
            "  (bn1): BatchNorm1d(12, eps=1e-05, momentum=0.1, affine=True, track_running_stats=True)\n",
            "  (bn2): BatchNorm1d(12, eps=1e-05, momentum=0.1, affine=True, track_running_stats=True)\n",
            "  (lin1): Linear(in_features=360, out_features=128, bias=True)\n",
            "  (lin2): Linear(in_features=128, out_features=60, bias=True)\n",
            "  (dropout): Dropout(p=0, inplace=False)\n",
            ")\n",
            "\n",
            "Model Parameters:\n",
            "conv1.bias: torch.Size([12])\n",
            "conv1.lin.weight: torch.Size([12, 7])\n",
            "conv2.bias: torch.Size([12])\n",
            "conv2.lin.weight: torch.Size([12, 12])\n",
            "bn1.weight: torch.Size([12])\n",
            "bn1.bias: torch.Size([12])\n",
            "bn2.weight: torch.Size([12])\n",
            "bn2.bias: torch.Size([12])\n",
            "lin1.weight: torch.Size([128, 360])\n",
            "lin1.bias: torch.Size([128])\n",
            "lin2.weight: torch.Size([60, 128])\n",
            "lin2.bias: torch.Size([60])\n",
            "\n",
            "Total number of trainable parameters: 54,248\n"
          ]
        },
        {
          "output_type": "stream",
          "name": "stderr",
          "text": [
            "/usr/local/lib/python3.10/dist-packages/torch/optim/lr_scheduler.py:62: UserWarning: The verbose parameter is deprecated. Please use get_last_lr() to access the learning rate.\n",
            "  warnings.warn(\n"
          ]
        }
      ]
    },
    {
      "cell_type": "markdown",
      "source": [
        "# **Hyperparameters Save**"
      ],
      "metadata": {
        "id": "Ea-koONh8CGh"
      }
    },
    {
      "cell_type": "code",
      "source": [
        "import json\n",
        "\n",
        "hyperparams = {\n",
        "    \"Number of Buses\": n_bus,\n",
        "    \"Learning Rate\": learning_rate,\n",
        "    \"L2 Regularization (Lambda)\": lambda_l2,\n",
        "    \"Dropout Rate\": dropout,\n",
        "    \"Use Batch Norm\": use_batch_norm,\n",
        "    \"Input Features\": feat_in,\n",
        "    \"GNN Layer 1 Size\": feat_size1,\n",
        "    \"GNN Layer 2 Size\": feat_size2,\n",
        "    \"Hidden Layer Size (FC)\": hidden_size1,\n",
        "    \"Output Size\": output_size,\n",
        "    \"GNN Type\": gnn_type,\n",
        "    \"Number of GNN Layers\": 2,  # Since we have two GNN layers (conv1 and conv2)\n",
        "    \"Number of Fully Connected Layers\": 2,  # lin1 and lin2\n",
        "    \"Total Trainable Parameters\": total_params,\n",
        "}\n",
        "\n",
        "# Print the hyperparameters\n",
        "print(\"\\nHyperparameters Summary:\")\n",
        "for key, value in hyperparams.items():\n",
        "    print(f\"{key}: {value}\")\n",
        "\n",
        "json_filename = f\"[{n_bus} bus] Model_Hyperparameters.json\"\n",
        "\n",
        "# Save the hyperparameters\n",
        "with open(json_filename, \"w\") as file:\n",
        "    json.dump(hyperparams, file, indent=4)\n",
        "\n",
        "print(f\"\\nHyperparameters saved to '{json_filename}'.\")\n"
      ],
      "metadata": {
        "colab": {
          "base_uri": "https://localhost:8080/"
        },
        "id": "ePbEFeTF8Edn",
        "outputId": "883c13d0-bb90-4f41-94de-098e3425bcd9"
      },
      "execution_count": 45,
      "outputs": [
        {
          "output_type": "stream",
          "name": "stdout",
          "text": [
            "\n",
            "Hyperparameters Summary:\n",
            "Number of Buses: 30\n",
            "Learning Rate: 5e-05\n",
            "L2 Regularization (Lambda): 1e-06\n",
            "Dropout Rate: 0\n",
            "Use Batch Norm: True\n",
            "Input Features: 7\n",
            "GNN Layer 1 Size: 12\n",
            "GNN Layer 2 Size: 12\n",
            "Hidden Layer Size (FC): 128\n",
            "Output Size: 60\n",
            "GNN Type: GCN\n",
            "Number of GNN Layers: 2\n",
            "Number of Fully Connected Layers: 2\n",
            "Total Trainable Parameters: 54248\n",
            "\n",
            "Hyperparameters saved to '[30 bus] Model_Hyperparameters.json'.\n"
          ]
        }
      ]
    },
    {
      "cell_type": "markdown",
      "source": [
        "# **Enhanced Training Loop**"
      ],
      "metadata": {
        "id": "9IniYKPphG0I"
      }
    },
    {
      "cell_type": "code",
      "source": [
        "# Initialize lists to store loss values\n",
        "train_loss_list, val_loss_list = [], []\n",
        "\n",
        "# Early stopping parameters\n",
        "patience_count = 100\n",
        "count = 0\n",
        "best_epoch = 0\n",
        "lossMin = float('inf')\n",
        "\n",
        "# Learning rate scheduler\n",
        "scheduler = torch.optim.lr_scheduler.ReduceLROnPlateau(optimizer, mode='min', factor=0.5, patience=20, verbose=True)\n",
        "\n",
        "# Training loop\n",
        "for epoch in range(800):  # Number of epochs\n",
        "    model.train()\n",
        "    train_loss = 0.0\n",
        "\n",
        "    # Training phase\n",
        "    for batch in train_loader:\n",
        "        optimizer.zero_grad()\n",
        "\n",
        "        # Get the batch size\n",
        "        batch_size = batch.num_graphs\n",
        "\n",
        "        # Expand y_val_mean and y_val_std to match the batch size\n",
        "        y_val_mean_expanded = y_val_mean.view(-1).repeat(batch_size)\n",
        "        y_val_std_expanded = y_val_std.view(-1).repeat(batch_size)\n",
        "\n",
        "        # Forward pass\n",
        "        y_pred = model(batch)\n",
        "        y_pred = y_pred.view(-1)  # Flatten predictions\n",
        "\n",
        "        # Compute loss using the expanded mean and std\n",
        "        loss = MSE(\n",
        "            denormalize_output(y_pred, y_val_mean_expanded, y_val_std_expanded),\n",
        "            denormalize_output(batch.y.view(-1), y_val_mean_expanded, y_val_std_expanded)\n",
        "        )\n",
        "\n",
        "        # Backpropagation\n",
        "        loss.backward()\n",
        "        optimizer.step()\n",
        "\n",
        "        # Accumulate loss\n",
        "        train_loss += loss.item() * batch.num_graphs\n",
        "\n",
        "    # average training loss\n",
        "    train_loss /= len(train_loader.dataset)\n",
        "    train_loss_list.append(train_loss)\n",
        "\n",
        "    # Validation phase\n",
        "    model.eval()\n",
        "    val_loss = 0.0\n",
        "    with torch.no_grad():\n",
        "        for batch in val_loader:\n",
        "            # Get the batch size for validation\n",
        "            batch_size = batch.num_graphs\n",
        "\n",
        "            # Expand y_val_mean and y_val_std to match the batch size\n",
        "            y_val_mean_expanded = y_val_mean.view(-1).repeat(batch_size)\n",
        "            y_val_std_expanded = y_val_std.view(-1).repeat(batch_size)\n",
        "\n",
        "            # Forward pass for validation\n",
        "            y_val_pred = model(batch)\n",
        "            y_val_pred = y_val_pred.view(-1)\n",
        "\n",
        "            # Compute validation loss using expanded mean and std\n",
        "            loss = MSE(\n",
        "                denormalize_output(y_val_pred, y_val_mean_expanded, y_val_std_expanded),\n",
        "                denormalize_output(batch.y.view(-1), y_val_mean_expanded, y_val_std_expanded)\n",
        "            )\n",
        "            val_loss += loss.item() * batch.num_graphs\n",
        "\n",
        "    # Compute average validation loss\n",
        "    val_loss /= len(val_loader.dataset)\n",
        "    val_loss_list.append(val_loss)\n",
        "\n",
        "    # Learning rate adjustment based on validation loss\n",
        "    scheduler.step(val_loss)\n",
        "\n",
        "    # Early stopping mechanism\n",
        "    if val_loss < lossMin:\n",
        "        lossMin = val_loss\n",
        "        count = 0\n",
        "        best_epoch = epoch\n",
        "        best_train_loss = train_loss\n",
        "        best_val_loss = val_loss\n",
        "\n",
        "        # Save the best model weights\n",
        "        model_filename = f\"[{n_bus} bus] Best_GNN_GNN_NN_model.pt\"\n",
        "        model.save_weights(model_filename)\n",
        "\n",
        "    else:\n",
        "        count += 1\n",
        "        if count > patience_count:\n",
        "            print(f\"Early stopping at epoch {epoch} | Best epoch: {best_epoch}\")\n",
        "            print(f\"Best train loss: {best_train_loss:.7f} | Best val loss: {best_val_loss:.7f}\")\n",
        "            break\n",
        "\n",
        "    # Log progress every 10 epochs\n",
        "    if epoch % 10 == 0:\n",
        "        print(f\"Epoch {epoch} | Train loss: {train_loss:.7f} | Val loss: {val_loss:.7f}\")\n",
        "\n",
        "print(\"Training complete.\")\n",
        "print(f\"Best Epoch: {best_epoch} | Best Train Loss: {best_train_loss:.7f} | Best Val Loss: {best_val_loss:.7f}\")\n"
      ],
      "metadata": {
        "colab": {
          "base_uri": "https://localhost:8080/"
        },
        "id": "Dudo0sJr1xFa",
        "outputId": "578ab5b0-53d2-48f4-f2eb-4fcf5edf7624"
      },
      "execution_count": 46,
      "outputs": [
        {
          "output_type": "stream",
          "name": "stdout",
          "text": [
            "Epoch 0 | Train loss: 0.1550033 | Val loss: 0.0496597\n",
            "Epoch 10 | Train loss: 0.0261657 | Val loss: 0.0073926\n",
            "Epoch 20 | Train loss: 0.0177667 | Val loss: 0.0059990\n",
            "Epoch 30 | Train loss: 0.0129514 | Val loss: 0.0057744\n",
            "Epoch 40 | Train loss: 0.0103456 | Val loss: 0.0052367\n",
            "Epoch 50 | Train loss: 0.0087170 | Val loss: 0.0047802\n",
            "Epoch 60 | Train loss: 0.0075623 | Val loss: 0.0044193\n",
            "Epoch 70 | Train loss: 0.0066614 | Val loss: 0.0040861\n",
            "Epoch 80 | Train loss: 0.0059124 | Val loss: 0.0037657\n",
            "Epoch 90 | Train loss: 0.0052952 | Val loss: 0.0034817\n",
            "Epoch 100 | Train loss: 0.0047643 | Val loss: 0.0032132\n",
            "Epoch 110 | Train loss: 0.0043285 | Val loss: 0.0030247\n",
            "Epoch 120 | Train loss: 0.0039540 | Val loss: 0.0028571\n",
            "Epoch 130 | Train loss: 0.0036285 | Val loss: 0.0026844\n",
            "Epoch 140 | Train loss: 0.0033517 | Val loss: 0.0025225\n",
            "Epoch 150 | Train loss: 0.0031034 | Val loss: 0.0023811\n",
            "Epoch 160 | Train loss: 0.0028826 | Val loss: 0.0022483\n",
            "Epoch 170 | Train loss: 0.0026852 | Val loss: 0.0021279\n",
            "Epoch 180 | Train loss: 0.0024971 | Val loss: 0.0020026\n",
            "Epoch 190 | Train loss: 0.0023258 | Val loss: 0.0019030\n",
            "Epoch 200 | Train loss: 0.0021658 | Val loss: 0.0018068\n",
            "Epoch 210 | Train loss: 0.0020222 | Val loss: 0.0017225\n",
            "Epoch 220 | Train loss: 0.0018933 | Val loss: 0.0016499\n",
            "Epoch 230 | Train loss: 0.0017816 | Val loss: 0.0015962\n",
            "Epoch 240 | Train loss: 0.0016750 | Val loss: 0.0015433\n",
            "Epoch 250 | Train loss: 0.0015735 | Val loss: 0.0014934\n",
            "Epoch 260 | Train loss: 0.0014797 | Val loss: 0.0014467\n",
            "Epoch 270 | Train loss: 0.0013955 | Val loss: 0.0014135\n",
            "Epoch 280 | Train loss: 0.0013181 | Val loss: 0.0013831\n",
            "Epoch 290 | Train loss: 0.0012475 | Val loss: 0.0013538\n",
            "Epoch 300 | Train loss: 0.0011852 | Val loss: 0.0013288\n",
            "Epoch 310 | Train loss: 0.0011283 | Val loss: 0.0013024\n",
            "Epoch 320 | Train loss: 0.0010749 | Val loss: 0.0012703\n",
            "Epoch 330 | Train loss: 0.0010260 | Val loss: 0.0012519\n",
            "Epoch 340 | Train loss: 0.0009784 | Val loss: 0.0012156\n",
            "Epoch 350 | Train loss: 0.0009328 | Val loss: 0.0011740\n",
            "Epoch 360 | Train loss: 0.0008898 | Val loss: 0.0011553\n",
            "Epoch 370 | Train loss: 0.0008483 | Val loss: 0.0011250\n",
            "Epoch 380 | Train loss: 0.0008102 | Val loss: 0.0011014\n",
            "Epoch 390 | Train loss: 0.0007727 | Val loss: 0.0010505\n",
            "Epoch 400 | Train loss: 0.0007391 | Val loss: 0.0010083\n",
            "Epoch 410 | Train loss: 0.0007094 | Val loss: 0.0009721\n",
            "Epoch 420 | Train loss: 0.0006791 | Val loss: 0.0009627\n",
            "Epoch 430 | Train loss: 0.0006522 | Val loss: 0.0009394\n",
            "Epoch 440 | Train loss: 0.0006264 | Val loss: 0.0009180\n",
            "Epoch 450 | Train loss: 0.0006024 | Val loss: 0.0009016\n",
            "Epoch 460 | Train loss: 0.0005803 | Val loss: 0.0008812\n",
            "Epoch 470 | Train loss: 0.0005605 | Val loss: 0.0008714\n",
            "Epoch 480 | Train loss: 0.0005404 | Val loss: 0.0008553\n",
            "Epoch 490 | Train loss: 0.0005232 | Val loss: 0.0008357\n",
            "Epoch 500 | Train loss: 0.0005053 | Val loss: 0.0008148\n",
            "Epoch 510 | Train loss: 0.0004907 | Val loss: 0.0007944\n",
            "Epoch 520 | Train loss: 0.0004754 | Val loss: 0.0007683\n",
            "Epoch 530 | Train loss: 0.0004609 | Val loss: 0.0007522\n",
            "Epoch 540 | Train loss: 0.0004480 | Val loss: 0.0007385\n",
            "Epoch 550 | Train loss: 0.0004365 | Val loss: 0.0007290\n",
            "Epoch 560 | Train loss: 0.0004256 | Val loss: 0.0007120\n",
            "Epoch 570 | Train loss: 0.0004142 | Val loss: 0.0006917\n",
            "Epoch 580 | Train loss: 0.0004046 | Val loss: 0.0006788\n",
            "Epoch 590 | Train loss: 0.0003949 | Val loss: 0.0006802\n",
            "Epoch 600 | Train loss: 0.0003866 | Val loss: 0.0006527\n",
            "Epoch 610 | Train loss: 0.0003776 | Val loss: 0.0006559\n",
            "Epoch 620 | Train loss: 0.0003692 | Val loss: 0.0006460\n",
            "Epoch 630 | Train loss: 0.0003612 | Val loss: 0.0006249\n",
            "Epoch 640 | Train loss: 0.0003529 | Val loss: 0.0006097\n",
            "Epoch 650 | Train loss: 0.0003460 | Val loss: 0.0005981\n",
            "Epoch 660 | Train loss: 0.0003399 | Val loss: 0.0005888\n",
            "Epoch 670 | Train loss: 0.0003335 | Val loss: 0.0005808\n",
            "Epoch 680 | Train loss: 0.0003280 | Val loss: 0.0005705\n",
            "Epoch 690 | Train loss: 0.0003219 | Val loss: 0.0005731\n",
            "Epoch 700 | Train loss: 0.0003168 | Val loss: 0.0005673\n",
            "Epoch 710 | Train loss: 0.0003105 | Val loss: 0.0005681\n",
            "Epoch 720 | Train loss: 0.0003050 | Val loss: 0.0005600\n",
            "Epoch 730 | Train loss: 0.0003003 | Val loss: 0.0005604\n",
            "Epoch 740 | Train loss: 0.0002959 | Val loss: 0.0005603\n",
            "Epoch 750 | Train loss: 0.0002917 | Val loss: 0.0005600\n",
            "Epoch 760 | Train loss: 0.0002867 | Val loss: 0.0005620\n",
            "Epoch 770 | Train loss: 0.0002868 | Val loss: 0.0005612\n",
            "Epoch 780 | Train loss: 0.0002771 | Val loss: 0.0005503\n",
            "Epoch 790 | Train loss: 0.0002732 | Val loss: 0.0005540\n",
            "Training complete.\n",
            "Best Epoch: 797 | Best Train Loss: 0.0002702 | Best Val Loss: 0.0005480\n"
          ]
        }
      ]
    },
    {
      "cell_type": "markdown",
      "source": [
        "# **Plotting Loss Curves**"
      ],
      "metadata": {
        "id": "HkhKmVL-hLQR"
      }
    },
    {
      "cell_type": "code",
      "source": [
        "import matplotlib.pyplot as plt\n",
        "\n",
        "# Plot the training and validation loss\n",
        "plt.figure(figsize=(10, 6))\n",
        "\n",
        "plt.title(f'Loss Curves for GNN Model Predicting V and δ on IEEE {n_bus}-Bus Dataset', fontsize=14)\n",
        "plt.plot(train_loss_list, label=\"Train Loss\", color='blue', linewidth=2)\n",
        "plt.plot(val_loss_list, label=\"Validation Loss\", color='orange', linewidth=2)\n",
        "#plt.yscale('log')  # logarithmic scale\n",
        "plt.xlabel(\"Epoch\", fontsize=12)\n",
        "plt.ylabel(\"Loss\", fontsize=12)\n",
        "plt.grid(True, which='both', linestyle='--', linewidth=0.5)\n",
        "plt.legend(loc='best', fontsize=12)\n",
        "plt.tight_layout()\n",
        "plt.show()\n",
        "\n",
        "# Save the figure with improved formatting\n",
        "figure_filename = f\"[{n_bus} bus] Loss Curves.png\"\n",
        "plt.savefig(figure_filename, dpi=300, bbox_inches='tight')\n",
        "plt.close()\n",
        "print(f\"\\nFigure saved as '{figure_filename}'!\")\n",
        "\n",
        "# Print final and best losses\n",
        "print(f\"Last epoch: {epoch + 1}, Train loss: {train_loss:.7f}, Val loss: {val_loss:.7f}\")\n",
        "print(f\"Best epoch: {best_epoch + 1}, Best Train loss: {best_train_loss:.7f}, Best Val loss: {best_val_loss:.7f}\")"
      ],
      "metadata": {
        "id": "YWYYyI3cj-22",
        "colab": {
          "base_uri": "https://localhost:8080/",
          "height": 676
        },
        "outputId": "ec3259cc-da96-46a8-9174-fe8c5cd0bef2"
      },
      "execution_count": 47,
      "outputs": [
        {
          "output_type": "display_data",
          "data": {
            "text/plain": [
              "<Figure size 1000x600 with 1 Axes>"
            ],
            "image/png": "[encoded data removed]"
          },
          "metadata": {}
        },
        {
          "output_type": "stream",
          "name": "stdout",
          "text": [
            "\n",
            "Figure saved as '[30 bus] Loss Curves.png'!\n",
            "Last epoch: 800, Train loss: 0.0002691, Val loss: 0.0005632\n",
            "Best epoch: 798, Best Train loss: 0.0002702, Best Val loss: 0.0005480\n"
          ]
        }
      ]
    },
    {
      "cell_type": "markdown",
      "source": [
        "# **Model Evaluation**"
      ],
      "metadata": {
        "id": "MhfPkA3bhVX4"
      }
    },
    {
      "cell_type": "code",
      "source": [
        "print(y_val_targets.shape)\n",
        "print(y_val_predictions[0].shape)"
      ],
      "metadata": {
        "colab": {
          "base_uri": "https://localhost:8080/"
        },
        "id": "O9RFvWquIKR2",
        "outputId": "099a7426-cd77-43d2-d5b3-86cf01831c7c"
      },
      "execution_count": 48,
      "outputs": [
        {
          "output_type": "stream",
          "name": "stdout",
          "text": [
            "torch.Size([2000, 14, 2])\n",
            "torch.Size([14, 2])\n"
          ]
        }
      ]
    },
    {
      "cell_type": "code",
      "source": [
        "import torch\n",
        "from sklearn.metrics import mean_squared_error, mean_absolute_error, r2_score\n",
        "import numpy as np\n",
        "import pandas as pd\n",
        "\n",
        "# Function to calculate regression metrics\n",
        "def evaluate_regression_metrics(y_true, y_pred):\n",
        "    # Denormalize the outputs\n",
        "    y_true = denormalize_output(y_true, y_val_mean, y_val_std)\n",
        "    y_pred = denormalize_output(y_pred, y_val_mean, y_val_std)\n",
        "\n",
        "    # Convert to numpy arrays\n",
        "    y_true = y_true.detach().cpu().numpy()\n",
        "    y_pred = y_pred.detach().cpu().numpy()\n",
        "\n",
        "    # Calculate metrics\n",
        "    mse = mean_squared_error(y_true.reshape(-1, 2), y_pred.reshape(-1, 2))\n",
        "    rmse = np.sqrt(mse)\n",
        "    nrmse = rmse / np.std(y_true)\n",
        "    mae = mean_absolute_error(y_true.reshape(-1, 2), y_pred.reshape(-1, 2))\n",
        "    r2 = r2_score(y_true.reshape(-1, 2), y_pred.reshape(-1, 2))\n",
        "\n",
        "    # Print metrics\n",
        "    print(f\"Mean Squared Error (MSE): {mse:.6f}\")\n",
        "    print(f\"Root Mean Squared Error (RMSE): {rmse:.6f}\")\n",
        "    print(f\"Normalized RMSE (NRMSE): {nrmse:.6f}\")\n",
        "    print(f\"Mean Absolute Error (MAE): {mae:.6f}\")\n",
        "    print(f\"R^2 Score: {r2:.6f}\")\n",
        "\n",
        "    return mse, rmse, nrmse, mae, r2\n",
        "\n",
        "# Evaluation after training\n",
        "model.eval()\n",
        "y_val_predictions = []\n",
        "\n",
        "# Collect all predictions and ground truth for the validation set\n",
        "with torch.no_grad():\n",
        "    for batch in val_loader:\n",
        "        # Forward pass for validation\n",
        "        y_val_pred = model(batch)\n",
        "\n",
        "        # Skip empty batches\n",
        "        if y_val_pred.size(0) == 0:\n",
        "            continue\n",
        "\n",
        "        # Reshape predictions based on the actual size\n",
        "        y_val_pred = y_val_pred.view(-1, n_bus, 2)\n",
        "        y_val_predictions.append(y_val_pred)\n",
        "\n",
        "# Stack predictions and targets with the shape [n_samples, n_bus, 2]\n",
        "y_val_predictions = torch.cat(y_val_predictions, dim=0)\n",
        "y_val_targets = torch.cat([batch.y.view(-1, n_bus, 2) for batch in val_loader], dim=0)\n",
        "\n",
        "# Calculate and print regression metrics\n",
        "mse, rmse, nrmse, mae, r2 = evaluate_regression_metrics(y_val_targets, y_val_predictions)\n",
        "\n",
        "# Save the metrics to a dictionary for comparison\n",
        "metrics = {\n",
        "    'MSE': mse,\n",
        "    'RMSE': rmse,\n",
        "    'NRMSE': nrmse,\n",
        "    'MAE': mae,\n",
        "    'R2': r2\n",
        "}\n",
        "\n",
        "\n",
        "metrics_df = pd.DataFrame([metrics])\n",
        "\n",
        "# Save the metrics to the CSV file\n",
        "metrics_filename = f\"[{n_bus} bus] Validation Metrics.csv\"\n",
        "metrics_df.to_csv(metrics_filename, index=False)\n",
        "print(f\"\\nMetrics saved to '{metrics_filename}'.\")\n"
      ],
      "metadata": {
        "id": "jMI26hcw4NVL",
        "colab": {
          "base_uri": "https://localhost:8080/"
        },
        "outputId": "797487fe-1a83-44d7-c0d1-eca2bd75e763"
      },
      "execution_count": 49,
      "outputs": [
        {
          "output_type": "stream",
          "name": "stdout",
          "text": [
            "Mean Squared Error (MSE): 0.000563\n",
            "Root Mean Squared Error (RMSE): 0.023731\n",
            "Normalized RMSE (NRMSE): 0.012277\n",
            "Mean Absolute Error (MAE): 0.012705\n",
            "R^2 Score: 0.983492\n",
            "\n",
            "Metrics saved to '[30 bus] Validation Metrics.csv'.\n"
          ]
        }
      ]
    },
    {
      "cell_type": "markdown",
      "source": [
        "# **Single datapoint evaluation**"
      ],
      "metadata": {
        "id": "EDe5Wxil6opK"
      }
    },
    {
      "cell_type": "code",
      "source": [
        "# Set model to evaluation mode\n",
        "model.eval()\n",
        "\n",
        "# Device configuration\n",
        "device = next(model.parameters()).device\n",
        "\n",
        "# Function for single datapoint evaluation\n",
        "def evaluate_single_datapoint(data, y_mean, y_std, y_raw):\n",
        "    # Move the data to the correct device\n",
        "    data = data.to(device)\n",
        "\n",
        "    # Forward pass\n",
        "    y_pred = model(data)\n",
        "\n",
        "    # Handle dimensions based on whether the input is batched or not\n",
        "    if y_pred.dim() == 1:\n",
        "        # Single datapoint scenario (batch size = 1)\n",
        "        y_pred = y_pred.view(n_bus, 2)\n",
        "        data_y = data.y.view(n_bus, 2)\n",
        "    else:\n",
        "        # Batched scenario (consistent with batch size handling)\n",
        "        batch_size = data.y.size(0) // n_bus\n",
        "        y_pred = y_pred.view(batch_size, n_bus, 2)\n",
        "        data_y = data.y.view(batch_size, n_bus, 2)\n",
        "\n",
        "    # Expand y_mean and y_std to match the batch size for denormalization\n",
        "    y_mean_expanded = y_mean.repeat(batch_size, 1)\n",
        "    y_std_expanded = y_std.repeat(batch_size, 1)\n",
        "\n",
        "    # Denormalize the prediction and the ground truth\n",
        "    y_pred_denorm = denormalize_output(y_pred, y_mean_expanded, y_std_expanded)\n",
        "    y_target_denorm = denormalize_output(data_y, y_mean_expanded, y_std_expanded)\n",
        "\n",
        "    # Compute loss\n",
        "    loss = MSE(y_pred_denorm, y_target_denorm)\n",
        "\n",
        "    # Print ground truth and prediction\n",
        "    print(\"Ground-truth:\", y_raw.detach().cpu().numpy())\n",
        "    print(\"Prediction:\", y_pred_denorm.detach().cpu().numpy())\n",
        "    print(f\"Loss (MSE): {loss:.7f}\")\n",
        "\n",
        "    return loss\n",
        "\n",
        "# Evaluate on a single training datapoint\n",
        "print(\"\\nEvaluation on a single training datapoint:\")\n",
        "train_loader_single = DataLoader(train_data_list, batch_size=1, shuffle=False)\n",
        "train_loss_1 = evaluate_single_datapoint(\n",
        "    next(iter(train_loader_single)), y_val_mean, y_val_std, y_raw_train[0]\n",
        ")\n",
        "\n",
        "# Evaluate on a single validation datapoint\n",
        "print(\"\\nEvaluation on a single validation datapoint:\")\n",
        "val_loader_single = DataLoader(val_data_list, batch_size=1, shuffle=False)\n",
        "val_loss_1 = evaluate_single_datapoint(\n",
        "    next(iter(val_loader_single)), y_val_mean, y_val_std, y_raw_val[0]\n",
        ")\n"
      ],
      "metadata": {
        "id": "VafI4QFlAGRe",
        "colab": {
          "base_uri": "https://localhost:8080/"
        },
        "outputId": "972023db-58fa-477a-cfa0-54872c647e42"
      },
      "execution_count": 50,
      "outputs": [
        {
          "output_type": "stream",
          "name": "stdout",
          "text": [
            "\n",
            "Evaluation on a single training datapoint:\n",
            "Ground-truth: [[ 1.       0.     ]\n",
            " [ 1.      -0.43008]\n",
            " [ 0.98422 -1.48289]\n",
            " [ 0.98152 -1.75098]\n",
            " [ 0.98581 -1.68272]\n",
            " [ 0.97576 -2.13516]\n",
            " [ 0.97313 -2.35897]\n",
            " [ 0.964   -2.54369]\n",
            " [ 0.9818  -2.92844]\n",
            " [ 0.98504 -3.34004]\n",
            " [ 0.9818  -2.92844]\n",
            " [ 0.98525 -1.67227]\n",
            " [ 1.       1.34149]\n",
            " [ 0.97695 -2.59457]\n",
            " [ 0.97988 -2.62418]\n",
            " [ 0.97746 -2.65864]\n",
            " [ 0.9786  -3.26691]\n",
            " [ 0.96734 -3.96165]\n",
            " [ 0.96433 -4.49837]\n",
            " [ 0.96871 -4.26213]\n",
            " [ 0.99311 -3.38581]\n",
            " [ 1.      -3.31752]\n",
            " [ 1.      -1.91868]\n",
            " [ 0.98998 -2.78623]\n",
            " [ 0.99021 -1.78402]\n",
            " [ 0.97026 -2.4028 ]\n",
            " [ 1.      -0.79563]\n",
            " [ 0.97714 -2.13016]\n",
            " [ 0.98188 -2.07782]\n",
            " [ 0.97118 -3.0443 ]]\n",
            "Prediction: [[[ 0.99999 -0.00001]\n",
            "  [ 0.99993 -0.41387]\n",
            "  [ 0.98318 -1.4619 ]\n",
            "  [ 0.9802  -1.72507]\n",
            "  [ 0.98254 -1.66249]\n",
            "  [ 0.97365 -2.10225]\n",
            "  [ 0.96809 -2.33034]\n",
            "  [ 0.96249 -2.50337]\n",
            "  [ 0.98055 -2.88539]\n",
            "  [ 0.98439 -3.2962 ]\n",
            "  [ 0.98055 -2.8837 ]\n",
            "  [ 0.98543 -1.61982]\n",
            "  [ 0.99996  1.39398]\n",
            "  [ 0.97659 -2.51666]\n",
            "  [ 0.98012 -2.57471]\n",
            "  [ 0.97739 -2.61473]\n",
            "  [ 0.97692 -3.21636]\n",
            "  [ 0.96809 -3.89524]\n",
            "  [ 0.96479 -4.41665]\n",
            "  [ 0.96886 -4.19192]\n",
            "  [ 0.99339 -3.34704]\n",
            "  [ 1.00005 -3.27239]\n",
            "  [ 1.      -1.87013]\n",
            "  [ 0.98843 -2.69557]\n",
            "  [ 0.99015 -1.7181 ]\n",
            "  [ 0.97168 -2.34828]\n",
            "  [ 1.      -0.73842]\n",
            "  [ 0.97523 -2.09301]\n",
            "  [ 0.97954 -2.00513]\n",
            "  [ 0.96796 -2.97402]]]\n",
            "Loss (MSE): 0.0006388\n",
            "\n",
            "Evaluation on a single validation datapoint:\n",
            "Ground-truth: [[ 1.       0.     ]\n",
            " [ 1.      -0.97737]\n",
            " [ 0.98437 -2.19758]\n",
            " [ 0.98157 -2.60945]\n",
            " [ 0.98387 -2.63135]\n",
            " [ 0.97612 -3.22021]\n",
            " [ 0.96948 -3.55846]\n",
            " [ 0.96628 -3.91474]\n",
            " [ 0.9824  -3.74034]\n",
            " [ 0.98572 -4.01013]\n",
            " [ 0.9824  -3.74034]\n",
            " [ 0.98456 -2.33656]\n",
            " [ 1.       0.6793 ]\n",
            " [ 0.97765 -2.9742 ]\n",
            " [ 0.98093 -2.93356]\n",
            " [ 0.97874 -3.38924]\n",
            " [ 0.97871 -4.10796]\n",
            " [ 0.97159 -3.89241]\n",
            " [ 0.96948 -4.30436]\n",
            " [ 0.9727  -4.29013]\n",
            " [ 0.99438 -4.01789]\n",
            " [ 1.      -3.91621]\n",
            " [ 1.      -2.23391]\n",
            " [ 0.99131 -3.39136]\n",
            " [ 0.99146 -2.96875]\n",
            " [ 0.97423 -3.41232]\n",
            " [ 1.      -2.43262]\n",
            " [ 0.97759 -3.33279]\n",
            " [ 0.9753  -4.27544]\n",
            " [ 0.96057 -5.54697]]\n",
            "Prediction: [[[ 0.99995 -0.00001]\n",
            "  [ 0.99996 -0.96051]\n",
            "  [ 0.98273 -2.18174]\n",
            "  [ 0.97961 -2.59256]\n",
            "  [ 0.98202 -2.6127 ]\n",
            "  [ 0.97272 -3.20748]\n",
            "  [ 0.96653 -3.53528]\n",
            "  [ 0.96116 -3.91117]\n",
            "  [ 0.98031 -3.74475]\n",
            "  [ 0.98436 -4.02802]\n",
            "  [ 0.98031 -3.74771]\n",
            "  [ 0.98542 -2.32405]\n",
            "  [ 0.99997  0.68774]\n",
            "  [ 0.97666 -2.94582]\n",
            "  [ 0.98013 -2.92517]\n",
            "  [ 0.97733 -3.38427]\n",
            "  [ 0.97682 -4.11257]\n",
            "  [ 0.96826 -3.89983]\n",
            "  [ 0.96513 -4.32125]\n",
            "  [ 0.96898 -4.30471]\n",
            "  [ 0.99338 -4.04479]\n",
            "  [ 1.      -3.94328]\n",
            "  [ 1.      -2.22317]\n",
            "  [ 0.98845 -3.3546 ]\n",
            "  [ 0.99015 -2.94718]\n",
            "  [ 0.97204 -3.41471]\n",
            "  [ 0.99998 -2.41792]\n",
            "  [ 0.97414 -3.32612]\n",
            "  [ 0.97761 -4.26073]\n",
            "  [ 0.96142 -5.54824]]]\n",
            "Loss (MSE): 0.0001334\n"
          ]
        },
        {
          "output_type": "stream",
          "name": "stderr",
          "text": [
            "/usr/local/lib/python3.10/dist-packages/torch_geometric/deprecation.py:26: UserWarning: 'data.DataLoader' is deprecated, use 'loader.DataLoader' instead\n",
            "  warnings.warn(out)\n"
          ]
        }
      ]
    },
    {
      "cell_type": "markdown",
      "source": [
        "# **Testing on Multiple Datasets**\n",
        "\n",
        "Loading the Best Model"
      ],
      "metadata": {
        "id": "7SXapJIxhdqG"
      }
    },
    {
      "cell_type": "code",
      "source": [
        "best_model = My_GNN_GNN_NN(n_bus, feat_in, feat_size1, feat_size2, hidden_size1, output_size)\n",
        "\n",
        "# Load the saved state dictionary\n",
        "model_filename = f\"[{n_bus} bus] Best_GNN_GNN_NN_model.pt\"\n",
        "state_dict = torch.load(model_filename)\n",
        "print(f\"Loaded model weights from '{model_filename}'.\")\n",
        "\n",
        "best_model.load_state_dict(state_dict, strict=False)\n",
        "\n",
        "# Set the model to evaluation mode\n",
        "best_model.eval()"
      ],
      "metadata": {
        "id": "FwIyhE7I7Dkf",
        "colab": {
          "base_uri": "https://localhost:8080/"
        },
        "outputId": "9c9a416a-3e9f-47d5-9b4b-7066a13a06f9"
      },
      "execution_count": 51,
      "outputs": [
        {
          "output_type": "stream",
          "name": "stdout",
          "text": [
            "Loaded model weights from '[30 bus] Best_GNN_GNN_NN_model.pt'.\n"
          ]
        },
        {
          "output_type": "stream",
          "name": "stderr",
          "text": [
            "<ipython-input-51-d8ce72a5f2bc>:5: FutureWarning: You are using `torch.load` with `weights_only=False` (the current default value), which uses the default pickle module implicitly. It is possible to construct malicious pickle data which will execute arbitrary code during unpickling (See https://github.com/pytorch/pytorch/blob/main/SECURITY.md#untrusted-models for more details). In a future release, the default value for `weights_only` will be flipped to `True`. This limits the functions that could be executed during unpickling. Arbitrary objects will no longer be allowed to be loaded via this mode unless they are explicitly allowlisted by the user via `torch.serialization.add_safe_globals`. We recommend you start setting `weights_only=True` for any use case where you don't have full control of the loaded file. Please open an issue on GitHub for any issues related to this experimental feature.\n",
            "  state_dict = torch.load(model_filename)\n"
          ]
        },
        {
          "output_type": "execute_result",
          "data": {
            "text/plain": [
              "My_GNN_GNN_NN(\n",
              "  (conv1): SAGEConv(7, 12, aggr=mean)\n",
              "  (conv2): SAGEConv(12, 12, aggr=mean)\n",
              "  (lin1): Linear(in_features=360, out_features=128, bias=True)\n",
              "  (lin2): Linear(in_features=128, out_features=60, bias=True)\n",
              "  (dropout): Dropout(p=0, inplace=False)\n",
              ")"
            ]
          },
          "metadata": {},
          "execution_count": 51
        }
      ]
    },
    {
      "cell_type": "markdown",
      "source": [
        "# **NRMSE Function**"
      ],
      "metadata": {
        "id": "MF6bivy1Eyhi"
      }
    },
    {
      "cell_type": "code",
      "source": [
        "def NRMSE(yhat, y):\n",
        "    rmse = torch.sqrt(torch.mean((yhat - y) ** 2))\n",
        "    nrmse = rmse / torch.std(y)\n",
        "    return nrmse"
      ],
      "metadata": {
        "id": "v1vG8VRM7y7u"
      },
      "execution_count": 52,
      "outputs": []
    },
    {
      "cell_type": "markdown",
      "source": [
        "# **Test Dataset Evaluation Loop**"
      ],
      "metadata": {
        "id": "KUMCfL-kE3Wf"
      }
    },
    {
      "cell_type": "code",
      "source": [
        "import torch\n",
        "\n",
        "test_loss_list = []\n",
        "\n",
        "for i in range(10):\n",
        "    # Load the test dataset\n",
        "    #dataset = pd.read_excel(f'/content/GNN-OptimalPowerFlow/Datasets/14Bus/PF_Dataset_{i + 1}.xlsx').values\n",
        "    dataset = pd.read_excel(f'/content/GNN-OptimalPowerFlow/Datasets/30Bus/PF_Dataset_{i + 1}.xlsx').values\n",
        "    #dataset = pd.read_excel(f'/content/GNN-OptimalPowerFlow/Datasets/57Bus/PF_Dataset_{i + 1}.xlsx').values\n",
        "\n",
        "    # Use 20% of the test dataset\n",
        "    test_dataset = slice_dataset(dataset, 20)\n",
        "    x_raw_test, y_raw_test = make_dataset(test_dataset, n_bus)\n",
        "    x_norm_test, y_norm_test, y_test_mean, y_test_std, _, _ = normalize_dataset(x_raw_test, y_raw_test)\n",
        "\n",
        "    # target statistics (V and δ)\n",
        "    y_test_mean_targets = y_test_mean[:, :2]\n",
        "    y_test_std_targets = y_test_std[:, :2]\n",
        "\n",
        "    # Prepare the test data loader\n",
        "    data_test_list = [Data(x=x, y=y, edge_index=edge_index) for x, y in zip(x_norm_test, y_norm_test)]\n",
        "    test_loader = DataLoader(data_test_list, batch_size=16)\n",
        "\n",
        "    # Initialize predictions\n",
        "    yhat = torch.empty(0, n_bus, 2).to(device)\n",
        "\n",
        "    # Collect predictions from the model\n",
        "    for batch in test_loader:\n",
        "        batch = batch.to(device)\n",
        "        y_pred = best_model(batch)\n",
        "\n",
        "        # Get the size of y_pred and reshape directly\n",
        "        total_predictions = y_pred.size(0)\n",
        "        if total_predictions == 0:\n",
        "            print(\"Warning: Empty batch encountered, skipping.\")\n",
        "            continue\n",
        "\n",
        "        # Reshape y_pred to [batch_size, n_bus, 2]\n",
        "        y_pred = y_pred.view(-1, n_bus, 2)\n",
        "        yhat = torch.cat((yhat, y_pred), dim=0)\n",
        "\n",
        "    # Ensure yhat is not empty\n",
        "    if yhat.size(0) == 0:\n",
        "        print(\"Error: No predictions collected. Please check the test data and model.\")\n",
        "        continue\n",
        "\n",
        "    # Denormalize predictions and ground truth\n",
        "    yhat_denorm = denormalize_output(yhat, y_test_mean_targets.repeat(yhat.size(0), 1, 1), y_test_std_targets.repeat(yhat.size(0), 1, 1))\n",
        "    y_raw_test_denorm = denormalize_output(y_norm_test[:, :, :2], y_test_mean_targets, y_test_std_targets)\n",
        "\n",
        "    # Calculate NRMSE for the test dataset\n",
        "    try:\n",
        "        test_loss_NRMSE = NRMSE(yhat_denorm, y_raw_test_denorm)\n",
        "    except RuntimeError as e:\n",
        "        print(f\"Error in NRMSE calculation: {e}\")\n",
        "        continue\n",
        "\n",
        "    print(f\"Dataset {i + 1} | Test loss (NRMSE): {test_loss_NRMSE:.7f}\")\n",
        "    test_loss_list.append(test_loss_NRMSE)\n",
        "\n",
        "# Print the summary of test losses\n",
        "print(\"Test Losses for All Datasets:\", test_loss_list)\n"
      ],
      "metadata": {
        "colab": {
          "base_uri": "https://localhost:8080/"
        },
        "id": "90GgN6XJV_3R",
        "outputId": "13e762b4-1804-49dc-9488-130fe5f9226a"
      },
      "execution_count": 53,
      "outputs": [
        {
          "output_type": "stream",
          "name": "stderr",
          "text": [
            "/usr/local/lib/python3.10/dist-packages/torch_geometric/deprecation.py:26: UserWarning: 'data.DataLoader' is deprecated, use 'loader.DataLoader' instead\n",
            "  warnings.warn(out)\n"
          ]
        },
        {
          "output_type": "stream",
          "name": "stdout",
          "text": [
            "Dataset 1 | Test loss (NRMSE): 0.2627223\n"
          ]
        },
        {
          "output_type": "stream",
          "name": "stderr",
          "text": [
            "/usr/local/lib/python3.10/dist-packages/torch_geometric/deprecation.py:26: UserWarning: 'data.DataLoader' is deprecated, use 'loader.DataLoader' instead\n",
            "  warnings.warn(out)\n"
          ]
        },
        {
          "output_type": "stream",
          "name": "stdout",
          "text": [
            "Dataset 2 | Test loss (NRMSE): 0.2596882\n"
          ]
        },
        {
          "output_type": "stream",
          "name": "stderr",
          "text": [
            "/usr/local/lib/python3.10/dist-packages/torch_geometric/deprecation.py:26: UserWarning: 'data.DataLoader' is deprecated, use 'loader.DataLoader' instead\n",
            "  warnings.warn(out)\n"
          ]
        },
        {
          "output_type": "stream",
          "name": "stdout",
          "text": [
            "Dataset 3 | Test loss (NRMSE): 0.2594945\n"
          ]
        },
        {
          "output_type": "stream",
          "name": "stderr",
          "text": [
            "/usr/local/lib/python3.10/dist-packages/torch_geometric/deprecation.py:26: UserWarning: 'data.DataLoader' is deprecated, use 'loader.DataLoader' instead\n",
            "  warnings.warn(out)\n"
          ]
        },
        {
          "output_type": "stream",
          "name": "stdout",
          "text": [
            "Dataset 4 | Test loss (NRMSE): 0.2598076\n"
          ]
        },
        {
          "output_type": "stream",
          "name": "stderr",
          "text": [
            "/usr/local/lib/python3.10/dist-packages/torch_geometric/deprecation.py:26: UserWarning: 'data.DataLoader' is deprecated, use 'loader.DataLoader' instead\n",
            "  warnings.warn(out)\n"
          ]
        },
        {
          "output_type": "stream",
          "name": "stdout",
          "text": [
            "Dataset 5 | Test loss (NRMSE): 0.2602688\n"
          ]
        },
        {
          "output_type": "stream",
          "name": "stderr",
          "text": [
            "/usr/local/lib/python3.10/dist-packages/torch_geometric/deprecation.py:26: UserWarning: 'data.DataLoader' is deprecated, use 'loader.DataLoader' instead\n",
            "  warnings.warn(out)\n"
          ]
        },
        {
          "output_type": "stream",
          "name": "stdout",
          "text": [
            "Dataset 6 | Test loss (NRMSE): 0.2592402\n"
          ]
        },
        {
          "output_type": "stream",
          "name": "stderr",
          "text": [
            "/usr/local/lib/python3.10/dist-packages/torch_geometric/deprecation.py:26: UserWarning: 'data.DataLoader' is deprecated, use 'loader.DataLoader' instead\n",
            "  warnings.warn(out)\n"
          ]
        },
        {
          "output_type": "stream",
          "name": "stdout",
          "text": [
            "Dataset 7 | Test loss (NRMSE): 0.2607678\n"
          ]
        },
        {
          "output_type": "stream",
          "name": "stderr",
          "text": [
            "/usr/local/lib/python3.10/dist-packages/torch_geometric/deprecation.py:26: UserWarning: 'data.DataLoader' is deprecated, use 'loader.DataLoader' instead\n",
            "  warnings.warn(out)\n"
          ]
        },
        {
          "output_type": "stream",
          "name": "stdout",
          "text": [
            "Dataset 8 | Test loss (NRMSE): 0.2597598\n"
          ]
        },
        {
          "output_type": "stream",
          "name": "stderr",
          "text": [
            "/usr/local/lib/python3.10/dist-packages/torch_geometric/deprecation.py:26: UserWarning: 'data.DataLoader' is deprecated, use 'loader.DataLoader' instead\n",
            "  warnings.warn(out)\n"
          ]
        },
        {
          "output_type": "stream",
          "name": "stdout",
          "text": [
            "Dataset 9 | Test loss (NRMSE): 0.2626857\n",
            "Dataset 10 | Test loss (NRMSE): 0.2592457\n",
            "Test Losses for All Datasets: [tensor(0.26272, grad_fn=<DivBackward0>), tensor(0.25969, grad_fn=<DivBackward0>), tensor(0.25949, grad_fn=<DivBackward0>), tensor(0.25981, grad_fn=<DivBackward0>), tensor(0.26027, grad_fn=<DivBackward0>), tensor(0.25924, grad_fn=<DivBackward0>), tensor(0.26077, grad_fn=<DivBackward0>), tensor(0.25976, grad_fn=<DivBackward0>), tensor(0.26269, grad_fn=<DivBackward0>), tensor(0.25925, grad_fn=<DivBackward0>)]\n"
          ]
        },
        {
          "output_type": "stream",
          "name": "stderr",
          "text": [
            "/usr/local/lib/python3.10/dist-packages/torch_geometric/deprecation.py:26: UserWarning: 'data.DataLoader' is deprecated, use 'loader.DataLoader' instead\n",
            "  warnings.warn(out)\n"
          ]
        }
      ]
    },
    {
      "cell_type": "markdown",
      "source": [
        "# **Saving Test Losses**"
      ],
      "metadata": {
        "id": "Sq5bBwEOFib_"
      }
    },
    {
      "cell_type": "code",
      "source": [
        "import pandas as pd\n",
        "import numpy as np\n",
        "\n",
        "new_list = []\n",
        "\n",
        "# Convert each test loss value to a float and detach from the computation graph if needed\n",
        "for x in test_loss_list:\n",
        "    if isinstance(x, torch.Tensor):\n",
        "        new_list.append(x.item())  # Use .item() for scalar tensors\n",
        "    else:\n",
        "        new_list.append(float(x))  # Convert to float if it's already a number\n",
        "\n",
        "# Create a DataFrame from the list\n",
        "test_loss_df = pd.DataFrame(new_list, columns=[\"Test Loss\"])\n",
        "\n",
        "# Save the DataFrame to an Excel file\n",
        "test_loss_filename = f\"[{n_bus} bus] Test Losses.xlsx\"\n",
        "test_loss_df.to_excel(test_loss_filename, index=False)\n",
        "print(f\"\\nTest loss file saved successfully as '{test_loss_filename}'!\")\n"
      ],
      "metadata": {
        "id": "3U-A856gFHz2",
        "colab": {
          "base_uri": "https://localhost:8080/"
        },
        "outputId": "40a3019c-02a1-4069-e80f-889d9f4204fc"
      },
      "execution_count": 54,
      "outputs": [
        {
          "output_type": "stream",
          "name": "stdout",
          "text": [
            "\n",
            "Test loss file saved successfully as '[30 bus] Test Losses.xlsx'!\n"
          ]
        }
      ]
    },
    {
      "cell_type": "code",
      "source": [
        "import matplotlib.pyplot as plt\n",
        "import numpy as np\n",
        "\n",
        "bus_labels = ['14-Bus', '30-Bus', '57-Bus']\n",
        "architectures = ['GCN', 'GAT', 'SAGEConv']\n",
        "\n",
        "# NRMSE values\n",
        "nrmse_gcn = [0.012362285, 0.0427363, 0.03815669]\n",
        "nrmse_gat = [0.016432231, 0.013373861, 0.016616212]\n",
        "nrmse_sage = [0.005703607, 0.005999, 0.008594311]\n",
        "\n",
        "# Average Test Loss values\n",
        "test_loss_gcn = [0.374235839, 0.21998959, 0.168703066]\n",
        "test_loss_gat = [0.36764085, 0.187250957, 0.176883805]\n",
        "test_loss_sage = [0.364980724, 0.22478529, 0.196745549]\n",
        "\n",
        "# R^2 Score values\n",
        "r2_gcn = [0.996812642, 0.983492, 0.995369792]\n",
        "r2_gat = [0.919484258, 0.981958151, 0.998162866]\n",
        "r2_sage = [0.994727194, 0.981989, 0.99845767]\n",
        "\n",
        "# Define colors for each architecture\n",
        "colors = ['#1f77b4', '#ff7f0e', '#2ca02c']  # Blue, Orange, Green\n",
        "\n",
        "# Define the x-axis positions and bar width\n",
        "x = np.arange(len(bus_labels))\n",
        "width = 0.25\n",
        "\n",
        "# Function to create a grouped bar plot\n",
        "def create_grouped_bar_plot(data_gcn, data_gat, data_sage, ylabel, title, filename):\n",
        "    plt.figure(figsize=(8, 6))\n",
        "    plt.bar(x - width, data_gcn, width, label='GCN', color=colors[0])\n",
        "    plt.bar(x, data_gat, width, label='GAT', color=colors[1])\n",
        "    plt.bar(x + width, data_sage, width, label='SAGEConv', color=colors[2])\n",
        "\n",
        "    # Add labels and title\n",
        "    plt.xlabel('IEEE Bus Configuration', fontsize=12)\n",
        "    plt.ylabel(ylabel, fontsize=12)\n",
        "    plt.title(title, fontsize=14)\n",
        "    plt.xticks(x, bus_labels)\n",
        "    plt.legend()\n",
        "    plt.grid(axis='y')\n",
        "\n",
        "    # Save the figure\n",
        "    plt.tight_layout()\n",
        "    plt.savefig(filename, dpi=300)\n",
        "    plt.show()\n",
        "\n",
        "# Create plots for each metric\n",
        "create_grouped_bar_plot(nrmse_gcn, nrmse_gat, nrmse_sage, 'NRMSE', 'Validation NRMSE for Different GNN Architectures', 'nrmse_comparison.png')\n",
        "create_grouped_bar_plot(test_loss_gcn, test_loss_gat, test_loss_sage, 'Average Test Loss', 'Average Test Loss across Different Datasets', 'test_loss_comparison.png')\n",
        "create_grouped_bar_plot(r2_gcn, r2_gat, r2_sage, 'R^2 Score', 'R^2 Scores for Different GNN Architectures', 'r2_comparison.png')\n"
      ],
      "metadata": {
        "colab": {
          "base_uri": "https://localhost:8080/",
          "height": 1000
        },
        "id": "sx0NqLIIU-Jv",
        "outputId": "2410153b-d7db-4b0a-e82d-4deed41d7ed8"
      },
      "execution_count": 55,
      "outputs": [
        {
          "output_type": "display_data",
          "data": {
            "text/plain": [
              "<Figure size 800x600 with 1 Axes>"
            ],
            "image/png": "[encoded data removed]"
          },
          "metadata": {}
        },
        {
          "output_type": "display_data",
          "data": {
            "text/plain": [
              "<Figure size 800x600 with 1 Axes>"
            ],
            "image/png": "[encoded data removed]"
          },
          "metadata": {}
        },
        {
          "output_type": "display_data",
          "data": {
            "text/plain": [
              "<Figure size 800x600 with 1 Axes>"
            ],
            "image/png": "[encoded data removed]"
          },
          "metadata": {}
        }
      ]
    },
    {
      "cell_type": "markdown",
      "source": [
        "# **IEEE 14 Bus DataSet Generation**\n",
        "\n",
        "Contains 14 buses, 5 generators (including the slack bus), 11 loads, and 20 branches.\n",
        "\n",
        "Represents a simple transmission network, ideal for educational purposes and testing basic load flow algorithms.\n"
      ],
      "metadata": {
        "id": "ykGQ9gtCyn1P"
      }
    },
    {
      "cell_type": "code",
      "source": [
        "pip install pandapower"
      ],
      "metadata": {
        "id": "ESGDJ1_OyqGC"
      },
      "execution_count": null,
      "outputs": []
    },
    {
      "cell_type": "code",
      "source": [
        "import pandapower as pp\n",
        "import pandapower.networks as nw\n",
        "import pandas as pd\n",
        "import random\n",
        "import os\n",
        "\n",
        "# Create the output folder\n",
        "output_folder = \"datasets_14Bus\"\n",
        "os.makedirs(output_folder, exist_ok=True)\n",
        "\n",
        "# Create the 14-bus test system using pandapower\n",
        "net = nw.case14()\n",
        "\n",
        "# Number of datasets and samples per dataset\n",
        "num_datasets = 10\n",
        "samples_per_dataset = 2000\n",
        "variation_range = 0.4  # ±40% random load variation\n",
        "\n",
        "# columns for the output Excel file\n",
        "bus_ids = net.bus.index\n",
        "columns = []\n",
        "\n",
        "# column names based on dataset format\n",
        "for bus in bus_ids:\n",
        "    columns.extend([f\"P_{bus + 1} (PQ)\", f\"Q_{bus + 1} (PQ)\", f\"V_{bus + 1}\", f\"d_{bus + 1}\"])\n",
        "\n",
        "# Store original load values for resetting\n",
        "original_p_values = net.load['p_mw'].copy()\n",
        "original_q_values = net.load['q_mvar'].copy()\n",
        "\n",
        "# Generate the datasets\n",
        "for dataset_n in range(1, num_datasets + 1):\n",
        "    print(f\"Generating dataset {dataset_n}...\")\n",
        "\n",
        "    data = []\n",
        "\n",
        "    # initial power flow to stabilize the network\n",
        "    #try:\n",
        "    #    pp.runpp(net, algorithm='nr', max_iteration=20)\n",
        "    #except pp.LoadflowNotConverged:\n",
        "    #    print(f\"Initial load flow did not converge for dataset {dataset_n}, skipping this dataset.\")\n",
        "    #    continue\n",
        "\n",
        "    for sample in range(1, samples_per_dataset + 1):\n",
        "        # Reset the load values to the original values\n",
        "        net.load['p_mw'] = original_p_values\n",
        "        net.load['q_mvar'] = original_q_values\n",
        "\n",
        "        # Apply random variation based on the original values\n",
        "        for load in net.load.index:\n",
        "            net.load.at[load, 'p_mw'] = original_p_values[load] * (1 + random.uniform(-variation_range, variation_range))\n",
        "            net.load.at[load, 'q_mvar'] = original_q_values[load] * (1 + random.uniform(-variation_range, variation_range))\n",
        "\n",
        "        # Run AC power flow with Newton-Raphson algorithm\n",
        "        try:\n",
        "            pp.runpp(net, algorithm='nr', max_iteration=20)\n",
        "        except pp.LoadflowNotConverged:\n",
        "            print(f\"Load flow did not converge for sample {sample} in dataset {dataset_n}, skipping this sample.\")\n",
        "            continue\n",
        "\n",
        "        # Collect data for the current sample\n",
        "        row = []\n",
        "\n",
        "        for bus in bus_ids:\n",
        "            # Extract P and Q values for the bus (PQ buses only)\n",
        "            if bus in net.load['bus'].values:\n",
        "                p_load = net.res_load.loc[net.load[net.load['bus'] == bus].index, 'p_mw'].sum()\n",
        "                q_load = net.res_load.loc[net.load[net.load['bus'] == bus].index, 'q_mvar'].sum()\n",
        "            else:\n",
        "                p_load, q_load = 0, 0\n",
        "\n",
        "            # Extract V (voltage magnitude) and d (voltage angle)\n",
        "            v_mag = net.res_bus.at[bus, 'vm_pu']\n",
        "            v_ang = net.res_bus.at[bus, 'va_degree']\n",
        "\n",
        "            # Append data to the row in the specified format\n",
        "            row.extend([p_load, q_load, v_mag, v_ang])\n",
        "\n",
        "        # Add the row to the dataset\n",
        "        data.append(row)\n",
        "\n",
        "    # Create a DataFrame and add headers in the requested format\n",
        "    df = pd.DataFrame(data, columns=columns)\n",
        "\n",
        "    df.insert(0, \"Data\", [f\"Data {i + 1}\" for i in range(len(df))])\n",
        "    df.insert(0, \"Dataset\", [f\"PF Dataset_{dataset_n}\"] + [\"\"] * (len(df) - 1))\n",
        "\n",
        "    # Save the DataFrame to Excel\n",
        "    output_filename = os.path.join(output_folder, f\"PF_Dataset_{dataset_n}.xlsx\")\n",
        "    df.to_excel(output_filename, index=False)\n",
        "    print(f\"Dataset {dataset_n} saved to {output_filename}\")\n",
        "\n",
        "print(\"All datasets generated successfully.\")\n"
      ],
      "metadata": {
        "id": "x9C1EbHpyr6f"
      },
      "execution_count": null,
      "outputs": []
    },
    {
      "cell_type": "markdown",
      "source": [
        " **14 Bus Generator Limits**\n",
        "\n",
        " Generated Active and Reactive Power (P and Q) should be bounded by their maximum and minimum capability for each bus.\n",
        "\n",
        " Otherwise the OPF will not converge for the network."
      ],
      "metadata": {
        "id": "_-ZK1sF3yvm1"
      }
    },
    {
      "cell_type": "code",
      "source": [
        "# Import pandas for cleaner output (optional)\n",
        "import pandas as pd\n",
        "\n",
        "# generator bus information\n",
        "gen_buses = net.gen['bus'].values  # The bus indices with generators\n",
        "p_gen = net.res_gen['p_mw'].values\n",
        "q_gen = net.res_gen['q_mvar'].values\n",
        "\n",
        "# detailed information for each generator\n",
        "print(\"Generator Information:\")\n",
        "for i, bus in enumerate(gen_buses):\n",
        "    p_max = net.gen.at[i, 'max_p_mw'] if 'max_p_mw' in net.gen.columns else \"N/A\"\n",
        "    q_max = net.gen.at[i, 'max_q_mvar'] if 'max_q_mvar' in net.gen.columns else \"N/A\"\n",
        "    print(f\"Bus {bus} | Active Power (P_gen): {p_gen[i]:.2f} MW | Reactive Power (Q_gen): {q_gen[i]:.2f} MVar | P_max: {p_max} MW | Q_max: {q_max} MVar\")\n",
        "\n",
        "print(\"\\nFull Generator DataFrame:\")\n",
        "print(net.gen)\n"
      ],
      "metadata": {
        "id": "qmYYKj7wyx1x"
      },
      "execution_count": null,
      "outputs": []
    },
    {
      "cell_type": "code",
      "source": [
        "import pandas as pd\n",
        "\n",
        "# Initialize lists to track generator outputs\n",
        "p_gen_list = []\n",
        "q_gen_list = []\n",
        "\n",
        "# Run power flow and log generator outputs for multiple test cases\n",
        "for i in range(10):  # 10 datasets\n",
        "    try:\n",
        "        pp.runpp(net, algorithm='nr', max_iteration=20)\n",
        "\n",
        "        # Get generator active and reactive power outputs\n",
        "        p_gen = net.res_gen['p_mw'].values\n",
        "        q_gen = net.res_gen['q_mvar'].values\n",
        "\n",
        "        # Log the generator outputs\n",
        "        p_gen_list.append(p_gen)\n",
        "        q_gen_list.append(q_gen)\n",
        "\n",
        "        print(f\"Test Case {i + 1}:\")\n",
        "        print(\"Active Power (P_gen):\", p_gen)\n",
        "        print(\"Reactive Power (Q_gen):\", q_gen)\n",
        "        print(\"=\" * 40)\n",
        "\n",
        "    except pp.LoadflowNotConverged:\n",
        "        print(f\"Load flow did not converge for Test Case {i + 1}, skipping...\")\n",
        "        continue\n",
        "\n",
        "# Convert to DataFrame for easier comparison\n",
        "p_gen_df = pd.DataFrame(p_gen_list, columns=[f\"P_gen_{i}\" for i in range(len(p_gen))])\n",
        "q_gen_df = pd.DataFrame(q_gen_list, columns=[f\"Q_gen_{i}\" for i in range(len(q_gen))])\n",
        "\n",
        "# Save the results to Excel for further analysis\n",
        "p_gen_df.to_excel(\"P_gen_changes.xlsx\", index=False)\n",
        "q_gen_df.to_excel(\"Q_gen_changes.xlsx\", index=False)\n",
        "\n",
        "print(\"Generator outputs logged and saved to 'P_gen_changes.xlsx' and 'Q_gen_changes.xlsx'.\")\n"
      ],
      "metadata": {
        "id": "JT6iAxFEyz3J"
      },
      "execution_count": null,
      "outputs": []
    },
    {
      "cell_type": "markdown",
      "source": [
        "# **IEEE 30 Bus DataSet Generation**\n",
        "\n",
        "It Contains 30 buses, 6 generators, 21 loads, and 41 branches.\n",
        "\n",
        "A classic test case for load flow and optimal power flow (OPF) studies.\n"
      ],
      "metadata": {
        "id": "6_lpkv2gTeoH"
      }
    },
    {
      "cell_type": "code",
      "source": [
        "pip install pandapower"
      ],
      "metadata": {
        "colab": {
          "base_uri": "https://localhost:8080/"
        },
        "id": "3tKJsBPkTioB",
        "outputId": "1b70a494-0874-499e-ba18-ddf8f0f81fc1"
      },
      "execution_count": null,
      "outputs": [
        {
          "output_type": "stream",
          "name": "stdout",
          "text": [
            "Requirement already satisfied: pandapower in /usr/local/lib/python3.10/dist-packages (2.14.11)\n",
            "Requirement already satisfied: pandas>=1.0 in /usr/local/lib/python3.10/dist-packages (from pandapower) (2.2.2)\n",
            "Requirement already satisfied: networkx>=2.5 in /usr/local/lib/python3.10/dist-packages (from pandapower) (3.4.2)\n",
            "Requirement already satisfied: scipy<1.14 in /usr/local/lib/python3.10/dist-packages (from pandapower) (1.13.1)\n",
            "Requirement already satisfied: numpy<2.0 in /usr/local/lib/python3.10/dist-packages (from pandapower) (1.26.4)\n",
            "Requirement already satisfied: packaging in /usr/local/lib/python3.10/dist-packages (from pandapower) (24.1)\n",
            "Requirement already satisfied: tqdm in /usr/local/lib/python3.10/dist-packages (from pandapower) (4.66.6)\n",
            "Requirement already satisfied: deepdiff in /usr/local/lib/python3.10/dist-packages (from pandapower) (8.0.1)\n",
            "Requirement already satisfied: python-dateutil>=2.8.2 in /usr/local/lib/python3.10/dist-packages (from pandas>=1.0->pandapower) (2.8.2)\n",
            "Requirement already satisfied: pytz>=2020.1 in /usr/local/lib/python3.10/dist-packages (from pandas>=1.0->pandapower) (2024.2)\n",
            "Requirement already satisfied: tzdata>=2022.7 in /usr/local/lib/python3.10/dist-packages (from pandas>=1.0->pandapower) (2024.2)\n",
            "Requirement already satisfied: orderly-set==5.2.2 in /usr/local/lib/python3.10/dist-packages (from deepdiff->pandapower) (5.2.2)\n",
            "Requirement already satisfied: six>=1.5 in /usr/local/lib/python3.10/dist-packages (from python-dateutil>=2.8.2->pandas>=1.0->pandapower) (1.16.0)\n"
          ]
        }
      ]
    },
    {
      "cell_type": "code",
      "source": [
        "import pandapower as pp\n",
        "import pandapower.networks as nw\n",
        "import pandas as pd\n",
        "import random\n",
        "import os\n",
        "\n",
        "# Create the output folder\n",
        "output_folder = \"datasets_30Bus\"\n",
        "os.makedirs(output_folder, exist_ok=True)\n",
        "\n",
        "# Create the 30-bus test system using pandapower\n",
        "net = nw.case30()\n",
        "\n",
        "# Number of datasets and samples per dataset\n",
        "num_datasets = 10\n",
        "samples_per_dataset = 2000\n",
        "variation_range = 0.4  # ±40% random load variation\n",
        "\n",
        "# columns for the output Excel file\n",
        "bus_ids = net.bus.index\n",
        "columns = []\n",
        "\n",
        "# column names based on dataset format\n",
        "for bus in bus_ids:\n",
        "    columns.extend([f\"P_{bus + 1} (PQ)\", f\"Q_{bus + 1} (PQ)\", f\"V_{bus + 1}\", f\"d_{bus + 1}\"])\n",
        "\n",
        "# Store original load values for resetting\n",
        "original_p_values = net.load['p_mw'].copy()\n",
        "original_q_values = net.load['q_mvar'].copy()\n",
        "\n",
        "# Generate the datasets\n",
        "for dataset_n in range(1, num_datasets + 1):\n",
        "    print(f\"Generating dataset {dataset_n}...\")\n",
        "\n",
        "    data = []\n",
        "\n",
        "    # initial power flow to stabilize the network\n",
        "    #try:\n",
        "    #    pp.runpp(net, algorithm='nr', max_iteration=20)\n",
        "    #except pp.LoadflowNotConverged:\n",
        "    #    print(f\"Initial load flow did not converge for dataset {dataset_n}, skipping this dataset.\")\n",
        "    #    continue\n",
        "\n",
        "    for sample in range(1, samples_per_dataset + 1):\n",
        "        # Reset the load values to the original values\n",
        "        net.load['p_mw'] = original_p_values\n",
        "        net.load['q_mvar'] = original_q_values\n",
        "\n",
        "        # Apply random variation based on the original values\n",
        "        for load in net.load.index:\n",
        "            net.load.at[load, 'p_mw'] = original_p_values[load] * (1 + random.uniform(-variation_range, variation_range))\n",
        "            net.load.at[load, 'q_mvar'] = original_q_values[load] * (1 + random.uniform(-variation_range, variation_range))\n",
        "\n",
        "        # Run AC power flow with Newton-Raphson algorithm\n",
        "        try:\n",
        "            pp.runpp(net, algorithm='nr', max_iteration=20)\n",
        "        except pp.LoadflowNotConverged:\n",
        "            print(f\"Load flow did not converge for sample {sample} in dataset {dataset_n}, skipping this sample.\")\n",
        "            continue\n",
        "\n",
        "        # Collect data for the current sample\n",
        "        row = []\n",
        "\n",
        "        for bus in bus_ids:\n",
        "            # Extract P and Q values for the bus (PQ buses only)\n",
        "            if bus in net.load['bus'].values:\n",
        "                p_load = net.res_load.loc[net.load[net.load['bus'] == bus].index, 'p_mw'].sum()\n",
        "                q_load = net.res_load.loc[net.load[net.load['bus'] == bus].index, 'q_mvar'].sum()\n",
        "            else:\n",
        "                p_load, q_load = 0, 0\n",
        "\n",
        "            # Extract V (voltage magnitude) and d (voltage angle)\n",
        "            v_mag = net.res_bus.at[bus, 'vm_pu']\n",
        "            v_ang = net.res_bus.at[bus, 'va_degree']\n",
        "\n",
        "            # Append data to the row in the specified format\n",
        "            row.extend([p_load, q_load, v_mag, v_ang])\n",
        "\n",
        "        # Add the row to the dataset\n",
        "        data.append(row)\n",
        "\n",
        "    # Create a DataFrame and add headers in the requested format\n",
        "    df = pd.DataFrame(data, columns=columns)\n",
        "\n",
        "    df.insert(0, \"Data\", [f\"Data {i + 1}\" for i in range(len(df))])\n",
        "    df.insert(0, \"Dataset\", [f\"PF Dataset_{dataset_n}\"] + [\"\"] * (len(df) - 1))\n",
        "\n",
        "    # Save the DataFrame to Excel\n",
        "    output_filename = os.path.join(output_folder, f\"PF_Dataset_{dataset_n}.xlsx\")\n",
        "    df.to_excel(output_filename, index=False)\n",
        "    print(f\"Dataset {dataset_n} saved to {output_filename}\")\n",
        "\n",
        "print(\"All datasets generated successfully.\")\n"
      ],
      "metadata": {
        "colab": {
          "base_uri": "https://localhost:8080/"
        },
        "id": "93oaOPiuTp0B",
        "outputId": "738cff88-02e6-43c0-9e48-5dec8aee9c86"
      },
      "execution_count": null,
      "outputs": [
        {
          "output_type": "stream",
          "name": "stdout",
          "text": [
            "Generating dataset 1...\n",
            "Dataset 1 saved to datasets/PF_Dataset_1.xlsx\n",
            "Generating dataset 2...\n",
            "Dataset 2 saved to datasets/PF_Dataset_2.xlsx\n",
            "Generating dataset 3...\n",
            "Dataset 3 saved to datasets/PF_Dataset_3.xlsx\n",
            "Generating dataset 4...\n",
            "Dataset 4 saved to datasets/PF_Dataset_4.xlsx\n",
            "Generating dataset 5...\n",
            "Dataset 5 saved to datasets/PF_Dataset_5.xlsx\n",
            "Generating dataset 6...\n",
            "Dataset 6 saved to datasets/PF_Dataset_6.xlsx\n",
            "Generating dataset 7...\n",
            "Dataset 7 saved to datasets/PF_Dataset_7.xlsx\n",
            "Generating dataset 8...\n",
            "Dataset 8 saved to datasets/PF_Dataset_8.xlsx\n",
            "Generating dataset 9...\n",
            "Dataset 9 saved to datasets/PF_Dataset_9.xlsx\n",
            "Generating dataset 10...\n",
            "Dataset 10 saved to datasets/PF_Dataset_10.xlsx\n",
            "All datasets generated successfully.\n"
          ]
        }
      ]
    },
    {
      "cell_type": "markdown",
      "source": [
        " **30 Bus Generator Limits**\n",
        "\n",
        " Generated Active and Reactive Power (P and Q) should be bounded by their maximum and minimum capability for each bus.\n",
        "\n",
        " Otherwise the OPF will not converge for the network."
      ],
      "metadata": {
        "id": "AeQ0MuKV4_o0"
      }
    },
    {
      "cell_type": "code",
      "source": [
        "# Import pandas for cleaner output (optional)\n",
        "import pandas as pd\n",
        "\n",
        "# generator bus information\n",
        "gen_buses = net.gen['bus'].values  # The bus indices with generators\n",
        "p_gen = net.res_gen['p_mw'].values\n",
        "q_gen = net.res_gen['q_mvar'].values\n",
        "\n",
        "# detailed information for each generator\n",
        "print(\"Generator Information:\")\n",
        "for i, bus in enumerate(gen_buses):\n",
        "    p_max = net.gen.at[i, 'max_p_mw'] if 'max_p_mw' in net.gen.columns else \"N/A\"\n",
        "    q_max = net.gen.at[i, 'max_q_mvar'] if 'max_q_mvar' in net.gen.columns else \"N/A\"\n",
        "    print(f\"Bus {bus} | Active Power (P_gen): {p_gen[i]:.2f} MW | Reactive Power (Q_gen): {q_gen[i]:.2f} MVar | P_max: {p_max} MW | Q_max: {q_max} MVar\")\n",
        "\n",
        "print(\"\\nFull Generator DataFrame:\")\n",
        "print(net.gen)\n"
      ],
      "metadata": {
        "colab": {
          "base_uri": "https://localhost:8080/"
        },
        "id": "rYArq7UJuCfS",
        "outputId": "6b93e851-7870-483a-f48e-cc3f032748a3"
      },
      "execution_count": null,
      "outputs": [
        {
          "output_type": "stream",
          "name": "stdout",
          "text": [
            "Generator Information:\n",
            "Bus 1 | Active Power (P_gen): 60.97 MW | Reactive Power (Q_gen): 37.38 MVar | P_max: 80.0 MW | Q_max: 60.0 MVar\n",
            "Bus 21 | Active Power (P_gen): 21.59 MW | Reactive Power (Q_gen): 40.45 MVar | P_max: 50.0 MW | Q_max: 62.5 MVar\n",
            "Bus 26 | Active Power (P_gen): 26.91 MW | Reactive Power (Q_gen): 11.79 MVar | P_max: 55.0 MW | Q_max: 48.7 MVar\n",
            "Bus 22 | Active Power (P_gen): 19.20 MW | Reactive Power (Q_gen): 7.34 MVar | P_max: 30.0 MW | Q_max: 40.0 MVar\n",
            "Bus 12 | Active Power (P_gen): 37.00 MW | Reactive Power (Q_gen): 10.96 MVar | P_max: 40.0 MW | Q_max: 44.7 MVar\n",
            "\n",
            "Full Generator DataFrame:\n",
            "   name  bus   p_mw  vm_pu  sn_mva  min_q_mvar  max_q_mvar  scaling  slack  \\\n",
            "0  None    1  60.97    1.0     NaN       -20.0        60.0      1.0  False   \n",
            "1  None   21  21.59    1.0     NaN       -15.0        62.5      1.0  False   \n",
            "2  None   26  26.91    1.0     NaN       -15.0        48.7      1.0  False   \n",
            "3  None   22  19.20    1.0     NaN       -10.0        40.0      1.0  False   \n",
            "4  None   12  37.00    1.0     NaN       -15.0        44.7      1.0  False   \n",
            "\n",
            "   in_service  slack_weight  type  controllable  max_p_mw  min_p_mw  \n",
            "0        True           0.0  None          True      80.0       0.0  \n",
            "1        True           0.0  None          True      50.0       0.0  \n",
            "2        True           0.0  None          True      55.0       0.0  \n",
            "3        True           0.0  None          True      30.0       0.0  \n",
            "4        True           0.0  None          True      40.0       0.0  \n"
          ]
        }
      ]
    },
    {
      "cell_type": "code",
      "source": [
        "import pandas as pd\n",
        "\n",
        "# Initialize lists to track generator outputs\n",
        "p_gen_list = []\n",
        "q_gen_list = []\n",
        "\n",
        "# Run power flow and log generator outputs for multiple test cases\n",
        "for i in range(10):  # 10 datasets\n",
        "    try:\n",
        "        pp.runpp(net, algorithm='nr', max_iteration=20)\n",
        "\n",
        "        # Get generator active and reactive power outputs\n",
        "        p_gen = net.res_gen['p_mw'].values\n",
        "        q_gen = net.res_gen['q_mvar'].values\n",
        "\n",
        "        # Log the generator outputs\n",
        "        p_gen_list.append(p_gen)\n",
        "        q_gen_list.append(q_gen)\n",
        "\n",
        "        print(f\"Test Case {i + 1}:\")\n",
        "        print(\"Active Power (P_gen):\", p_gen)\n",
        "        print(\"Reactive Power (Q_gen):\", q_gen)\n",
        "        print(\"=\" * 40)\n",
        "\n",
        "    except pp.LoadflowNotConverged:\n",
        "        print(f\"Load flow did not converge for Test Case {i + 1}, skipping...\")\n",
        "        continue\n",
        "\n",
        "# Convert to DataFrame for easier comparison\n",
        "p_gen_df = pd.DataFrame(p_gen_list, columns=[f\"P_gen_{i}\" for i in range(len(p_gen))])\n",
        "q_gen_df = pd.DataFrame(q_gen_list, columns=[f\"Q_gen_{i}\" for i in range(len(q_gen))])\n",
        "\n",
        "# Save the results to Excel for further analysis\n",
        "p_gen_df.to_excel(\"P_gen_changes.xlsx\", index=False)\n",
        "q_gen_df.to_excel(\"Q_gen_changes.xlsx\", index=False)\n",
        "\n",
        "print(\"Generator outputs logged and saved to 'P_gen_changes.xlsx' and 'Q_gen_changes.xlsx'.\")\n"
      ],
      "metadata": {
        "colab": {
          "base_uri": "https://localhost:8080/"
        },
        "id": "6vn0PtHlwYKz",
        "outputId": "67734627-7d5e-429b-9e22-3b602d611c0c"
      },
      "execution_count": null,
      "outputs": [
        {
          "output_type": "stream",
          "name": "stdout",
          "text": [
            "Test Case 1:\n",
            "Active Power (P_gen): [60.97 21.59 26.91 19.2  37.  ]\n",
            "Reactive Power (Q_gen): [37.38115789 40.44738087 11.79165197  7.33633467 10.95915525]\n",
            "========================================\n",
            "Test Case 2:\n",
            "Active Power (P_gen): [60.97 21.59 26.91 19.2  37.  ]\n",
            "Reactive Power (Q_gen): [37.38115789 40.44738087 11.79165197  7.33633467 10.95915525]\n",
            "========================================\n",
            "Test Case 3:\n",
            "Active Power (P_gen): [60.97 21.59 26.91 19.2  37.  ]\n",
            "Reactive Power (Q_gen): [37.38115789 40.44738087 11.79165197  7.33633467 10.95915525]\n",
            "========================================\n",
            "Test Case 4:\n",
            "Active Power (P_gen): [60.97 21.59 26.91 19.2  37.  ]\n",
            "Reactive Power (Q_gen): [37.38115789 40.44738087 11.79165197  7.33633467 10.95915525]\n",
            "========================================\n",
            "Test Case 5:\n",
            "Active Power (P_gen): [60.97 21.59 26.91 19.2  37.  ]\n",
            "Reactive Power (Q_gen): [37.38115789 40.44738087 11.79165197  7.33633467 10.95915525]\n",
            "========================================\n",
            "Test Case 6:\n",
            "Active Power (P_gen): [60.97 21.59 26.91 19.2  37.  ]\n",
            "Reactive Power (Q_gen): [37.38115789 40.44738087 11.79165197  7.33633467 10.95915525]\n",
            "========================================\n",
            "Test Case 7:\n",
            "Active Power (P_gen): [60.97 21.59 26.91 19.2  37.  ]\n",
            "Reactive Power (Q_gen): [37.38115789 40.44738087 11.79165197  7.33633467 10.95915525]\n",
            "========================================\n",
            "Test Case 8:\n",
            "Active Power (P_gen): [60.97 21.59 26.91 19.2  37.  ]\n",
            "Reactive Power (Q_gen): [37.38115789 40.44738087 11.79165197  7.33633467 10.95915525]\n",
            "========================================\n",
            "Test Case 9:\n",
            "Active Power (P_gen): [60.97 21.59 26.91 19.2  37.  ]\n",
            "Reactive Power (Q_gen): [37.38115789 40.44738087 11.79165197  7.33633467 10.95915525]\n",
            "========================================\n",
            "Test Case 10:\n",
            "Active Power (P_gen): [60.97 21.59 26.91 19.2  37.  ]\n",
            "Reactive Power (Q_gen): [37.38115789 40.44738087 11.79165197  7.33633467 10.95915525]\n",
            "========================================\n",
            "Test Case 11:\n",
            "Active Power (P_gen): [60.97 21.59 26.91 19.2  37.  ]\n",
            "Reactive Power (Q_gen): [37.38115789 40.44738087 11.79165197  7.33633467 10.95915525]\n",
            "========================================\n",
            "Test Case 12:\n",
            "Active Power (P_gen): [60.97 21.59 26.91 19.2  37.  ]\n",
            "Reactive Power (Q_gen): [37.38115789 40.44738087 11.79165197  7.33633467 10.95915525]\n",
            "========================================\n",
            "Test Case 13:\n",
            "Active Power (P_gen): [60.97 21.59 26.91 19.2  37.  ]\n",
            "Reactive Power (Q_gen): [37.38115789 40.44738087 11.79165197  7.33633467 10.95915525]\n",
            "========================================\n",
            "Test Case 14:\n",
            "Active Power (P_gen): [60.97 21.59 26.91 19.2  37.  ]\n",
            "Reactive Power (Q_gen): [37.38115789 40.44738087 11.79165197  7.33633467 10.95915525]\n",
            "========================================\n",
            "Test Case 15:\n",
            "Active Power (P_gen): [60.97 21.59 26.91 19.2  37.  ]\n",
            "Reactive Power (Q_gen): [37.38115789 40.44738087 11.79165197  7.33633467 10.95915525]\n",
            "========================================\n",
            "Test Case 16:\n",
            "Active Power (P_gen): [60.97 21.59 26.91 19.2  37.  ]\n",
            "Reactive Power (Q_gen): [37.38115789 40.44738087 11.79165197  7.33633467 10.95915525]\n",
            "========================================\n",
            "Test Case 17:\n",
            "Active Power (P_gen): [60.97 21.59 26.91 19.2  37.  ]\n",
            "Reactive Power (Q_gen): [37.38115789 40.44738087 11.79165197  7.33633467 10.95915525]\n",
            "========================================\n",
            "Test Case 18:\n",
            "Active Power (P_gen): [60.97 21.59 26.91 19.2  37.  ]\n",
            "Reactive Power (Q_gen): [37.38115789 40.44738087 11.79165197  7.33633467 10.95915525]\n",
            "========================================\n",
            "Test Case 19:\n",
            "Active Power (P_gen): [60.97 21.59 26.91 19.2  37.  ]\n",
            "Reactive Power (Q_gen): [37.38115789 40.44738087 11.79165197  7.33633467 10.95915525]\n",
            "========================================\n",
            "Test Case 20:\n",
            "Active Power (P_gen): [60.97 21.59 26.91 19.2  37.  ]\n",
            "Reactive Power (Q_gen): [37.38115789 40.44738087 11.79165197  7.33633467 10.95915525]\n",
            "========================================\n",
            "Test Case 21:\n",
            "Active Power (P_gen): [60.97 21.59 26.91 19.2  37.  ]\n",
            "Reactive Power (Q_gen): [37.38115789 40.44738087 11.79165197  7.33633467 10.95915525]\n",
            "========================================\n",
            "Test Case 22:\n",
            "Active Power (P_gen): [60.97 21.59 26.91 19.2  37.  ]\n",
            "Reactive Power (Q_gen): [37.38115789 40.44738087 11.79165197  7.33633467 10.95915525]\n",
            "========================================\n",
            "Test Case 23:\n",
            "Active Power (P_gen): [60.97 21.59 26.91 19.2  37.  ]\n",
            "Reactive Power (Q_gen): [37.38115789 40.44738087 11.79165197  7.33633467 10.95915525]\n",
            "========================================\n",
            "Test Case 24:\n",
            "Active Power (P_gen): [60.97 21.59 26.91 19.2  37.  ]\n",
            "Reactive Power (Q_gen): [37.38115789 40.44738087 11.79165197  7.33633467 10.95915525]\n",
            "========================================\n",
            "Test Case 25:\n",
            "Active Power (P_gen): [60.97 21.59 26.91 19.2  37.  ]\n",
            "Reactive Power (Q_gen): [37.38115789 40.44738087 11.79165197  7.33633467 10.95915525]\n",
            "========================================\n",
            "Test Case 26:\n",
            "Active Power (P_gen): [60.97 21.59 26.91 19.2  37.  ]\n",
            "Reactive Power (Q_gen): [37.38115789 40.44738087 11.79165197  7.33633467 10.95915525]\n",
            "========================================\n",
            "Test Case 27:\n",
            "Active Power (P_gen): [60.97 21.59 26.91 19.2  37.  ]\n",
            "Reactive Power (Q_gen): [37.38115789 40.44738087 11.79165197  7.33633467 10.95915525]\n",
            "========================================\n",
            "Test Case 28:\n",
            "Active Power (P_gen): [60.97 21.59 26.91 19.2  37.  ]\n",
            "Reactive Power (Q_gen): [37.38115789 40.44738087 11.79165197  7.33633467 10.95915525]\n",
            "========================================\n",
            "Test Case 29:\n",
            "Active Power (P_gen): [60.97 21.59 26.91 19.2  37.  ]\n",
            "Reactive Power (Q_gen): [37.38115789 40.44738087 11.79165197  7.33633467 10.95915525]\n",
            "========================================\n",
            "Test Case 30:\n",
            "Active Power (P_gen): [60.97 21.59 26.91 19.2  37.  ]\n",
            "Reactive Power (Q_gen): [37.38115789 40.44738087 11.79165197  7.33633467 10.95915525]\n",
            "========================================\n",
            "Test Case 31:\n",
            "Active Power (P_gen): [60.97 21.59 26.91 19.2  37.  ]\n",
            "Reactive Power (Q_gen): [37.38115789 40.44738087 11.79165197  7.33633467 10.95915525]\n",
            "========================================\n",
            "Test Case 32:\n",
            "Active Power (P_gen): [60.97 21.59 26.91 19.2  37.  ]\n",
            "Reactive Power (Q_gen): [37.38115789 40.44738087 11.79165197  7.33633467 10.95915525]\n",
            "========================================\n",
            "Test Case 33:\n",
            "Active Power (P_gen): [60.97 21.59 26.91 19.2  37.  ]\n",
            "Reactive Power (Q_gen): [37.38115789 40.44738087 11.79165197  7.33633467 10.95915525]\n",
            "========================================\n",
            "Test Case 34:\n",
            "Active Power (P_gen): [60.97 21.59 26.91 19.2  37.  ]\n",
            "Reactive Power (Q_gen): [37.38115789 40.44738087 11.79165197  7.33633467 10.95915525]\n",
            "========================================\n",
            "Test Case 35:\n",
            "Active Power (P_gen): [60.97 21.59 26.91 19.2  37.  ]\n",
            "Reactive Power (Q_gen): [37.38115789 40.44738087 11.79165197  7.33633467 10.95915525]\n",
            "========================================\n",
            "Test Case 36:\n",
            "Active Power (P_gen): [60.97 21.59 26.91 19.2  37.  ]\n",
            "Reactive Power (Q_gen): [37.38115789 40.44738087 11.79165197  7.33633467 10.95915525]\n",
            "========================================\n",
            "Test Case 37:\n",
            "Active Power (P_gen): [60.97 21.59 26.91 19.2  37.  ]\n",
            "Reactive Power (Q_gen): [37.38115789 40.44738087 11.79165197  7.33633467 10.95915525]\n",
            "========================================\n",
            "Test Case 38:\n",
            "Active Power (P_gen): [60.97 21.59 26.91 19.2  37.  ]\n",
            "Reactive Power (Q_gen): [37.38115789 40.44738087 11.79165197  7.33633467 10.95915525]\n",
            "========================================\n",
            "Test Case 39:\n",
            "Active Power (P_gen): [60.97 21.59 26.91 19.2  37.  ]\n",
            "Reactive Power (Q_gen): [37.38115789 40.44738087 11.79165197  7.33633467 10.95915525]\n",
            "========================================\n",
            "Test Case 40:\n",
            "Active Power (P_gen): [60.97 21.59 26.91 19.2  37.  ]\n",
            "Reactive Power (Q_gen): [37.38115789 40.44738087 11.79165197  7.33633467 10.95915525]\n",
            "========================================\n",
            "Test Case 41:\n",
            "Active Power (P_gen): [60.97 21.59 26.91 19.2  37.  ]\n",
            "Reactive Power (Q_gen): [37.38115789 40.44738087 11.79165197  7.33633467 10.95915525]\n",
            "========================================\n",
            "Test Case 42:\n",
            "Active Power (P_gen): [60.97 21.59 26.91 19.2  37.  ]\n",
            "Reactive Power (Q_gen): [37.38115789 40.44738087 11.79165197  7.33633467 10.95915525]\n",
            "========================================\n",
            "Test Case 43:\n",
            "Active Power (P_gen): [60.97 21.59 26.91 19.2  37.  ]\n",
            "Reactive Power (Q_gen): [37.38115789 40.44738087 11.79165197  7.33633467 10.95915525]\n",
            "========================================\n",
            "Test Case 44:\n",
            "Active Power (P_gen): [60.97 21.59 26.91 19.2  37.  ]\n",
            "Reactive Power (Q_gen): [37.38115789 40.44738087 11.79165197  7.33633467 10.95915525]\n",
            "========================================\n",
            "Test Case 45:\n",
            "Active Power (P_gen): [60.97 21.59 26.91 19.2  37.  ]\n",
            "Reactive Power (Q_gen): [37.38115789 40.44738087 11.79165197  7.33633467 10.95915525]\n",
            "========================================\n",
            "Test Case 46:\n",
            "Active Power (P_gen): [60.97 21.59 26.91 19.2  37.  ]\n",
            "Reactive Power (Q_gen): [37.38115789 40.44738087 11.79165197  7.33633467 10.95915525]\n",
            "========================================\n",
            "Test Case 47:\n",
            "Active Power (P_gen): [60.97 21.59 26.91 19.2  37.  ]\n",
            "Reactive Power (Q_gen): [37.38115789 40.44738087 11.79165197  7.33633467 10.95915525]\n",
            "========================================\n",
            "Test Case 48:\n",
            "Active Power (P_gen): [60.97 21.59 26.91 19.2  37.  ]\n",
            "Reactive Power (Q_gen): [37.38115789 40.44738087 11.79165197  7.33633467 10.95915525]\n",
            "========================================\n",
            "Test Case 49:\n",
            "Active Power (P_gen): [60.97 21.59 26.91 19.2  37.  ]\n",
            "Reactive Power (Q_gen): [37.38115789 40.44738087 11.79165197  7.33633467 10.95915525]\n",
            "========================================\n",
            "Test Case 50:\n",
            "Active Power (P_gen): [60.97 21.59 26.91 19.2  37.  ]\n",
            "Reactive Power (Q_gen): [37.38115789 40.44738087 11.79165197  7.33633467 10.95915525]\n",
            "========================================\n",
            "Test Case 51:\n",
            "Active Power (P_gen): [60.97 21.59 26.91 19.2  37.  ]\n",
            "Reactive Power (Q_gen): [37.38115789 40.44738087 11.79165197  7.33633467 10.95915525]\n",
            "========================================\n",
            "Test Case 52:\n",
            "Active Power (P_gen): [60.97 21.59 26.91 19.2  37.  ]\n",
            "Reactive Power (Q_gen): [37.38115789 40.44738087 11.79165197  7.33633467 10.95915525]\n",
            "========================================\n",
            "Test Case 53:\n",
            "Active Power (P_gen): [60.97 21.59 26.91 19.2  37.  ]\n",
            "Reactive Power (Q_gen): [37.38115789 40.44738087 11.79165197  7.33633467 10.95915525]\n",
            "========================================\n",
            "Test Case 54:\n",
            "Active Power (P_gen): [60.97 21.59 26.91 19.2  37.  ]\n",
            "Reactive Power (Q_gen): [37.38115789 40.44738087 11.79165197  7.33633467 10.95915525]\n",
            "========================================\n",
            "Test Case 55:\n",
            "Active Power (P_gen): [60.97 21.59 26.91 19.2  37.  ]\n",
            "Reactive Power (Q_gen): [37.38115789 40.44738087 11.79165197  7.33633467 10.95915525]\n",
            "========================================\n",
            "Test Case 56:\n",
            "Active Power (P_gen): [60.97 21.59 26.91 19.2  37.  ]\n",
            "Reactive Power (Q_gen): [37.38115789 40.44738087 11.79165197  7.33633467 10.95915525]\n",
            "========================================\n",
            "Test Case 57:\n",
            "Active Power (P_gen): [60.97 21.59 26.91 19.2  37.  ]\n",
            "Reactive Power (Q_gen): [37.38115789 40.44738087 11.79165197  7.33633467 10.95915525]\n",
            "========================================\n",
            "Test Case 58:\n",
            "Active Power (P_gen): [60.97 21.59 26.91 19.2  37.  ]\n",
            "Reactive Power (Q_gen): [37.38115789 40.44738087 11.79165197  7.33633467 10.95915525]\n",
            "========================================\n",
            "Test Case 59:\n",
            "Active Power (P_gen): [60.97 21.59 26.91 19.2  37.  ]\n",
            "Reactive Power (Q_gen): [37.38115789 40.44738087 11.79165197  7.33633467 10.95915525]\n",
            "========================================\n",
            "Test Case 60:\n",
            "Active Power (P_gen): [60.97 21.59 26.91 19.2  37.  ]\n",
            "Reactive Power (Q_gen): [37.38115789 40.44738087 11.79165197  7.33633467 10.95915525]\n",
            "========================================\n",
            "Test Case 61:\n",
            "Active Power (P_gen): [60.97 21.59 26.91 19.2  37.  ]\n",
            "Reactive Power (Q_gen): [37.38115789 40.44738087 11.79165197  7.33633467 10.95915525]\n",
            "========================================\n",
            "Test Case 62:\n",
            "Active Power (P_gen): [60.97 21.59 26.91 19.2  37.  ]\n",
            "Reactive Power (Q_gen): [37.38115789 40.44738087 11.79165197  7.33633467 10.95915525]\n",
            "========================================\n",
            "Test Case 63:\n",
            "Active Power (P_gen): [60.97 21.59 26.91 19.2  37.  ]\n",
            "Reactive Power (Q_gen): [37.38115789 40.44738087 11.79165197  7.33633467 10.95915525]\n",
            "========================================\n",
            "Test Case 64:\n",
            "Active Power (P_gen): [60.97 21.59 26.91 19.2  37.  ]\n",
            "Reactive Power (Q_gen): [37.38115789 40.44738087 11.79165197  7.33633467 10.95915525]\n",
            "========================================\n",
            "Test Case 65:\n",
            "Active Power (P_gen): [60.97 21.59 26.91 19.2  37.  ]\n",
            "Reactive Power (Q_gen): [37.38115789 40.44738087 11.79165197  7.33633467 10.95915525]\n",
            "========================================\n",
            "Test Case 66:\n",
            "Active Power (P_gen): [60.97 21.59 26.91 19.2  37.  ]\n",
            "Reactive Power (Q_gen): [37.38115789 40.44738087 11.79165197  7.33633467 10.95915525]\n",
            "========================================\n",
            "Test Case 67:\n",
            "Active Power (P_gen): [60.97 21.59 26.91 19.2  37.  ]\n",
            "Reactive Power (Q_gen): [37.38115789 40.44738087 11.79165197  7.33633467 10.95915525]\n",
            "========================================\n",
            "Test Case 68:\n",
            "Active Power (P_gen): [60.97 21.59 26.91 19.2  37.  ]\n",
            "Reactive Power (Q_gen): [37.38115789 40.44738087 11.79165197  7.33633467 10.95915525]\n",
            "========================================\n",
            "Test Case 69:\n",
            "Active Power (P_gen): [60.97 21.59 26.91 19.2  37.  ]\n",
            "Reactive Power (Q_gen): [37.38115789 40.44738087 11.79165197  7.33633467 10.95915525]\n",
            "========================================\n",
            "Test Case 70:\n",
            "Active Power (P_gen): [60.97 21.59 26.91 19.2  37.  ]\n",
            "Reactive Power (Q_gen): [37.38115789 40.44738087 11.79165197  7.33633467 10.95915525]\n",
            "========================================\n",
            "Test Case 71:\n",
            "Active Power (P_gen): [60.97 21.59 26.91 19.2  37.  ]\n",
            "Reactive Power (Q_gen): [37.38115789 40.44738087 11.79165197  7.33633467 10.95915525]\n",
            "========================================\n",
            "Test Case 72:\n",
            "Active Power (P_gen): [60.97 21.59 26.91 19.2  37.  ]\n",
            "Reactive Power (Q_gen): [37.38115789 40.44738087 11.79165197  7.33633467 10.95915525]\n",
            "========================================\n",
            "Test Case 73:\n",
            "Active Power (P_gen): [60.97 21.59 26.91 19.2  37.  ]\n",
            "Reactive Power (Q_gen): [37.38115789 40.44738087 11.79165197  7.33633467 10.95915525]\n",
            "========================================\n",
            "Test Case 74:\n",
            "Active Power (P_gen): [60.97 21.59 26.91 19.2  37.  ]\n",
            "Reactive Power (Q_gen): [37.38115789 40.44738087 11.79165197  7.33633467 10.95915525]\n",
            "========================================\n",
            "Test Case 75:\n",
            "Active Power (P_gen): [60.97 21.59 26.91 19.2  37.  ]\n",
            "Reactive Power (Q_gen): [37.38115789 40.44738087 11.79165197  7.33633467 10.95915525]\n",
            "========================================\n",
            "Test Case 76:\n",
            "Active Power (P_gen): [60.97 21.59 26.91 19.2  37.  ]\n",
            "Reactive Power (Q_gen): [37.38115789 40.44738087 11.79165197  7.33633467 10.95915525]\n",
            "========================================\n",
            "Test Case 77:\n",
            "Active Power (P_gen): [60.97 21.59 26.91 19.2  37.  ]\n",
            "Reactive Power (Q_gen): [37.38115789 40.44738087 11.79165197  7.33633467 10.95915525]\n",
            "========================================\n",
            "Test Case 78:\n",
            "Active Power (P_gen): [60.97 21.59 26.91 19.2  37.  ]\n",
            "Reactive Power (Q_gen): [37.38115789 40.44738087 11.79165197  7.33633467 10.95915525]\n",
            "========================================\n",
            "Test Case 79:\n",
            "Active Power (P_gen): [60.97 21.59 26.91 19.2  37.  ]\n",
            "Reactive Power (Q_gen): [37.38115789 40.44738087 11.79165197  7.33633467 10.95915525]\n",
            "========================================\n",
            "Test Case 80:\n",
            "Active Power (P_gen): [60.97 21.59 26.91 19.2  37.  ]\n",
            "Reactive Power (Q_gen): [37.38115789 40.44738087 11.79165197  7.33633467 10.95915525]\n",
            "========================================\n",
            "Test Case 81:\n",
            "Active Power (P_gen): [60.97 21.59 26.91 19.2  37.  ]\n",
            "Reactive Power (Q_gen): [37.38115789 40.44738087 11.79165197  7.33633467 10.95915525]\n",
            "========================================\n",
            "Test Case 82:\n",
            "Active Power (P_gen): [60.97 21.59 26.91 19.2  37.  ]\n",
            "Reactive Power (Q_gen): [37.38115789 40.44738087 11.79165197  7.33633467 10.95915525]\n",
            "========================================\n",
            "Test Case 83:\n",
            "Active Power (P_gen): [60.97 21.59 26.91 19.2  37.  ]\n",
            "Reactive Power (Q_gen): [37.38115789 40.44738087 11.79165197  7.33633467 10.95915525]\n",
            "========================================\n",
            "Test Case 84:\n",
            "Active Power (P_gen): [60.97 21.59 26.91 19.2  37.  ]\n",
            "Reactive Power (Q_gen): [37.38115789 40.44738087 11.79165197  7.33633467 10.95915525]\n",
            "========================================\n",
            "Test Case 85:\n",
            "Active Power (P_gen): [60.97 21.59 26.91 19.2  37.  ]\n",
            "Reactive Power (Q_gen): [37.38115789 40.44738087 11.79165197  7.33633467 10.95915525]\n",
            "========================================\n",
            "Test Case 86:\n",
            "Active Power (P_gen): [60.97 21.59 26.91 19.2  37.  ]\n",
            "Reactive Power (Q_gen): [37.38115789 40.44738087 11.79165197  7.33633467 10.95915525]\n",
            "========================================\n",
            "Test Case 87:\n",
            "Active Power (P_gen): [60.97 21.59 26.91 19.2  37.  ]\n",
            "Reactive Power (Q_gen): [37.38115789 40.44738087 11.79165197  7.33633467 10.95915525]\n",
            "========================================\n",
            "Test Case 88:\n",
            "Active Power (P_gen): [60.97 21.59 26.91 19.2  37.  ]\n",
            "Reactive Power (Q_gen): [37.38115789 40.44738087 11.79165197  7.33633467 10.95915525]\n",
            "========================================\n",
            "Test Case 89:\n",
            "Active Power (P_gen): [60.97 21.59 26.91 19.2  37.  ]\n",
            "Reactive Power (Q_gen): [37.38115789 40.44738087 11.79165197  7.33633467 10.95915525]\n",
            "========================================\n",
            "Test Case 90:\n",
            "Active Power (P_gen): [60.97 21.59 26.91 19.2  37.  ]\n",
            "Reactive Power (Q_gen): [37.38115789 40.44738087 11.79165197  7.33633467 10.95915525]\n",
            "========================================\n",
            "Test Case 91:\n",
            "Active Power (P_gen): [60.97 21.59 26.91 19.2  37.  ]\n",
            "Reactive Power (Q_gen): [37.38115789 40.44738087 11.79165197  7.33633467 10.95915525]\n",
            "========================================\n",
            "Test Case 92:\n",
            "Active Power (P_gen): [60.97 21.59 26.91 19.2  37.  ]\n",
            "Reactive Power (Q_gen): [37.38115789 40.44738087 11.79165197  7.33633467 10.95915525]\n",
            "========================================\n",
            "Test Case 93:\n",
            "Active Power (P_gen): [60.97 21.59 26.91 19.2  37.  ]\n",
            "Reactive Power (Q_gen): [37.38115789 40.44738087 11.79165197  7.33633467 10.95915525]\n",
            "========================================\n",
            "Test Case 94:\n",
            "Active Power (P_gen): [60.97 21.59 26.91 19.2  37.  ]\n",
            "Reactive Power (Q_gen): [37.38115789 40.44738087 11.79165197  7.33633467 10.95915525]\n",
            "========================================\n",
            "Test Case 95:\n",
            "Active Power (P_gen): [60.97 21.59 26.91 19.2  37.  ]\n",
            "Reactive Power (Q_gen): [37.38115789 40.44738087 11.79165197  7.33633467 10.95915525]\n",
            "========================================\n",
            "Test Case 96:\n",
            "Active Power (P_gen): [60.97 21.59 26.91 19.2  37.  ]\n",
            "Reactive Power (Q_gen): [37.38115789 40.44738087 11.79165197  7.33633467 10.95915525]\n",
            "========================================\n",
            "Test Case 97:\n",
            "Active Power (P_gen): [60.97 21.59 26.91 19.2  37.  ]\n",
            "Reactive Power (Q_gen): [37.38115789 40.44738087 11.79165197  7.33633467 10.95915525]\n",
            "========================================\n",
            "Test Case 98:\n",
            "Active Power (P_gen): [60.97 21.59 26.91 19.2  37.  ]\n",
            "Reactive Power (Q_gen): [37.38115789 40.44738087 11.79165197  7.33633467 10.95915525]\n",
            "========================================\n",
            "Test Case 99:\n",
            "Active Power (P_gen): [60.97 21.59 26.91 19.2  37.  ]\n",
            "Reactive Power (Q_gen): [37.38115789 40.44738087 11.79165197  7.33633467 10.95915525]\n",
            "========================================\n",
            "Test Case 100:\n",
            "Active Power (P_gen): [60.97 21.59 26.91 19.2  37.  ]\n",
            "Reactive Power (Q_gen): [37.38115789 40.44738087 11.79165197  7.33633467 10.95915525]\n",
            "========================================\n",
            "Test Case 101:\n",
            "Active Power (P_gen): [60.97 21.59 26.91 19.2  37.  ]\n",
            "Reactive Power (Q_gen): [37.38115789 40.44738087 11.79165197  7.33633467 10.95915525]\n",
            "========================================\n",
            "Test Case 102:\n",
            "Active Power (P_gen): [60.97 21.59 26.91 19.2  37.  ]\n",
            "Reactive Power (Q_gen): [37.38115789 40.44738087 11.79165197  7.33633467 10.95915525]\n",
            "========================================\n",
            "Generator outputs logged and saved to 'P_gen_changes.xlsx' and 'Q_gen_changes.xlsx'.\n"
          ]
        }
      ]
    },
    {
      "cell_type": "markdown",
      "source": [
        "# **IEEE 57 Bus DataSet Generation**\n",
        "\n",
        "Contains 57 buses, 7 generators, 42 loads, and 80 branches.\n",
        "\n",
        "Commonly used for testing load flow and contingency analysis."
      ],
      "metadata": {
        "id": "ySJfKeBtCDkF"
      }
    },
    {
      "cell_type": "code",
      "source": [
        "pip install pandapower"
      ],
      "metadata": {
        "colab": {
          "base_uri": "https://localhost:8080/"
        },
        "id": "RHOCYB1bOk0i",
        "outputId": "066f7775-07a2-47ca-8d12-3baa89ea6f60"
      },
      "execution_count": null,
      "outputs": [
        {
          "output_type": "stream",
          "name": "stdout",
          "text": [
            "Requirement already satisfied: pandapower in /usr/local/lib/python3.10/dist-packages (2.14.11)\n",
            "Requirement already satisfied: pandas>=1.0 in /usr/local/lib/python3.10/dist-packages (from pandapower) (2.2.2)\n",
            "Requirement already satisfied: networkx>=2.5 in /usr/local/lib/python3.10/dist-packages (from pandapower) (3.4.2)\n",
            "Requirement already satisfied: scipy<1.14 in /usr/local/lib/python3.10/dist-packages (from pandapower) (1.13.1)\n",
            "Requirement already satisfied: numpy<2.0 in /usr/local/lib/python3.10/dist-packages (from pandapower) (1.26.4)\n",
            "Requirement already satisfied: packaging in /usr/local/lib/python3.10/dist-packages (from pandapower) (24.1)\n",
            "Requirement already satisfied: tqdm in /usr/local/lib/python3.10/dist-packages (from pandapower) (4.66.6)\n",
            "Requirement already satisfied: deepdiff in /usr/local/lib/python3.10/dist-packages (from pandapower) (8.0.1)\n",
            "Requirement already satisfied: python-dateutil>=2.8.2 in /usr/local/lib/python3.10/dist-packages (from pandas>=1.0->pandapower) (2.8.2)\n",
            "Requirement already satisfied: pytz>=2020.1 in /usr/local/lib/python3.10/dist-packages (from pandas>=1.0->pandapower) (2024.2)\n",
            "Requirement already satisfied: tzdata>=2022.7 in /usr/local/lib/python3.10/dist-packages (from pandas>=1.0->pandapower) (2024.2)\n",
            "Requirement already satisfied: orderly-set==5.2.2 in /usr/local/lib/python3.10/dist-packages (from deepdiff->pandapower) (5.2.2)\n",
            "Requirement already satisfied: six>=1.5 in /usr/local/lib/python3.10/dist-packages (from python-dateutil>=2.8.2->pandas>=1.0->pandapower) (1.16.0)\n"
          ]
        }
      ]
    },
    {
      "cell_type": "code",
      "source": [
        "import pandapower as pp\n",
        "import pandapower.networks as nw\n",
        "import pandas as pd\n",
        "import random\n",
        "import os\n",
        "\n",
        "# Create the output folder\n",
        "output_folder = \"datasets_57Bus\"\n",
        "os.makedirs(output_folder, exist_ok=True)\n",
        "\n",
        "# Load the 57-bus test system using pandapower\n",
        "net = nw.case57()\n",
        "\n",
        "# Number of datasets and samples per dataset\n",
        "num_datasets = 10\n",
        "samples_per_dataset = 2000\n",
        "variation_range = 0.4  # ±40% random load variation\n",
        "\n",
        "# Define the columns for the output Excel file\n",
        "bus_ids = net.bus.index\n",
        "columns = []\n",
        "\n",
        "# Create column names based on dataset format\n",
        "for bus in bus_ids:\n",
        "    columns.extend([f\"P_{bus + 1} (PQ)\", f\"Q_{bus + 1} (PQ)\", f\"V_{bus + 1}\", f\"d_{bus + 1}\"])\n",
        "\n",
        "# Store original load values for resetting\n",
        "original_p_values = net.load['p_mw'].copy()\n",
        "original_q_values = net.load['q_mvar'].copy()\n",
        "\n",
        "# Generate the datasets\n",
        "for dataset_n in range(1, num_datasets + 1):\n",
        "    print(f\"Generating dataset {dataset_n}...\")\n",
        "\n",
        "    data = []\n",
        "\n",
        "    for sample in range(1, samples_per_dataset + 1):\n",
        "        # Reset the load values to the original values\n",
        "        net.load['p_mw'] = original_p_values\n",
        "        net.load['q_mvar'] = original_q_values\n",
        "\n",
        "        # Apply random variation based on the original values\n",
        "        for load in net.load.index:\n",
        "            net.load.at[load, 'p_mw'] = original_p_values[load] * (1 + random.uniform(-variation_range, variation_range))\n",
        "            net.load.at[load, 'q_mvar'] = original_q_values[load] * (1 + random.uniform(-variation_range, variation_range))\n",
        "\n",
        "        # Run AC power flow with Newton-Raphson algorithm\n",
        "        try:\n",
        "            pp.runpp(net, algorithm='nr', max_iteration=30)\n",
        "        except pp.LoadflowNotConverged:\n",
        "            print(f\"Load flow did not converge for sample {sample} in dataset {dataset_n}, skipping this sample.\")\n",
        "            continue\n",
        "\n",
        "        # Collect data for the current sample\n",
        "        row = []\n",
        "\n",
        "        for bus in bus_ids:\n",
        "            # Extract P and Q values for the bus (PQ buses only)\n",
        "            if bus in net.load['bus'].values:\n",
        "                p_load = net.res_load.loc[net.load[net.load['bus'] == bus].index, 'p_mw'].sum()\n",
        "                q_load = net.res_load.loc[net.load[net.load['bus'] == bus].index, 'q_mvar'].sum()\n",
        "            else:\n",
        "                p_load, q_load = 0, 0\n",
        "\n",
        "            # Extract V (voltage magnitude) and d (voltage angle)\n",
        "            v_mag = net.res_bus.at[bus, 'vm_pu']\n",
        "            v_ang = net.res_bus.at[bus, 'va_degree']\n",
        "\n",
        "            # Append data to the row in the specified format\n",
        "            row.extend([p_load, q_load, v_mag, v_ang])\n",
        "\n",
        "        # Add the row to the dataset\n",
        "        data.append(row)\n",
        "\n",
        "    # Create a DataFrame and add headers in the requested format\n",
        "    df = pd.DataFrame(data, columns=columns)\n",
        "    df.insert(0, \"Data\", [f\"Data {i + 1}\" for i in range(len(df))])\n",
        "    df.insert(0, \"Dataset\", [f\"PF Dataset_{dataset_n}\"] + [\"\"] * (len(df) - 1))\n",
        "\n",
        "    # Save the DataFrame to Excel\n",
        "    output_filename = os.path.join(output_folder, f\"PF_Dataset_{dataset_n}.xlsx\")\n",
        "    df.to_excel(output_filename, index=False)\n",
        "    print(f\"Dataset {dataset_n} saved to {output_filename}\")\n",
        "\n",
        "print(\"All datasets generated successfully.\")\n"
      ],
      "metadata": {
        "colab": {
          "base_uri": "https://localhost:8080/"
        },
        "id": "zKT0Xj1IOcrf",
        "outputId": "87bdc83d-c839-4026-bc85-e3909a108110"
      },
      "execution_count": null,
      "outputs": [
        {
          "output_type": "stream",
          "name": "stdout",
          "text": [
            "Generating dataset 1...\n",
            "Dataset 1 saved to datasets_57Bus/PF_Dataset_1.xlsx\n",
            "Generating dataset 2...\n",
            "Dataset 2 saved to datasets_57Bus/PF_Dataset_2.xlsx\n",
            "Generating dataset 3...\n",
            "Dataset 3 saved to datasets_57Bus/PF_Dataset_3.xlsx\n",
            "Generating dataset 4...\n",
            "Dataset 4 saved to datasets_57Bus/PF_Dataset_4.xlsx\n",
            "Generating dataset 5...\n",
            "Dataset 5 saved to datasets_57Bus/PF_Dataset_5.xlsx\n",
            "Generating dataset 6...\n",
            "Dataset 6 saved to datasets_57Bus/PF_Dataset_6.xlsx\n",
            "Generating dataset 7...\n",
            "Dataset 7 saved to datasets_57Bus/PF_Dataset_7.xlsx\n",
            "Generating dataset 8...\n",
            "Dataset 8 saved to datasets_57Bus/PF_Dataset_8.xlsx\n",
            "Generating dataset 9...\n",
            "Dataset 9 saved to datasets_57Bus/PF_Dataset_9.xlsx\n",
            "Generating dataset 10...\n",
            "Dataset 10 saved to datasets_57Bus/PF_Dataset_10.xlsx\n",
            "All datasets generated successfully.\n"
          ]
        }
      ]
    },
    {
      "cell_type": "markdown",
      "source": [
        "**57 Bus Generator Limits**\n",
        "\n",
        " Generated Active and Reactive Power (P and Q) should be bounded by their maximum and minimum capability for each bus.\n",
        "\n",
        " Otherwise the OPF will not converge for the network."
      ],
      "metadata": {
        "id": "0my7n9SIPNvr"
      }
    },
    {
      "cell_type": "code",
      "source": [
        "# Import pandas for cleaner output\n",
        "import pandas as pd\n",
        "\n",
        "# generator bus information\n",
        "gen_buses = net.gen['bus'].values  # The bus indices with generators\n",
        "p_gen = net.res_gen['p_mw'].values\n",
        "q_gen = net.res_gen['q_mvar'].values\n",
        "\n",
        "# detailed information for each generator\n",
        "print(\"Generator Information:\")\n",
        "for i, bus in enumerate(gen_buses):\n",
        "    p_max = net.gen.at[i, 'max_p_mw'] if 'max_p_mw' in net.gen.columns else \"N/A\"\n",
        "    q_max = net.gen.at[i, 'max_q_mvar'] if 'max_q_mvar' in net.gen.columns else \"N/A\"\n",
        "    print(f\"Bus {bus} | Active Power (P_gen): {p_gen[i]:.2f} MW | Reactive Power (Q_gen): {q_gen[i]:.2f} MVar | P_max: {p_max} MW | Q_max: {q_max} MVar\")\n",
        "\n",
        "print(\"\\nFull Generator DataFrame:\")\n",
        "print(net.gen)\n"
      ],
      "metadata": {
        "colab": {
          "base_uri": "https://localhost:8080/"
        },
        "id": "A0XK26Y4CDUc",
        "outputId": "339174ab-6db4-4976-9353-ded89e057daf"
      },
      "execution_count": null,
      "outputs": [
        {
          "output_type": "stream",
          "name": "stdout",
          "text": [
            "Generator Information:\n",
            "Bus 1 | Active Power (P_gen): 0.00 MW | Reactive Power (Q_gen): 29.40 MVar | P_max: 100.0 MW | Q_max: 50.0 MVar\n",
            "Bus 2 | Active Power (P_gen): 40.00 MW | Reactive Power (Q_gen): -9.46 MVar | P_max: 140.0 MW | Q_max: 60.0 MVar\n",
            "Bus 5 | Active Power (P_gen): 0.00 MW | Reactive Power (Q_gen): 12.11 MVar | P_max: 100.0 MW | Q_max: 25.0 MVar\n",
            "Bus 7 | Active Power (P_gen): 450.00 MW | Reactive Power (Q_gen): 74.54 MVar | P_max: 550.0 MW | Q_max: 200.0 MVar\n",
            "Bus 8 | Active Power (P_gen): 0.00 MW | Reactive Power (Q_gen): -21.24 MVar | P_max: 100.0 MW | Q_max: 9.0 MVar\n",
            "Bus 11 | Active Power (P_gen): 310.00 MW | Reactive Power (Q_gen): 109.47 MVar | P_max: 410.0 MW | Q_max: 155.0 MVar\n",
            "\n",
            "Full Generator DataFrame:\n",
            "   name  bus   p_mw  vm_pu  sn_mva  min_q_mvar  max_q_mvar  scaling  slack  \\\n",
            "0  None    1    0.0  1.010     NaN       -17.0        50.0      1.0  False   \n",
            "1  None    2   40.0  0.985     NaN       -10.0        60.0      1.0  False   \n",
            "2  None    5    0.0  0.980     NaN        -8.0        25.0      1.0  False   \n",
            "3  None    7  450.0  1.005     NaN      -140.0       200.0      1.0  False   \n",
            "4  None    8    0.0  0.980     NaN        -3.0         9.0      1.0  False   \n",
            "5  None   11  310.0  1.015     NaN      -150.0       155.0      1.0  False   \n",
            "\n",
            "   in_service  slack_weight  type  controllable  max_p_mw  min_p_mw  \n",
            "0        True           0.0  None          True     100.0       0.0  \n",
            "1        True           0.0  None          True     140.0       0.0  \n",
            "2        True           0.0  None          True     100.0       0.0  \n",
            "3        True           0.0  None          True     550.0       0.0  \n",
            "4        True           0.0  None          True     100.0       0.0  \n",
            "5        True           0.0  None          True     410.0       0.0  \n"
          ]
        }
      ]
    },
    {
      "cell_type": "markdown",
      "source": [
        "# **Histogram**\n",
        "\n",
        "Histograms is used to see which architecture has a better and more consistent performance (narrower, left-skewed distribution)\n",
        "\n",
        "Histograms is used to compare:\n",
        "\n",
        "1.   Different bus systems (e.g., 14-bus vs. 30-bus vs. 57-bus) using the same GNN architecture.\n",
        "\n",
        "2.   It can also be used to compare different GNN architectures for a same network to see the effect\n",
        "\n",
        "\n",
        "**Histogram Goal:**\n",
        "\n",
        "\n",
        "\n",
        "*   Mean and Median Values: Lower mean and median values indicate better performance.\n",
        "\n",
        "*   Spread of Distribution: A narrower histogram indicates more consistent performance (less variance).\n",
        "\n",
        "*   Left-Skewed Distribution: A left-skewed histogram (with most losses near zero) indicates good generalization.\n",
        "\n"
      ],
      "metadata": {
        "id": "pmyF3Eb1KKQv"
      }
    },
    {
      "cell_type": "code",
      "source": [
        "import numpy as np\n",
        "import pandas as pd\n",
        "import matplotlib.pyplot as plt\n",
        "\n",
        "# Load the test loss data from each Excel file\n",
        "bus_14_loss_data = pd.read_excel('[14 bus] Test Losses.xlsx').values.flatten()\n",
        "bus_30_loss_data = pd.read_excel('[30 bus] Test Losses.xlsx').values.flatten()\n",
        "\n",
        "# mean and median for each bus system\n",
        "mean_14 = np.mean(bus_14_loss_data)\n",
        "median_14 = np.median(bus_14_loss_data)\n",
        "\n",
        "mean_30 = np.mean(bus_30_loss_data)\n",
        "median_30 = np.median(bus_30_loss_data)\n",
        "\n",
        "\n",
        "# Print the statistics\n",
        "print(f\"14-bus system - Mean: {mean_14:.5f}, Median: {median_14:.5f}\")\n",
        "print(f\"30-bus system - Mean: {mean_30:.5f}, Median: {median_30:.5f}\")\n",
        "\n",
        "# histogram plotting parameters\n",
        "kwargs = dict(histtype='stepfilled', alpha=0.5, density=True, bins=20)\n",
        "\n",
        "# labels for the histograms\n",
        "label_14 = f\"14-bus, Mean: {mean_14:.5f}, Median: {median_14:.5f}\"\n",
        "label_30 = f\"30-bus, Mean: {mean_30:.5f}, Median: {median_30:.5f}\"\n",
        "\n",
        "# Plot the histograms\n",
        "plt.figure(figsize=(10, 6))\n",
        "plt.hist(bus_14_loss_data, label=label_14, **kwargs)\n",
        "plt.hist(bus_30_loss_data, label=label_30, **kwargs)\n",
        "\n",
        "# plot details\n",
        "plt.title('Comparison of Test Loss Distributions Across Different Test Case Networks')\n",
        "plt.xlabel('Test Loss (MSE or NRMSE)')\n",
        "plt.ylabel('Density')\n",
        "plt.legend(loc='upper right')\n",
        "plt.grid(True)\n",
        "plt.show()\n"
      ],
      "metadata": {
        "colab": {
          "base_uri": "https://localhost:8080/",
          "height": 356
        },
        "id": "Qc_Y31iUKMWJ",
        "outputId": "2f667993-768e-4851-f639-55e1b9b9912a"
      },
      "execution_count": null,
      "outputs": [
        {
          "output_type": "error",
          "ename": "FileNotFoundError",
          "evalue": "[Errno 2] No such file or directory: '[14 bus] Test Losses.xlsx'",
          "traceback": [
            "\u001b[0;31m---------------------------------------------------------------------------\u001b[0m",
            "\u001b[0;31mFileNotFoundError\u001b[0m                         Traceback (most recent call last)",
            "\u001b[0;32m<ipython-input-11-bf62279d52f2>\u001b[0m in \u001b[0;36m<cell line: 6>\u001b[0;34m()\u001b[0m\n\u001b[1;32m      4\u001b[0m \u001b[0;34m\u001b[0m\u001b[0m\n\u001b[1;32m      5\u001b[0m \u001b[0;31m# Load the test loss data from each Excel file\u001b[0m\u001b[0;34m\u001b[0m\u001b[0;34m\u001b[0m\u001b[0m\n\u001b[0;32m----> 6\u001b[0;31m \u001b[0mbus_14_loss_data\u001b[0m \u001b[0;34m=\u001b[0m \u001b[0mpd\u001b[0m\u001b[0;34m.\u001b[0m\u001b[0mread_excel\u001b[0m\u001b[0;34m(\u001b[0m\u001b[0;34m'[14 bus] Test Losses.xlsx'\u001b[0m\u001b[0;34m)\u001b[0m\u001b[0;34m.\u001b[0m\u001b[0mvalues\u001b[0m\u001b[0;34m.\u001b[0m\u001b[0mflatten\u001b[0m\u001b[0;34m(\u001b[0m\u001b[0;34m)\u001b[0m\u001b[0;34m\u001b[0m\u001b[0;34m\u001b[0m\u001b[0m\n\u001b[0m\u001b[1;32m      7\u001b[0m \u001b[0mbus_30_loss_data\u001b[0m \u001b[0;34m=\u001b[0m \u001b[0mpd\u001b[0m\u001b[0;34m.\u001b[0m\u001b[0mread_excel\u001b[0m\u001b[0;34m(\u001b[0m\u001b[0;34m'[30 bus] Test Losses.xlsx'\u001b[0m\u001b[0;34m)\u001b[0m\u001b[0;34m.\u001b[0m\u001b[0mvalues\u001b[0m\u001b[0;34m.\u001b[0m\u001b[0mflatten\u001b[0m\u001b[0;34m(\u001b[0m\u001b[0;34m)\u001b[0m\u001b[0;34m\u001b[0m\u001b[0;34m\u001b[0m\u001b[0m\n\u001b[1;32m      8\u001b[0m \u001b[0;34m\u001b[0m\u001b[0m\n",
            "\u001b[0;32m/usr/local/lib/python3.10/dist-packages/pandas/io/excel/_base.py\u001b[0m in \u001b[0;36mread_excel\u001b[0;34m(io, sheet_name, header, names, index_col, usecols, dtype, engine, converters, true_values, false_values, skiprows, nrows, na_values, keep_default_na, na_filter, verbose, parse_dates, date_parser, date_format, thousands, decimal, comment, skipfooter, storage_options, dtype_backend, engine_kwargs)\u001b[0m\n\u001b[1;32m    493\u001b[0m     \u001b[0;32mif\u001b[0m \u001b[0;32mnot\u001b[0m \u001b[0misinstance\u001b[0m\u001b[0;34m(\u001b[0m\u001b[0mio\u001b[0m\u001b[0;34m,\u001b[0m \u001b[0mExcelFile\u001b[0m\u001b[0;34m)\u001b[0m\u001b[0;34m:\u001b[0m\u001b[0;34m\u001b[0m\u001b[0;34m\u001b[0m\u001b[0m\n\u001b[1;32m    494\u001b[0m         \u001b[0mshould_close\u001b[0m \u001b[0;34m=\u001b[0m \u001b[0;32mTrue\u001b[0m\u001b[0;34m\u001b[0m\u001b[0;34m\u001b[0m\u001b[0m\n\u001b[0;32m--> 495\u001b[0;31m         io = ExcelFile(\n\u001b[0m\u001b[1;32m    496\u001b[0m             \u001b[0mio\u001b[0m\u001b[0;34m,\u001b[0m\u001b[0;34m\u001b[0m\u001b[0;34m\u001b[0m\u001b[0m\n\u001b[1;32m    497\u001b[0m             \u001b[0mstorage_options\u001b[0m\u001b[0;34m=\u001b[0m\u001b[0mstorage_options\u001b[0m\u001b[0;34m,\u001b[0m\u001b[0;34m\u001b[0m\u001b[0;34m\u001b[0m\u001b[0m\n",
            "\u001b[0;32m/usr/local/lib/python3.10/dist-packages/pandas/io/excel/_base.py\u001b[0m in \u001b[0;36m__init__\u001b[0;34m(self, path_or_buffer, engine, storage_options, engine_kwargs)\u001b[0m\n\u001b[1;32m   1548\u001b[0m                 \u001b[0mext\u001b[0m \u001b[0;34m=\u001b[0m \u001b[0;34m\"xls\"\u001b[0m\u001b[0;34m\u001b[0m\u001b[0;34m\u001b[0m\u001b[0m\n\u001b[1;32m   1549\u001b[0m             \u001b[0;32melse\u001b[0m\u001b[0;34m:\u001b[0m\u001b[0;34m\u001b[0m\u001b[0;34m\u001b[0m\u001b[0m\n\u001b[0;32m-> 1550\u001b[0;31m                 ext = inspect_excel_format(\n\u001b[0m\u001b[1;32m   1551\u001b[0m                     \u001b[0mcontent_or_path\u001b[0m\u001b[0;34m=\u001b[0m\u001b[0mpath_or_buffer\u001b[0m\u001b[0;34m,\u001b[0m \u001b[0mstorage_options\u001b[0m\u001b[0;34m=\u001b[0m\u001b[0mstorage_options\u001b[0m\u001b[0;34m\u001b[0m\u001b[0;34m\u001b[0m\u001b[0m\n\u001b[1;32m   1552\u001b[0m                 )\n",
            "\u001b[0;32m/usr/local/lib/python3.10/dist-packages/pandas/io/excel/_base.py\u001b[0m in \u001b[0;36minspect_excel_format\u001b[0;34m(content_or_path, storage_options)\u001b[0m\n\u001b[1;32m   1400\u001b[0m         \u001b[0mcontent_or_path\u001b[0m \u001b[0;34m=\u001b[0m \u001b[0mBytesIO\u001b[0m\u001b[0;34m(\u001b[0m\u001b[0mcontent_or_path\u001b[0m\u001b[0;34m)\u001b[0m\u001b[0;34m\u001b[0m\u001b[0;34m\u001b[0m\u001b[0m\n\u001b[1;32m   1401\u001b[0m \u001b[0;34m\u001b[0m\u001b[0m\n\u001b[0;32m-> 1402\u001b[0;31m     with get_handle(\n\u001b[0m\u001b[1;32m   1403\u001b[0m         \u001b[0mcontent_or_path\u001b[0m\u001b[0;34m,\u001b[0m \u001b[0;34m\"rb\"\u001b[0m\u001b[0;34m,\u001b[0m \u001b[0mstorage_options\u001b[0m\u001b[0;34m=\u001b[0m\u001b[0mstorage_options\u001b[0m\u001b[0;34m,\u001b[0m \u001b[0mis_text\u001b[0m\u001b[0;34m=\u001b[0m\u001b[0;32mFalse\u001b[0m\u001b[0;34m\u001b[0m\u001b[0;34m\u001b[0m\u001b[0m\n\u001b[1;32m   1404\u001b[0m     ) as handle:\n",
            "\u001b[0;32m/usr/local/lib/python3.10/dist-packages/pandas/io/common.py\u001b[0m in \u001b[0;36mget_handle\u001b[0;34m(path_or_buf, mode, encoding, compression, memory_map, is_text, errors, storage_options)\u001b[0m\n\u001b[1;32m    880\u001b[0m         \u001b[0;32melse\u001b[0m\u001b[0;34m:\u001b[0m\u001b[0;34m\u001b[0m\u001b[0;34m\u001b[0m\u001b[0m\n\u001b[1;32m    881\u001b[0m             \u001b[0;31m# Binary mode\u001b[0m\u001b[0;34m\u001b[0m\u001b[0;34m\u001b[0m\u001b[0m\n\u001b[0;32m--> 882\u001b[0;31m             \u001b[0mhandle\u001b[0m \u001b[0;34m=\u001b[0m \u001b[0mopen\u001b[0m\u001b[0;34m(\u001b[0m\u001b[0mhandle\u001b[0m\u001b[0;34m,\u001b[0m \u001b[0mioargs\u001b[0m\u001b[0;34m.\u001b[0m\u001b[0mmode\u001b[0m\u001b[0;34m)\u001b[0m\u001b[0;34m\u001b[0m\u001b[0;34m\u001b[0m\u001b[0m\n\u001b[0m\u001b[1;32m    883\u001b[0m         \u001b[0mhandles\u001b[0m\u001b[0;34m.\u001b[0m\u001b[0mappend\u001b[0m\u001b[0;34m(\u001b[0m\u001b[0mhandle\u001b[0m\u001b[0;34m)\u001b[0m\u001b[0;34m\u001b[0m\u001b[0;34m\u001b[0m\u001b[0m\n\u001b[1;32m    884\u001b[0m \u001b[0;34m\u001b[0m\u001b[0m\n",
            "\u001b[0;31mFileNotFoundError\u001b[0m: [Errno 2] No such file or directory: '[14 bus] Test Losses.xlsx'"
          ]
        }
      ]
    },
    {
      "cell_type": "code",
      "source": [],
      "metadata": {
        "id": "7Wqd4N8uM6os"
      },
      "execution_count": null,
      "outputs": []
    }
  ]
}